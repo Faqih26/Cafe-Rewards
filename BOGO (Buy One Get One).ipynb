{
 "cells": [
  {
   "cell_type": "markdown",
   "id": "43c0ac0e",
   "metadata": {},
   "source": [
    "# Implementation of AB Testing in Cafe Rewards"
   ]
  },
  {
   "cell_type": "markdown",
   "id": "a4cbaf7c",
   "metadata": {},
   "source": [
    "## A. Introduction & Background"
   ]
  },
  {
   "cell_type": "markdown",
   "id": "45e266ea",
   "metadata": {},
   "source": [
    "### Challenge Objective"
   ]
  },
  {
   "cell_type": "markdown",
   "id": "51891e68",
   "metadata": {},
   "source": [
    "You've just run a test by sending different combinations of promotional offers to existing rewards members. Now that the 30-day period for the test has concluded, your task is to identify key customer segments and develop a data-driven strategy for future promotional messaging & targeting.\n",
    "\n",
    "The results need to be summarized in a report that will be presented to the CMO"
   ]
  },
  {
   "cell_type": "markdown",
   "id": "2291fc2f",
   "metadata": {},
   "source": [
    "Data that simulates the behavior of Cafe Rewards members over a 30-day period, including their transactions and responses to promotional offers. The data is contained in three files: one with details on each offer, another with demographic information on each customer, and a third with the activity for each customer during the period. The activities are divided into offer received, offer viewed, offer accepted, and transaction. For a transaction to be attributed to an offer, it must occur at the same time as when the offer was \"completed\" by the customer."
   ]
  },
  {
   "cell_type": "markdown",
   "id": "3c24d26a",
   "metadata": {},
   "source": [
    "## B. Import Library "
   ]
  },
  {
   "cell_type": "code",
   "execution_count": 136,
   "id": "0466dd0a",
   "metadata": {},
   "outputs": [
    {
     "name": "stdout",
     "output_type": "stream",
     "text": [
      "Requirement already satisfied: pyodbc in c:\\users\\theone\\miniconda3\\lib\\site-packages (5.1.0)\n",
      "Note: you may need to restart the kernel to use updated packages.\n"
     ]
    }
   ],
   "source": [
    "pip install pyodbc"
   ]
  },
  {
   "cell_type": "code",
   "execution_count": 137,
   "id": "6acf0af0",
   "metadata": {},
   "outputs": [
    {
     "name": "stdout",
     "output_type": "stream",
     "text": [
      "Requirement already satisfied: sqlalchemy in c:\\users\\theone\\miniconda3\\lib\\site-packages (2.0.35)\n",
      "Requirement already satisfied: typing-extensions>=4.6.0 in c:\\users\\theone\\miniconda3\\lib\\site-packages (from sqlalchemy) (4.8.0)\n",
      "Requirement already satisfied: greenlet!=0.4.17; python_version < \"3.13\" and (platform_machine == \"aarch64\" or (platform_machine == \"ppc64le\" or (platform_machine == \"x86_64\" or (platform_machine == \"amd64\" or (platform_machine == \"AMD64\" or (platform_machine == \"win32\" or platform_machine == \"WIN32\")))))) in c:\\users\\theone\\miniconda3\\lib\\site-packages (from sqlalchemy) (3.1.0)\n",
      "Note: you may need to restart the kernel to use updated packages.\n"
     ]
    }
   ],
   "source": [
    "pip install sqlalchemy"
   ]
  },
  {
   "cell_type": "code",
   "execution_count": 138,
   "id": "7e5f68fb",
   "metadata": {},
   "outputs": [],
   "source": [
    "import pyodbc as pyodbc\n",
    "import pandas as pd\n",
    "from sqlalchemy import create_engine\n",
    "import numpy as np\n",
    "import seaborn as sns\n",
    "import scipy\n",
    "from scipy import stats\n",
    "import scipy.stats as st\n",
    "from statsmodels.stats.power import TTestIndPower\n",
    "import matplotlib.pyplot as plt\n",
    "from scipy.stats import chisquare\n",
    "from statsmodels.stats.proportion import proportions_ztest\n",
    "from statsmodels.stats.proportion import confint_proportions_2indep\n"
   ]
  },
  {
   "cell_type": "markdown",
   "id": "426e58f3",
   "metadata": {},
   "source": [
    "- pyodbc:\n",
    "\n",
    ">Fungsi: Digunakan untuk menghubungkan Python ke database menggunakan ODBC (Open Database Connectivity). pyodbc memungkinkan kamu menjalankan query SQL langsung dari Python.\n",
    "\n",
    "- pandas:\n",
    "    \n",
    ">Fungsi: Library utama untuk manipulasi dan analisis data. pandas memungkinkan pengelolaan data dalam bentuk DataFrame yang mudah digunakan untuk pembersihan data, agregasi, dan operasi statistik.\n",
    "\n",
    "- sqlalchemy:\n",
    "    \n",
    ">Fungsi: Sebuah toolkit dan ORM (Object-Relational Mapping) untuk Python. sqlalchemy digunakan untuk menghubungkan Python ke database dengan lebih mudah, membuat query SQL, dan mengelola transaksi.\n",
    "\n",
    "- numpy:\n",
    "    \n",
    ">Fungsi: Library untuk komputasi numerik. numpy digunakan untuk operasi matematika pada array dan matriks, serta manipulasi data yang lebih efisien.\n",
    "\n",
    "- seaborn:\n",
    "    \n",
    ">Fungsi: Library visualisasi data berbasis matplotlib. seaborn membuat pembuatan plot yang lebih estetik dan mudah untuk analisis statistik seperti scatter plots, histograms, dan heatmaps.\n",
    "\n",
    "- scipy.stats:\n",
    "\n",
    ">Fungsi: Bagian dari library scipy yang menyediakan berbagai fungsi statistik seperti uji hipotesis, distribusi probabilitas, serta pengukuran statistika lainnya.\n",
    "\n",
    "- scipy.stats.chisquare:\n",
    "\n",
    ">Fungsi: Melakukan uji chi-square, digunakan untuk membandingkan distribusi data yang diobservasi dengan distribusi yang diharapkan dalam statistik non-parametrik.\n",
    "\n",
    "- statsmodels.stats.power.TTestIndPower:\n",
    "\n",
    ">Fungsi: Digunakan untuk menghitung \"power\" statistik dalam uji T. Power analysis membantu menentukan ukuran sampel yang diperlukan untuk uji hipotesis yang efektif.\n",
    "\n",
    "- matplotlib.pyplot:\n",
    "\n",
    ">Fungsi: Library untuk visualisasi data. matplotlib.pyplot menyediakan alat untuk membuat grafik dasar seperti bar charts, line charts, scatter plots, dan histogram.\n",
    "\n",
    "- statsmodels.stats.proportion.proportions_ztest:\n",
    "\n",
    ">Fungsi: Melakukan uji Z pada proporsi, digunakan untuk menguji apakah ada perbedaan signifikan antara dua proporsi dalam uji hipotesis.\n",
    "\n",
    "- statsmodels.stats.proportion.confint_proportions_2indep:\n",
    "\n",
    ">Fungsi: Menghitung interval kepercayaan (confidence interval) untuk perbandingan dua proporsi independen."
   ]
  },
  {
   "cell_type": "markdown",
   "id": "f443afae",
   "metadata": {},
   "source": [
    "## C. Setting Up Problem"
   ]
  },
  {
   "cell_type": "markdown",
   "id": "0d2ada2f",
   "metadata": {},
   "source": [
    "### Experimental Goal"
   ]
  },
  {
   "cell_type": "markdown",
   "id": "6bfaeb28",
   "metadata": {},
   "source": [
    "Tujuan eksperimen ini adalah menguji Offer yang diberikan untuk menentukan Offer mana yang lebih efektif. secara spesifik, tujuanya adalah untuk mengidentifikasi Offer mana yang paling banyak digunakan dan pada akhirnya dapat meningkatkan jumlah pengguna yang loyal dengan Offer yang diberikan\n",
    "\n",
    "untuk mencapai tujuan ini, eksperimen dirancang untuk membandingkan dua atau lebih versi dari Offer Type yang sama, dimana satu versi menampilkan jumlah Reward, Difficult, Duration yang berbeda. Eksperimen kemudian dapat mengukur efektivtas masing masing offer yang diberikan dimana tujuan utamanya adalah untuk menentukan offer yang mana yang dapat membuat customer dapat menjadi loyal dan menggunakan informasi tersebut untuk menjadi acuan dalam pemberian Offer di masa mendatang"
   ]
  },
  {
   "cell_type": "markdown",
   "id": "c7a7f8a5",
   "metadata": {},
   "source": [
    "### Choosing Metrics"
   ]
  },
  {
   "cell_type": "markdown",
   "id": "74181bdb",
   "metadata": {},
   "source": [
    "Untuk merumuskan metrik eksperimen, ada beberapa langkah yang perlu dilakukan. Pertama, kita harus menetapkan tujuan dari eksperimen tersebut. Selanjutnya, kita perlu mengidentifikasi cara untuk mencapai tujuan tersebut. Dari tujuan dan pendekatan yang telah ditentukan, kita dapat menentukan hasil yang diharapkan. Setelah itu, kita bisa mengidentifikasi Metrik Penggerak (Driver Metrics) dan Metrik Pengawal (Guardrail Metrics).\n",
    "\n",
    "Metrik Penggerak harus sejalan dengan metrik tujuan, peka, dapat ditindaklanjuti, dan relevan dalam konteks eksperimen jangka pendek. Karakteristik ini menjadikan metrik tersebut sesuai untuk eksperimen. Sementara itu, Metrik Pengawal berfungsi untuk memberikan peringatan terkait hasil eksperimen yang mungkin menyesatkan. Metrik ini memantau potensi terjadinya trade-off yang tidak diinginkan dan dapat digunakan untuk memverifikasi keandalan hasil eksperimen. Terdapat dua jenis Metrik Pengawal:\n",
    "\n",
    "**a. Metrik Pengawal Organisasi**\n",
    "\n",
    "- Metrik ini mengidentifikasi apakah ada trade-off lain yang muncul saat melaksanakan inisiatif.\n",
    "- Jika metrik ini menunjukkan dampak negatif, perusahaan berpotensi mengalami kerugian.\n",
    "\n",
    "**b. Metrik Pengawal Kepercayaan (Trust-Related Guardrail Metrics)**\n",
    "\n",
    "- Metrik ini memantau tingkat kepercayaan (trustworthiness) dari eksperimen.\n",
    "- Metrik ini juga berfungsi untuk memeriksa pelanggaran terhadap asumsi yang ada.\n",
    "\n",
    "Berdasarkan aspek-aspek tersebut, penulis menentukan semua metrik yang diperlukan untuk eksperimen ini. Berikut adalah hasil penentuan metriknya.\n",
    "\n",
    "Conversion Rate digunakan sebagai metrik dalam analisis multivariat karena mewakili tujuan utama bisnis, seperti penjualan, dan memberikan ukuran langsung tentang efektivitas Offer. Metrik ini terukur, objektif, serta sensitif terhadap perubahan, sehingga memungkinkan deteksi perbedaan kecil antara variasi yang diuji. Selain itu, Conversion Rate memberikan hasil yang cepat, memudahkan perbandingan antara variasi, dan memungkinkan optimasi langsung berdasarkan kinerja terbaik. Karena itu, Conversion Rate menjadi pilihan ideal untuk menganalisis efektivitas berbagai kombinasi perlakuan dalam eksperimen jangka pendek."
   ]
  },
  {
   "cell_type": "markdown",
   "id": "68ed52cc",
   "metadata": {},
   "source": [
    "- BOGO : \n",
    "            A.\tDif = 10 , Reward = 10 , Duration = 7, Channe = Email,Mobile,Sosial\n",
    "            B.\tDif = 10 ,  Reward = 10 , Duration = 5, Channe = Web,Email,Mobile,Sosial\n",
    "            C.\tDif = 5 , Reward = 5 , Duration = 7, Channe = Web,Email,Mobile\n",
    "            D.\tDif = 5 , Reward = 5 , Duration = 6, Channe = Web,Email,Mobile,Sosial"
   ]
  },
  {
   "cell_type": "markdown",
   "id": "99041ee2",
   "metadata": {},
   "source": [
    "### Hypothesis"
   ]
  },
  {
   "cell_type": "markdown",
   "id": "e6d7b36f",
   "metadata": {},
   "source": [
    "Hipotesa dari tiap group sebagai berikut :\n",
    "\n",
    "- group 1 vs group 2\n",
    "    $$H_0 : p_B \\leq p_A$$\n",
    "    $$H_1 : p_B > p_A$$\n",
    "\n",
    "- group 1 vs group 3\n",
    "    $$H_0 : p_C \\leq p_A$$\n",
    "    $$H_1 : p_C > p_A$$\n",
    "\n",
    "- group 1 vs group 4\n",
    "    $$H_0 : p_D \\leq p_A$$\n",
    "    $$H_1 : p_D > p_A$$\n",
    "\n",
    "- group 2 vs group 3\n",
    "    $$H_0 : p_C \\leq p_B$$\n",
    "    $$H_1 : p_C > p_B$$\n",
    "\n",
    "- group 2 vs group 4\n",
    "    $$H_0 : p_D \\leq p_B$$\n",
    "    $$H_1 : p_D > p_B$$\n",
    "\n",
    "- group 3 vs group 4\n",
    "    $$H_0 : p_D \\leq p_C$$\n",
    "    $$H_1 : p_D > p_C$$\n",
    "    "
   ]
  },
  {
   "cell_type": "markdown",
   "id": "cdf771ab",
   "metadata": {},
   "source": [
    "### Designing Experiments"
   ]
  },
  {
   "cell_type": "markdown",
   "id": "66fa395c",
   "metadata": {},
   "source": [
    "#### •\tRandomization Unit"
   ]
  },
  {
   "cell_type": "markdown",
   "id": "99c6ea5d",
   "metadata": {},
   "source": [
    "Unit randomisasi adalah “siapa” atau “apa” yang secara acak dialokasikan ke setiap kelompok. Untuk mendapatkan konteks lebih spesifik dari eksperimen, kami membatasi populasi pada orang-orang yang berada di Jakarta."
   ]
  },
  {
   "cell_type": "markdown",
   "id": "1b0058c2",
   "metadata": {},
   "source": [
    "#### •\tTarget of randomization unit"
   ]
  },
  {
   "cell_type": "markdown",
   "id": "5f7eea12",
   "metadata": {},
   "source": [
    "Unit randomisasi yang ditargetkan adalah semua pengguna yang terpapar oleh Offer. Selain itu, kami juga mempertimbangkan DIfficult, Reward, Duration dan Channel sebagai variasi "
   ]
  },
  {
   "cell_type": "markdown",
   "id": "a5bb53a4",
   "metadata": {},
   "source": [
    "#### •\tSample size"
   ]
  },
  {
   "cell_type": "markdown",
   "id": "202b12aa",
   "metadata": {},
   "source": [
    "Ukuran sampel akan mempengaruhi kekuatan bukti untuk menunjukkan validitas eksperimen.\n",
    "\n",
    "**Tingkat Signifikansi (α)**\n",
    "α = P (Menerima H1 | Ho benar)\n",
    "Ini berarti peluang menerima H1, padahal Ho sebenarnya benar. Karena hal ini merupakan kesalahan, nilai α harus dikurangi. Secara konservatif, industri biasanya menggunakan 5% atau 1% untuk nilai α. Kami memutuskan menggunakan α = 5% sebagai tingkat signifikansi.\n",
    "\n",
    "**Tingkat Kekuatan (1 - β)**\n",
    "1 - β = P (Menolak Ho | Ho salah)\n",
    "Ini berarti peluang menolak Ho, padahal Ho sebenarnya salah. Karena hal ini benar, nilai 1 - β harus ditingkatkan. Secara konservatif, industri menggunakan 80% sebagai tingkat kekuatan. Kami memutuskan menggunakan 1 - β = 80% sebagai tingkat kekuatan.\n",
    "\n",
    "**Standar Deviasi Populasi (σ)**\n",
    "Untuk eksperimen ini, kami mengasumsikan standar deviasi populasi sebesar 0,2.\n",
    "\n",
    "**Perbedaan antara Kontrol dan Perlakuan (δ)**\n",
    "Untuk tujuan bisnis, kami berasumsi bahwa perlakuan ini akan menguntungkan jika rasio konversi meningkat sebesar 1%. Dengan demikian, manajemen akan lebih memilih mengimplementasikan Creative Ads dibandingkan PSA karena dampaknya terhadap peningkatan rasio konversi."
   ]
  },
  {
   "cell_type": "markdown",
   "id": "c487a0ee",
   "metadata": {},
   "source": [
    "#### • Calculating Sample Size"
   ]
  },
  {
   "cell_type": "markdown",
   "id": "c2472760",
   "metadata": {},
   "source": [
    "#### Berapa ukuran sampel minimum yang diperlukan ketika $\\alpha=5 \\%$ dan pangkat 80% ?"
   ]
  },
  {
   "cell_type": "markdown",
   "id": "a28f8a86",
   "metadata": {},
   "source": [
    "- Ingat, kita dapat memanfaatkan rumus yang tersedia untuk menghitung jumlah sampel minimum yang diperlukan.\n",
    "\n",
    "$$\n",
    "n = \\cfrac{2 \\sigma^2 (z_{1-\\alpha/2}+z_{1-\\beta})^2}{\\delta^2}\n",
    "$$"
   ]
  },
  {
   "cell_type": "markdown",
   "id": "2be1ad40",
   "metadata": {},
   "source": [
    "- Oleh karena itu, jika kita mengetahui nilai $z$, kita dapat menghitung jumlah sampel yang dibutuhkan.\n"
   ]
  },
  {
   "cell_type": "markdown",
   "id": "dfbd8d3f",
   "metadata": {},
   "source": [
    "- Dalam hal ini, kita tidak mengetahui deviasi standar dari tingkat konversi.\n",
    "- Namun, kita dapat menghitung deviasi standar dengan informasi tentang tingkat konversi dasar saat ini.\n",
    "- Peristiwa konversi dianggap sebagai percobaan Bernoulli, dengan $\\hat{p}=0.04$\n",
    "- Kita dapat menghitung deviasi standar dengan menggunakan rumus berikut yang berbasis pada distribusi Bernoulli:\n",
    "\n",
    "$$\\sigma=\\sqrt{\\hat{p}(1-\\hat{p})}$$"
   ]
  },
  {
   "cell_type": "markdown",
   "id": "45e5b108",
   "metadata": {},
   "source": [
    "- Penggunaan distribusi Bernoulli dalam konteks konversi karena:\n",
    "\n",
    ">Dua Hasil: Percobaan Bernoulli hanya memiliki dua hasil yang mungkin: keberhasilan (misalnya, konversi) dan kegagalan (tidak konversi). Ini sesuai dengan banyak situasi dalam analisis konversi, di mana kita melihat apakah pengguna melakukan tindakan tertentu atau tidak."
   ]
  },
  {
   "cell_type": "code",
   "execution_count": 139,
   "id": "476e3aaf",
   "metadata": {},
   "outputs": [
    {
     "data": {
      "text/plain": [
       "0.19595917942265423"
      ]
     },
     "execution_count": 139,
     "metadata": {},
     "output_type": "execute_result"
    }
   ],
   "source": [
    "# calculate standar deviation\n",
    "import numpy as np\n",
    "#given \n",
    "p=0.04\n",
    "\n",
    "std_dev = np.sqrt(p*(1-p))\n",
    "std_dev"
   ]
  },
  {
   "cell_type": "code",
   "execution_count": 140,
   "id": "15516b50",
   "metadata": {},
   "outputs": [],
   "source": [
    "# Given\n",
    "delta = 0.01        \n",
    "alpha = 0.05        \n",
    "power = 0.8         \n",
    "   "
   ]
  },
  {
   "cell_type": "code",
   "execution_count": 141,
   "id": "088fdc3a",
   "metadata": {},
   "outputs": [
    {
     "data": {
      "text/plain": [
       "0.19999999999999996"
      ]
     },
     "execution_count": 141,
     "metadata": {},
     "output_type": "execute_result"
    }
   ],
   "source": [
    "# calculate beta\n",
    "beta = 1 - power\n",
    "beta"
   ]
  },
  {
   "cell_type": "code",
   "execution_count": 142,
   "id": "f6361fc7",
   "metadata": {},
   "outputs": [
    {
     "data": {
      "text/plain": [
       "(1.959963984540054, 0.8416212335729143)"
      ]
     },
     "execution_count": 142,
     "metadata": {},
     "output_type": "execute_result"
    }
   ],
   "source": [
    "# calculate the z value\n",
    "z_alpha = stats.norm.ppf(1 - alpha/2)\n",
    "z_beta = stats.norm.ppf(1 - beta)\n",
    "\n",
    "z_alpha, z_beta"
   ]
  },
  {
   "cell_type": "code",
   "execution_count": 143,
   "id": "7bc5ae77",
   "metadata": {},
   "outputs": [
    {
     "name": "stdout",
     "output_type": "stream",
     "text": [
      "Number of sample size needed    : 6028\n"
     ]
    }
   ],
   "source": [
    "# then calculate the number of sample size\n",
    "n = 2 * (std_dev**2) * ((z_alpha+z_beta)**2) / (delta**2)\n",
    "\n",
    "print(f\"Number of sample size needed    : {n:.0f}\")"
   ]
  },
  {
   "cell_type": "markdown",
   "id": "c68fbe38",
   "metadata": {},
   "source": [
    "**In conclusion**\n",
    "- We need 6028 samples in one group"
   ]
  },
  {
   "cell_type": "markdown",
   "id": "d9d265df",
   "metadata": {},
   "source": [
    "## D.Import Data From SQL Server "
   ]
  },
  {
   "cell_type": "code",
   "execution_count": 144,
   "id": "06991f91",
   "metadata": {},
   "outputs": [],
   "source": [
    "connection_string = 'mssql+pyodbc://DESKTOP-KOO9GIJ\\\\MSSQLSERVER01/ads?driver=ODBC+Driver+17+for+SQL+Server'\n",
    "\n",
    "engine = create_engine(connection_string)"
   ]
  },
  {
   "cell_type": "code",
   "execution_count": 145,
   "id": "537002de",
   "metadata": {},
   "outputs": [],
   "source": [
    "query = ''' \n",
    "WITH ranked_offers AS (\n",
    "    SELECT \n",
    "        [offer],\n",
    "        [customer_id],\n",
    "        [event],\n",
    "        [time],\n",
    "        [Amount],\n",
    "        [OfferId],\n",
    "        [offer_type],\n",
    "        [duration],\n",
    "        ROW_NUMBER() OVER (PARTITION BY [customer_id], [OfferId] ORDER BY [time]) AS offer_sequence\n",
    "    FROM [ads].[dbo].[new_data]\n",
    "    WHERE [event] = 'offer received'\n",
    ")\n",
    ", cc as (\n",
    "SELECT \n",
    "    CASE \n",
    "        WHEN nd.[event] = 'offer received' \n",
    "        THEN CONCAT(nd.[OfferId], '_', ro.offer_sequence) \n",
    "        ELSE nd.[OfferId] \n",
    "    END AS final_offer_id\n",
    "\t,nd.*\n",
    "FROM [ads].[dbo].[new_data] nd\n",
    "LEFT JOIN ranked_offers ro\n",
    "    ON nd.[customer_id] = ro.[customer_id] \n",
    "    AND nd.[OfferId] = ro.[OfferId]\n",
    "    AND nd.[time] = ro.[time]\n",
    "\t)\n",
    ",r as  ( \n",
    "    SELECT \n",
    "\t\tCONCAT(customer_id, '_', OfferId, '_', CAST(time AS VARCHAR)) AS new_id,\n",
    "        OfferId,\n",
    "        customer_id\n",
    "    FROM \n",
    "        cc\n",
    "    WHERE \n",
    "         event = 'offer completed' or offer = 'Transaction With Offer' or offer_type = 'informational'\n",
    ")\n",
    ",c as ( \n",
    "SELECT \n",
    "\tCONCAT(customer_id, '_', OfferId, '_', CAST(time AS VARCHAR)) AS new_id,\n",
    "\tcase when event = 'transaction' then time else null end as time_transaction,\n",
    "    nd.*\n",
    "FROM \n",
    "    cc AS nd\n",
    "\twhere event != 'offer viewed' \n",
    "), dc as \n",
    "( \n",
    "select c.* from c\n",
    "where   \n",
    "     NOT EXISTS (\n",
    "        SELECT 1\n",
    "        FROM r \n",
    "        WHERE \n",
    "\t\t(r.customer_id = c.customer_id AND r.OfferId = c.OfferId)  \n",
    "\n",
    "    )  \n",
    "\n",
    "), kk as (\n",
    "select dc.* from dc\n",
    "where NOT EXISTS ( SELECT 1 FROM r WHERE r.new_id = dc.new_id  ) \n",
    "\n",
    "\n",
    ")\n",
    ", gabung as (\n",
    "select \n",
    "[offer]\n",
    "      ,[customer_id]\n",
    "      ,[event]\n",
    "      ,[time]\n",
    "      ,[Amount]\n",
    "      ,[OfferId]\n",
    "      ,[reward_get]\n",
    "      ,[Tahun]\n",
    "      ,[Bulan]\n",
    "      ,[Tanggal]\n",
    "      ,[became_member_on]\n",
    "      ,[gender]\n",
    "      ,[age]\n",
    "      ,[income]\n",
    "      ,[offer_type]\n",
    "from kk\n",
    "where event = 'offer received'\n",
    "union all \n",
    "SELECT \n",
    "\t\t[offer]\n",
    "      ,[customer_id]\n",
    "      ,[event]\n",
    "      ,[time]\n",
    "      ,[Amount]\n",
    "      ,[OfferId]\n",
    "      ,[reward_get]\n",
    "      ,[Tahun]\n",
    "      ,[Bulan]\n",
    "      ,[Tanggal]\n",
    "      ,[became_member_on]\n",
    "      ,[gender]\n",
    "      ,[age]\n",
    "      ,[income]\n",
    "      ,[offer_type]\n",
    "  FROM [ads].[dbo].[new_data]\n",
    "  where offer = 'Transaction With Offer' \n",
    "  )\n",
    "  select \n",
    "  g.*, ofs.[difficulty]\n",
    "      ,ofs.[reward]\n",
    "      ,ofs.[duration]\n",
    "      ,ofs.[channels]\n",
    "\t  , CASE \n",
    "        WHEN [OfferId] ='ae264e3637204a6fb9bb56bc8210ddfd' THEN 'A'\n",
    "        WHEN [OfferId] = '4d5c57ea9a6940dd891ad53e9dbe8da0' THEN 'B'\n",
    "        WHEN [OfferId] = '9b98b8c7a33c4b65b9aebfe6a799e6d9'THEN 'C'\n",
    "        WHEN [OfferId] = 'f19421c1d4aa40978ebb69ca19b0e20d' THEN 'D'\n",
    "        WHEN [OfferId] = '0b1e1539f2cc45b7b9fa7c272da2e1d7' THEN 'E'\n",
    "        WHEN [OfferId] = '2298d6c36e964ae4a3e7e9706d1fb8c2' THEN 'F'\n",
    "        WHEN [OfferId] =  'fafdcd668e3743c1bb461111dcafc2a4'THEN 'G'\n",
    "        WHEN [OfferId] = '2906b810c7d4411798c6938adc9daaa5' THEN 'H'\n",
    "        ELSE 'Unknown Group'\n",
    "    END AS groups\n",
    "    ,case when g.offer = 'Offer' then 0 else 1 end conver\n",
    "  from gabung as g\n",
    "  inner join [ads].[dbo].[offers] as ofs\n",
    "  on g.[OfferId] = ofs.[offer_id]\n",
    "  '''"
   ]
  },
  {
   "cell_type": "code",
   "execution_count": 146,
   "id": "ed6a70ea",
   "metadata": {},
   "outputs": [
    {
     "data": {
      "text/html": [
       "<div>\n",
       "<style scoped>\n",
       "    .dataframe tbody tr th:only-of-type {\n",
       "        vertical-align: middle;\n",
       "    }\n",
       "\n",
       "    .dataframe tbody tr th {\n",
       "        vertical-align: top;\n",
       "    }\n",
       "\n",
       "    .dataframe thead th {\n",
       "        text-align: right;\n",
       "    }\n",
       "</style>\n",
       "<table border=\"1\" class=\"dataframe\">\n",
       "  <thead>\n",
       "    <tr style=\"text-align: right;\">\n",
       "      <th></th>\n",
       "      <th>offer</th>\n",
       "      <th>customer_id</th>\n",
       "      <th>event</th>\n",
       "      <th>time</th>\n",
       "      <th>Amount</th>\n",
       "      <th>OfferId</th>\n",
       "      <th>reward_get</th>\n",
       "      <th>Tahun</th>\n",
       "      <th>Bulan</th>\n",
       "      <th>Tanggal</th>\n",
       "      <th>...</th>\n",
       "      <th>gender</th>\n",
       "      <th>age</th>\n",
       "      <th>income</th>\n",
       "      <th>offer_type</th>\n",
       "      <th>difficulty</th>\n",
       "      <th>reward</th>\n",
       "      <th>duration</th>\n",
       "      <th>channels</th>\n",
       "      <th>groups</th>\n",
       "      <th>conver</th>\n",
       "    </tr>\n",
       "  </thead>\n",
       "  <tbody>\n",
       "    <tr>\n",
       "      <th>0</th>\n",
       "      <td>Offer</td>\n",
       "      <td>00116118485d4dfda04fdbaba9a87b5c</td>\n",
       "      <td>offer received</td>\n",
       "      <td>168.0</td>\n",
       "      <td></td>\n",
       "      <td>f19421c1d4aa40978ebb69ca19b0e20d</td>\n",
       "      <td>None</td>\n",
       "      <td>2018</td>\n",
       "      <td>04</td>\n",
       "      <td>25</td>\n",
       "      <td>...</td>\n",
       "      <td>None</td>\n",
       "      <td>118.0</td>\n",
       "      <td>NaN</td>\n",
       "      <td>bogo</td>\n",
       "      <td>5.0</td>\n",
       "      <td>5.0</td>\n",
       "      <td>5.0</td>\n",
       "      <td>['web', 'email', 'mobile', 'social']</td>\n",
       "      <td>D</td>\n",
       "      <td>0</td>\n",
       "    </tr>\n",
       "    <tr>\n",
       "      <th>1</th>\n",
       "      <td>Offer</td>\n",
       "      <td>00116118485d4dfda04fdbaba9a87b5c</td>\n",
       "      <td>offer received</td>\n",
       "      <td>576.0</td>\n",
       "      <td></td>\n",
       "      <td>f19421c1d4aa40978ebb69ca19b0e20d</td>\n",
       "      <td>None</td>\n",
       "      <td>2018</td>\n",
       "      <td>04</td>\n",
       "      <td>25</td>\n",
       "      <td>...</td>\n",
       "      <td>None</td>\n",
       "      <td>118.0</td>\n",
       "      <td>NaN</td>\n",
       "      <td>bogo</td>\n",
       "      <td>5.0</td>\n",
       "      <td>5.0</td>\n",
       "      <td>5.0</td>\n",
       "      <td>['web', 'email', 'mobile', 'social']</td>\n",
       "      <td>D</td>\n",
       "      <td>0</td>\n",
       "    </tr>\n",
       "    <tr>\n",
       "      <th>2</th>\n",
       "      <td>Offer</td>\n",
       "      <td>0020c2b971eb4e9188eac86d93036a77</td>\n",
       "      <td>offer received</td>\n",
       "      <td>168.0</td>\n",
       "      <td></td>\n",
       "      <td>ae264e3637204a6fb9bb56bc8210ddfd</td>\n",
       "      <td>None</td>\n",
       "      <td>2016</td>\n",
       "      <td>03</td>\n",
       "      <td>04</td>\n",
       "      <td>...</td>\n",
       "      <td>F</td>\n",
       "      <td>59.0</td>\n",
       "      <td>90000.0</td>\n",
       "      <td>bogo</td>\n",
       "      <td>10.0</td>\n",
       "      <td>10.0</td>\n",
       "      <td>7.0</td>\n",
       "      <td>['email', 'mobile', 'social']</td>\n",
       "      <td>A</td>\n",
       "      <td>0</td>\n",
       "    </tr>\n",
       "    <tr>\n",
       "      <th>3</th>\n",
       "      <td>Offer</td>\n",
       "      <td>00426fe3ffde4c6b9cb9ad6d077a13ea</td>\n",
       "      <td>offer received</td>\n",
       "      <td>336.0</td>\n",
       "      <td></td>\n",
       "      <td>0b1e1539f2cc45b7b9fa7c272da2e1d7</td>\n",
       "      <td>None</td>\n",
       "      <td>2016</td>\n",
       "      <td>08</td>\n",
       "      <td>09</td>\n",
       "      <td>...</td>\n",
       "      <td>F</td>\n",
       "      <td>19.0</td>\n",
       "      <td>65000.0</td>\n",
       "      <td>discount</td>\n",
       "      <td>20.0</td>\n",
       "      <td>5.0</td>\n",
       "      <td>10.0</td>\n",
       "      <td>['web', 'email']</td>\n",
       "      <td>E</td>\n",
       "      <td>0</td>\n",
       "    </tr>\n",
       "    <tr>\n",
       "      <th>4</th>\n",
       "      <td>Offer</td>\n",
       "      <td>00426fe3ffde4c6b9cb9ad6d077a13ea</td>\n",
       "      <td>offer received</td>\n",
       "      <td>576.0</td>\n",
       "      <td></td>\n",
       "      <td>2906b810c7d4411798c6938adc9daaa5</td>\n",
       "      <td>None</td>\n",
       "      <td>2016</td>\n",
       "      <td>08</td>\n",
       "      <td>09</td>\n",
       "      <td>...</td>\n",
       "      <td>F</td>\n",
       "      <td>19.0</td>\n",
       "      <td>65000.0</td>\n",
       "      <td>discount</td>\n",
       "      <td>10.0</td>\n",
       "      <td>2.0</td>\n",
       "      <td>7.0</td>\n",
       "      <td>['web', 'email', 'mobile']</td>\n",
       "      <td>H</td>\n",
       "      <td>0</td>\n",
       "    </tr>\n",
       "    <tr>\n",
       "      <th>...</th>\n",
       "      <td>...</td>\n",
       "      <td>...</td>\n",
       "      <td>...</td>\n",
       "      <td>...</td>\n",
       "      <td>...</td>\n",
       "      <td>...</td>\n",
       "      <td>...</td>\n",
       "      <td>...</td>\n",
       "      <td>...</td>\n",
       "      <td>...</td>\n",
       "      <td>...</td>\n",
       "      <td>...</td>\n",
       "      <td>...</td>\n",
       "      <td>...</td>\n",
       "      <td>...</td>\n",
       "      <td>...</td>\n",
       "      <td>...</td>\n",
       "      <td>...</td>\n",
       "      <td>...</td>\n",
       "      <td>...</td>\n",
       "      <td>...</td>\n",
       "    </tr>\n",
       "    <tr>\n",
       "      <th>54951</th>\n",
       "      <td>Transaction With Offer</td>\n",
       "      <td>ffdefcac307f4ca99ac1ebd51470f106</td>\n",
       "      <td>transaction</td>\n",
       "      <td>54.0</td>\n",
       "      <td>24.41</td>\n",
       "      <td>fafdcd668e3743c1bb461111dcafc2a4</td>\n",
       "      <td>None</td>\n",
       "      <td>2017</td>\n",
       "      <td>03</td>\n",
       "      <td>15</td>\n",
       "      <td>...</td>\n",
       "      <td>F</td>\n",
       "      <td>87.0</td>\n",
       "      <td>47000.0</td>\n",
       "      <td>discount</td>\n",
       "      <td>10.0</td>\n",
       "      <td>2.0</td>\n",
       "      <td>10.0</td>\n",
       "      <td>['web', 'email', 'mobile', 'social']</td>\n",
       "      <td>G</td>\n",
       "      <td>1</td>\n",
       "    </tr>\n",
       "    <tr>\n",
       "      <th>54952</th>\n",
       "      <td>Transaction With Offer</td>\n",
       "      <td>fff3ba4757bd42088c044ca26d73817a</td>\n",
       "      <td>transaction</td>\n",
       "      <td>6.0</td>\n",
       "      <td>20.98</td>\n",
       "      <td>fafdcd668e3743c1bb461111dcafc2a4</td>\n",
       "      <td>None</td>\n",
       "      <td>2015</td>\n",
       "      <td>09</td>\n",
       "      <td>20</td>\n",
       "      <td>...</td>\n",
       "      <td>F</td>\n",
       "      <td>69.0</td>\n",
       "      <td>83000.0</td>\n",
       "      <td>discount</td>\n",
       "      <td>10.0</td>\n",
       "      <td>2.0</td>\n",
       "      <td>10.0</td>\n",
       "      <td>['web', 'email', 'mobile', 'social']</td>\n",
       "      <td>G</td>\n",
       "      <td>1</td>\n",
       "    </tr>\n",
       "    <tr>\n",
       "      <th>54953</th>\n",
       "      <td>Transaction With Offer</td>\n",
       "      <td>fff7576017104bcc8677a8d63322b5e1</td>\n",
       "      <td>transaction</td>\n",
       "      <td>192.0</td>\n",
       "      <td>5.99</td>\n",
       "      <td>fafdcd668e3743c1bb461111dcafc2a4</td>\n",
       "      <td>None</td>\n",
       "      <td>2017</td>\n",
       "      <td>10</td>\n",
       "      <td>31</td>\n",
       "      <td>...</td>\n",
       "      <td>M</td>\n",
       "      <td>71.0</td>\n",
       "      <td>73000.0</td>\n",
       "      <td>discount</td>\n",
       "      <td>10.0</td>\n",
       "      <td>2.0</td>\n",
       "      <td>10.0</td>\n",
       "      <td>['web', 'email', 'mobile', 'social']</td>\n",
       "      <td>G</td>\n",
       "      <td>1</td>\n",
       "    </tr>\n",
       "    <tr>\n",
       "      <th>54954</th>\n",
       "      <td>Transaction With Offer</td>\n",
       "      <td>fff7576017104bcc8677a8d63322b5e1</td>\n",
       "      <td>transaction</td>\n",
       "      <td>594.0</td>\n",
       "      <td>8.01</td>\n",
       "      <td>fafdcd668e3743c1bb461111dcafc2a4</td>\n",
       "      <td>None</td>\n",
       "      <td>2017</td>\n",
       "      <td>10</td>\n",
       "      <td>31</td>\n",
       "      <td>...</td>\n",
       "      <td>M</td>\n",
       "      <td>71.0</td>\n",
       "      <td>73000.0</td>\n",
       "      <td>discount</td>\n",
       "      <td>10.0</td>\n",
       "      <td>2.0</td>\n",
       "      <td>10.0</td>\n",
       "      <td>['web', 'email', 'mobile', 'social']</td>\n",
       "      <td>G</td>\n",
       "      <td>1</td>\n",
       "    </tr>\n",
       "    <tr>\n",
       "      <th>54955</th>\n",
       "      <td>Transaction With Offer</td>\n",
       "      <td>ffff82501cea40309d5fdd7edcca4a07</td>\n",
       "      <td>transaction</td>\n",
       "      <td>60.0</td>\n",
       "      <td>16.06</td>\n",
       "      <td>fafdcd668e3743c1bb461111dcafc2a4</td>\n",
       "      <td>None</td>\n",
       "      <td>2016</td>\n",
       "      <td>11</td>\n",
       "      <td>25</td>\n",
       "      <td>...</td>\n",
       "      <td>F</td>\n",
       "      <td>45.0</td>\n",
       "      <td>62000.0</td>\n",
       "      <td>discount</td>\n",
       "      <td>10.0</td>\n",
       "      <td>2.0</td>\n",
       "      <td>10.0</td>\n",
       "      <td>['web', 'email', 'mobile', 'social']</td>\n",
       "      <td>G</td>\n",
       "      <td>1</td>\n",
       "    </tr>\n",
       "  </tbody>\n",
       "</table>\n",
       "<p>54956 rows × 21 columns</p>\n",
       "</div>"
      ],
      "text/plain": [
       "                        offer                       customer_id  \\\n",
       "0                       Offer  00116118485d4dfda04fdbaba9a87b5c   \n",
       "1                       Offer  00116118485d4dfda04fdbaba9a87b5c   \n",
       "2                       Offer  0020c2b971eb4e9188eac86d93036a77   \n",
       "3                       Offer  00426fe3ffde4c6b9cb9ad6d077a13ea   \n",
       "4                       Offer  00426fe3ffde4c6b9cb9ad6d077a13ea   \n",
       "...                       ...                               ...   \n",
       "54951  Transaction With Offer  ffdefcac307f4ca99ac1ebd51470f106   \n",
       "54952  Transaction With Offer  fff3ba4757bd42088c044ca26d73817a   \n",
       "54953  Transaction With Offer  fff7576017104bcc8677a8d63322b5e1   \n",
       "54954  Transaction With Offer  fff7576017104bcc8677a8d63322b5e1   \n",
       "54955  Transaction With Offer  ffff82501cea40309d5fdd7edcca4a07   \n",
       "\n",
       "                event   time Amount                           OfferId  \\\n",
       "0      offer received  168.0         f19421c1d4aa40978ebb69ca19b0e20d   \n",
       "1      offer received  576.0         f19421c1d4aa40978ebb69ca19b0e20d   \n",
       "2      offer received  168.0         ae264e3637204a6fb9bb56bc8210ddfd   \n",
       "3      offer received  336.0         0b1e1539f2cc45b7b9fa7c272da2e1d7   \n",
       "4      offer received  576.0         2906b810c7d4411798c6938adc9daaa5   \n",
       "...               ...    ...    ...                               ...   \n",
       "54951     transaction   54.0  24.41  fafdcd668e3743c1bb461111dcafc2a4   \n",
       "54952     transaction    6.0  20.98  fafdcd668e3743c1bb461111dcafc2a4   \n",
       "54953     transaction  192.0   5.99  fafdcd668e3743c1bb461111dcafc2a4   \n",
       "54954     transaction  594.0   8.01  fafdcd668e3743c1bb461111dcafc2a4   \n",
       "54955     transaction   60.0  16.06  fafdcd668e3743c1bb461111dcafc2a4   \n",
       "\n",
       "      reward_get Tahun Bulan Tanggal  ...  gender    age   income  offer_type  \\\n",
       "0           None  2018    04      25  ...    None  118.0      NaN        bogo   \n",
       "1           None  2018    04      25  ...    None  118.0      NaN        bogo   \n",
       "2           None  2016    03      04  ...       F   59.0  90000.0        bogo   \n",
       "3           None  2016    08      09  ...       F   19.0  65000.0    discount   \n",
       "4           None  2016    08      09  ...       F   19.0  65000.0    discount   \n",
       "...          ...   ...   ...     ...  ...     ...    ...      ...         ...   \n",
       "54951       None  2017    03      15  ...       F   87.0  47000.0    discount   \n",
       "54952       None  2015    09      20  ...       F   69.0  83000.0    discount   \n",
       "54953       None  2017    10      31  ...       M   71.0  73000.0    discount   \n",
       "54954       None  2017    10      31  ...       M   71.0  73000.0    discount   \n",
       "54955       None  2016    11      25  ...       F   45.0  62000.0    discount   \n",
       "\n",
       "      difficulty  reward  duration                              channels  \\\n",
       "0            5.0     5.0       5.0  ['web', 'email', 'mobile', 'social']   \n",
       "1            5.0     5.0       5.0  ['web', 'email', 'mobile', 'social']   \n",
       "2           10.0    10.0       7.0         ['email', 'mobile', 'social']   \n",
       "3           20.0     5.0      10.0                      ['web', 'email']   \n",
       "4           10.0     2.0       7.0            ['web', 'email', 'mobile']   \n",
       "...          ...     ...       ...                                   ...   \n",
       "54951       10.0     2.0      10.0  ['web', 'email', 'mobile', 'social']   \n",
       "54952       10.0     2.0      10.0  ['web', 'email', 'mobile', 'social']   \n",
       "54953       10.0     2.0      10.0  ['web', 'email', 'mobile', 'social']   \n",
       "54954       10.0     2.0      10.0  ['web', 'email', 'mobile', 'social']   \n",
       "54955       10.0     2.0      10.0  ['web', 'email', 'mobile', 'social']   \n",
       "\n",
       "      groups conver  \n",
       "0          D      0  \n",
       "1          D      0  \n",
       "2          A      0  \n",
       "3          E      0  \n",
       "4          H      0  \n",
       "...      ...    ...  \n",
       "54951      G      1  \n",
       "54952      G      1  \n",
       "54953      G      1  \n",
       "54954      G      1  \n",
       "54955      G      1  \n",
       "\n",
       "[54956 rows x 21 columns]"
      ]
     },
     "execution_count": 146,
     "metadata": {},
     "output_type": "execute_result"
    }
   ],
   "source": [
    "# Eksekusi query menggunakan pandas\n",
    "df = pd.read_sql(query, engine)\n",
    "df"
   ]
  },
  {
   "cell_type": "code",
   "execution_count": 147,
   "id": "e5a31ef0",
   "metadata": {},
   "outputs": [
    {
     "data": {
      "text/html": [
       "<div>\n",
       "<style scoped>\n",
       "    .dataframe tbody tr th:only-of-type {\n",
       "        vertical-align: middle;\n",
       "    }\n",
       "\n",
       "    .dataframe tbody tr th {\n",
       "        vertical-align: top;\n",
       "    }\n",
       "\n",
       "    .dataframe thead th {\n",
       "        text-align: right;\n",
       "    }\n",
       "</style>\n",
       "<table border=\"1\" class=\"dataframe\">\n",
       "  <thead>\n",
       "    <tr style=\"text-align: right;\">\n",
       "      <th></th>\n",
       "      <th>customer_id</th>\n",
       "      <th>OfferId</th>\n",
       "      <th>offer_type</th>\n",
       "      <th>difficulty</th>\n",
       "      <th>reward</th>\n",
       "      <th>duration</th>\n",
       "      <th>channels</th>\n",
       "      <th>groups</th>\n",
       "      <th>conver</th>\n",
       "    </tr>\n",
       "  </thead>\n",
       "  <tbody>\n",
       "    <tr>\n",
       "      <th>0</th>\n",
       "      <td>00116118485d4dfda04fdbaba9a87b5c</td>\n",
       "      <td>f19421c1d4aa40978ebb69ca19b0e20d</td>\n",
       "      <td>bogo</td>\n",
       "      <td>5.0</td>\n",
       "      <td>5.0</td>\n",
       "      <td>5.0</td>\n",
       "      <td>['web', 'email', 'mobile', 'social']</td>\n",
       "      <td>D</td>\n",
       "      <td>0</td>\n",
       "    </tr>\n",
       "    <tr>\n",
       "      <th>1</th>\n",
       "      <td>00116118485d4dfda04fdbaba9a87b5c</td>\n",
       "      <td>f19421c1d4aa40978ebb69ca19b0e20d</td>\n",
       "      <td>bogo</td>\n",
       "      <td>5.0</td>\n",
       "      <td>5.0</td>\n",
       "      <td>5.0</td>\n",
       "      <td>['web', 'email', 'mobile', 'social']</td>\n",
       "      <td>D</td>\n",
       "      <td>0</td>\n",
       "    </tr>\n",
       "    <tr>\n",
       "      <th>2</th>\n",
       "      <td>0020c2b971eb4e9188eac86d93036a77</td>\n",
       "      <td>ae264e3637204a6fb9bb56bc8210ddfd</td>\n",
       "      <td>bogo</td>\n",
       "      <td>10.0</td>\n",
       "      <td>10.0</td>\n",
       "      <td>7.0</td>\n",
       "      <td>['email', 'mobile', 'social']</td>\n",
       "      <td>A</td>\n",
       "      <td>0</td>\n",
       "    </tr>\n",
       "    <tr>\n",
       "      <th>3</th>\n",
       "      <td>00426fe3ffde4c6b9cb9ad6d077a13ea</td>\n",
       "      <td>0b1e1539f2cc45b7b9fa7c272da2e1d7</td>\n",
       "      <td>discount</td>\n",
       "      <td>20.0</td>\n",
       "      <td>5.0</td>\n",
       "      <td>10.0</td>\n",
       "      <td>['web', 'email']</td>\n",
       "      <td>E</td>\n",
       "      <td>0</td>\n",
       "    </tr>\n",
       "    <tr>\n",
       "      <th>4</th>\n",
       "      <td>00426fe3ffde4c6b9cb9ad6d077a13ea</td>\n",
       "      <td>2906b810c7d4411798c6938adc9daaa5</td>\n",
       "      <td>discount</td>\n",
       "      <td>10.0</td>\n",
       "      <td>2.0</td>\n",
       "      <td>7.0</td>\n",
       "      <td>['web', 'email', 'mobile']</td>\n",
       "      <td>H</td>\n",
       "      <td>0</td>\n",
       "    </tr>\n",
       "    <tr>\n",
       "      <th>...</th>\n",
       "      <td>...</td>\n",
       "      <td>...</td>\n",
       "      <td>...</td>\n",
       "      <td>...</td>\n",
       "      <td>...</td>\n",
       "      <td>...</td>\n",
       "      <td>...</td>\n",
       "      <td>...</td>\n",
       "      <td>...</td>\n",
       "    </tr>\n",
       "    <tr>\n",
       "      <th>54951</th>\n",
       "      <td>ffdefcac307f4ca99ac1ebd51470f106</td>\n",
       "      <td>fafdcd668e3743c1bb461111dcafc2a4</td>\n",
       "      <td>discount</td>\n",
       "      <td>10.0</td>\n",
       "      <td>2.0</td>\n",
       "      <td>10.0</td>\n",
       "      <td>['web', 'email', 'mobile', 'social']</td>\n",
       "      <td>G</td>\n",
       "      <td>1</td>\n",
       "    </tr>\n",
       "    <tr>\n",
       "      <th>54952</th>\n",
       "      <td>fff3ba4757bd42088c044ca26d73817a</td>\n",
       "      <td>fafdcd668e3743c1bb461111dcafc2a4</td>\n",
       "      <td>discount</td>\n",
       "      <td>10.0</td>\n",
       "      <td>2.0</td>\n",
       "      <td>10.0</td>\n",
       "      <td>['web', 'email', 'mobile', 'social']</td>\n",
       "      <td>G</td>\n",
       "      <td>1</td>\n",
       "    </tr>\n",
       "    <tr>\n",
       "      <th>54953</th>\n",
       "      <td>fff7576017104bcc8677a8d63322b5e1</td>\n",
       "      <td>fafdcd668e3743c1bb461111dcafc2a4</td>\n",
       "      <td>discount</td>\n",
       "      <td>10.0</td>\n",
       "      <td>2.0</td>\n",
       "      <td>10.0</td>\n",
       "      <td>['web', 'email', 'mobile', 'social']</td>\n",
       "      <td>G</td>\n",
       "      <td>1</td>\n",
       "    </tr>\n",
       "    <tr>\n",
       "      <th>54954</th>\n",
       "      <td>fff7576017104bcc8677a8d63322b5e1</td>\n",
       "      <td>fafdcd668e3743c1bb461111dcafc2a4</td>\n",
       "      <td>discount</td>\n",
       "      <td>10.0</td>\n",
       "      <td>2.0</td>\n",
       "      <td>10.0</td>\n",
       "      <td>['web', 'email', 'mobile', 'social']</td>\n",
       "      <td>G</td>\n",
       "      <td>1</td>\n",
       "    </tr>\n",
       "    <tr>\n",
       "      <th>54955</th>\n",
       "      <td>ffff82501cea40309d5fdd7edcca4a07</td>\n",
       "      <td>fafdcd668e3743c1bb461111dcafc2a4</td>\n",
       "      <td>discount</td>\n",
       "      <td>10.0</td>\n",
       "      <td>2.0</td>\n",
       "      <td>10.0</td>\n",
       "      <td>['web', 'email', 'mobile', 'social']</td>\n",
       "      <td>G</td>\n",
       "      <td>1</td>\n",
       "    </tr>\n",
       "  </tbody>\n",
       "</table>\n",
       "<p>54956 rows × 9 columns</p>\n",
       "</div>"
      ],
      "text/plain": [
       "                            customer_id                           OfferId  \\\n",
       "0      00116118485d4dfda04fdbaba9a87b5c  f19421c1d4aa40978ebb69ca19b0e20d   \n",
       "1      00116118485d4dfda04fdbaba9a87b5c  f19421c1d4aa40978ebb69ca19b0e20d   \n",
       "2      0020c2b971eb4e9188eac86d93036a77  ae264e3637204a6fb9bb56bc8210ddfd   \n",
       "3      00426fe3ffde4c6b9cb9ad6d077a13ea  0b1e1539f2cc45b7b9fa7c272da2e1d7   \n",
       "4      00426fe3ffde4c6b9cb9ad6d077a13ea  2906b810c7d4411798c6938adc9daaa5   \n",
       "...                                 ...                               ...   \n",
       "54951  ffdefcac307f4ca99ac1ebd51470f106  fafdcd668e3743c1bb461111dcafc2a4   \n",
       "54952  fff3ba4757bd42088c044ca26d73817a  fafdcd668e3743c1bb461111dcafc2a4   \n",
       "54953  fff7576017104bcc8677a8d63322b5e1  fafdcd668e3743c1bb461111dcafc2a4   \n",
       "54954  fff7576017104bcc8677a8d63322b5e1  fafdcd668e3743c1bb461111dcafc2a4   \n",
       "54955  ffff82501cea40309d5fdd7edcca4a07  fafdcd668e3743c1bb461111dcafc2a4   \n",
       "\n",
       "      offer_type  difficulty  reward  duration  \\\n",
       "0           bogo         5.0     5.0       5.0   \n",
       "1           bogo         5.0     5.0       5.0   \n",
       "2           bogo        10.0    10.0       7.0   \n",
       "3       discount        20.0     5.0      10.0   \n",
       "4       discount        10.0     2.0       7.0   \n",
       "...          ...         ...     ...       ...   \n",
       "54951   discount        10.0     2.0      10.0   \n",
       "54952   discount        10.0     2.0      10.0   \n",
       "54953   discount        10.0     2.0      10.0   \n",
       "54954   discount        10.0     2.0      10.0   \n",
       "54955   discount        10.0     2.0      10.0   \n",
       "\n",
       "                                   channels groups  conver  \n",
       "0      ['web', 'email', 'mobile', 'social']      D       0  \n",
       "1      ['web', 'email', 'mobile', 'social']      D       0  \n",
       "2             ['email', 'mobile', 'social']      A       0  \n",
       "3                          ['web', 'email']      E       0  \n",
       "4                ['web', 'email', 'mobile']      H       0  \n",
       "...                                     ...    ...     ...  \n",
       "54951  ['web', 'email', 'mobile', 'social']      G       1  \n",
       "54952  ['web', 'email', 'mobile', 'social']      G       1  \n",
       "54953  ['web', 'email', 'mobile', 'social']      G       1  \n",
       "54954  ['web', 'email', 'mobile', 'social']      G       1  \n",
       "54955  ['web', 'email', 'mobile', 'social']      G       1  \n",
       "\n",
       "[54956 rows x 9 columns]"
      ]
     },
     "execution_count": 147,
     "metadata": {},
     "output_type": "execute_result"
    }
   ],
   "source": [
    "# Seleksi kolom tertentu dari DataFrame\n",
    "df = df[['customer_id', 'OfferId','offer_type', 'difficulty', 'reward', 'duration', 'channels','groups', 'conver']]\n",
    "\n",
    "# Tampilkan hasil\n",
    "df\n"
   ]
  },
  {
   "cell_type": "code",
   "execution_count": 148,
   "id": "9eb1c767",
   "metadata": {},
   "outputs": [
    {
     "data": {
      "text/html": [
       "<div>\n",
       "<style scoped>\n",
       "    .dataframe tbody tr th:only-of-type {\n",
       "        vertical-align: middle;\n",
       "    }\n",
       "\n",
       "    .dataframe tbody tr th {\n",
       "        vertical-align: top;\n",
       "    }\n",
       "\n",
       "    .dataframe thead th {\n",
       "        text-align: right;\n",
       "    }\n",
       "</style>\n",
       "<table border=\"1\" class=\"dataframe\">\n",
       "  <thead>\n",
       "    <tr style=\"text-align: right;\">\n",
       "      <th></th>\n",
       "      <th>customer_id</th>\n",
       "      <th>OfferId</th>\n",
       "      <th>offer_type</th>\n",
       "      <th>difficulty</th>\n",
       "      <th>reward</th>\n",
       "      <th>duration</th>\n",
       "      <th>channels</th>\n",
       "      <th>groups</th>\n",
       "      <th>conver</th>\n",
       "    </tr>\n",
       "  </thead>\n",
       "  <tbody>\n",
       "    <tr>\n",
       "      <th>0</th>\n",
       "      <td>00116118485d4dfda04fdbaba9a87b5c</td>\n",
       "      <td>f19421c1d4aa40978ebb69ca19b0e20d</td>\n",
       "      <td>bogo</td>\n",
       "      <td>5.0</td>\n",
       "      <td>5.0</td>\n",
       "      <td>5.0</td>\n",
       "      <td>['web', 'email', 'mobile', 'social']</td>\n",
       "      <td>D</td>\n",
       "      <td>0</td>\n",
       "    </tr>\n",
       "    <tr>\n",
       "      <th>1</th>\n",
       "      <td>00116118485d4dfda04fdbaba9a87b5c</td>\n",
       "      <td>f19421c1d4aa40978ebb69ca19b0e20d</td>\n",
       "      <td>bogo</td>\n",
       "      <td>5.0</td>\n",
       "      <td>5.0</td>\n",
       "      <td>5.0</td>\n",
       "      <td>['web', 'email', 'mobile', 'social']</td>\n",
       "      <td>D</td>\n",
       "      <td>0</td>\n",
       "    </tr>\n",
       "    <tr>\n",
       "      <th>2</th>\n",
       "      <td>0020c2b971eb4e9188eac86d93036a77</td>\n",
       "      <td>ae264e3637204a6fb9bb56bc8210ddfd</td>\n",
       "      <td>bogo</td>\n",
       "      <td>10.0</td>\n",
       "      <td>10.0</td>\n",
       "      <td>7.0</td>\n",
       "      <td>['email', 'mobile', 'social']</td>\n",
       "      <td>A</td>\n",
       "      <td>0</td>\n",
       "    </tr>\n",
       "    <tr>\n",
       "      <th>7</th>\n",
       "      <td>005500a7188546ff8a767329a2f7c76a</td>\n",
       "      <td>ae264e3637204a6fb9bb56bc8210ddfd</td>\n",
       "      <td>bogo</td>\n",
       "      <td>10.0</td>\n",
       "      <td>10.0</td>\n",
       "      <td>7.0</td>\n",
       "      <td>['email', 'mobile', 'social']</td>\n",
       "      <td>A</td>\n",
       "      <td>0</td>\n",
       "    </tr>\n",
       "    <tr>\n",
       "      <th>8</th>\n",
       "      <td>005500a7188546ff8a767329a2f7c76a</td>\n",
       "      <td>ae264e3637204a6fb9bb56bc8210ddfd</td>\n",
       "      <td>bogo</td>\n",
       "      <td>10.0</td>\n",
       "      <td>10.0</td>\n",
       "      <td>7.0</td>\n",
       "      <td>['email', 'mobile', 'social']</td>\n",
       "      <td>A</td>\n",
       "      <td>0</td>\n",
       "    </tr>\n",
       "    <tr>\n",
       "      <th>...</th>\n",
       "      <td>...</td>\n",
       "      <td>...</td>\n",
       "      <td>...</td>\n",
       "      <td>...</td>\n",
       "      <td>...</td>\n",
       "      <td>...</td>\n",
       "      <td>...</td>\n",
       "      <td>...</td>\n",
       "      <td>...</td>\n",
       "    </tr>\n",
       "    <tr>\n",
       "      <th>50138</th>\n",
       "      <td>ffb7fc8ad0594248a49e210ff0217c2d</td>\n",
       "      <td>f19421c1d4aa40978ebb69ca19b0e20d</td>\n",
       "      <td>bogo</td>\n",
       "      <td>5.0</td>\n",
       "      <td>5.0</td>\n",
       "      <td>5.0</td>\n",
       "      <td>['web', 'email', 'mobile', 'social']</td>\n",
       "      <td>D</td>\n",
       "      <td>1</td>\n",
       "    </tr>\n",
       "    <tr>\n",
       "      <th>50139</th>\n",
       "      <td>ffb7fc8ad0594248a49e210ff0217c2d</td>\n",
       "      <td>f19421c1d4aa40978ebb69ca19b0e20d</td>\n",
       "      <td>bogo</td>\n",
       "      <td>5.0</td>\n",
       "      <td>5.0</td>\n",
       "      <td>5.0</td>\n",
       "      <td>['web', 'email', 'mobile', 'social']</td>\n",
       "      <td>D</td>\n",
       "      <td>1</td>\n",
       "    </tr>\n",
       "    <tr>\n",
       "      <th>50140</th>\n",
       "      <td>fff29fb549084123bd046dbc5ceb4faa</td>\n",
       "      <td>f19421c1d4aa40978ebb69ca19b0e20d</td>\n",
       "      <td>bogo</td>\n",
       "      <td>5.0</td>\n",
       "      <td>5.0</td>\n",
       "      <td>5.0</td>\n",
       "      <td>['web', 'email', 'mobile', 'social']</td>\n",
       "      <td>D</td>\n",
       "      <td>1</td>\n",
       "    </tr>\n",
       "    <tr>\n",
       "      <th>50141</th>\n",
       "      <td>fffad4f4828548d1b5583907f2e9906b</td>\n",
       "      <td>f19421c1d4aa40978ebb69ca19b0e20d</td>\n",
       "      <td>bogo</td>\n",
       "      <td>5.0</td>\n",
       "      <td>5.0</td>\n",
       "      <td>5.0</td>\n",
       "      <td>['web', 'email', 'mobile', 'social']</td>\n",
       "      <td>D</td>\n",
       "      <td>1</td>\n",
       "    </tr>\n",
       "    <tr>\n",
       "      <th>50142</th>\n",
       "      <td>fffad4f4828548d1b5583907f2e9906b</td>\n",
       "      <td>f19421c1d4aa40978ebb69ca19b0e20d</td>\n",
       "      <td>bogo</td>\n",
       "      <td>5.0</td>\n",
       "      <td>5.0</td>\n",
       "      <td>5.0</td>\n",
       "      <td>['web', 'email', 'mobile', 'social']</td>\n",
       "      <td>D</td>\n",
       "      <td>1</td>\n",
       "    </tr>\n",
       "  </tbody>\n",
       "</table>\n",
       "<p>27406 rows × 9 columns</p>\n",
       "</div>"
      ],
      "text/plain": [
       "                            customer_id                           OfferId  \\\n",
       "0      00116118485d4dfda04fdbaba9a87b5c  f19421c1d4aa40978ebb69ca19b0e20d   \n",
       "1      00116118485d4dfda04fdbaba9a87b5c  f19421c1d4aa40978ebb69ca19b0e20d   \n",
       "2      0020c2b971eb4e9188eac86d93036a77  ae264e3637204a6fb9bb56bc8210ddfd   \n",
       "7      005500a7188546ff8a767329a2f7c76a  ae264e3637204a6fb9bb56bc8210ddfd   \n",
       "8      005500a7188546ff8a767329a2f7c76a  ae264e3637204a6fb9bb56bc8210ddfd   \n",
       "...                                 ...                               ...   \n",
       "50138  ffb7fc8ad0594248a49e210ff0217c2d  f19421c1d4aa40978ebb69ca19b0e20d   \n",
       "50139  ffb7fc8ad0594248a49e210ff0217c2d  f19421c1d4aa40978ebb69ca19b0e20d   \n",
       "50140  fff29fb549084123bd046dbc5ceb4faa  f19421c1d4aa40978ebb69ca19b0e20d   \n",
       "50141  fffad4f4828548d1b5583907f2e9906b  f19421c1d4aa40978ebb69ca19b0e20d   \n",
       "50142  fffad4f4828548d1b5583907f2e9906b  f19421c1d4aa40978ebb69ca19b0e20d   \n",
       "\n",
       "      offer_type  difficulty  reward  duration  \\\n",
       "0           bogo         5.0     5.0       5.0   \n",
       "1           bogo         5.0     5.0       5.0   \n",
       "2           bogo        10.0    10.0       7.0   \n",
       "7           bogo        10.0    10.0       7.0   \n",
       "8           bogo        10.0    10.0       7.0   \n",
       "...          ...         ...     ...       ...   \n",
       "50138       bogo         5.0     5.0       5.0   \n",
       "50139       bogo         5.0     5.0       5.0   \n",
       "50140       bogo         5.0     5.0       5.0   \n",
       "50141       bogo         5.0     5.0       5.0   \n",
       "50142       bogo         5.0     5.0       5.0   \n",
       "\n",
       "                                   channels groups  conver  \n",
       "0      ['web', 'email', 'mobile', 'social']      D       0  \n",
       "1      ['web', 'email', 'mobile', 'social']      D       0  \n",
       "2             ['email', 'mobile', 'social']      A       0  \n",
       "7             ['email', 'mobile', 'social']      A       0  \n",
       "8             ['email', 'mobile', 'social']      A       0  \n",
       "...                                     ...    ...     ...  \n",
       "50138  ['web', 'email', 'mobile', 'social']      D       1  \n",
       "50139  ['web', 'email', 'mobile', 'social']      D       1  \n",
       "50140  ['web', 'email', 'mobile', 'social']      D       1  \n",
       "50141  ['web', 'email', 'mobile', 'social']      D       1  \n",
       "50142  ['web', 'email', 'mobile', 'social']      D       1  \n",
       "\n",
       "[27406 rows x 9 columns]"
      ]
     },
     "execution_count": 148,
     "metadata": {},
     "output_type": "execute_result"
    }
   ],
   "source": [
    "bogo_df = df[df['offer_type'] == 'bogo']\n",
    "bogo_df"
   ]
  },
  {
   "cell_type": "code",
   "execution_count": 149,
   "id": "47214361",
   "metadata": {},
   "outputs": [],
   "source": [
    "#bogo_df[\"groups\"] = bogo_df[\"groups\"].replace({\"E\": \"A\", \"F\": \"B\", \"G\": \"C\", \"H\": \"D\"})"
   ]
  },
  {
   "cell_type": "markdown",
   "id": "31583292",
   "metadata": {},
   "source": [
    "- dilakukan transform perubaha group agar lebih mudah menggunakan code code sebelumnya dipakai dalam mencari BOGO"
   ]
  },
  {
   "cell_type": "code",
   "execution_count": 150,
   "id": "6b924e47",
   "metadata": {},
   "outputs": [
    {
     "data": {
      "text/html": [
       "<div>\n",
       "<style scoped>\n",
       "    .dataframe tbody tr th:only-of-type {\n",
       "        vertical-align: middle;\n",
       "    }\n",
       "\n",
       "    .dataframe tbody tr th {\n",
       "        vertical-align: top;\n",
       "    }\n",
       "\n",
       "    .dataframe thead th {\n",
       "        text-align: right;\n",
       "    }\n",
       "</style>\n",
       "<table border=\"1\" class=\"dataframe\">\n",
       "  <thead>\n",
       "    <tr style=\"text-align: right;\">\n",
       "      <th></th>\n",
       "      <th>OfferId</th>\n",
       "      <th>offer_type</th>\n",
       "      <th>difficulty</th>\n",
       "      <th>reward</th>\n",
       "      <th>duration</th>\n",
       "      <th>channels</th>\n",
       "      <th>groups</th>\n",
       "    </tr>\n",
       "  </thead>\n",
       "  <tbody>\n",
       "    <tr>\n",
       "      <th>2</th>\n",
       "      <td>ae264e3637204a6fb9bb56bc8210ddfd</td>\n",
       "      <td>bogo</td>\n",
       "      <td>10.0</td>\n",
       "      <td>10.0</td>\n",
       "      <td>7.0</td>\n",
       "      <td>['email', 'mobile', 'social']</td>\n",
       "      <td>A</td>\n",
       "    </tr>\n",
       "    <tr>\n",
       "      <th>17</th>\n",
       "      <td>4d5c57ea9a6940dd891ad53e9dbe8da0</td>\n",
       "      <td>bogo</td>\n",
       "      <td>10.0</td>\n",
       "      <td>10.0</td>\n",
       "      <td>5.0</td>\n",
       "      <td>['web', 'email', 'mobile', 'social']</td>\n",
       "      <td>B</td>\n",
       "    </tr>\n",
       "    <tr>\n",
       "      <th>12</th>\n",
       "      <td>9b98b8c7a33c4b65b9aebfe6a799e6d9</td>\n",
       "      <td>bogo</td>\n",
       "      <td>5.0</td>\n",
       "      <td>5.0</td>\n",
       "      <td>7.0</td>\n",
       "      <td>['web', 'email', 'mobile']</td>\n",
       "      <td>C</td>\n",
       "    </tr>\n",
       "    <tr>\n",
       "      <th>0</th>\n",
       "      <td>f19421c1d4aa40978ebb69ca19b0e20d</td>\n",
       "      <td>bogo</td>\n",
       "      <td>5.0</td>\n",
       "      <td>5.0</td>\n",
       "      <td>5.0</td>\n",
       "      <td>['web', 'email', 'mobile', 'social']</td>\n",
       "      <td>D</td>\n",
       "    </tr>\n",
       "  </tbody>\n",
       "</table>\n",
       "</div>"
      ],
      "text/plain": [
       "                             OfferId offer_type  difficulty  reward  duration  \\\n",
       "2   ae264e3637204a6fb9bb56bc8210ddfd       bogo        10.0    10.0       7.0   \n",
       "17  4d5c57ea9a6940dd891ad53e9dbe8da0       bogo        10.0    10.0       5.0   \n",
       "12  9b98b8c7a33c4b65b9aebfe6a799e6d9       bogo         5.0     5.0       7.0   \n",
       "0   f19421c1d4aa40978ebb69ca19b0e20d       bogo         5.0     5.0       5.0   \n",
       "\n",
       "                                channels groups  \n",
       "2          ['email', 'mobile', 'social']      A  \n",
       "17  ['web', 'email', 'mobile', 'social']      B  \n",
       "12            ['web', 'email', 'mobile']      C  \n",
       "0   ['web', 'email', 'mobile', 'social']      D  "
      ]
     },
     "execution_count": 150,
     "metadata": {},
     "output_type": "execute_result"
    }
   ],
   "source": [
    "bogo_df[[ 'OfferId','offer_type', 'difficulty', 'reward', 'duration', 'channels','groups', ]].drop_duplicates().sort_values(by='groups')\n"
   ]
  },
  {
   "cell_type": "markdown",
   "id": "c74ab739",
   "metadata": {},
   "source": [
    "## E.Exploratory Data Analysis"
   ]
  },
  {
   "cell_type": "markdown",
   "id": "441e374c",
   "metadata": {},
   "source": [
    "### Informasi Dasar"
   ]
  },
  {
   "cell_type": "code",
   "execution_count": 151,
   "id": "e3c9603a",
   "metadata": {},
   "outputs": [
    {
     "data": {
      "text/html": [
       "<div>\n",
       "<style scoped>\n",
       "    .dataframe tbody tr th:only-of-type {\n",
       "        vertical-align: middle;\n",
       "    }\n",
       "\n",
       "    .dataframe tbody tr th {\n",
       "        vertical-align: top;\n",
       "    }\n",
       "\n",
       "    .dataframe thead th {\n",
       "        text-align: right;\n",
       "    }\n",
       "</style>\n",
       "<table border=\"1\" class=\"dataframe\">\n",
       "  <thead>\n",
       "    <tr style=\"text-align: right;\">\n",
       "      <th></th>\n",
       "      <th>customer_id</th>\n",
       "      <th>OfferId</th>\n",
       "      <th>offer_type</th>\n",
       "      <th>difficulty</th>\n",
       "      <th>reward</th>\n",
       "      <th>duration</th>\n",
       "      <th>channels</th>\n",
       "      <th>groups</th>\n",
       "      <th>conver</th>\n",
       "    </tr>\n",
       "  </thead>\n",
       "  <tbody>\n",
       "    <tr>\n",
       "      <th>0</th>\n",
       "      <td>00116118485d4dfda04fdbaba9a87b5c</td>\n",
       "      <td>f19421c1d4aa40978ebb69ca19b0e20d</td>\n",
       "      <td>bogo</td>\n",
       "      <td>5.0</td>\n",
       "      <td>5.0</td>\n",
       "      <td>5.0</td>\n",
       "      <td>['web', 'email', 'mobile', 'social']</td>\n",
       "      <td>D</td>\n",
       "      <td>0</td>\n",
       "    </tr>\n",
       "    <tr>\n",
       "      <th>1</th>\n",
       "      <td>00116118485d4dfda04fdbaba9a87b5c</td>\n",
       "      <td>f19421c1d4aa40978ebb69ca19b0e20d</td>\n",
       "      <td>bogo</td>\n",
       "      <td>5.0</td>\n",
       "      <td>5.0</td>\n",
       "      <td>5.0</td>\n",
       "      <td>['web', 'email', 'mobile', 'social']</td>\n",
       "      <td>D</td>\n",
       "      <td>0</td>\n",
       "    </tr>\n",
       "    <tr>\n",
       "      <th>2</th>\n",
       "      <td>0020c2b971eb4e9188eac86d93036a77</td>\n",
       "      <td>ae264e3637204a6fb9bb56bc8210ddfd</td>\n",
       "      <td>bogo</td>\n",
       "      <td>10.0</td>\n",
       "      <td>10.0</td>\n",
       "      <td>7.0</td>\n",
       "      <td>['email', 'mobile', 'social']</td>\n",
       "      <td>A</td>\n",
       "      <td>0</td>\n",
       "    </tr>\n",
       "    <tr>\n",
       "      <th>7</th>\n",
       "      <td>005500a7188546ff8a767329a2f7c76a</td>\n",
       "      <td>ae264e3637204a6fb9bb56bc8210ddfd</td>\n",
       "      <td>bogo</td>\n",
       "      <td>10.0</td>\n",
       "      <td>10.0</td>\n",
       "      <td>7.0</td>\n",
       "      <td>['email', 'mobile', 'social']</td>\n",
       "      <td>A</td>\n",
       "      <td>0</td>\n",
       "    </tr>\n",
       "    <tr>\n",
       "      <th>8</th>\n",
       "      <td>005500a7188546ff8a767329a2f7c76a</td>\n",
       "      <td>ae264e3637204a6fb9bb56bc8210ddfd</td>\n",
       "      <td>bogo</td>\n",
       "      <td>10.0</td>\n",
       "      <td>10.0</td>\n",
       "      <td>7.0</td>\n",
       "      <td>['email', 'mobile', 'social']</td>\n",
       "      <td>A</td>\n",
       "      <td>0</td>\n",
       "    </tr>\n",
       "  </tbody>\n",
       "</table>\n",
       "</div>"
      ],
      "text/plain": [
       "                        customer_id                           OfferId  \\\n",
       "0  00116118485d4dfda04fdbaba9a87b5c  f19421c1d4aa40978ebb69ca19b0e20d   \n",
       "1  00116118485d4dfda04fdbaba9a87b5c  f19421c1d4aa40978ebb69ca19b0e20d   \n",
       "2  0020c2b971eb4e9188eac86d93036a77  ae264e3637204a6fb9bb56bc8210ddfd   \n",
       "7  005500a7188546ff8a767329a2f7c76a  ae264e3637204a6fb9bb56bc8210ddfd   \n",
       "8  005500a7188546ff8a767329a2f7c76a  ae264e3637204a6fb9bb56bc8210ddfd   \n",
       "\n",
       "  offer_type  difficulty  reward  duration  \\\n",
       "0       bogo         5.0     5.0       5.0   \n",
       "1       bogo         5.0     5.0       5.0   \n",
       "2       bogo        10.0    10.0       7.0   \n",
       "7       bogo        10.0    10.0       7.0   \n",
       "8       bogo        10.0    10.0       7.0   \n",
       "\n",
       "                               channels groups  conver  \n",
       "0  ['web', 'email', 'mobile', 'social']      D       0  \n",
       "1  ['web', 'email', 'mobile', 'social']      D       0  \n",
       "2         ['email', 'mobile', 'social']      A       0  \n",
       "7         ['email', 'mobile', 'social']      A       0  \n",
       "8         ['email', 'mobile', 'social']      A       0  "
      ]
     },
     "execution_count": 151,
     "metadata": {},
     "output_type": "execute_result"
    }
   ],
   "source": [
    "bogo_df.head()"
   ]
  },
  {
   "cell_type": "code",
   "execution_count": 152,
   "id": "dd3c4c80",
   "metadata": {},
   "outputs": [
    {
     "name": "stdout",
     "output_type": "stream",
     "text": [
      "<class 'pandas.core.frame.DataFrame'>\n",
      "Index: 27406 entries, 0 to 50142\n",
      "Data columns (total 9 columns):\n",
      " #   Column       Non-Null Count  Dtype  \n",
      "---  ------       --------------  -----  \n",
      " 0   customer_id  27406 non-null  object \n",
      " 1   OfferId      27406 non-null  object \n",
      " 2   offer_type   27406 non-null  object \n",
      " 3   difficulty   27406 non-null  float64\n",
      " 4   reward       27406 non-null  float64\n",
      " 5   duration     27406 non-null  float64\n",
      " 6   channels     27406 non-null  object \n",
      " 7   groups       27406 non-null  object \n",
      " 8   conver       27406 non-null  int64  \n",
      "dtypes: float64(3), int64(1), object(5)\n",
      "memory usage: 2.1+ MB\n"
     ]
    }
   ],
   "source": [
    "bogo_df.info()"
   ]
  },
  {
   "cell_type": "code",
   "execution_count": 153,
   "id": "e66d6ff4",
   "metadata": {},
   "outputs": [
    {
     "data": {
      "text/html": [
       "<div>\n",
       "<style scoped>\n",
       "    .dataframe tbody tr th:only-of-type {\n",
       "        vertical-align: middle;\n",
       "    }\n",
       "\n",
       "    .dataframe tbody tr th {\n",
       "        vertical-align: top;\n",
       "    }\n",
       "\n",
       "    .dataframe thead th {\n",
       "        text-align: right;\n",
       "    }\n",
       "</style>\n",
       "<table border=\"1\" class=\"dataframe\">\n",
       "  <thead>\n",
       "    <tr style=\"text-align: right;\">\n",
       "      <th></th>\n",
       "      <th>OfferId</th>\n",
       "      <th>offer_type</th>\n",
       "      <th>total_rows</th>\n",
       "    </tr>\n",
       "  </thead>\n",
       "  <tbody>\n",
       "    <tr>\n",
       "      <th>0</th>\n",
       "      <td>4d5c57ea9a6940dd891ad53e9dbe8da0</td>\n",
       "      <td>bogo</td>\n",
       "      <td>6927</td>\n",
       "    </tr>\n",
       "    <tr>\n",
       "      <th>1</th>\n",
       "      <td>9b98b8c7a33c4b65b9aebfe6a799e6d9</td>\n",
       "      <td>bogo</td>\n",
       "      <td>6825</td>\n",
       "    </tr>\n",
       "    <tr>\n",
       "      <th>2</th>\n",
       "      <td>ae264e3637204a6fb9bb56bc8210ddfd</td>\n",
       "      <td>bogo</td>\n",
       "      <td>6976</td>\n",
       "    </tr>\n",
       "    <tr>\n",
       "      <th>3</th>\n",
       "      <td>f19421c1d4aa40978ebb69ca19b0e20d</td>\n",
       "      <td>bogo</td>\n",
       "      <td>6678</td>\n",
       "    </tr>\n",
       "  </tbody>\n",
       "</table>\n",
       "</div>"
      ],
      "text/plain": [
       "                            OfferId offer_type  total_rows\n",
       "0  4d5c57ea9a6940dd891ad53e9dbe8da0       bogo        6927\n",
       "1  9b98b8c7a33c4b65b9aebfe6a799e6d9       bogo        6825\n",
       "2  ae264e3637204a6fb9bb56bc8210ddfd       bogo        6976\n",
       "3  f19421c1d4aa40978ebb69ca19b0e20d       bogo        6678"
      ]
     },
     "execution_count": 153,
     "metadata": {},
     "output_type": "execute_result"
    }
   ],
   "source": [
    "bogo_df.groupby(['OfferId', 'offer_type']).size().reset_index(name='total_rows').sort_values(by=['offer_type'])"
   ]
  },
  {
   "cell_type": "markdown",
   "id": "299aa15d",
   "metadata": {},
   "source": [
    "- Seluruh data sudah bersih dan tidak ditemukannya null atau data type yang salah pada tiap kolom \n",
    "- tidak diperlukannya pengecekan data distribusi dikarenakan dalam mencari multivariate testing ini yang digunakan adalah convert,namun jika yang digunakan amount atau revenue maka diperlukan yang namanya transformasi agar distribusi menjadi normal agar data menjadi lebih valid\n",
    "- tidak dilakukan drop duplicate dikarenakan dalam pemberian offer pada waktu 1 bulan dapat diberikan 1 atau lebih offer "
   ]
  },
  {
   "cell_type": "markdown",
   "id": "ed869ece",
   "metadata": {},
   "source": [
    "## F. Mengimplementasikan Eksperimen "
   ]
  },
  {
   "cell_type": "code",
   "execution_count": 154,
   "id": "0a42a50a",
   "metadata": {},
   "outputs": [],
   "source": [
    "data_A = bogo_df[bogo_df['groups'] == 'A']\n",
    "data_B = bogo_df[bogo_df['groups'] == 'B']\n",
    "data_C = bogo_df[bogo_df['groups'] == 'C']\n",
    "data_D = bogo_df[bogo_df['groups'] == 'D']"
   ]
  },
  {
   "cell_type": "code",
   "execution_count": 155,
   "id": "a4c8b0bf",
   "metadata": {},
   "outputs": [],
   "source": [
    "data_A = data_A.sample(n=6280, random_state=10) \n",
    "data_B = data_B.sample(n=6280, random_state=10)\n",
    "data_C = data_C.sample(n=6280, random_state=10)\n",
    "data_D = data_D.sample(n=6280, random_state=10)"
   ]
  },
  {
   "cell_type": "code",
   "execution_count": 156,
   "id": "6610369f",
   "metadata": {},
   "outputs": [
    {
     "data": {
      "text/html": [
       "<div>\n",
       "<style scoped>\n",
       "    .dataframe tbody tr th:only-of-type {\n",
       "        vertical-align: middle;\n",
       "    }\n",
       "\n",
       "    .dataframe tbody tr th {\n",
       "        vertical-align: top;\n",
       "    }\n",
       "\n",
       "    .dataframe thead th {\n",
       "        text-align: right;\n",
       "    }\n",
       "</style>\n",
       "<table border=\"1\" class=\"dataframe\">\n",
       "  <thead>\n",
       "    <tr style=\"text-align: right;\">\n",
       "      <th></th>\n",
       "      <th>OfferId</th>\n",
       "      <th>groups</th>\n",
       "    </tr>\n",
       "  </thead>\n",
       "  <tbody>\n",
       "    <tr>\n",
       "      <th>2</th>\n",
       "      <td>ae264e3637204a6fb9bb56bc8210ddfd</td>\n",
       "      <td>A</td>\n",
       "    </tr>\n",
       "    <tr>\n",
       "      <th>17</th>\n",
       "      <td>4d5c57ea9a6940dd891ad53e9dbe8da0</td>\n",
       "      <td>B</td>\n",
       "    </tr>\n",
       "    <tr>\n",
       "      <th>12</th>\n",
       "      <td>9b98b8c7a33c4b65b9aebfe6a799e6d9</td>\n",
       "      <td>C</td>\n",
       "    </tr>\n",
       "    <tr>\n",
       "      <th>0</th>\n",
       "      <td>f19421c1d4aa40978ebb69ca19b0e20d</td>\n",
       "      <td>D</td>\n",
       "    </tr>\n",
       "  </tbody>\n",
       "</table>\n",
       "</div>"
      ],
      "text/plain": [
       "                             OfferId groups\n",
       "2   ae264e3637204a6fb9bb56bc8210ddfd      A\n",
       "17  4d5c57ea9a6940dd891ad53e9dbe8da0      B\n",
       "12  9b98b8c7a33c4b65b9aebfe6a799e6d9      C\n",
       "0   f19421c1d4aa40978ebb69ca19b0e20d      D"
      ]
     },
     "execution_count": 156,
     "metadata": {},
     "output_type": "execute_result"
    }
   ],
   "source": [
    "bogo_df = bogo_df[['OfferId', 'groups']].drop_duplicates().sort_values(by='groups')\n",
    "bogo_df"
   ]
  },
  {
   "cell_type": "markdown",
   "id": "122a9752",
   "metadata": {},
   "source": [
    "- Mencari **#user** dalam group"
   ]
  },
  {
   "cell_type": "code",
   "execution_count": 157,
   "id": "aa69bd80",
   "metadata": {},
   "outputs": [
    {
     "name": "stdout",
     "output_type": "stream",
     "text": [
      "6280\n"
     ]
    }
   ],
   "source": [
    "# Count users in group A, B, C, D\n",
    "n_A = data_A.shape[0]\n",
    "n_B = data_B.shape[0]\n",
    "n_C = data_C.shape[0]\n",
    "n_D = data_D.shape[0]\n",
    "print(n_D)"
   ]
  },
  {
   "cell_type": "code",
   "execution_count": 158,
   "id": "0e0b91c5",
   "metadata": {},
   "outputs": [
    {
     "name": "stdout",
     "output_type": "stream",
     "text": [
      "2916\n",
      "2638\n",
      "3551\n",
      "3565\n"
     ]
    }
   ],
   "source": [
    "# group A\n",
    "n_convertA = data_A['conver'].sum()\n",
    "print(n_convertA)\n",
    "# group B\n",
    "n_convertB = data_B['conver'].sum()\n",
    "print(n_convertB)\n",
    "# group C\n",
    "n_convertC = data_C['conver'].sum()\n",
    "print(n_convertC)\n",
    "# group D\n",
    "n_convertD = data_D['conver'].sum()\n",
    "print(n_convertD)"
   ]
  },
  {
   "cell_type": "code",
   "execution_count": 159,
   "id": "1092678a",
   "metadata": {},
   "outputs": [
    {
     "name": "stdout",
     "output_type": "stream",
     "text": [
      "convertion rate A : 0.46\n",
      "convertion rate B : 0.42\n",
      "convertion rate C : 0.57\n",
      "convertion rate D : 0.57\n"
     ]
    }
   ],
   "source": [
    "cr_A = n_convertA/n_A\n",
    "cr_B = n_convertB/n_B\n",
    "cr_C = n_convertC/n_C\n",
    "cr_D = n_convertD/n_D\n",
    "\n",
    "print(f\"convertion rate A : {cr_A:.2f}\")\n",
    "print(f\"convertion rate B : {cr_B:.2f}\")\n",
    "print(f\"convertion rate C : {cr_C:.2f}\")\n",
    "print(f\"convertion rate D : {cr_D:.2f}\")"
   ]
  },
  {
   "cell_type": "markdown",
   "id": "ed257a46",
   "metadata": {},
   "source": [
    "Setelah kita mengetahui conversion rate dari tiap group maka kita buat table agar lebih mudah dalam membacanya!\n",
    "\n",
    "<center>\n",
    "\n",
    "|Group|#User|#Convert|Convertion Rate\n",
    "|:--|:--:|:--:|:--:|\n",
    "|A|6280|2916|0.46|\n",
    "|B|6280|2638|0.42|\n",
    "|C|6280|3551|0.57|\n",
    "|D|6280|3565|0.57|\n",
    "\n",
    "\n",
    "</center>"
   ]
  },
  {
   "cell_type": "code",
   "execution_count": 160,
   "id": "e06ab259",
   "metadata": {},
   "outputs": [
    {
     "data": {
      "image/png": "[encoded data removed]",
      "text/plain": [
       "<Figure size 1000x700 with 1 Axes>"
      ]
     },
     "metadata": {},
     "output_type": "display_data"
    }
   ],
   "source": [
    "fig, ax = plt.subplots(nrows=1, ncols=1, figsize=(10, 7))\n",
    "\n",
    "ax.bar(\"A\", cr_A, label=\"A\")\n",
    "ax.bar(\"B\", cr_B, label=\"B\")\n",
    "ax.bar(\"C\", cr_C, label=\"C\")\n",
    "ax.bar(\"D\", cr_D, label=\"D\")\n",
    "\n",
    "ax.set_ylabel(\"Convertion Rate\", fontsize=16)\n",
    "ax.set_xlabel(\"Group\", fontsize=16)\n",
    "\n",
    "plt.legend(fontsize=16)\n",
    "plt.show();"
   ]
  },
  {
   "cell_type": "code",
   "execution_count": 161,
   "id": "4fd389dd",
   "metadata": {},
   "outputs": [
    {
     "data": {
      "text/html": [
       "<div>\n",
       "<style scoped>\n",
       "    .dataframe tbody tr th:only-of-type {\n",
       "        vertical-align: middle;\n",
       "    }\n",
       "\n",
       "    .dataframe tbody tr th {\n",
       "        vertical-align: top;\n",
       "    }\n",
       "\n",
       "    .dataframe thead th {\n",
       "        text-align: right;\n",
       "    }\n",
       "</style>\n",
       "<table border=\"1\" class=\"dataframe\">\n",
       "  <thead>\n",
       "    <tr style=\"text-align: right;\">\n",
       "      <th></th>\n",
       "      <th>customer_id</th>\n",
       "      <th>OfferId</th>\n",
       "      <th>offer_type</th>\n",
       "      <th>difficulty</th>\n",
       "      <th>reward</th>\n",
       "      <th>duration</th>\n",
       "      <th>channels</th>\n",
       "      <th>groups</th>\n",
       "      <th>conver</th>\n",
       "    </tr>\n",
       "  </thead>\n",
       "  <tbody>\n",
       "    <tr>\n",
       "      <th>7841</th>\n",
       "      <td>50d964e03e2d4b52ba7d8265e3d9f18a</td>\n",
       "      <td>ae264e3637204a6fb9bb56bc8210ddfd</td>\n",
       "      <td>bogo</td>\n",
       "      <td>10.0</td>\n",
       "      <td>10.0</td>\n",
       "      <td>7.0</td>\n",
       "      <td>['email', 'mobile', 'social']</td>\n",
       "      <td>A</td>\n",
       "      <td>0</td>\n",
       "    </tr>\n",
       "    <tr>\n",
       "      <th>5801</th>\n",
       "      <td>3c765494acae43d48f69cc29794dfa1a</td>\n",
       "      <td>ae264e3637204a6fb9bb56bc8210ddfd</td>\n",
       "      <td>bogo</td>\n",
       "      <td>10.0</td>\n",
       "      <td>10.0</td>\n",
       "      <td>7.0</td>\n",
       "      <td>['email', 'mobile', 'social']</td>\n",
       "      <td>A</td>\n",
       "      <td>0</td>\n",
       "    </tr>\n",
       "    <tr>\n",
       "      <th>8451</th>\n",
       "      <td>56ce169a5a5b47e1b2028c663d3a11eb</td>\n",
       "      <td>ae264e3637204a6fb9bb56bc8210ddfd</td>\n",
       "      <td>bogo</td>\n",
       "      <td>10.0</td>\n",
       "      <td>10.0</td>\n",
       "      <td>7.0</td>\n",
       "      <td>['email', 'mobile', 'social']</td>\n",
       "      <td>A</td>\n",
       "      <td>0</td>\n",
       "    </tr>\n",
       "    <tr>\n",
       "      <th>19130</th>\n",
       "      <td>c13cd223575f47ff8fa7f53bd99b5cd8</td>\n",
       "      <td>ae264e3637204a6fb9bb56bc8210ddfd</td>\n",
       "      <td>bogo</td>\n",
       "      <td>10.0</td>\n",
       "      <td>10.0</td>\n",
       "      <td>7.0</td>\n",
       "      <td>['email', 'mobile', 'social']</td>\n",
       "      <td>A</td>\n",
       "      <td>0</td>\n",
       "    </tr>\n",
       "    <tr>\n",
       "      <th>43281</th>\n",
       "      <td>0e1bcbaa5ca64055a1ebc360886b1c17</td>\n",
       "      <td>ae264e3637204a6fb9bb56bc8210ddfd</td>\n",
       "      <td>bogo</td>\n",
       "      <td>10.0</td>\n",
       "      <td>10.0</td>\n",
       "      <td>7.0</td>\n",
       "      <td>['email', 'mobile', 'social']</td>\n",
       "      <td>A</td>\n",
       "      <td>1</td>\n",
       "    </tr>\n",
       "    <tr>\n",
       "      <th>...</th>\n",
       "      <td>...</td>\n",
       "      <td>...</td>\n",
       "      <td>...</td>\n",
       "      <td>...</td>\n",
       "      <td>...</td>\n",
       "      <td>...</td>\n",
       "      <td>...</td>\n",
       "      <td>...</td>\n",
       "      <td>...</td>\n",
       "    </tr>\n",
       "    <tr>\n",
       "      <th>17915</th>\n",
       "      <td>b4d6477e15ca4b1086638089882177b7</td>\n",
       "      <td>f19421c1d4aa40978ebb69ca19b0e20d</td>\n",
       "      <td>bogo</td>\n",
       "      <td>5.0</td>\n",
       "      <td>5.0</td>\n",
       "      <td>5.0</td>\n",
       "      <td>['web', 'email', 'mobile', 'social']</td>\n",
       "      <td>D</td>\n",
       "      <td>0</td>\n",
       "    </tr>\n",
       "    <tr>\n",
       "      <th>7183</th>\n",
       "      <td>4a6b6b268e7b4c6ebf96bc92cd67cf0f</td>\n",
       "      <td>f19421c1d4aa40978ebb69ca19b0e20d</td>\n",
       "      <td>bogo</td>\n",
       "      <td>5.0</td>\n",
       "      <td>5.0</td>\n",
       "      <td>5.0</td>\n",
       "      <td>['web', 'email', 'mobile', 'social']</td>\n",
       "      <td>D</td>\n",
       "      <td>0</td>\n",
       "    </tr>\n",
       "    <tr>\n",
       "      <th>8605</th>\n",
       "      <td>58a2e3a01a5743d4900d6ad067f515f7</td>\n",
       "      <td>f19421c1d4aa40978ebb69ca19b0e20d</td>\n",
       "      <td>bogo</td>\n",
       "      <td>5.0</td>\n",
       "      <td>5.0</td>\n",
       "      <td>5.0</td>\n",
       "      <td>['web', 'email', 'mobile', 'social']</td>\n",
       "      <td>D</td>\n",
       "      <td>0</td>\n",
       "    </tr>\n",
       "    <tr>\n",
       "      <th>47576</th>\n",
       "      <td>54be86b2561e4e379e6446663e4d8935</td>\n",
       "      <td>f19421c1d4aa40978ebb69ca19b0e20d</td>\n",
       "      <td>bogo</td>\n",
       "      <td>5.0</td>\n",
       "      <td>5.0</td>\n",
       "      <td>5.0</td>\n",
       "      <td>['web', 'email', 'mobile', 'social']</td>\n",
       "      <td>D</td>\n",
       "      <td>1</td>\n",
       "    </tr>\n",
       "    <tr>\n",
       "      <th>48147</th>\n",
       "      <td>7c4d81fe67c04d2a85a315b4c6f6b140</td>\n",
       "      <td>f19421c1d4aa40978ebb69ca19b0e20d</td>\n",
       "      <td>bogo</td>\n",
       "      <td>5.0</td>\n",
       "      <td>5.0</td>\n",
       "      <td>5.0</td>\n",
       "      <td>['web', 'email', 'mobile', 'social']</td>\n",
       "      <td>D</td>\n",
       "      <td>1</td>\n",
       "    </tr>\n",
       "  </tbody>\n",
       "</table>\n",
       "<p>25120 rows × 9 columns</p>\n",
       "</div>"
      ],
      "text/plain": [
       "                            customer_id                           OfferId  \\\n",
       "7841   50d964e03e2d4b52ba7d8265e3d9f18a  ae264e3637204a6fb9bb56bc8210ddfd   \n",
       "5801   3c765494acae43d48f69cc29794dfa1a  ae264e3637204a6fb9bb56bc8210ddfd   \n",
       "8451   56ce169a5a5b47e1b2028c663d3a11eb  ae264e3637204a6fb9bb56bc8210ddfd   \n",
       "19130  c13cd223575f47ff8fa7f53bd99b5cd8  ae264e3637204a6fb9bb56bc8210ddfd   \n",
       "43281  0e1bcbaa5ca64055a1ebc360886b1c17  ae264e3637204a6fb9bb56bc8210ddfd   \n",
       "...                                 ...                               ...   \n",
       "17915  b4d6477e15ca4b1086638089882177b7  f19421c1d4aa40978ebb69ca19b0e20d   \n",
       "7183   4a6b6b268e7b4c6ebf96bc92cd67cf0f  f19421c1d4aa40978ebb69ca19b0e20d   \n",
       "8605   58a2e3a01a5743d4900d6ad067f515f7  f19421c1d4aa40978ebb69ca19b0e20d   \n",
       "47576  54be86b2561e4e379e6446663e4d8935  f19421c1d4aa40978ebb69ca19b0e20d   \n",
       "48147  7c4d81fe67c04d2a85a315b4c6f6b140  f19421c1d4aa40978ebb69ca19b0e20d   \n",
       "\n",
       "      offer_type  difficulty  reward  duration  \\\n",
       "7841        bogo        10.0    10.0       7.0   \n",
       "5801        bogo        10.0    10.0       7.0   \n",
       "8451        bogo        10.0    10.0       7.0   \n",
       "19130       bogo        10.0    10.0       7.0   \n",
       "43281       bogo        10.0    10.0       7.0   \n",
       "...          ...         ...     ...       ...   \n",
       "17915       bogo         5.0     5.0       5.0   \n",
       "7183        bogo         5.0     5.0       5.0   \n",
       "8605        bogo         5.0     5.0       5.0   \n",
       "47576       bogo         5.0     5.0       5.0   \n",
       "48147       bogo         5.0     5.0       5.0   \n",
       "\n",
       "                                   channels groups  conver  \n",
       "7841          ['email', 'mobile', 'social']      A       0  \n",
       "5801          ['email', 'mobile', 'social']      A       0  \n",
       "8451          ['email', 'mobile', 'social']      A       0  \n",
       "19130         ['email', 'mobile', 'social']      A       0  \n",
       "43281         ['email', 'mobile', 'social']      A       1  \n",
       "...                                     ...    ...     ...  \n",
       "17915  ['web', 'email', 'mobile', 'social']      D       0  \n",
       "7183   ['web', 'email', 'mobile', 'social']      D       0  \n",
       "8605   ['web', 'email', 'mobile', 'social']      D       0  \n",
       "47576  ['web', 'email', 'mobile', 'social']      D       1  \n",
       "48147  ['web', 'email', 'mobile', 'social']      D       1  \n",
       "\n",
       "[25120 rows x 9 columns]"
      ]
     },
     "execution_count": 161,
     "metadata": {},
     "output_type": "execute_result"
    }
   ],
   "source": [
    "# Gabung hasil dari experiment AB Testing untuk grup A, B, C, dan D\n",
    "\n",
    "df_total = pd.concat([data_A,data_B,data_C,data_D])\n",
    "df_total"
   ]
  },
  {
   "cell_type": "code",
   "execution_count": 162,
   "id": "4191f7af",
   "metadata": {},
   "outputs": [
    {
     "data": {
      "text/html": [
       "<div>\n",
       "<style scoped>\n",
       "    .dataframe tbody tr th:only-of-type {\n",
       "        vertical-align: middle;\n",
       "    }\n",
       "\n",
       "    .dataframe tbody tr th {\n",
       "        vertical-align: top;\n",
       "    }\n",
       "\n",
       "    .dataframe thead th {\n",
       "        text-align: right;\n",
       "    }\n",
       "</style>\n",
       "<table border=\"1\" class=\"dataframe\">\n",
       "  <thead>\n",
       "    <tr style=\"text-align: right;\">\n",
       "      <th></th>\n",
       "      <th>OfferId</th>\n",
       "      <th>groups</th>\n",
       "      <th>offer_type</th>\n",
       "      <th>difficulty</th>\n",
       "      <th>reward</th>\n",
       "      <th>duration</th>\n",
       "      <th>channels</th>\n",
       "    </tr>\n",
       "  </thead>\n",
       "  <tbody>\n",
       "    <tr>\n",
       "      <th>7841</th>\n",
       "      <td>ae264e3637204a6fb9bb56bc8210ddfd</td>\n",
       "      <td>A</td>\n",
       "      <td>bogo</td>\n",
       "      <td>10.0</td>\n",
       "      <td>10.0</td>\n",
       "      <td>7.0</td>\n",
       "      <td>['email', 'mobile', 'social']</td>\n",
       "    </tr>\n",
       "    <tr>\n",
       "      <th>11344</th>\n",
       "      <td>4d5c57ea9a6940dd891ad53e9dbe8da0</td>\n",
       "      <td>B</td>\n",
       "      <td>bogo</td>\n",
       "      <td>10.0</td>\n",
       "      <td>10.0</td>\n",
       "      <td>5.0</td>\n",
       "      <td>['web', 'email', 'mobile', 'social']</td>\n",
       "    </tr>\n",
       "    <tr>\n",
       "      <th>41117</th>\n",
       "      <td>9b98b8c7a33c4b65b9aebfe6a799e6d9</td>\n",
       "      <td>C</td>\n",
       "      <td>bogo</td>\n",
       "      <td>5.0</td>\n",
       "      <td>5.0</td>\n",
       "      <td>7.0</td>\n",
       "      <td>['web', 'email', 'mobile']</td>\n",
       "    </tr>\n",
       "    <tr>\n",
       "      <th>15190</th>\n",
       "      <td>f19421c1d4aa40978ebb69ca19b0e20d</td>\n",
       "      <td>D</td>\n",
       "      <td>bogo</td>\n",
       "      <td>5.0</td>\n",
       "      <td>5.0</td>\n",
       "      <td>5.0</td>\n",
       "      <td>['web', 'email', 'mobile', 'social']</td>\n",
       "    </tr>\n",
       "  </tbody>\n",
       "</table>\n",
       "</div>"
      ],
      "text/plain": [
       "                                OfferId groups offer_type  difficulty  reward  \\\n",
       "7841   ae264e3637204a6fb9bb56bc8210ddfd      A       bogo        10.0    10.0   \n",
       "11344  4d5c57ea9a6940dd891ad53e9dbe8da0      B       bogo        10.0    10.0   \n",
       "41117  9b98b8c7a33c4b65b9aebfe6a799e6d9      C       bogo         5.0     5.0   \n",
       "15190  f19421c1d4aa40978ebb69ca19b0e20d      D       bogo         5.0     5.0   \n",
       "\n",
       "       duration                              channels  \n",
       "7841        7.0         ['email', 'mobile', 'social']  \n",
       "11344       5.0  ['web', 'email', 'mobile', 'social']  \n",
       "41117       7.0            ['web', 'email', 'mobile']  \n",
       "15190       5.0  ['web', 'email', 'mobile', 'social']  "
      ]
     },
     "execution_count": 162,
     "metadata": {},
     "output_type": "execute_result"
    }
   ],
   "source": [
    "df_total[['OfferId', 'groups','offer_type','difficulty','reward','duration','channels']].drop_duplicates().sort_values(by='groups')"
   ]
  },
  {
   "cell_type": "markdown",
   "id": "9e3a7681",
   "metadata": {},
   "source": [
    "### G.\tMengevaluasi dan Menginterpretasikan Data"
   ]
  },
  {
   "cell_type": "markdown",
   "id": "b726add2",
   "metadata": {},
   "source": [
    "- Check apakah ada yang tidak machting antara group dan element yang sudah ditentukan"
   ]
  },
  {
   "cell_type": "code",
   "execution_count": 163,
   "id": "dd6d8d9a",
   "metadata": {},
   "outputs": [
    {
     "data": {
      "text/html": [
       "<div>\n",
       "<style scoped>\n",
       "    .dataframe tbody tr th:only-of-type {\n",
       "        vertical-align: middle;\n",
       "    }\n",
       "\n",
       "    .dataframe tbody tr th {\n",
       "        vertical-align: top;\n",
       "    }\n",
       "\n",
       "    .dataframe thead th {\n",
       "        text-align: right;\n",
       "    }\n",
       "</style>\n",
       "<table border=\"1\" class=\"dataframe\">\n",
       "  <thead>\n",
       "    <tr style=\"text-align: right;\">\n",
       "      <th></th>\n",
       "      <th>customer_id</th>\n",
       "      <th>OfferId</th>\n",
       "      <th>offer_type</th>\n",
       "      <th>difficulty</th>\n",
       "      <th>reward</th>\n",
       "      <th>duration</th>\n",
       "      <th>channels</th>\n",
       "      <th>groups</th>\n",
       "      <th>conver</th>\n",
       "    </tr>\n",
       "  </thead>\n",
       "  <tbody>\n",
       "  </tbody>\n",
       "</table>\n",
       "</div>"
      ],
      "text/plain": [
       "Empty DataFrame\n",
       "Columns: [customer_id, OfferId, offer_type, difficulty, reward, duration, channels, groups, conver]\n",
       "Index: []"
      ]
     },
     "execution_count": 163,
     "metadata": {},
     "output_type": "execute_result"
    }
   ],
   "source": [
    "group_name = \"A\"\n",
    "diff = 10.0\n",
    "reward = 10.0\n",
    "duration = 7.0\n",
    "channels = \"['email', 'mobile', 'social']\"\n",
    "\n",
    "# Make condition\n",
    "condition_group = df_total[\"groups\"] == group_name\n",
    "condition_diff = df_total[\"difficulty\"] == diff\n",
    "condition_reward = df_total[\"reward\"] == reward\n",
    "condition_duration = df_total[\"duration\"] == duration\n",
    "condition_channels = df_total[\"channels\"] == channels\n",
    "\n",
    "\n",
    "# Select data with the conditions above\n",
    "data_salah_1 = df_total[condition_group & ~(condition_diff & condition_reward & condition_duration & condition_channels)]\n",
    "data_salah_1.head()"
   ]
  },
  {
   "cell_type": "code",
   "execution_count": 164,
   "id": "9f1d839b",
   "metadata": {},
   "outputs": [
    {
     "data": {
      "text/html": [
       "<div>\n",
       "<style scoped>\n",
       "    .dataframe tbody tr th:only-of-type {\n",
       "        vertical-align: middle;\n",
       "    }\n",
       "\n",
       "    .dataframe tbody tr th {\n",
       "        vertical-align: top;\n",
       "    }\n",
       "\n",
       "    .dataframe thead th {\n",
       "        text-align: right;\n",
       "    }\n",
       "</style>\n",
       "<table border=\"1\" class=\"dataframe\">\n",
       "  <thead>\n",
       "    <tr style=\"text-align: right;\">\n",
       "      <th></th>\n",
       "      <th>customer_id</th>\n",
       "      <th>OfferId</th>\n",
       "      <th>offer_type</th>\n",
       "      <th>difficulty</th>\n",
       "      <th>reward</th>\n",
       "      <th>duration</th>\n",
       "      <th>channels</th>\n",
       "      <th>groups</th>\n",
       "      <th>conver</th>\n",
       "    </tr>\n",
       "  </thead>\n",
       "  <tbody>\n",
       "  </tbody>\n",
       "</table>\n",
       "</div>"
      ],
      "text/plain": [
       "Empty DataFrame\n",
       "Columns: [customer_id, OfferId, offer_type, difficulty, reward, duration, channels, groups, conver]\n",
       "Index: []"
      ]
     },
     "execution_count": 164,
     "metadata": {},
     "output_type": "execute_result"
    }
   ],
   "source": [
    "group_name = \"B\"\n",
    "diff = 10.0\n",
    "reward = 10.0\n",
    "duration = 5.0\n",
    "channels = \"['web', 'email', 'mobile', 'social']\"\n",
    "\n",
    "# Make condition\n",
    "condition_group = df_total[\"groups\"] == group_name\n",
    "condition_diff = df_total[\"difficulty\"] == diff\n",
    "condition_reward = df_total[\"reward\"] == reward\n",
    "condition_duration = df_total[\"duration\"] == duration\n",
    "condition_channels = df_total[\"channels\"] == channels\n",
    "\n",
    "\n",
    "# Select data with the conditions above\n",
    "data_salah_2 = df_total[condition_group & ~(condition_diff & condition_reward & condition_duration & condition_channels)]\n",
    "data_salah_2.head()"
   ]
  },
  {
   "cell_type": "code",
   "execution_count": 165,
   "id": "0b676cfa",
   "metadata": {},
   "outputs": [
    {
     "data": {
      "text/html": [
       "<div>\n",
       "<style scoped>\n",
       "    .dataframe tbody tr th:only-of-type {\n",
       "        vertical-align: middle;\n",
       "    }\n",
       "\n",
       "    .dataframe tbody tr th {\n",
       "        vertical-align: top;\n",
       "    }\n",
       "\n",
       "    .dataframe thead th {\n",
       "        text-align: right;\n",
       "    }\n",
       "</style>\n",
       "<table border=\"1\" class=\"dataframe\">\n",
       "  <thead>\n",
       "    <tr style=\"text-align: right;\">\n",
       "      <th></th>\n",
       "      <th>customer_id</th>\n",
       "      <th>OfferId</th>\n",
       "      <th>offer_type</th>\n",
       "      <th>difficulty</th>\n",
       "      <th>reward</th>\n",
       "      <th>duration</th>\n",
       "      <th>channels</th>\n",
       "      <th>groups</th>\n",
       "      <th>conver</th>\n",
       "    </tr>\n",
       "  </thead>\n",
       "  <tbody>\n",
       "    <tr>\n",
       "      <th>41117</th>\n",
       "      <td>7dc62a0a1736432f9a2dbafae8a7687c</td>\n",
       "      <td>9b98b8c7a33c4b65b9aebfe6a799e6d9</td>\n",
       "      <td>bogo</td>\n",
       "      <td>5.0</td>\n",
       "      <td>5.0</td>\n",
       "      <td>7.0</td>\n",
       "      <td>['web', 'email', 'mobile']</td>\n",
       "      <td>C</td>\n",
       "      <td>1</td>\n",
       "    </tr>\n",
       "    <tr>\n",
       "      <th>20047</th>\n",
       "      <td>cae9515311754366aacb3044f0971484</td>\n",
       "      <td>9b98b8c7a33c4b65b9aebfe6a799e6d9</td>\n",
       "      <td>bogo</td>\n",
       "      <td>5.0</td>\n",
       "      <td>5.0</td>\n",
       "      <td>7.0</td>\n",
       "      <td>['web', 'email', 'mobile']</td>\n",
       "      <td>C</td>\n",
       "      <td>0</td>\n",
       "    </tr>\n",
       "    <tr>\n",
       "      <th>24802</th>\n",
       "      <td>fd6f5f7b29b247f6af30c9520f355108</td>\n",
       "      <td>9b98b8c7a33c4b65b9aebfe6a799e6d9</td>\n",
       "      <td>bogo</td>\n",
       "      <td>5.0</td>\n",
       "      <td>5.0</td>\n",
       "      <td>7.0</td>\n",
       "      <td>['web', 'email', 'mobile']</td>\n",
       "      <td>C</td>\n",
       "      <td>0</td>\n",
       "    </tr>\n",
       "    <tr>\n",
       "      <th>41727</th>\n",
       "      <td>a3b25e3ffd2f4a54b6559b7e901e294e</td>\n",
       "      <td>9b98b8c7a33c4b65b9aebfe6a799e6d9</td>\n",
       "      <td>bogo</td>\n",
       "      <td>5.0</td>\n",
       "      <td>5.0</td>\n",
       "      <td>7.0</td>\n",
       "      <td>['web', 'email', 'mobile']</td>\n",
       "      <td>C</td>\n",
       "      <td>1</td>\n",
       "    </tr>\n",
       "    <tr>\n",
       "      <th>20012</th>\n",
       "      <td>ca85d857e3804e97a4aaf4bd64c75237</td>\n",
       "      <td>9b98b8c7a33c4b65b9aebfe6a799e6d9</td>\n",
       "      <td>bogo</td>\n",
       "      <td>5.0</td>\n",
       "      <td>5.0</td>\n",
       "      <td>7.0</td>\n",
       "      <td>['web', 'email', 'mobile']</td>\n",
       "      <td>C</td>\n",
       "      <td>0</td>\n",
       "    </tr>\n",
       "  </tbody>\n",
       "</table>\n",
       "</div>"
      ],
      "text/plain": [
       "                            customer_id                           OfferId  \\\n",
       "41117  7dc62a0a1736432f9a2dbafae8a7687c  9b98b8c7a33c4b65b9aebfe6a799e6d9   \n",
       "20047  cae9515311754366aacb3044f0971484  9b98b8c7a33c4b65b9aebfe6a799e6d9   \n",
       "24802  fd6f5f7b29b247f6af30c9520f355108  9b98b8c7a33c4b65b9aebfe6a799e6d9   \n",
       "41727  a3b25e3ffd2f4a54b6559b7e901e294e  9b98b8c7a33c4b65b9aebfe6a799e6d9   \n",
       "20012  ca85d857e3804e97a4aaf4bd64c75237  9b98b8c7a33c4b65b9aebfe6a799e6d9   \n",
       "\n",
       "      offer_type  difficulty  reward  duration                    channels  \\\n",
       "41117       bogo         5.0     5.0       7.0  ['web', 'email', 'mobile']   \n",
       "20047       bogo         5.0     5.0       7.0  ['web', 'email', 'mobile']   \n",
       "24802       bogo         5.0     5.0       7.0  ['web', 'email', 'mobile']   \n",
       "41727       bogo         5.0     5.0       7.0  ['web', 'email', 'mobile']   \n",
       "20012       bogo         5.0     5.0       7.0  ['web', 'email', 'mobile']   \n",
       "\n",
       "      groups  conver  \n",
       "41117      C       1  \n",
       "20047      C       0  \n",
       "24802      C       0  \n",
       "41727      C       1  \n",
       "20012      C       0  "
      ]
     },
     "execution_count": 165,
     "metadata": {},
     "output_type": "execute_result"
    }
   ],
   "source": [
    "group_name = \"C\"\n",
    "diff = 5.0\n",
    "reward = 5.0\n",
    "duration = 7.0\n",
    "channels = \"['email', 'mobile', 'social']\"\n",
    "\n",
    "# Make condition\n",
    "condition_group = df_total[\"groups\"] == group_name\n",
    "condition_diff = df_total[\"difficulty\"] == diff\n",
    "condition_reward = df_total[\"reward\"] == reward\n",
    "condition_duration = df_total[\"duration\"] == duration\n",
    "condition_channels = df_total[\"channels\"] == channels\n",
    "\n",
    "\n",
    "# Select data with the conditions above\n",
    "data_salah_3 = df_total[condition_group & ~(condition_diff & condition_reward & condition_duration & condition_channels)]\n",
    "data_salah_3.head()"
   ]
  },
  {
   "cell_type": "code",
   "execution_count": 166,
   "id": "383b7ca3",
   "metadata": {},
   "outputs": [
    {
     "data": {
      "text/html": [
       "<div>\n",
       "<style scoped>\n",
       "    .dataframe tbody tr th:only-of-type {\n",
       "        vertical-align: middle;\n",
       "    }\n",
       "\n",
       "    .dataframe tbody tr th {\n",
       "        vertical-align: top;\n",
       "    }\n",
       "\n",
       "    .dataframe thead th {\n",
       "        text-align: right;\n",
       "    }\n",
       "</style>\n",
       "<table border=\"1\" class=\"dataframe\">\n",
       "  <thead>\n",
       "    <tr style=\"text-align: right;\">\n",
       "      <th></th>\n",
       "      <th>customer_id</th>\n",
       "      <th>OfferId</th>\n",
       "      <th>offer_type</th>\n",
       "      <th>difficulty</th>\n",
       "      <th>reward</th>\n",
       "      <th>duration</th>\n",
       "      <th>channels</th>\n",
       "      <th>groups</th>\n",
       "      <th>conver</th>\n",
       "    </tr>\n",
       "  </thead>\n",
       "  <tbody>\n",
       "  </tbody>\n",
       "</table>\n",
       "</div>"
      ],
      "text/plain": [
       "Empty DataFrame\n",
       "Columns: [customer_id, OfferId, offer_type, difficulty, reward, duration, channels, groups, conver]\n",
       "Index: []"
      ]
     },
     "execution_count": 166,
     "metadata": {},
     "output_type": "execute_result"
    }
   ],
   "source": [
    "group_name = \"D\"\n",
    "diff = 5.0\n",
    "reward = 5.0\n",
    "duration = 5.0\n",
    "channels = \"['web', 'email', 'mobile', 'social']\"\n",
    "\n",
    "# Make condition\n",
    "condition_group = df_total[\"groups\"] == group_name\n",
    "condition_diff = df_total[\"difficulty\"] == diff\n",
    "condition_reward = df_total[\"reward\"] == reward\n",
    "condition_duration = df_total[\"duration\"] == duration\n",
    "condition_channels = df_total[\"channels\"] == channels\n",
    "\n",
    "\n",
    "# Select data with the conditions above\n",
    "data_salah_4 = df_total[condition_group & ~(condition_diff & condition_reward & condition_duration & condition_channels)]\n",
    "data_salah_4.head()"
   ]
  },
  {
   "cell_type": "markdown",
   "id": "dd1c1d84",
   "metadata": {},
   "source": [
    "#### Data Exploration"
   ]
  },
  {
   "cell_type": "code",
   "execution_count": 167,
   "id": "2dfeb788",
   "metadata": {},
   "outputs": [
    {
     "name": "stdout",
     "output_type": "stream",
     "text": [
      "% A   : 25.00%\n",
      "% B   : 25.00%\n",
      "% C   : 25.00%\n",
      "% D   : 25.00%\n"
     ]
    }
   ],
   "source": [
    "# Percentage in each group\n",
    "n_total = df_total.shape[0]\n",
    "persen_A = n_A/n_total * 100 # Control\n",
    "persen_B = n_B/n_total * 100 # Treatment 1\n",
    "persen_C = n_C/n_total * 100 # Treatment 2\n",
    "persen_D = n_D/n_total * 100 # Treatment 3\n",
    "\n",
    "print(f\"% A   : {persen_A:.2f}%\")\n",
    "print(f\"% B   : {persen_B:.2f}%\")\n",
    "print(f\"% C   : {persen_C:.2f}%\")\n",
    "print(f\"% D   : {persen_D:.2f}%\")"
   ]
  },
  {
   "cell_type": "markdown",
   "id": "12066a8f",
   "metadata": {},
   "source": [
    "Data terbagi dengan jumlah yang sama "
   ]
  },
  {
   "cell_type": "markdown",
   "id": "603ae874",
   "metadata": {},
   "source": [
    "## H. Sample Ratio Mismatch (SRM)"
   ]
  },
  {
   "cell_type": "markdown",
   "id": "d3e17e65",
   "metadata": {},
   "source": [
    "* Sample Ratio Mismatch (SRM) adalah situasi di mana rasio sampel yang diamati dalam eksperimen berbeda dari yang diharapkan.\n",
    "\n",
    "\n",
    "* **Uji chi-square** dapat digunakan untuk mendeteksi apakah sebuah eksperimen mengalami SRM atau tidak.\n",
    "\n",
    "Langkah-langkah untuk melakukan uji chi-square dalam rangka mendeteksi SRM adalah:\n",
    "\n",
    "1. Mendefinisikan hipotesis nol dan alternatif (H0 dan H1).\n",
    "2. Menghitung statistik chi-square.\n",
    "3. Menentukan aturan keputusan.\n",
    "4. Membuat keputusan dan menarik kesimpulan."
   ]
  },
  {
   "cell_type": "markdown",
   "id": "34ec6a68",
   "metadata": {},
   "source": [
    "#### Chi-Square Test for Detect SRM"
   ]
  },
  {
   "cell_type": "markdown",
   "id": "eb871ea4",
   "metadata": {},
   "source": [
    "**Mengapa Harus Dilakukan :**\n",
    "\n",
    "1. Memastikan Validitas Eksperimen: SRM membantu mengidentifikasi apakah distribusi sampel sesuai dengan yang diharapkan. Jika terjadi ketidaksesuaian, hasil eksperimen bisa terdistorsi, sehingga mengarah pada kesimpulan yang salah.\n",
    "\n",
    "\n",
    "2. Mendeteksi Ketidakseimbangan: Dalam eksperimen A/B testing, penting untuk memastikan bahwa proporsi sampel antara grup kontrol dan grup perlakuan sesuai. Uji chi-square memungkinkan kita mendeteksi adanya ketidakseimbangan dalam distribusi sampel.\n",
    "\n",
    "\n",
    "3. Menilai Keberhasilan Implementasi: Dengan mengidentifikasi SRM, kita dapat mengevaluasi apakah desain dan implementasi eksperimen sudah dilakukan dengan benar, serta apakah semua variabel telah dikendalikan dengan baik.\n",
    "\n",
    "\n",
    "4. Mengurangi Bias: Menggunakan uji chi-square untuk mendeteksi SRM membantu mengurangi risiko bias dalam analisis data. Ini penting untuk menjaga integritas hasil eksperimen dan untuk pengambilan keputusan yang lebih akurat.\n",
    "\n",
    "\n",
    "5. Meningkatkan Akurasi: Dengan memastikan bahwa rasio sampel sesuai dengan yang diharapkan, kita dapat lebih percaya diri dalam hasil analisis dan keputusan yang diambil berdasarkan data tersebut.\n",
    "\n",
    "\n",
    "\n",
    "Secara keseluruhan, melakukan SRM dan uji chi-square adalah langkah penting dalam proses analisis eksperimen untuk memastikan hasil yang valid dan dapat diandalkan."
   ]
  },
  {
   "cell_type": "markdown",
   "id": "ed455211",
   "metadata": {},
   "source": [
    "Langkah-langkah untuk melakukan uji chi-square dalam rangka mendeteksi SRM adalah sebagai berikut:\n",
    "\n"
   ]
  },
  {
   "cell_type": "markdown",
   "id": "6666c356",
   "metadata": {},
   "source": [
    "**1. Mendefinisikan hipotesis nol dan alternatif ($H_0$ dan $H_1$)**\n",
    "\n",
    "$H_0$ : Tidak terdeteksi adanya SRM\n",
    "\n",
    "$H_1$ : Terdeteksi adanya SRM"
   ]
  },
  {
   "cell_type": "markdown",
   "id": "d64a42ba",
   "metadata": {},
   "source": [
    "**2. Menghitung statistik chi-square**\n",
    "\n",
    "\n",
    "$$ \\chi^2 = \\sum \\frac{\\left ( \\text{observed - expected} \\right )^2}{\\text{expected}} $$\n",
    "\n",
    "Di mana:\n",
    "\n",
    "- Observed adalah jumlah pengguna atau traffic yang diamati di setiap grup. Misalnya, kita memiliki empat grup eksperimen: A, B, C, dan D, dengan jumlah pengguna [n_A, n_B, n_C, n_D].\n",
    "- Expected adalah jumlah yang diharapkan untuk setiap grup. Karena kita ingin distribusi yang merata (SRM), jumlah total pengguna yang diamati dibagi rata untuk setiap grup. Maka, nilai yang diharapkan untuk setiap grup adalah total_traffic / 4."
   ]
  },
  {
   "cell_type": "markdown",
   "id": "193eeef5",
   "metadata": {},
   "source": [
    "Observed sama dengan jumlah pengguna di setiap grup.\n",
    "\n",
    "Untuk menghitung nilai yang diharapkan pada setiap grup, kita dapat membagi total nilai yang diamati dengan 4."
   ]
  },
  {
   "cell_type": "code",
   "execution_count": 168,
   "id": "fe386b24",
   "metadata": {},
   "outputs": [
    {
     "data": {
      "text/plain": [
       "[6280.0, 6280.0, 6280.0, 6280.0]"
      ]
     },
     "execution_count": 168,
     "metadata": {},
     "output_type": "execute_result"
    }
   ],
   "source": [
    "observed = [ n_A, n_B, n_C, n_D ]\n",
    "total_traffic= sum(observed)\n",
    "expected = [ total_traffic/4, total_traffic/4, total_traffic/4, total_traffic/4 ]\n",
    "expected"
   ]
  },
  {
   "cell_type": "markdown",
   "id": "81c21132",
   "metadata": {},
   "source": [
    "Kemudian kita dapat menghitung statistik chi-square menggunakan fungsi dari pustaka `scipy`, yaitu `chisquare`, dengan langkah-langkah berikut:\n",
    "\n",
    "1. Mengimpor pustaka:\n",
    "   - `from scipy.stats import chisquare`\n",
    "2. Menggunakan fungsi `chisquare(f_obs, f_exp=...)`\n",
    "   - `f_obs`: Frekuensi yang diamati pada setiap kategori (berbentuk array)\n",
    "   - `f_exp`: Frekuensi yang diharapkan pada setiap kategori. Secara default, kategori diasumsikan memiliki peluang yang sama."
   ]
  },
  {
   "cell_type": "code",
   "execution_count": 169,
   "id": "c25f1fe9",
   "metadata": {},
   "outputs": [
    {
     "name": "stdout",
     "output_type": "stream",
     "text": [
      "Power_divergenceResult(statistic=0.0, pvalue=1.0)\n"
     ]
    }
   ],
   "source": [
    "#calculate chi-square statistics\n",
    "chi = chisquare(observed, f_exp=expected)\n",
    "print(chi)"
   ]
  },
  {
   "cell_type": "markdown",
   "id": "39f1930a",
   "metadata": {},
   "source": [
    "**3. Define decision rules**"
   ]
  },
  {
   "cell_type": "markdown",
   "id": "a3992286",
   "metadata": {},
   "source": [
    "Dalam membuat keputusan uji statistik, kita dapat menggunakan:\n",
    "\n",
    "- Perbandingan antara statistik chi-square dengan nilai kritis:\n",
    "     -  $\\chi^2 > \\chi^2_{\\alpha,df}$ → reject $H_0$\n",
    "\n",
    "- Perbandingan antara nilai p dengan alpha:\n",
    "   - pvalue < $\\alpha$ → reject $H_0$\n",
    "\n",
    "\n",
    "Biasanya, dalam banyak eksperimen atau uji statistik, tingkat signifikansi (significance level) yang umum digunakan adalah 5% atau 0,05. Artinya, jika nilai p-value dari suatu uji statistik kurang dari 0,05, kita akan menolak hipotesis nol ($H_0$), yang berarti kita menganggap ada perbedaan yang signifikan atau adanya SRM (Sample Ratio Mismatch).\n",
    "\n",
    "Namun, dalam konteks ini, tingkat signifikansi 5% dianggap tidak cukup ketat. Alasan untuk ini adalah bahwa tingkat signifikansi 0,05 mungkin mengakibatkan lebih banyak sinyal palsu (false positives), yaitu menolak hipotesis nol ketika sebenarnya tidak ada SRM. Dengan kata lain, kita mungkin menganggap bahwa ada masalah dalam eksperimen, padahal sebenarnya tidak ada.\n",
    "\n",
    "Untuk menghindari sinyal palsu tersebut dan memastikan hasil yang lebih akurat, kita menggunakan tingkat signifikansi yang lebih ketat, yaitu 1% atau 0,01. Dalam hal ini, kita hanya akan menolak hipotesis nol jika p-value lebih kecil dari 0,01. Ini mengurangi risiko sinyal palsu dan memberikan keyakinan lebih besar bahwa jika kita mendeteksi SRM, hasil tersebut lebih dapat dipercaya.\n",
    "\n",
    "Jadi, penggunaan tingkat signifikansi 1% memastikan bahwa kita hanya menganggap adanya SRM ketika hasilnya benar-benar kuat, sehingga risiko kesalahan dalam mendeteksi SRM lebih kecil.\n",
    "\n",
    "Derajat kebebasan (df) dihitung sebagai : \n",
    "$$ df = (rows − 1) × (columns − 1) $$ \n"
   ]
  },
  {
   "cell_type": "code",
   "execution_count": 170,
   "id": "019e15c1",
   "metadata": {},
   "outputs": [
    {
     "name": "stdout",
     "output_type": "stream",
     "text": [
      "Critical value: 6.635\n"
     ]
    }
   ],
   "source": [
    "# Comparison of chi-square statistics with critical value\n",
    "# We must calculate the critical first\n",
    "\n",
    "# critical value is the chi-square value at alpha\n",
    "alpha = 0.01\n",
    "df=(2-1)*(2-1)  \n",
    "\n",
    "chi_critical = scipy.stats.chi2.ppf(1 - alpha, df)\n",
    "print(f\"Critical value: {chi_critical:.3f}\")"
   ]
  },
  {
   "cell_type": "code",
   "execution_count": 171,
   "id": "892f2b79",
   "metadata": {},
   "outputs": [
    {
     "name": "stdout",
     "output_type": "stream",
     "text": [
      "Fail to reject H0 : No SRM\n"
     ]
    }
   ],
   "source": [
    "#Make decisions from chi-square statistics and critical value\n",
    "if chi[0] > chi_critical:\n",
    "  print(\"Reject H0 : SRM may be present.\")\n",
    "else:\n",
    "  print(\"Fail to reject H0 : No SRM\")"
   ]
  },
  {
   "cell_type": "markdown",
   "id": "a9bcc1d2",
   "metadata": {},
   "source": [
    "Untuk memutuskan, jika nilai chi-square lebih besar dari nilai kritis (6.635), kita tolak hipotesis nol ($H_0$). Namun, dalam contoh ini, nilai chi-square adalah 0.0, yang lebih kecil dari nilai kritis, sehingga kita gagal menolak hipotesis nol. Artinya, tidak ada SRM yang terdeteksi."
   ]
  },
  {
   "cell_type": "code",
   "execution_count": 172,
   "id": "341ffe0d",
   "metadata": {},
   "outputs": [
    {
     "name": "stdout",
     "output_type": "stream",
     "text": [
      "Fail to reject H0 : No SRM.\n"
     ]
    }
   ],
   "source": [
    "# Comparison of P-Value with alpha.\n",
    "if chi[1] < 0.01:\n",
    "    print('Reject H0 : SRM may be present.')\n",
    "else:\n",
    "    print('Fail to reject H0 : No SRM.')"
   ]
  },
  {
   "cell_type": "markdown",
   "id": "903d69f0",
   "metadata": {},
   "source": [
    "Jika nilai p < alpha (0.01), kita tolak hipotesis nol.\n",
    "Namun, dalam contoh ini, nilai p adalah 1.0, yang lebih besar dari 0.01, sehingga kita gagal menolak hipotesis nol, dan tidak ada SRM yang terdeteksi."
   ]
  },
  {
   "cell_type": "markdown",
   "id": "1b82064c",
   "metadata": {},
   "source": [
    "#### Conclusion\n",
    "Berdasarkan kualitas data, kami telah melakukan pembersihan data sehingga data yang kami gunakan memiliki kualitas yang cukup baik. Namun, kami perlu memeriksa kembali apakah ukuran sampel setelah pembersihan data sudah memadai (sesuai dengan desain eksperimen) atau belum, agar terdapat kekuatan yang cukup untuk menarik kesimpulan yang kredibel.\n",
    "\n",
    "Berdasarkan deteksi SRM, SRM tidak terdeteksi."
   ]
  },
  {
   "cell_type": "markdown",
   "id": "1ec56823",
   "metadata": {},
   "source": [
    "## I. Hypothesis Testing and Analyzing the Result"
   ]
  },
  {
   "cell_type": "code",
   "execution_count": 173,
   "id": "2d6a904f",
   "metadata": {},
   "outputs": [],
   "source": [
    "def extract_evaluation(data):\n",
    "    \"\"\"\n",
    "    Extract key evaluation criterion within the data\n",
    "    - number of session\n",
    "    - number of conversion\n",
    "    - conversion rate\n",
    "    :param data: <pandas DataFrame> sample data\n",
    "    :return results: <dict> contain number of sess., number of conv., & conversion rate\n",
    "    \"\"\"\n",
    "    # Number of session\n",
    "    n_session = int(data.shape[0])\n",
    "\n",
    "    # Number of conversion\n",
    "    n_conversion = int(data[\"conver\"].sum())\n",
    "\n",
    "    # Conversion rate (in percent)\n",
    "    conversion_rate = (n_conversion/n_session) * 100\n",
    "\n",
    "    # Return results\n",
    "    results = {}\n",
    "    results[\"session\"] = n_session\n",
    "    results[\"conversion\"] = n_conversion\n",
    "    results[\"CVR\"] = np.round(conversion_rate, 2)\n",
    "\n",
    "    return results\n"
   ]
  },
  {
   "cell_type": "code",
   "execution_count": 174,
   "id": "5bd4a28d",
   "metadata": {},
   "outputs": [],
   "source": [
    "res_A = extract_evaluation(data = data_A)\n",
    "res_B = extract_evaluation(data = data_B)\n",
    "res_C = extract_evaluation(data = data_C)\n",
    "res_D = extract_evaluation(data = data_D)"
   ]
  },
  {
   "cell_type": "code",
   "execution_count": 175,
   "id": "472a90e0",
   "metadata": {},
   "outputs": [
    {
     "name": "stdout",
     "output_type": "stream",
     "text": [
      " A: {'session': 6280, 'conversion': 2916, 'CVR': 46.43}\n",
      " B: {'session': 6280, 'conversion': 2638, 'CVR': 42.01}\n",
      " C: {'session': 6280, 'conversion': 3551, 'CVR': 56.54}\n",
      " D: {'session': 6280, 'conversion': 3565, 'CVR': 56.77}\n"
     ]
    }
   ],
   "source": [
    "print(f\" A: {res_A}\")\n",
    "print(f\" B: {res_B}\")\n",
    "print(f\" C: {res_C}\")\n",
    "print(f\" D: {res_D}\")"
   ]
  },
  {
   "cell_type": "markdown",
   "id": "2045041e",
   "metadata": {},
   "source": [
    "#### Calculate lift-over-baseline"
   ]
  },
  {
   "cell_type": "markdown",
   "id": "92f4950f",
   "metadata": {},
   "source": [
    "$$\n",
    "\\text{Lift} = CVR_{\\text{treatment}} - CVR_{\\text{control}}\n",
    "$$"
   ]
  },
  {
   "cell_type": "code",
   "execution_count": 176,
   "id": "b921968c",
   "metadata": {},
   "outputs": [],
   "source": [
    "lift_B = res_B[\"CVR\"] - res_A[\"CVR\"]\n",
    "lift_C = res_C[\"CVR\"] - res_A[\"CVR\"]\n",
    "lift_D = res_D[\"CVR\"] - res_A[\"CVR\"]"
   ]
  },
  {
   "cell_type": "code",
   "execution_count": 177,
   "id": "27c611cb",
   "metadata": {},
   "outputs": [
    {
     "name": "stdout",
     "output_type": "stream",
     "text": [
      "Lift-overbaseline untuk treatment B adalah -4.420000000000002 %\n",
      "Lift-overbaseline untuk treatment C adalah 10.11 %\n",
      "Lift-overbaseline untuk treatment D adalah 10.340000000000003 %\n"
     ]
    }
   ],
   "source": [
    "print(f\"Lift-overbaseline untuk treatment B adalah {lift_B} %\")\n",
    "print(f\"Lift-overbaseline untuk treatment C adalah {lift_C} %\")\n",
    "print(f\"Lift-overbaseline untuk treatment D adalah {lift_D} %\")"
   ]
  },
  {
   "cell_type": "markdown",
   "id": "9cee1d83",
   "metadata": {},
   "source": [
    "####  **Multiple Hypothesis Testing with Benjamini-Hochberg Correction**\n",
    "---"
   ]
  },
  {
   "cell_type": "markdown",
   "id": "fda84c3b",
   "metadata": {},
   "source": [
    "Pengujian hipotesis berganda dengan Koreksi Benjamini-Hochberg merupakan teknik yang digunakan untuk mengatasi masalah kesalahan Tipe I (false positive) yang meningkat ketika kita melakukan banyak pengujian hipotesis secara simultan. Berikut penjelasan lebih detail:\n",
    "\n",
    "###### **1. Pengujian Hipotesis**\n",
    "Saat kita ingin mengetahui mana grup yang memiliki performa terbaik dalam eksperimen (misalnya dalam hal tingkat konversi), kita menggunakan uji hipotesis untuk membandingkan antara dua grup. Salah satu uji yang sesuai untuk kasus ini adalah uji z untuk proporsi, karena kita berfokus pada membandingkan proporsi sukses atau konversi antara dua grup.\n",
    "\n",
    "###### **2. Uji Hipotesis Berganda**\n",
    "Jika kita hanya membandingkan dua grup, uji hipotesis yang dilakukan adalah satu kali, sehingga risiko membuat kesalahan Tipe I relatif kecil. Namun, jika kita memiliki lebih dari dua grup, kita perlu melakukan uji hipotesis untuk setiap pasangan grup. Misalnya, jika kita memiliki empat grup (A, B, C, D), kita harus membandingkan:\n",
    "\n",
    "- A dengan B\n",
    "- A dengan C\n",
    "- A dengan D\n",
    "- B dengan C\n",
    "- B dengan D\n",
    "- C dengan D\n",
    "\n",
    "Semakin banyak pengujian yang kita lakukan, semakin besar risiko kesalahan Tipe I. Kesalahan Tipe I terjadi ketika kita secara tidak sengaja menolak hipotesis nol ($H_0$) dan menganggap ada perbedaan signifikan padahal sebenarnya tidak ada.\n",
    "\n",
    "###### **3. Masalah dengan Uji Hipotesis Berganda**\n",
    "\n",
    "Ketika kita melakukan banyak uji hipotesis, risiko terjadinya kesalahan Tipe I (false positive) meningkat. Ini berarti, semakin banyak uji yang kita lakukan, semakin tinggi kemungkinan kita menemukan hasil yang secara keliru dianggap signifikan. Sebagai contoh, dengan tingkat signifikansi 0,05, ada peluang 5% bahwa kita salah menolak hipotesis nol, meskipun sebenarnya benar.\n",
    "\n",
    "Dalam pengujian hipotesis berganda, tanpa koreksi, kemungkinan besar beberapa hasil uji akan dianggap signifikan secara kebetulan, yang berarti kita mungkin salah mengambil kesimpulan tentang data.\n",
    "\n",
    "###### **4. Koreksi Benjamini-Hochberg**\n",
    "\n",
    "Untuk mengatasi masalah ini, kita dapat menggunakan Koreksi Benjamini-Hochberg (BH). Koreksi ini bertujuan untuk mengurangi peluang false positive, tetapi tanpa mengorbankan terlalu banyak kekuatan statistik (kemampuan untuk mendeteksi efek nyata). Berbeda dengan koreksi Bonferroni yang lebih ketat, BH mencoba mempertahankan False Discovery Rate (FDR) — yaitu persentase dari hasil yang signifikan secara statistik yang ternyata palsu.\n",
    "\n",
    "Langkah-langkah Koreksi Benjamini-Hochberg:\n",
    "- Urutkan p-value dari pengujian hipotesis yang dilakukan dalam urutan menaik.\n",
    "- Berikan setiap p-value urutan (rank).\n",
    "- Hitung nilai ambang dengan rumus:\n",
    "> $$\\text{BH-critical value} = \\left ( \\frac{i}{m} \\right )Q$$\n",
    "\n",
    "di mana:\n",
    "   - i adalah urutan (rank) p-value,\n",
    "   - m adalah jumlah pengujian,\n",
    "   - α adalah tingkat signifikansi yang kita tetapkan (misalnya, 0.05).\n",
    "\n",
    "- Bandingkan p-value dengan nilai ambang. Mulai dari p-value terkecil dan naik ke p-value yang lebih besar. Hentikan ketika p-value lebih besar daripada nilai ambang.\n",
    "\n",
    "Setiap p-value yang lebih kecil dari nilai ambang dianggap signifikan setelah koreksi. Dengan cara ini, kita dapat mengontrol FDR dan mengurangi kemungkinan kesalahan positif tanpa terlalu mengorbankan hasil nyata yang signifikan."
   ]
  },
  {
   "cell_type": "markdown",
   "id": "16ead758",
   "metadata": {},
   "source": [
    "**Berikut adalah tahapan untuk melakukan analisis:**"
   ]
  },
  {
   "cell_type": "markdown",
   "id": "5faf6cef",
   "metadata": {},
   "source": [
    "##### 1. Define null hypothesis ($H_0$) and alternative hypothesis ($H_1$)"
   ]
  },
  {
   "cell_type": "markdown",
   "id": "acf75f93",
   "metadata": {},
   "source": [
    "The hypothesis for each group pair is as follows:\n",
    "- group A vs group B\n",
    "    $$H_0 : p_B \\leq p_A$$\n",
    "    $$H_1 : p_B > p_A$$\n",
    "\n",
    "- group A vs group C\n",
    "    $$H_0 : p_C \\leq p_A$$\n",
    "    $$H_1 : p_C > p_A$$\n",
    "\n",
    "- group A vs group D\n",
    "    $$H_0 : p_D \\leq p_A$$\n",
    "    $$H_1 : p_D > p_A$$\n",
    "\n",
    "- group B vs group C\n",
    "    $$H_0 : p_C \\leq p_B$$\n",
    "    $$H_1 : p_C > p_B$$\n",
    "\n",
    "- group B vs group D\n",
    "    $$H_0 : p_D \\leq p_B$$\n",
    "    $$H_1 : p_D > p_B$$\n",
    "\n",
    "- group C vs group D\n",
    "    $$H_0 : p_D \\leq p_C$$\n",
    "    $$H_1 : p_D > p_C$$"
   ]
  },
  {
   "cell_type": "markdown",
   "id": "81b059e9",
   "metadata": {},
   "source": [
    "- Set siginificance level (alpha)\n",
    "- Significance level = 0.05"
   ]
  },
  {
   "cell_type": "markdown",
   "id": "494ada5d",
   "metadata": {},
   "source": [
    "##### 2. Calculate the p-value in each test"
   ]
  },
  {
   "cell_type": "markdown",
   "id": "298538dc",
   "metadata": {},
   "source": [
    "Kode di atas digunakan untuk menghitung p-value dari uji hipotesis perbandingan dua proporsi, dalam hal ini membandingkan konversi dari grup A dan grup B. P-value yang dihasilkan dapat digunakan untuk memutuskan apakah terdapat perbedaan signifikan antara konversi di dua grup tersebut. Mari kita jelaskan secara rinci:\n",
    "\n",
    "1. Menggunakan Uji Proporsi (Z-Test)\n",
    "Fungsi proportions_ztest dari pustaka statsmodels digunakan untuk melakukan uji z untuk proporsi, yang membantu dalam mengevaluasi apakah terdapat perbedaan signifikan antara dua proporsi konversi dari dua grup (A dan B).\n",
    "\n",
    "2. Argumen count = [n_convertB, n_convertA]\n",
    "Ini merepresentasikan jumlah konversi yang terjadi pada grup B dan grup A:\n",
    "\n",
    "n_convertB: Jumlah pengguna di grup B yang melakukan konversi.\n",
    "n_convertA: Jumlah pengguna di grup A yang melakukan konversi.\n",
    "Data ini mewakili hasil nyata (observasi) dari eksperimen.\n",
    "\n",
    "3. Argumen nobs = [n_B, n_A]\n",
    "Argumen ini menunjukkan total jumlah pengguna yang diuji di masing-masing grup:\n",
    "\n",
    "n_B: Total pengguna atau sampel di grup B.\n",
    "n_A: Total pengguna atau sampel di grup A.\n",
    "Ini adalah ukuran sampel masing-masing grup.\n",
    "\n",
    "4. Argumen alternative = 'larger'\n",
    "Argumen ini menyatakan hipotesis alternatif. Dalam hal ini, 'larger' mengindikasikan bahwa kita sedang menguji apakah proporsi konversi di grup A lebih kecil daripada grup B atau sebaliknya (B > A).\n",
    "\n",
    "Jika hasilnya mendukung hipotesis alternatif, ini berarti proporsi konversi di grup B lebih tinggi dibandingkan A.\n",
    "5. Mengambil P-value\n",
    "Bagian [1] setelah fungsi proportions_ztest mengacu pada p-value yang dihasilkan dari uji proporsi ini. Uji proporsi menghasilkan dua nilai, yaitu z-statistic dan p-value, di mana kita hanya tertarik pada p-value (nilai probabilitas).\n",
    "\n",
    "6. P-value dan Pengambilan Keputusan\n",
    "P-value yang dihasilkan akan digunakan untuk menentukan apakah kita dapat menolak hipotesis nol (H₀: Tidak ada perbedaan antara grup A dan B).\n",
    "Jika p-value lebih kecil dari tingkat signifikansi (biasanya 0.05 atau 0.01), kita dapat menolak H₀ dan menyimpulkan bahwa ada perbedaan signifikan antara proporsi konversi grup A dan B."
   ]
  },
  {
   "cell_type": "code",
   "execution_count": 178,
   "id": "e9601d58",
   "metadata": {},
   "outputs": [
    {
     "name": "stdout",
     "output_type": "stream",
     "text": [
      "P-value A vs B: 1.0000\n"
     ]
    }
   ],
   "source": [
    "# call function\n",
    "#p-value group A vs group B hypotesis test\n",
    "p_value_AB = proportions_ztest(count = [n_convertB, n_convertA],\n",
    "                               nobs = [n_B, n_A],\n",
    "                               alternative = 'larger')[1]\n",
    "\n",
    "print(f\"P-value A vs B: {p_value_AB:.4f}\") # 1.123109e-167\t"
   ]
  },
  {
   "cell_type": "markdown",
   "id": "acd953d3",
   "metadata": {},
   "source": [
    "Dalam pengujian yang di lakukan dengan menggunakan uji proporsi (proportions z-test) antara grup B dan grup A, hasil yang ditemukan adalah:\n",
    "\n",
    "B > A: Ini menunjukkan bahwa proporsi konversi di grup B lebih tinggi daripada di grup A.\n",
    "p-value = 1.123109e-167: Ini adalah nilai probabilitas yang dihasilkan dari pengujian. Nilai p-value ini sangat kecil, jauh di bawah batas umum 0.05 atau bahkan 0.01.\n",
    "\n",
    "Apa Artinya?\n",
    "\n",
    "1. Pengujian Hipotesis:\n",
    "\n",
    "    * Hipotesis nol (H₀) biasanya menyatakan bahwa tidak ada perbedaan antara proporsi konversi di grup B dan grup A. Dalam hal ini, H₀ adalah bahwa proporsi konversi di B tidak lebih tinggi dari di A.\n",
    "    * Hipotesis alternatif (H₁) menyatakan bahwa proporsi konversi di grup B lebih tinggi daripada di grup A.\n",
    "    \n",
    "\n",
    "2. Interpretasi p-value:\n",
    "\n",
    "    * Nilai p-value yang sangat kecil (1.123109e-167) menunjukkan bahwa ada bukti yang sangat kuat untuk menolak hipotesis nol.\n",
    "    * Ini berarti bahwa proporsi konversi di grup B secara signifikan lebih tinggi daripada di grup A.\n",
    "    \n",
    "\n",
    "3. Keputusan:\n",
    "\n",
    "    * Karena p-value ini jauh lebih kecil dari tingkat signifikansi yang umum digunakan (misalnya, 0.05 atau 0.01), Anda dapat menyimpulkan bahwa ada perbedaan yang signifikan dalam konversi antara grup B dan grup A, dengan grup B memiliki proporsi konversi yang lebih tinggi.\n",
    "\n",
    "**Kesimpulan:**\n",
    "Dengan kata lain, berdasarkan hasil uji ini, Anda dapat berargumen bahwa strategi atau elemen yang diterapkan di grup B lebih efektif dalam menghasilkan konversi dibandingkan dengan grup A."
   ]
  },
  {
   "cell_type": "code",
   "execution_count": 179,
   "id": "605bb8dd",
   "metadata": {},
   "outputs": [
    {
     "name": "stdout",
     "output_type": "stream",
     "text": [
      "P-value A vs C: 0.0000\n"
     ]
    }
   ],
   "source": [
    "#p-value group A vs group C hypotesis test\n",
    "p_value_AC = proportions_ztest(count = [n_convertC, n_convertA],\n",
    "                               nobs = [n_C, n_A],\n",
    "                               alternative = 'larger')[1]\n",
    "\n",
    "print(f\"P-value A vs C: {p_value_AC:.4f}\")"
   ]
  },
  {
   "cell_type": "code",
   "execution_count": 180,
   "id": "76ef5895",
   "metadata": {},
   "outputs": [
    {
     "name": "stdout",
     "output_type": "stream",
     "text": [
      "P-value A vs D: 0.0000\n"
     ]
    }
   ],
   "source": [
    "#p-value group A vs group D hypotesis test\n",
    "p_value_AD = proportions_ztest(count = [n_convertD, n_convertA],\n",
    "                               nobs = [n_D, n_A],\n",
    "                               alternative = 'larger')[1]\n",
    "\n",
    "print(f\"P-value A vs D: {p_value_AD:.4f}\")"
   ]
  },
  {
   "cell_type": "code",
   "execution_count": 181,
   "id": "5a88b324",
   "metadata": {},
   "outputs": [
    {
     "name": "stdout",
     "output_type": "stream",
     "text": [
      "P-value B vs C: 0.0000\n"
     ]
    }
   ],
   "source": [
    "#p-value group B vs group C hypotesis test\n",
    "p_value_BC = proportions_ztest(count = [n_convertC, n_convertB],\n",
    "                               nobs = [n_C, n_B],\n",
    "                               alternative = 'larger')[1]\n",
    "\n",
    "print(f\"P-value B vs C: {p_value_BC:.4f}\")"
   ]
  },
  {
   "cell_type": "code",
   "execution_count": 182,
   "id": "e24a55f2",
   "metadata": {},
   "outputs": [
    {
     "name": "stdout",
     "output_type": "stream",
     "text": [
      "P-value B vs D: 0.0000\n"
     ]
    }
   ],
   "source": [
    "#p-value group B vs group D hypotesis test\n",
    "p_value_BD = proportions_ztest(count = [n_convertD, n_convertB],\n",
    "                               nobs = [n_D, n_B],\n",
    "                               alternative = 'larger')[1]\n",
    "\n",
    "print(f\"P-value B vs D: {p_value_BD:.4f}\")"
   ]
  },
  {
   "cell_type": "code",
   "execution_count": 183,
   "id": "d8fcbc65",
   "metadata": {},
   "outputs": [
    {
     "name": "stdout",
     "output_type": "stream",
     "text": [
      "P-value C vs D: 0.4005\n"
     ]
    }
   ],
   "source": [
    "#p-value group C vs group D hypotesis test\n",
    "p_value_CD = proportions_ztest(count = [n_convertD, n_convertC],\n",
    "                               nobs = [n_D, n_C],\n",
    "                               alternative = 'larger')[1]\n",
    "\n",
    "print(f\"P-value C vs D: {p_value_CD:.4f}\")"
   ]
  },
  {
   "cell_type": "code",
   "execution_count": 184,
   "id": "784a31b2",
   "metadata": {},
   "outputs": [],
   "source": [
    "# make dataframe consist of p-values\n",
    "pair_group = ['B > A',\n",
    "              'C > A',\n",
    "              'D > A',\n",
    "              'C > B',\n",
    "              'D > B',\n",
    "              'D > C']\n",
    "\n",
    "p_vals = [p_value_AB, p_value_AC,\n",
    "          p_value_AD, p_value_BC,\n",
    "          p_value_BD, p_value_CD]\n",
    "\n",
    "df_p_vals = pd.DataFrame({'pair_group': pair_group,\n",
    "                          'p-value': p_vals})\n",
    "\n",
    "#print\n",
    "df_p_vals_order = df_p_vals.sort_values(by=['p-value'])"
   ]
  },
  {
   "cell_type": "markdown",
   "id": "a97c0a24",
   "metadata": {},
   "source": [
    "##### Assign ranks to the ordered p-values."
   ]
  },
  {
   "cell_type": "code",
   "execution_count": 185,
   "id": "8beea771",
   "metadata": {},
   "outputs": [
    {
     "data": {
      "text/html": [
       "<div>\n",
       "<style scoped>\n",
       "    .dataframe tbody tr th:only-of-type {\n",
       "        vertical-align: middle;\n",
       "    }\n",
       "\n",
       "    .dataframe tbody tr th {\n",
       "        vertical-align: top;\n",
       "    }\n",
       "\n",
       "    .dataframe thead th {\n",
       "        text-align: right;\n",
       "    }\n",
       "</style>\n",
       "<table border=\"1\" class=\"dataframe\">\n",
       "  <thead>\n",
       "    <tr style=\"text-align: right;\">\n",
       "      <th></th>\n",
       "      <th>pair_group</th>\n",
       "      <th>p-value</th>\n",
       "      <th>rank</th>\n",
       "    </tr>\n",
       "  </thead>\n",
       "  <tbody>\n",
       "    <tr>\n",
       "      <th>4</th>\n",
       "      <td>D &gt; B</td>\n",
       "      <td>8.804601e-62</td>\n",
       "      <td>1</td>\n",
       "    </tr>\n",
       "    <tr>\n",
       "      <th>3</th>\n",
       "      <td>C &gt; B</td>\n",
       "      <td>5.364431e-60</td>\n",
       "      <td>2</td>\n",
       "    </tr>\n",
       "    <tr>\n",
       "      <th>2</th>\n",
       "      <td>D &gt; A</td>\n",
       "      <td>2.374838e-31</td>\n",
       "      <td>3</td>\n",
       "    </tr>\n",
       "    <tr>\n",
       "      <th>1</th>\n",
       "      <td>C &gt; A</td>\n",
       "      <td>4.297854e-30</td>\n",
       "      <td>4</td>\n",
       "    </tr>\n",
       "    <tr>\n",
       "      <th>5</th>\n",
       "      <td>D &gt; C</td>\n",
       "      <td>4.004879e-01</td>\n",
       "      <td>5</td>\n",
       "    </tr>\n",
       "    <tr>\n",
       "      <th>0</th>\n",
       "      <td>B &gt; A</td>\n",
       "      <td>9.999997e-01</td>\n",
       "      <td>6</td>\n",
       "    </tr>\n",
       "  </tbody>\n",
       "</table>\n",
       "</div>"
      ],
      "text/plain": [
       "  pair_group       p-value  rank\n",
       "4      D > B  8.804601e-62     1\n",
       "3      C > B  5.364431e-60     2\n",
       "2      D > A  2.374838e-31     3\n",
       "1      C > A  4.297854e-30     4\n",
       "5      D > C  4.004879e-01     5\n",
       "0      B > A  9.999997e-01     6"
      ]
     },
     "execution_count": 185,
     "metadata": {},
     "output_type": "execute_result"
    }
   ],
   "source": [
    "df_p_vals_order['rank'] = df_p_vals_order['p-value'].rank().sub(0).astype(int)\n",
    "df_p_vals_order"
   ]
  },
  {
   "cell_type": "markdown",
   "id": "e6f7a1b8",
   "metadata": {},
   "source": [
    "Using the formula :\n",
    "\n",
    "$$\\text{BH-critical value} = \\left ( \\frac{i}{m} \\right )Q$$\n",
    "\n",
    "\n",
    "where:\n",
    "- $i$ = the p-value’s rank\n",
    "- $m$ = total number of tests\n",
    "- $Q$ = the false discovery rate (chosen by the experimenter)"
   ]
  },
  {
   "cell_type": "markdown",
   "id": "679c4c38",
   "metadata": {},
   "source": [
    "- Suppose that, the experimenter want to control false discoverry rate in 5%. So the $Q=0.05$"
   ]
  },
  {
   "cell_type": "code",
   "execution_count": 186,
   "id": "c20b6013",
   "metadata": {},
   "outputs": [
    {
     "data": {
      "text/html": [
       "<div>\n",
       "<style scoped>\n",
       "    .dataframe tbody tr th:only-of-type {\n",
       "        vertical-align: middle;\n",
       "    }\n",
       "\n",
       "    .dataframe tbody tr th {\n",
       "        vertical-align: top;\n",
       "    }\n",
       "\n",
       "    .dataframe thead th {\n",
       "        text-align: right;\n",
       "    }\n",
       "</style>\n",
       "<table border=\"1\" class=\"dataframe\">\n",
       "  <thead>\n",
       "    <tr style=\"text-align: right;\">\n",
       "      <th></th>\n",
       "      <th>pair_group</th>\n",
       "      <th>p-value</th>\n",
       "      <th>rank</th>\n",
       "      <th>BH-crit</th>\n",
       "    </tr>\n",
       "  </thead>\n",
       "  <tbody>\n",
       "    <tr>\n",
       "      <th>4</th>\n",
       "      <td>D &gt; B</td>\n",
       "      <td>8.804601e-62</td>\n",
       "      <td>1</td>\n",
       "      <td>0.008333</td>\n",
       "    </tr>\n",
       "    <tr>\n",
       "      <th>3</th>\n",
       "      <td>C &gt; B</td>\n",
       "      <td>5.364431e-60</td>\n",
       "      <td>2</td>\n",
       "      <td>0.016667</td>\n",
       "    </tr>\n",
       "    <tr>\n",
       "      <th>2</th>\n",
       "      <td>D &gt; A</td>\n",
       "      <td>2.374838e-31</td>\n",
       "      <td>3</td>\n",
       "      <td>0.025000</td>\n",
       "    </tr>\n",
       "    <tr>\n",
       "      <th>1</th>\n",
       "      <td>C &gt; A</td>\n",
       "      <td>4.297854e-30</td>\n",
       "      <td>4</td>\n",
       "      <td>0.033333</td>\n",
       "    </tr>\n",
       "    <tr>\n",
       "      <th>5</th>\n",
       "      <td>D &gt; C</td>\n",
       "      <td>4.004879e-01</td>\n",
       "      <td>5</td>\n",
       "      <td>0.041667</td>\n",
       "    </tr>\n",
       "    <tr>\n",
       "      <th>0</th>\n",
       "      <td>B &gt; A</td>\n",
       "      <td>9.999997e-01</td>\n",
       "      <td>6</td>\n",
       "      <td>0.050000</td>\n",
       "    </tr>\n",
       "  </tbody>\n",
       "</table>\n",
       "</div>"
      ],
      "text/plain": [
       "  pair_group       p-value  rank   BH-crit\n",
       "4      D > B  8.804601e-62     1  0.008333\n",
       "3      C > B  5.364431e-60     2  0.016667\n",
       "2      D > A  2.374838e-31     3  0.025000\n",
       "1      C > A  4.297854e-30     4  0.033333\n",
       "5      D > C  4.004879e-01     5  0.041667\n",
       "0      B > A  9.999997e-01     6  0.050000"
      ]
     },
     "execution_count": 186,
     "metadata": {},
     "output_type": "execute_result"
    }
   ],
   "source": [
    "#define Q\n",
    "Q = 0.05\n",
    "\n",
    "#calculate BH-critical value\n",
    "df_p_vals_order['BH-crit'] = df_p_vals_order['rank']/len(df_p_vals_order)*Q\n",
    "\n",
    "#print\n",
    "df_p_vals_order"
   ]
  },
  {
   "cell_type": "markdown",
   "id": "7e65f297",
   "metadata": {},
   "source": [
    "##### Compare original p-values to the Benjamini-Hochberg critical value \n",
    "\n",
    "If the original p-values smaller than Benjamini-Hochberg critical, then the test are significant (reject $H_0$)\n"
   ]
  },
  {
   "cell_type": "code",
   "execution_count": 187,
   "id": "e5c8a7bf",
   "metadata": {},
   "outputs": [
    {
     "data": {
      "text/html": [
       "<div>\n",
       "<style scoped>\n",
       "    .dataframe tbody tr th:only-of-type {\n",
       "        vertical-align: middle;\n",
       "    }\n",
       "\n",
       "    .dataframe tbody tr th {\n",
       "        vertical-align: top;\n",
       "    }\n",
       "\n",
       "    .dataframe thead th {\n",
       "        text-align: right;\n",
       "    }\n",
       "</style>\n",
       "<table border=\"1\" class=\"dataframe\">\n",
       "  <thead>\n",
       "    <tr style=\"text-align: right;\">\n",
       "      <th></th>\n",
       "      <th>pair_group</th>\n",
       "      <th>p-value</th>\n",
       "      <th>rank</th>\n",
       "      <th>BH-crit</th>\n",
       "      <th>Significant?</th>\n",
       "    </tr>\n",
       "  </thead>\n",
       "  <tbody>\n",
       "    <tr>\n",
       "      <th>4</th>\n",
       "      <td>D &gt; B</td>\n",
       "      <td>8.804601e-62</td>\n",
       "      <td>1</td>\n",
       "      <td>0.008333</td>\n",
       "      <td>Yes</td>\n",
       "    </tr>\n",
       "    <tr>\n",
       "      <th>3</th>\n",
       "      <td>C &gt; B</td>\n",
       "      <td>5.364431e-60</td>\n",
       "      <td>2</td>\n",
       "      <td>0.016667</td>\n",
       "      <td>Yes</td>\n",
       "    </tr>\n",
       "    <tr>\n",
       "      <th>2</th>\n",
       "      <td>D &gt; A</td>\n",
       "      <td>2.374838e-31</td>\n",
       "      <td>3</td>\n",
       "      <td>0.025000</td>\n",
       "      <td>Yes</td>\n",
       "    </tr>\n",
       "    <tr>\n",
       "      <th>1</th>\n",
       "      <td>C &gt; A</td>\n",
       "      <td>4.297854e-30</td>\n",
       "      <td>4</td>\n",
       "      <td>0.033333</td>\n",
       "      <td>Yes</td>\n",
       "    </tr>\n",
       "    <tr>\n",
       "      <th>5</th>\n",
       "      <td>D &gt; C</td>\n",
       "      <td>4.004879e-01</td>\n",
       "      <td>5</td>\n",
       "      <td>0.041667</td>\n",
       "      <td>No</td>\n",
       "    </tr>\n",
       "    <tr>\n",
       "      <th>0</th>\n",
       "      <td>B &gt; A</td>\n",
       "      <td>9.999997e-01</td>\n",
       "      <td>6</td>\n",
       "      <td>0.050000</td>\n",
       "      <td>No</td>\n",
       "    </tr>\n",
       "  </tbody>\n",
       "</table>\n",
       "</div>"
      ],
      "text/plain": [
       "  pair_group       p-value  rank   BH-crit Significant?\n",
       "4      D > B  8.804601e-62     1  0.008333          Yes\n",
       "3      C > B  5.364431e-60     2  0.016667          Yes\n",
       "2      D > A  2.374838e-31     3  0.025000          Yes\n",
       "1      C > A  4.297854e-30     4  0.033333          Yes\n",
       "5      D > C  4.004879e-01     5  0.041667           No\n",
       "0      B > A  9.999997e-01     6  0.050000           No"
      ]
     },
     "execution_count": 187,
     "metadata": {},
     "output_type": "execute_result"
    }
   ],
   "source": [
    "# make new column with condition\n",
    "df_p_vals_order['Significant?'] = np.where(df_p_vals_order['p-value'] < df_p_vals_order['BH-crit'],\n",
    "                                           'Yes',\n",
    "                                           'No')\n",
    "\n",
    "#print\n",
    "df_p_vals_order"
   ]
  },
  {
   "cell_type": "markdown",
   "id": "cdc3739e",
   "metadata": {},
   "source": [
    "Kolom-kolom dalam Hasil:\n",
    "\n",
    "1. pair_group:\n",
    "\n",
    "> Ini menunjukkan perbandingan antara grup yang diuji. Misalnya, \"D > B\" berarti membandingkan konversi grup C dengan grup A.\n",
    "\n",
    "2. p-value:\n",
    "\n",
    ">Ini adalah nilai probabilitas yang dihasilkan dari uji hipotesis untuk masing-masing perbandingan. P-value yang sangat kecil menunjukkan bahwa ada perbedaan yang signifikan antara dua grup.\n",
    "Contoh:\n",
    "Untuk perbandingan D dan B, p-value sangat kecil (8.804601e-62), menunjukkan bahwa konversi grup D jauh lebih tinggi dibandingkan grup B.\n",
    "\n",
    "3. rank:\n",
    "\n",
    ">Ini menunjukkan urutan p-value dari yang terkecil ke yang terbesar. Semakin kecil p-value, semakin tinggi peringkatnya. Dalam konteks ini, ini mencerminkan urutan kekuatan bukti untuk perbandingan konversi.\n",
    "Contoh:\n",
    "\"D > B\" mendapat peringkat 1, yang berarti ini adalah perbandingan paling signifikan.\n",
    "\n",
    "4. BH-crit:\n",
    "\n",
    ">Ini adalah nilai kritis yang ditentukan oleh metode Benjamini-Hochberg, yang digunakan untuk menentukan batas p-value yang dapat diterima untuk menghindari kesalahan Tipe I.\n",
    "Nilai ini dihitung berdasarkan peringkat p-value dan jumlah total uji yang dilakukan. Semakin tinggi peringkat, semakin besar nilai BH-crit.\n",
    "Dalam contoh Anda, jika p-value lebih kecil dari BH-crit, kita menolak hipotesis nol.\n",
    "\n",
    "##### **Interpretasi Hasil:**\n",
    "1. D > B (p-value: 8.804601e-62):\n",
    "\n",
    "- Rank 1, BH-crit: 0.008333, Significant: Yes\n",
    "- P-value yang sangat kecil, jauh di bawah batas BH-crit. Ini berarti kita menolak hipotesis nol (H₀) dan menyimpulkan bahwa konversi di grup D jauh lebih tinggi dibandingkan dengan grup B.\n",
    "\n",
    "2. C > B (p-value: 5.364431e-60):\n",
    "\n",
    "- Rank 2, BH-crit: 0.016667, Significant: Yes\n",
    "- P-value juga sangat kecil, jauh di bawah BH-crit. Ini menunjukkan bahwa konversi grup C lebih tinggi dibandingkan dengan grup B, dan kita menolak H₀.\n",
    "\n",
    "3. D > A (p-value: 2.374838e-31):\n",
    "\n",
    "- Rank 3, BH-crit: 0.025000, Significant: Yes\n",
    "- P-value jauh di bawah BH-crit, sehingga kita menolak H₀. Konversi di grup D lebih tinggi dibandingkan grup A.\n",
    "\n",
    "4. C > A (p-value: 4.297854e-30):\n",
    "\n",
    "- Rank 4, BH-crit: 0.033333, Significant: Yes\n",
    "- P-value sangat kecil, kita menolak H₀, dan dapat disimpulkan bahwa konversi di grup C lebih tinggi dibandingkan dengan grup A.\n",
    "\n",
    "5. D > C (p-value: 0.400488):\n",
    "\n",
    "- Rank 5, BH-crit: 0.041667, Significant: No\n",
    "- P-value lebih besar dari BH-crit, sehingga kita gagal menolak H₀. Tidak ada bukti yang cukup untuk menyimpulkan bahwa konversi grup D lebih tinggi dibandingkan grup C.\n",
    "\n",
    "6. B > A (p-value: 0.9999997):\n",
    "\n",
    "- Rank 6, BH-crit: 0.050000, Significant: No\n",
    "- P-value sangat besar, jauh di atas BH-crit. Ini menunjukkan bahwa kita gagal menolak H₀, dan tidak ada cukup bukti untuk menyatakan bahwa konversi grup B lebih tinggi dibandingkan grup A."
   ]
  },
  {
   "cell_type": "markdown",
   "id": "8eadd5f2",
   "metadata": {},
   "source": [
    "**Conclusion**\n",
    "\n",
    "- Grup D memiliki performa konversi terbaik, unggul secara signifikan dibandingkan dengan grup B dan A.\n",
    "- Grup C juga memiliki performa yang lebih baik dibandingkan dengan grup A dan B, tetapi tidak lebih baik dari grup D.\n",
    "- Tidak ada bukti yang cukup bahwa Grup B memiliki konversi lebih tinggi daripada grup A atau bahwa grup D lebih baik daripada grup C."
   ]
  },
  {
   "cell_type": "markdown",
   "id": "2051ed94",
   "metadata": {},
   "source": [
    "1. Grup D\n",
    "2. Grup C\n",
    "3. Grup B\n",
    "4. Grup A"
   ]
  },
  {
   "cell_type": "markdown",
   "id": "ef05ec5e",
   "metadata": {},
   "source": [
    "        WHEN [OfferId] ='ae264e3637204a6fb9bb56bc8210ddfd' THEN 'A'\n",
    "        WHEN [OfferId] = '4d5c57ea9a6940dd891ad53e9dbe8da0' THEN 'B'\n",
    "        WHEN [OfferId] = '9b98b8c7a33c4b65b9aebfe6a799e6d9'THEN 'C'\n",
    "        WHEN [OfferId] = 'f19421c1d4aa40978ebb69ca19b0e20d' THEN 'D'"
   ]
  },
  {
   "cell_type": "code",
   "execution_count": 197,
   "id": "c83b6293",
   "metadata": {},
   "outputs": [],
   "source": [
    "query2 = ''' \n",
    "SELECT \n",
    "    left(OfferId, 4) as offerid,\n",
    "    CASE\n",
    "        WHEN [OfferId] = 'ae264e3637204a6fb9bb56bc8210ddfd' THEN 'A'\n",
    "        WHEN [OfferId] = '4d5c57ea9a6940dd891ad53e9dbe8da0' THEN 'B'\n",
    "        WHEN [OfferId] = '9b98b8c7a33c4b65b9aebfe6a799e6d9' THEN 'C'\n",
    "        WHEN [OfferId] = 'f19421c1d4aa40978ebb69ca19b0e20d' THEN 'D'\n",
    "    END AS GROUPS,\n",
    "    SUM(CAST(reward_get AS float)) AS Reward_Give,\n",
    "    SUM(CAST(Amount AS float)) AS Total_Amount,\n",
    "    SUM(CAST(Amount AS float)) - SUM(CAST(reward_get AS float)) AS ranges\n",
    "FROM [ads].[dbo].[new_data]\n",
    "WHERE offer_type = 'bogo'\n",
    "GROUP BY OfferId,\n",
    "    CASE\n",
    "        WHEN [OfferId] = 'ae264e3637204a6fb9bb56bc8210ddfd' THEN 'A'\n",
    "        WHEN [OfferId] = '4d5c57ea9a6940dd891ad53e9dbe8da0' THEN 'B'\n",
    "        WHEN [OfferId] = '9b98b8c7a33c4b65b9aebfe6a799e6d9' THEN 'C'\n",
    "        WHEN [OfferId] = 'f19421c1d4aa40978ebb69ca19b0e20d' THEN 'D'\n",
    "    END;\n",
    "\n",
    "  '''"
   ]
  },
  {
   "cell_type": "code",
   "execution_count": 198,
   "id": "8393693b",
   "metadata": {},
   "outputs": [
    {
     "data": {
      "text/html": [
       "<div>\n",
       "<style scoped>\n",
       "    .dataframe tbody tr th:only-of-type {\n",
       "        vertical-align: middle;\n",
       "    }\n",
       "\n",
       "    .dataframe tbody tr th {\n",
       "        vertical-align: top;\n",
       "    }\n",
       "\n",
       "    .dataframe thead th {\n",
       "        text-align: right;\n",
       "    }\n",
       "</style>\n",
       "<table border=\"1\" class=\"dataframe\">\n",
       "  <thead>\n",
       "    <tr style=\"text-align: right;\">\n",
       "      <th></th>\n",
       "      <th>offerid</th>\n",
       "      <th>GROUPS</th>\n",
       "      <th>Reward_Give</th>\n",
       "      <th>Total_Amount</th>\n",
       "      <th>ranges</th>\n",
       "    </tr>\n",
       "  </thead>\n",
       "  <tbody>\n",
       "    <tr>\n",
       "      <th>0</th>\n",
       "      <td>ae26</td>\n",
       "      <td>A</td>\n",
       "      <td>36350.0</td>\n",
       "      <td>76727.28</td>\n",
       "      <td>40377.28</td>\n",
       "    </tr>\n",
       "    <tr>\n",
       "      <th>1</th>\n",
       "      <td>4d5c</td>\n",
       "      <td>B</td>\n",
       "      <td>33010.0</td>\n",
       "      <td>69963.98</td>\n",
       "      <td>36953.98</td>\n",
       "    </tr>\n",
       "    <tr>\n",
       "      <th>2</th>\n",
       "      <td>9b98</td>\n",
       "      <td>C</td>\n",
       "      <td>21515.0</td>\n",
       "      <td>68038.25</td>\n",
       "      <td>46523.25</td>\n",
       "    </tr>\n",
       "    <tr>\n",
       "      <th>3</th>\n",
       "      <td>f194</td>\n",
       "      <td>D</td>\n",
       "      <td>21310.0</td>\n",
       "      <td>73341.68</td>\n",
       "      <td>52031.68</td>\n",
       "    </tr>\n",
       "  </tbody>\n",
       "</table>\n",
       "</div>"
      ],
      "text/plain": [
       "  offerid GROUPS  Reward_Give  Total_Amount    ranges\n",
       "0    ae26      A      36350.0      76727.28  40377.28\n",
       "1    4d5c      B      33010.0      69963.98  36953.98\n",
       "2    9b98      C      21515.0      68038.25  46523.25\n",
       "3    f194      D      21310.0      73341.68  52031.68"
      ]
     },
     "execution_count": 198,
     "metadata": {},
     "output_type": "execute_result"
    }
   ],
   "source": [
    "# Eksekusi query menggunakan pandas\n",
    "df3 = pd.read_sql(query2, engine)\n",
    "df3"
   ]
  },
  {
   "cell_type": "markdown",
   "id": "9b910512",
   "metadata": {},
   "source": [
    "1. Grup D (Offer ID: f194):\n",
    "\n",
    "Grup D adalah yang terbaik dalam hal performa konversi, terutama dalam menghasilkan margin terbesar. Dengan Reward Give sebesar 21.310 dan Total Amount sebesar 73.341,68, grup ini menunjukkan efisiensi tinggi dalam hal reward yang diberikan dan total nilai transaksi. Range sebesar 52.031,68 adalah yang tertinggi, menunjukkan kemampuan Grup D dalam memberikan hasil konversi terbaik dengan alokasi reward yang efisien.\n",
    "\n",
    "2. Grup C (Offer ID: 9b98):\n",
    "\n",
    "Grup C menempati posisi kedua dalam performa konversi. Meskipun reward yang diberikan lebih kecil (21.515), Grup C berhasil mencapai Total Amount sebesar 68.038,25 dan range sebesar 46.523,25. Ini menunjukkan bahwa Grup C sangat efisien dalam menghasilkan nilai transaksi yang baik dengan reward yang lebih rendah dibandingkan Grup D.\n",
    "\n",
    "3. Grup A (Offer ID: ae26):\n",
    "\n",
    "Grup A berada di posisi ketiga, dengan Reward Give yang tertinggi yaitu 36.350 dan Total Amount sebesar 76.727,28. Meskipun jumlah reward yang diberikan sangat besar, range sebesar 40.377,28 lebih rendah dibandingkan Grup D dan C, menandakan bahwa Grup A memiliki efisiensi yang lebih rendah dalam mengkonversi reward menjadi transaksi.\n",
    "\n",
    "4. Grup B (Offer ID: 4d5c):\n",
    "\n",
    "Grup B menunjukkan performa terendah dalam konversi dengan Reward Give sebesar 33.010 dan Total Amount sebesar 69.963,98. Dengan range terendah sebesar 36.953,98, Grup B terlihat kurang efisien dalam menghasilkan transaksi dibandingkan grup lainnya, meskipun memberikan reward yang cukup besar."
   ]
  },
  {
   "cell_type": "markdown",
   "id": "6c27f0c0",
   "metadata": {},
   "source": [
    "#### Kesimpulan "
   ]
  },
  {
   "cell_type": "markdown",
   "id": "cffb6ab9",
   "metadata": {},
   "source": [
    "* Grup D adalah yang terbaik dalam hal efisiensi konversi reward menjadi transaksi.\n",
    "* Grup C menempati posisi kedua dengan performa konversi yang solid meskipun dengan reward lebih rendah.\n",
    "* Grup A memberikan reward yang besar, namun efisiensinya lebih rendah dalam menghasilkan transaksi.\n",
    "* Grup B memiliki performa terendah dalam konversi dan range terkecil, menjadikannya pilihan paling tidak efektif."
   ]
  },
  {
   "cell_type": "markdown",
   "id": "92d4b6f1",
   "metadata": {},
   "source": [
    "#### confidence interval dari perbedaan antara group"
   ]
  },
  {
   "cell_type": "markdown",
   "id": "ebfa1870",
   "metadata": {},
   "source": [
    "*   Untuk menghitung confidence interval for proportion, kita dapat menggunakan [statsmodels.stats.proportion.confint_proportions_2indep](https://https://www.statsmodels.org/stable/generated/statsmodels.stats.proportion.confint_proportions_2indep.html)\n",
    "\n"
   ]
  },
  {
   "cell_type": "code",
   "execution_count": 190,
   "id": "981568df",
   "metadata": {},
   "outputs": [
    {
     "name": "stdout",
     "output_type": "stream",
     "text": [
      "Difference A vs B: (-0.06159750261643404, -0.026899777909596117)\n"
     ]
    }
   ],
   "source": [
    "confidence_interval_AB = confint_proportions_2indep(count1 = n_convertB, nobs1 = n_B,\n",
    "                                                 count2 = n_convertA, nobs2 = n_A, \n",
    "                                                 compare='diff', alpha=0.05)\n",
    "print(f\"Difference A vs B: {confidence_interval_AB}\")"
   ]
  },
  {
   "cell_type": "code",
   "execution_count": 191,
   "id": "128c2809",
   "metadata": {},
   "outputs": [
    {
     "name": "stdout",
     "output_type": "stream",
     "text": [
      "Difference A vs C: (0.08368513114807757, 0.1184568291438987)\n"
     ]
    }
   ],
   "source": [
    "confidence_interval_AC = confint_proportions_2indep(count1 = n_convertC, nobs1 = n_C,\n",
    "                                                 count2 = n_convertA, nobs2 = n_A, \n",
    "                                                 compare='diff', alpha=0.05)\n",
    "print(f\"Difference A vs C: {confidence_interval_AC}\")"
   ]
  },
  {
   "cell_type": "code",
   "execution_count": 192,
   "id": "2cbffadd",
   "metadata": {},
   "outputs": [
    {
     "name": "stdout",
     "output_type": "stream",
     "text": [
      "Difference A vs D: (0.08591868831249476, 0.12067995770193314)\n"
     ]
    }
   ],
   "source": [
    "confidence_interval_AD = confint_proportions_2indep(count1 = n_convertD, nobs1 = n_D,\n",
    "                                                 count2 = n_convertA, nobs2 = n_A, \n",
    "                                                 compare='diff', alpha=0.05)\n",
    "print(f\"Difference A vs D: {confidence_interval_AD}\")"
   ]
  },
  {
   "cell_type": "code",
   "execution_count": 193,
   "id": "8ab050c5",
   "metadata": {},
   "outputs": [
    {
     "name": "stdout",
     "output_type": "stream",
     "text": [
      "Difference B vs C: (0.12802364015214523, 0.16261502935871716)\n"
     ]
    }
   ],
   "source": [
    "confidence_interval_BC = confint_proportions_2indep(count1 = n_convertC, nobs1 = n_C,\n",
    "                                                 count2 = n_convertB, nobs2 = n_B, \n",
    "                                                 compare='diff', alpha=0.05)\n",
    "print(f\"Difference B vs C: {confidence_interval_BC}\")"
   ]
  },
  {
   "cell_type": "code",
   "execution_count": 194,
   "id": "109e92de",
   "metadata": {},
   "outputs": [
    {
     "name": "stdout",
     "output_type": "stream",
     "text": [
      "Difference B vs D: (0.13025721473444443, 0.16483811875852816)\n"
     ]
    }
   ],
   "source": [
    "confidence_interval_BD = confint_proportions_2indep(count1 = n_convertD, nobs1 = n_D,\n",
    "                                                 count2 = n_convertB, nobs2 = n_B, \n",
    "                                                 compare='diff', alpha=0.05)\n",
    "print(f\"Difference B vs D: {confidence_interval_BD}\")"
   ]
  },
  {
   "cell_type": "code",
   "execution_count": 195,
   "id": "94944fd7",
   "metadata": {},
   "outputs": [
    {
     "name": "stdout",
     "output_type": "stream",
     "text": [
      "Difference C vs D: (-0.015099372425550504, 0.019556078589053533)\n"
     ]
    }
   ],
   "source": [
    "confidence_interval_CD = confint_proportions_2indep(count1 = n_convertD, nobs1 = n_D,\n",
    "                                                 count2 = n_convertC, nobs2 = n_C, \n",
    "                                                 compare='diff', alpha=0.05)\n",
    "print(f\"Difference C vs D: {confidence_interval_CD}\")"
   ]
  },
  {
   "cell_type": "code",
   "execution_count": 196,
   "id": "881105a2",
   "metadata": {},
   "outputs": [
    {
     "data": {
      "text/html": [
       "<div>\n",
       "<style scoped>\n",
       "    .dataframe tbody tr th:only-of-type {\n",
       "        vertical-align: middle;\n",
       "    }\n",
       "\n",
       "    .dataframe tbody tr th {\n",
       "        vertical-align: top;\n",
       "    }\n",
       "\n",
       "    .dataframe thead th {\n",
       "        text-align: right;\n",
       "    }\n",
       "</style>\n",
       "<table border=\"1\" class=\"dataframe\">\n",
       "  <thead>\n",
       "    <tr style=\"text-align: right;\">\n",
       "      <th></th>\n",
       "      <th>lower</th>\n",
       "      <th>upper</th>\n",
       "    </tr>\n",
       "  </thead>\n",
       "  <tbody>\n",
       "    <tr>\n",
       "      <th>confidence_interval_AB</th>\n",
       "      <td>-0.061598</td>\n",
       "      <td>-0.026900</td>\n",
       "    </tr>\n",
       "    <tr>\n",
       "      <th>confidence_interval_AC</th>\n",
       "      <td>0.083685</td>\n",
       "      <td>0.118457</td>\n",
       "    </tr>\n",
       "    <tr>\n",
       "      <th>confidence_interval_AD</th>\n",
       "      <td>0.085919</td>\n",
       "      <td>0.120680</td>\n",
       "    </tr>\n",
       "    <tr>\n",
       "      <th>confidence_interval_BC</th>\n",
       "      <td>0.128024</td>\n",
       "      <td>0.162615</td>\n",
       "    </tr>\n",
       "    <tr>\n",
       "      <th>confidence_interval_BD</th>\n",
       "      <td>0.130257</td>\n",
       "      <td>0.164838</td>\n",
       "    </tr>\n",
       "    <tr>\n",
       "      <th>confidence_interval_CD</th>\n",
       "      <td>-0.015099</td>\n",
       "      <td>0.019556</td>\n",
       "    </tr>\n",
       "  </tbody>\n",
       "</table>\n",
       "</div>"
      ],
      "text/plain": [
       "                           lower     upper\n",
       "confidence_interval_AB -0.061598 -0.026900\n",
       "confidence_interval_AC  0.083685  0.118457\n",
       "confidence_interval_AD  0.085919  0.120680\n",
       "confidence_interval_BC  0.128024  0.162615\n",
       "confidence_interval_BD  0.130257  0.164838\n",
       "confidence_interval_CD -0.015099  0.019556"
      ]
     },
     "execution_count": 196,
     "metadata": {},
     "output_type": "execute_result"
    }
   ],
   "source": [
    "confidence_interval_AB = list(confidence_interval_AB)\n",
    "confidence_interval_AC = list(confidence_interval_AC)\n",
    "confidence_interval_AD = list(confidence_interval_AD)\n",
    "confidence_interval_BC = list(confidence_interval_BC)\n",
    "confidence_interval_BD = list(confidence_interval_BD)\n",
    "confidence_interval_CD = list(confidence_interval_CD)\n",
    "\n",
    "index = ['confidence_interval_AB','confidence_interval_AC','confidence_interval_AD','confidence_interval_BC',\n",
    "         'confidence_interval_BD','confidence_interval_CD']\n",
    "\n",
    "confidence_interval = [confidence_interval_AB, confidence_interval_AC, confidence_interval_AD,\n",
    "                      confidence_interval_BC, confidence_interval_BD, confidence_interval_CD]\n",
    "\n",
    "df_ci = pd.DataFrame(confidence_interval, columns = [\"lower\",\"upper\"])\n",
    "df_ci = df_ci.set_index([index])\n",
    "df_ci"
   ]
  },
  {
   "cell_type": "markdown",
   "id": "55e8dee0",
   "metadata": {},
   "source": [
    "**confidence interval (CI)** digunakan untuk memperkirakan rentang perbedaan proporsi konversi antara dua grup secara statistik. Interval ini menunjukkan sejauh mana kita bisa yakin bahwa perbedaan antara dua proporsi konversi sebenarnya berada dalam rentang tertentu, dengan tingkat kepercayaan (confidence level) sebesar 95%.\n",
    "\n",
    "Mari kita bahas interpretasi dari setiap pasangan grup berdasarkan hasil confidence interval:\n",
    "\n",
    "1. confidence_interval_AB (B vs A):\n",
    "\n",
    "- Lower bound: -0.061598\n",
    "- Upper bound: -0.026900\n",
    "\n",
    "Artinya, Interval ini berada di bawah nol, yang berarti bahwa grup A memiliki proporsi konversi yang lebih rendah dibandingkan grup B. Tidak ada kemungkinan bahwa grup A lebih baik dari grup B dalam hal konversi.\n",
    "\n",
    "2. confidence_interval_AC (C vs A):\n",
    "\n",
    "- Lower bound: 0.083685\n",
    "- Upper bound: 0.118457\n",
    "\n",
    "Interval ini seluruhnya di atas nol, yang berarti bahwa grup C memiliki proporsi konversi yang lebih tinggi daripada grup A. Perbedaan signifikan ini mendukung bahwa grup C lebih baik dalam hal konversi dibandingkan A.\n",
    "\n",
    "3. confidence_interval_AD (D vs A):\n",
    "\n",
    "- Lower bound: 0.085919\n",
    "- Upper bound: 0.120680\n",
    "\n",
    "Sama seperti A vs C, interval ini juga di atas nol, menunjukkan bahwa grup D memiliki proporsi konversi yang lebih tinggi daripada grup A\n",
    "\n",
    "4. confidence_interval_BC (C vs B):\n",
    "\n",
    "- Lower bound: 0.128024\n",
    "- Upper bound: 0.162615\n",
    "\n",
    "Interval ini menunjukkan bahwa grup C memiliki proporsi konversi yang lebih tinggi dibandingkan grup B. Grup C secara signifikan lebih unggul dalam hal konversi dibandingkan grup B.\n",
    "\n",
    "5. confidence_interval_BD (D vs B):\n",
    "\n",
    "- Lower bound: 0.130257\n",
    "- Upper bound: 0.164838\n",
    "\n",
    "Sama seperti B vs C, interval ini menunjukkan bahwa grup D memiliki proporsi konversi yang lebih tinggi dibandingkan grup B.\n",
    "\n",
    "6. confidence_interval_CD (C vs D):\n",
    "\n",
    "- Lower bound: -0.015099\n",
    "- Upper bound: 0.019556\n",
    "\n",
    "Interval ini mengandung nol, yang berarti tidak ada perbedaan yang signifikan antara proporsi konversi grup C dan grup D. Kedua grup ini memiliki kinerja konversi yang kurang lebih sama.\n",
    "\n",
    "**Kesimpulan dari hasil confidence interval ini:**\n",
    "\n",
    "- Grup C dan D secara signifikan lebih baik dalam konversi dibandingkan dengan grup A dan B.\n",
    "- Tidak ada perbedaan signifikan antara C dan D, artinya mereka memiliki performa konversi yang hampir setara.\n",
    "- Grup B lebih baik dari Grup A, tetapi masih kalah dari grup C dan D.\n",
    "\n",
    "Confidence interval ini mendukung kesimpulan sebelumnya bahwa Grup C dan D adalah yang terbaik, diikuti oleh Grup A, dengan Grup B "
   ]
  },
  {
   "cell_type": "markdown",
   "id": "2a59b922",
   "metadata": {},
   "source": [
    "**semua hal diatas dikerjakan dengan mengimplementasikan apa yang saya pelajari melalui pacmannn** 👍💗\n",
    "**dan jika ada kesalahan dalam pengerjaan bukan lah salah pacmann namun itu kesalahan saya yang kurang dalam memahami maksud dan tujuan dari tiap perintah baris code, maka dari itu jika ada yang salah tolong koreksi 😊**\n",
    "\n",
    "**untuk SQL saya sendiri yang mengerjakan sedangkan yang python banyak bantuan AI dalam pengerjaanya dan code yang dishare pacmann dari tiap live classnya**"
   ]
  },
  {
   "cell_type": "code",
   "execution_count": null,
   "id": "945f8644",
   "metadata": {},
   "outputs": [],
   "source": []
  }
 ],
 "metadata": {
  "kernelspec": {
   "display_name": "Python 3",
   "language": "python",
   "name": "python3"
  },
  "language_info": {
   "codemirror_mode": {
    "name": "ipython",
    "version": 3
   },
   "file_extension": ".py",
   "mimetype": "text/x-python",
   "name": "python",
   "nbconvert_exporter": "python",
   "pygments_lexer": "ipython3",
   "version": "3.8.5"
  }
 },
 "nbformat": 4,
 "nbformat_minor": 5
}
