{
 "cells": [
  {
   "cell_type": "markdown",
   "id": "43c0ac0e",
   "metadata": {},
   "source": [
    "# Implementation of AB Testing in Cafe Rewards"
   ]
  },
  {
   "cell_type": "markdown",
   "id": "a4cbaf7c",
   "metadata": {},
   "source": [
    "## A. Introduction & Background"
   ]
  },
  {
   "cell_type": "markdown",
   "id": "45e266ea",
   "metadata": {},
   "source": [
    "### Challenge Objective"
   ]
  },
  {
   "cell_type": "markdown",
   "id": "51891e68",
   "metadata": {},
   "source": [
    "You've just run a test by sending different combinations of promotional offers to existing rewards members. Now that the 30-day period for the test has concluded, your task is to identify key customer segments and develop a data-driven strategy for future promotional messaging & targeting.\n",
    "\n",
    "The results need to be summarized in a report that will be presented to the CMO"
   ]
  },
  {
   "cell_type": "markdown",
   "id": "2291fc2f",
   "metadata": {},
   "source": [
    "Data that simulates the behavior of Cafe Rewards members over a 30-day period, including their transactions and responses to promotional offers. The data is contained in three files: one with details on each offer, another with demographic information on each customer, and a third with the activity for each customer during the period. The activities are divided into offer received, offer viewed, offer accepted, and transaction. For a transaction to be attributed to an offer, it must occur at the same time as when the offer was \"completed\" by the customer."
   ]
  },
  {
   "cell_type": "markdown",
   "id": "3c24d26a",
   "metadata": {},
   "source": [
    "## B. Import Library "
   ]
  },
  {
   "cell_type": "code",
   "execution_count": 14,
   "id": "0466dd0a",
   "metadata": {},
   "outputs": [
    {
     "name": "stdout",
     "output_type": "stream",
     "text": [
      "Requirement already satisfied: pyodbc in c:\\users\\theone\\miniconda3\\lib\\site-packages (5.1.0)\n",
      "Note: you may need to restart the kernel to use updated packages.\n"
     ]
    }
   ],
   "source": [
    "pip install pyodbc"
   ]
  },
  {
   "cell_type": "code",
   "execution_count": 15,
   "id": "6acf0af0",
   "metadata": {},
   "outputs": [
    {
     "name": "stdout",
     "output_type": "stream",
     "text": [
      "Requirement already satisfied: sqlalchemy in c:\\users\\theone\\miniconda3\\lib\\site-packages (2.0.35)\n",
      "Requirement already satisfied: greenlet!=0.4.17; python_version < \"3.13\" and (platform_machine == \"aarch64\" or (platform_machine == \"ppc64le\" or (platform_machine == \"x86_64\" or (platform_machine == \"amd64\" or (platform_machine == \"AMD64\" or (platform_machine == \"win32\" or platform_machine == \"WIN32\")))))) in c:\\users\\theone\\miniconda3\\lib\\site-packages (from sqlalchemy) (3.1.0)\n",
      "Requirement already satisfied: typing-extensions>=4.6.0 in c:\\users\\theone\\miniconda3\\lib\\site-packages (from sqlalchemy) (4.8.0)\n",
      "Note: you may need to restart the kernel to use updated packages.\n"
     ]
    }
   ],
   "source": [
    "pip install sqlalchemy"
   ]
  },
  {
   "cell_type": "code",
   "execution_count": 16,
   "id": "7e5f68fb",
   "metadata": {},
   "outputs": [],
   "source": [
    "import pyodbc as pyodbc\n",
    "import pandas as pd\n",
    "from sqlalchemy import create_engine\n",
    "import numpy as np\n",
    "import seaborn as sns\n",
    "import scipy\n",
    "from scipy import stats\n",
    "import scipy.stats as st\n",
    "from statsmodels.stats.power import TTestIndPower\n",
    "import matplotlib.pyplot as plt\n",
    "from scipy.stats import chisquare\n",
    "from statsmodels.stats.proportion import proportions_ztest\n",
    "from statsmodels.stats.proportion import confint_proportions_2indep\n"
   ]
  },
  {
   "cell_type": "markdown",
   "id": "426e58f3",
   "metadata": {},
   "source": [
    "- pyodbc:\n",
    "\n",
    ">Fungsi: Digunakan untuk menghubungkan Python ke database menggunakan ODBC (Open Database Connectivity). pyodbc memungkinkan kamu menjalankan query SQL langsung dari Python.\n",
    "\n",
    "- pandas:\n",
    "    \n",
    ">Fungsi: Library utama untuk manipulasi dan analisis data. pandas memungkinkan pengelolaan data dalam bentuk DataFrame yang mudah digunakan untuk pembersihan data, agregasi, dan operasi statistik.\n",
    "\n",
    "- sqlalchemy:\n",
    "    \n",
    ">Fungsi: Sebuah toolkit dan ORM (Object-Relational Mapping) untuk Python. sqlalchemy digunakan untuk menghubungkan Python ke database dengan lebih mudah, membuat query SQL, dan mengelola transaksi.\n",
    "\n",
    "- numpy:\n",
    "    \n",
    ">Fungsi: Library untuk komputasi numerik. numpy digunakan untuk operasi matematika pada array dan matriks, serta manipulasi data yang lebih efisien.\n",
    "\n",
    "- seaborn:\n",
    "    \n",
    ">Fungsi: Library visualisasi data berbasis matplotlib. seaborn membuat pembuatan plot yang lebih estetik dan mudah untuk analisis statistik seperti scatter plots, histograms, dan heatmaps.\n",
    "\n",
    "- scipy.stats:\n",
    "\n",
    ">Fungsi: Bagian dari library scipy yang menyediakan berbagai fungsi statistik seperti uji hipotesis, distribusi probabilitas, serta pengukuran statistika lainnya.\n",
    "\n",
    "- scipy.stats.chisquare:\n",
    "\n",
    ">Fungsi: Melakukan uji chi-square, digunakan untuk membandingkan distribusi data yang diobservasi dengan distribusi yang diharapkan dalam statistik non-parametrik.\n",
    "\n",
    "- statsmodels.stats.power.TTestIndPower:\n",
    "\n",
    ">Fungsi: Digunakan untuk menghitung \"power\" statistik dalam uji T. Power analysis membantu menentukan ukuran sampel yang diperlukan untuk uji hipotesis yang efektif.\n",
    "\n",
    "- matplotlib.pyplot:\n",
    "\n",
    ">Fungsi: Library untuk visualisasi data. matplotlib.pyplot menyediakan alat untuk membuat grafik dasar seperti bar charts, line charts, scatter plots, dan histogram.\n",
    "\n",
    "- statsmodels.stats.proportion.proportions_ztest:\n",
    "\n",
    ">Fungsi: Melakukan uji Z pada proporsi, digunakan untuk menguji apakah ada perbedaan signifikan antara dua proporsi dalam uji hipotesis.\n",
    "\n",
    "- statsmodels.stats.proportion.confint_proportions_2indep:\n",
    "\n",
    ">Fungsi: Menghitung interval kepercayaan (confidence interval) untuk perbandingan dua proporsi independen."
   ]
  },
  {
   "cell_type": "markdown",
   "id": "f443afae",
   "metadata": {},
   "source": [
    "## C. Setting Up Problem"
   ]
  },
  {
   "cell_type": "markdown",
   "id": "0d2ada2f",
   "metadata": {},
   "source": [
    "### Experimental Goal"
   ]
  },
  {
   "cell_type": "markdown",
   "id": "6bfaeb28",
   "metadata": {},
   "source": [
    "Tujuan eksperimen ini adalah menguji Offer yang diberikan untuk menentukan Offer mana yang lebih efektif. secara spesifik, tujuanya adalah untuk mengidentifikasi Offer mana yang paling banyak digunakan dan pada akhirnya dapat meningkatkan jumlah pengguna yang loyal dengan Offer yang diberikan\n",
    "\n",
    "untuk mencapai tujuan ini, eksperimen dirancang untuk membandingkan dua atau lebih versi dari Offer Type yang sama, dimana satu versi menampilkan jumlah Reward, Difficult, Duration yang berbeda. Eksperimen kemudian dapat mengukur efektivtas masing masing offer yang diberikan dimana tujuan utamanya adalah untuk menentukan offer yang mana yang dapat membuat customer dapat menjadi loyal dan menggunakan informasi tersebut untuk menjadi acuan dalam pemberian Offer di masa mendatang"
   ]
  },
  {
   "cell_type": "markdown",
   "id": "c7a7f8a5",
   "metadata": {},
   "source": [
    "### Choosing Metrics"
   ]
  },
  {
   "cell_type": "markdown",
   "id": "74181bdb",
   "metadata": {},
   "source": [
    "Untuk merumuskan metrik eksperimen, ada beberapa langkah yang perlu dilakukan. Pertama, kita harus menetapkan tujuan dari eksperimen tersebut. Selanjutnya, kita perlu mengidentifikasi cara untuk mencapai tujuan tersebut. Dari tujuan dan pendekatan yang telah ditentukan, kita dapat menentukan hasil yang diharapkan. Setelah itu, kita bisa mengidentifikasi Metrik Penggerak (Driver Metrics) dan Metrik Pengawal (Guardrail Metrics).\n",
    "\n",
    "Metrik Penggerak harus sejalan dengan metrik tujuan, peka, dapat ditindaklanjuti, dan relevan dalam konteks eksperimen jangka pendek. Karakteristik ini menjadikan metrik tersebut sesuai untuk eksperimen. Sementara itu, Metrik Pengawal berfungsi untuk memberikan peringatan terkait hasil eksperimen yang mungkin menyesatkan. Metrik ini memantau potensi terjadinya trade-off yang tidak diinginkan dan dapat digunakan untuk memverifikasi keandalan hasil eksperimen. Terdapat dua jenis Metrik Pengawal:\n",
    "\n",
    "**a. Metrik Pengawal Organisasi**\n",
    "\n",
    "- Metrik ini mengidentifikasi apakah ada trade-off lain yang muncul saat melaksanakan inisiatif.\n",
    "- Jika metrik ini menunjukkan dampak negatif, perusahaan berpotensi mengalami kerugian.\n",
    "\n",
    "**b. Metrik Pengawal Kepercayaan (Trust-Related Guardrail Metrics)**\n",
    "\n",
    "- Metrik ini memantau tingkat kepercayaan (trustworthiness) dari eksperimen.\n",
    "- Metrik ini juga berfungsi untuk memeriksa pelanggaran terhadap asumsi yang ada.\n",
    "\n",
    "Berdasarkan aspek-aspek tersebut, penulis menentukan semua metrik yang diperlukan untuk eksperimen ini. Berikut adalah hasil penentuan metriknya.\n",
    "\n",
    "Conversion Rate digunakan sebagai metrik dalam analisis multivariat karena mewakili tujuan utama bisnis, seperti penjualan, dan memberikan ukuran langsung tentang efektivitas Offer. Metrik ini terukur, objektif, serta sensitif terhadap perubahan, sehingga memungkinkan deteksi perbedaan kecil antara variasi yang diuji. Selain itu, Conversion Rate memberikan hasil yang cepat, memudahkan perbandingan antara variasi, dan memungkinkan optimasi langsung berdasarkan kinerja terbaik. Karena itu, Conversion Rate menjadi pilihan ideal untuk menganalisis efektivitas berbagai kombinasi perlakuan dalam eksperimen jangka pendek."
   ]
  },
  {
   "cell_type": "markdown",
   "id": "68ed52cc",
   "metadata": {},
   "source": [
    "- Discount : \n",
    "            A.\tDif = 20 , Reward = 5 , Duration = 10, Channe = Web,Email\n",
    "            B.\tDif = 7 ,  Reward = 3 , Duration = 7, Channe = Web,Email,Mobile,Sosial\n",
    "            C.\tDif = 10 , Reward = 2 , Duration = 10, Channe = Web,Email,Mobile,Sosial\n",
    "            D.\tDif = 10 , Reward = 2 , Duration = 7, Channe = Web,Email,Mobile"
   ]
  },
  {
   "cell_type": "markdown",
   "id": "99041ee2",
   "metadata": {},
   "source": [
    "### Hypothesis"
   ]
  },
  {
   "cell_type": "markdown",
   "id": "e6d7b36f",
   "metadata": {},
   "source": [
    "Hipotesa dari tiap group sebagai berikut :\n",
    "\n",
    "- group 1 vs group 2\n",
    "    $$H_0 : p_B \\leq p_A$$\n",
    "    $$H_1 : p_B > p_A$$\n",
    "\n",
    "- group 1 vs group 3\n",
    "    $$H_0 : p_C \\leq p_A$$\n",
    "    $$H_1 : p_C > p_A$$\n",
    "\n",
    "- group 1 vs group 4\n",
    "    $$H_0 : p_D \\leq p_A$$\n",
    "    $$H_1 : p_D > p_A$$\n",
    "\n",
    "- group 2 vs group 3\n",
    "    $$H_0 : p_C \\leq p_B$$\n",
    "    $$H_1 : p_C > p_B$$\n",
    "\n",
    "- group 2 vs group 4\n",
    "    $$H_0 : p_D \\leq p_B$$\n",
    "    $$H_1 : p_D > p_B$$\n",
    "\n",
    "- group 3 vs group 4\n",
    "    $$H_0 : p_D \\leq p_C$$\n",
    "    $$H_1 : p_D > p_C$$\n",
    "    "
   ]
  },
  {
   "cell_type": "markdown",
   "id": "cdf771ab",
   "metadata": {},
   "source": [
    "### Designing Experiments"
   ]
  },
  {
   "cell_type": "markdown",
   "id": "66fa395c",
   "metadata": {},
   "source": [
    "#### •\tRandomization Unit"
   ]
  },
  {
   "cell_type": "markdown",
   "id": "99c6ea5d",
   "metadata": {},
   "source": [
    "Unit randomisasi adalah “siapa” atau “apa” yang secara acak dialokasikan ke setiap kelompok. Untuk mendapatkan konteks lebih spesifik dari eksperimen, kami membatasi populasi pada orang-orang yang berada di Jakarta."
   ]
  },
  {
   "cell_type": "markdown",
   "id": "1b0058c2",
   "metadata": {},
   "source": [
    "#### •\tTarget of randomization unit"
   ]
  },
  {
   "cell_type": "markdown",
   "id": "5f7eea12",
   "metadata": {},
   "source": [
    "Unit randomisasi yang ditargetkan adalah semua pengguna yang terpapar oleh Offer. Selain itu, kami juga mempertimbangkan DIfficult, Reward, Duration dan Channel sebagai variasi "
   ]
  },
  {
   "cell_type": "markdown",
   "id": "a5bb53a4",
   "metadata": {},
   "source": [
    "#### •\tSample size"
   ]
  },
  {
   "cell_type": "markdown",
   "id": "202b12aa",
   "metadata": {},
   "source": [
    "Ukuran sampel akan mempengaruhi kekuatan bukti untuk menunjukkan validitas eksperimen.\n",
    "\n",
    "**Tingkat Signifikansi (α)**\n",
    "α = P (Menerima H1 | Ho benar)\n",
    "Ini berarti peluang menerima H1, padahal Ho sebenarnya benar. Karena hal ini merupakan kesalahan, nilai α harus dikurangi. Secara konservatif, industri biasanya menggunakan 5% atau 1% untuk nilai α. Kami memutuskan menggunakan α = 5% sebagai tingkat signifikansi.\n",
    "\n",
    "**Tingkat Kekuatan (1 - β)**\n",
    "1 - β = P (Menolak Ho | Ho salah)\n",
    "Ini berarti peluang menolak Ho, padahal Ho sebenarnya salah. Karena hal ini benar, nilai 1 - β harus ditingkatkan. Secara konservatif, industri menggunakan 80% sebagai tingkat kekuatan. Kami memutuskan menggunakan 1 - β = 80% sebagai tingkat kekuatan.\n",
    "\n",
    "**Standar Deviasi Populasi (σ)**\n",
    "Untuk eksperimen ini, kami mengasumsikan standar deviasi populasi sebesar 0,2.\n",
    "\n",
    "**Perbedaan antara Kontrol dan Perlakuan (δ)**\n",
    "Untuk tujuan bisnis, kami berasumsi bahwa perlakuan ini akan menguntungkan jika rasio konversi meningkat sebesar 1%. Dengan demikian, manajemen akan lebih memilih mengimplementasikan Creative Ads dibandingkan PSA karena dampaknya terhadap peningkatan rasio konversi."
   ]
  },
  {
   "cell_type": "markdown",
   "id": "c487a0ee",
   "metadata": {},
   "source": [
    "#### • Calculating Sample Size"
   ]
  },
  {
   "cell_type": "markdown",
   "id": "c2472760",
   "metadata": {},
   "source": [
    "#### Berapa ukuran sampel minimum yang diperlukan ketika $\\alpha=5 \\%$ dan pangkat 80% ?"
   ]
  },
  {
   "cell_type": "markdown",
   "id": "a28f8a86",
   "metadata": {},
   "source": [
    "- Ingat, kita dapat memanfaatkan rumus yang tersedia untuk menghitung jumlah sampel minimum yang diperlukan.\n",
    "\n",
    "$$\n",
    "n = \\cfrac{2 \\sigma^2 (z_{1-\\alpha/2}+z_{1-\\beta})^2}{\\delta^2}\n",
    "$$"
   ]
  },
  {
   "cell_type": "markdown",
   "id": "2be1ad40",
   "metadata": {},
   "source": [
    "- Oleh karena itu, jika kita mengetahui nilai $z$, kita dapat menghitung jumlah sampel yang dibutuhkan.\n"
   ]
  },
  {
   "cell_type": "markdown",
   "id": "dfbd8d3f",
   "metadata": {},
   "source": [
    "- Dalam hal ini, kita tidak mengetahui deviasi standar dari tingkat konversi.\n",
    "- Namun, kita dapat menghitung deviasi standar dengan informasi tentang tingkat konversi dasar saat ini.\n",
    "- Peristiwa konversi dianggap sebagai percobaan Bernoulli, dengan $\\hat{p}=0.04$\n",
    "- Kita dapat menghitung deviasi standar dengan menggunakan rumus berikut yang berbasis pada distribusi Bernoulli:\n",
    "\n",
    "$$\\sigma=\\sqrt{\\hat{p}(1-\\hat{p})}$$"
   ]
  },
  {
   "cell_type": "markdown",
   "id": "45e5b108",
   "metadata": {},
   "source": [
    "- Penggunaan distribusi Bernoulli dalam konteks konversi karena:\n",
    "\n",
    ">Dua Hasil: Percobaan Bernoulli hanya memiliki dua hasil yang mungkin: keberhasilan (misalnya, konversi) dan kegagalan (tidak konversi). Ini sesuai dengan banyak situasi dalam analisis konversi, di mana kita melihat apakah pengguna melakukan tindakan tertentu atau tidak."
   ]
  },
  {
   "cell_type": "code",
   "execution_count": 17,
   "id": "476e3aaf",
   "metadata": {},
   "outputs": [
    {
     "data": {
      "text/plain": [
       "0.19595917942265423"
      ]
     },
     "execution_count": 17,
     "metadata": {},
     "output_type": "execute_result"
    }
   ],
   "source": [
    "# calculate standar deviation\n",
    "import numpy as np\n",
    "#given \n",
    "p=0.04\n",
    "\n",
    "std_dev = np.sqrt(p*(1-p))\n",
    "std_dev"
   ]
  },
  {
   "cell_type": "code",
   "execution_count": 18,
   "id": "15516b50",
   "metadata": {},
   "outputs": [],
   "source": [
    "# Given\n",
    "delta = 0.01        \n",
    "alpha = 0.05        \n",
    "power = 0.8         \n",
    "   "
   ]
  },
  {
   "cell_type": "code",
   "execution_count": 19,
   "id": "088fdc3a",
   "metadata": {},
   "outputs": [
    {
     "data": {
      "text/plain": [
       "0.19999999999999996"
      ]
     },
     "execution_count": 19,
     "metadata": {},
     "output_type": "execute_result"
    }
   ],
   "source": [
    "# calculate beta\n",
    "beta = 1 - power\n",
    "beta"
   ]
  },
  {
   "cell_type": "code",
   "execution_count": 20,
   "id": "f6361fc7",
   "metadata": {},
   "outputs": [
    {
     "data": {
      "text/plain": [
       "(1.959963984540054, 0.8416212335729143)"
      ]
     },
     "execution_count": 20,
     "metadata": {},
     "output_type": "execute_result"
    }
   ],
   "source": [
    "# calculate the z value\n",
    "z_alpha = stats.norm.ppf(1 - alpha/2)\n",
    "z_beta = stats.norm.ppf(1 - beta)\n",
    "\n",
    "z_alpha, z_beta"
   ]
  },
  {
   "cell_type": "code",
   "execution_count": 21,
   "id": "7bc5ae77",
   "metadata": {},
   "outputs": [
    {
     "name": "stdout",
     "output_type": "stream",
     "text": [
      "Number of sample size needed    : 6028\n"
     ]
    }
   ],
   "source": [
    "# then calculate the number of sample size\n",
    "n = 2 * (std_dev**2) * ((z_alpha+z_beta)**2) / (delta**2)\n",
    "\n",
    "print(f\"Number of sample size needed    : {n:.0f}\")"
   ]
  },
  {
   "cell_type": "markdown",
   "id": "c68fbe38",
   "metadata": {},
   "source": [
    "**In conclusion**\n",
    "- We need 6028 samples in one group"
   ]
  },
  {
   "cell_type": "markdown",
   "id": "d9d265df",
   "metadata": {},
   "source": [
    "## D.Import Data From SQL Server "
   ]
  },
  {
   "cell_type": "code",
   "execution_count": 22,
   "id": "06991f91",
   "metadata": {},
   "outputs": [],
   "source": [
    "connection_string = 'mssql+pyodbc://DESKTOP-KOO9GIJ\\\\MSSQLSERVER01/ads?driver=ODBC+Driver+17+for+SQL+Server'\n",
    "\n",
    "engine = create_engine(connection_string)"
   ]
  },
  {
   "cell_type": "code",
   "execution_count": 23,
   "id": "537002de",
   "metadata": {},
   "outputs": [],
   "source": [
    "query = ''' \n",
    "WITH ranked_offers AS (\n",
    "    SELECT \n",
    "        [offer],\n",
    "        [customer_id],\n",
    "        [event],\n",
    "        [time],\n",
    "        [Amount],\n",
    "        [OfferId],\n",
    "        [offer_type],\n",
    "        [duration],\n",
    "        ROW_NUMBER() OVER (PARTITION BY [customer_id], [OfferId] ORDER BY [time]) AS offer_sequence\n",
    "    FROM [ads].[dbo].[new_data]\n",
    "    WHERE [event] = 'offer received'\n",
    ")\n",
    ", cc as (\n",
    "SELECT \n",
    "    CASE \n",
    "        WHEN nd.[event] = 'offer received' \n",
    "        THEN CONCAT(nd.[OfferId], '_', ro.offer_sequence) \n",
    "        ELSE nd.[OfferId] \n",
    "    END AS final_offer_id\n",
    "\t,nd.*\n",
    "FROM [ads].[dbo].[new_data] nd\n",
    "LEFT JOIN ranked_offers ro\n",
    "    ON nd.[customer_id] = ro.[customer_id] \n",
    "    AND nd.[OfferId] = ro.[OfferId]\n",
    "    AND nd.[time] = ro.[time]\n",
    "\t)\n",
    ",r as  ( \n",
    "    SELECT \n",
    "\t\tCONCAT(customer_id, '_', OfferId, '_', CAST(time AS VARCHAR)) AS new_id,\n",
    "        OfferId,\n",
    "        customer_id\n",
    "    FROM \n",
    "        cc\n",
    "    WHERE \n",
    "         event = 'offer completed' or offer = 'Transaction With Offer' or offer_type = 'informational'\n",
    ")\n",
    ",c as ( \n",
    "SELECT \n",
    "\tCONCAT(customer_id, '_', OfferId, '_', CAST(time AS VARCHAR)) AS new_id,\n",
    "\tcase when event = 'transaction' then time else null end as time_transaction,\n",
    "    nd.*\n",
    "FROM \n",
    "    cc AS nd\n",
    "\twhere event != 'offer viewed' \n",
    "), dc as \n",
    "( \n",
    "select c.* from c\n",
    "where   \n",
    "     NOT EXISTS (\n",
    "        SELECT 1\n",
    "        FROM r \n",
    "        WHERE \n",
    "\t\t(r.customer_id = c.customer_id AND r.OfferId = c.OfferId)  \n",
    "\n",
    "    )  \n",
    "\n",
    "), kk as (\n",
    "select dc.* from dc\n",
    "where NOT EXISTS ( SELECT 1 FROM r WHERE r.new_id = dc.new_id  ) \n",
    "\n",
    "\n",
    ")\n",
    ", gabung as (\n",
    "select \n",
    "[offer]\n",
    "      ,[customer_id]\n",
    "      ,[event]\n",
    "      ,[time]\n",
    "      ,[Amount]\n",
    "      ,[OfferId]\n",
    "      ,[reward_get]\n",
    "      ,[Tahun]\n",
    "      ,[Bulan]\n",
    "      ,[Tanggal]\n",
    "      ,[became_member_on]\n",
    "      ,[gender]\n",
    "      ,[age]\n",
    "      ,[income]\n",
    "      ,[offer_type]\n",
    "from kk\n",
    "where event = 'offer received'\n",
    "union all \n",
    "SELECT \n",
    "\t\t[offer]\n",
    "      ,[customer_id]\n",
    "      ,[event]\n",
    "      ,[time]\n",
    "      ,[Amount]\n",
    "      ,[OfferId]\n",
    "      ,[reward_get]\n",
    "      ,[Tahun]\n",
    "      ,[Bulan]\n",
    "      ,[Tanggal]\n",
    "      ,[became_member_on]\n",
    "      ,[gender]\n",
    "      ,[age]\n",
    "      ,[income]\n",
    "      ,[offer_type]\n",
    "  FROM [ads].[dbo].[new_data]\n",
    "  where offer = 'Transaction With Offer' \n",
    "  )\n",
    "  select \n",
    "  g.*, ofs.[difficulty]\n",
    "      ,ofs.[reward]\n",
    "      ,ofs.[duration]\n",
    "      ,ofs.[channels]\n",
    "\t  , CASE \n",
    "        WHEN [OfferId] ='ae264e3637204a6fb9bb56bc8210ddfd' THEN 'A'\n",
    "        WHEN [OfferId] = '4d5c57ea9a6940dd891ad53e9dbe8da0' THEN 'B'\n",
    "        WHEN [OfferId] = '9b98b8c7a33c4b65b9aebfe6a799e6d9'THEN 'C'\n",
    "        WHEN [OfferId] = 'f19421c1d4aa40978ebb69ca19b0e20d' THEN 'D'\n",
    "        WHEN [OfferId] = '0b1e1539f2cc45b7b9fa7c272da2e1d7' THEN 'E'\n",
    "        WHEN [OfferId] = '2298d6c36e964ae4a3e7e9706d1fb8c2' THEN 'F'\n",
    "        WHEN [OfferId] =  'fafdcd668e3743c1bb461111dcafc2a4'THEN 'G'\n",
    "        WHEN [OfferId] = '2906b810c7d4411798c6938adc9daaa5' THEN 'H'\n",
    "        ELSE 'Unknown Group'\n",
    "    END AS groups\n",
    "    ,case when g.offer = 'Offer' then 0 else 1 end conver\n",
    "  from gabung as g\n",
    "  inner join [ads].[dbo].[offers] as ofs\n",
    "  on g.[OfferId] = ofs.[offer_id]\n",
    "  '''"
   ]
  },
  {
   "cell_type": "code",
   "execution_count": 24,
   "id": "ed6a70ea",
   "metadata": {},
   "outputs": [
    {
     "data": {
      "text/html": [
       "<div>\n",
       "<style scoped>\n",
       "    .dataframe tbody tr th:only-of-type {\n",
       "        vertical-align: middle;\n",
       "    }\n",
       "\n",
       "    .dataframe tbody tr th {\n",
       "        vertical-align: top;\n",
       "    }\n",
       "\n",
       "    .dataframe thead th {\n",
       "        text-align: right;\n",
       "    }\n",
       "</style>\n",
       "<table border=\"1\" class=\"dataframe\">\n",
       "  <thead>\n",
       "    <tr style=\"text-align: right;\">\n",
       "      <th></th>\n",
       "      <th>offer</th>\n",
       "      <th>customer_id</th>\n",
       "      <th>event</th>\n",
       "      <th>time</th>\n",
       "      <th>Amount</th>\n",
       "      <th>OfferId</th>\n",
       "      <th>reward_get</th>\n",
       "      <th>Tahun</th>\n",
       "      <th>Bulan</th>\n",
       "      <th>Tanggal</th>\n",
       "      <th>...</th>\n",
       "      <th>gender</th>\n",
       "      <th>age</th>\n",
       "      <th>income</th>\n",
       "      <th>offer_type</th>\n",
       "      <th>difficulty</th>\n",
       "      <th>reward</th>\n",
       "      <th>duration</th>\n",
       "      <th>channels</th>\n",
       "      <th>groups</th>\n",
       "      <th>conver</th>\n",
       "    </tr>\n",
       "  </thead>\n",
       "  <tbody>\n",
       "    <tr>\n",
       "      <th>0</th>\n",
       "      <td>Offer</td>\n",
       "      <td>00116118485d4dfda04fdbaba9a87b5c</td>\n",
       "      <td>offer received</td>\n",
       "      <td>168.0</td>\n",
       "      <td></td>\n",
       "      <td>f19421c1d4aa40978ebb69ca19b0e20d</td>\n",
       "      <td>None</td>\n",
       "      <td>2018</td>\n",
       "      <td>04</td>\n",
       "      <td>25</td>\n",
       "      <td>...</td>\n",
       "      <td>None</td>\n",
       "      <td>118.0</td>\n",
       "      <td>NaN</td>\n",
       "      <td>bogo</td>\n",
       "      <td>5.0</td>\n",
       "      <td>5.0</td>\n",
       "      <td>5.0</td>\n",
       "      <td>['web', 'email', 'mobile', 'social']</td>\n",
       "      <td>D</td>\n",
       "      <td>0</td>\n",
       "    </tr>\n",
       "    <tr>\n",
       "      <th>1</th>\n",
       "      <td>Offer</td>\n",
       "      <td>00116118485d4dfda04fdbaba9a87b5c</td>\n",
       "      <td>offer received</td>\n",
       "      <td>576.0</td>\n",
       "      <td></td>\n",
       "      <td>f19421c1d4aa40978ebb69ca19b0e20d</td>\n",
       "      <td>None</td>\n",
       "      <td>2018</td>\n",
       "      <td>04</td>\n",
       "      <td>25</td>\n",
       "      <td>...</td>\n",
       "      <td>None</td>\n",
       "      <td>118.0</td>\n",
       "      <td>NaN</td>\n",
       "      <td>bogo</td>\n",
       "      <td>5.0</td>\n",
       "      <td>5.0</td>\n",
       "      <td>5.0</td>\n",
       "      <td>['web', 'email', 'mobile', 'social']</td>\n",
       "      <td>D</td>\n",
       "      <td>0</td>\n",
       "    </tr>\n",
       "    <tr>\n",
       "      <th>2</th>\n",
       "      <td>Offer</td>\n",
       "      <td>0020c2b971eb4e9188eac86d93036a77</td>\n",
       "      <td>offer received</td>\n",
       "      <td>168.0</td>\n",
       "      <td></td>\n",
       "      <td>ae264e3637204a6fb9bb56bc8210ddfd</td>\n",
       "      <td>None</td>\n",
       "      <td>2016</td>\n",
       "      <td>03</td>\n",
       "      <td>04</td>\n",
       "      <td>...</td>\n",
       "      <td>F</td>\n",
       "      <td>59.0</td>\n",
       "      <td>90000.0</td>\n",
       "      <td>bogo</td>\n",
       "      <td>10.0</td>\n",
       "      <td>10.0</td>\n",
       "      <td>7.0</td>\n",
       "      <td>['email', 'mobile', 'social']</td>\n",
       "      <td>A</td>\n",
       "      <td>0</td>\n",
       "    </tr>\n",
       "    <tr>\n",
       "      <th>3</th>\n",
       "      <td>Offer</td>\n",
       "      <td>00426fe3ffde4c6b9cb9ad6d077a13ea</td>\n",
       "      <td>offer received</td>\n",
       "      <td>336.0</td>\n",
       "      <td></td>\n",
       "      <td>0b1e1539f2cc45b7b9fa7c272da2e1d7</td>\n",
       "      <td>None</td>\n",
       "      <td>2016</td>\n",
       "      <td>08</td>\n",
       "      <td>09</td>\n",
       "      <td>...</td>\n",
       "      <td>F</td>\n",
       "      <td>19.0</td>\n",
       "      <td>65000.0</td>\n",
       "      <td>discount</td>\n",
       "      <td>20.0</td>\n",
       "      <td>5.0</td>\n",
       "      <td>10.0</td>\n",
       "      <td>['web', 'email']</td>\n",
       "      <td>E</td>\n",
       "      <td>0</td>\n",
       "    </tr>\n",
       "    <tr>\n",
       "      <th>4</th>\n",
       "      <td>Offer</td>\n",
       "      <td>00426fe3ffde4c6b9cb9ad6d077a13ea</td>\n",
       "      <td>offer received</td>\n",
       "      <td>576.0</td>\n",
       "      <td></td>\n",
       "      <td>2906b810c7d4411798c6938adc9daaa5</td>\n",
       "      <td>None</td>\n",
       "      <td>2016</td>\n",
       "      <td>08</td>\n",
       "      <td>09</td>\n",
       "      <td>...</td>\n",
       "      <td>F</td>\n",
       "      <td>19.0</td>\n",
       "      <td>65000.0</td>\n",
       "      <td>discount</td>\n",
       "      <td>10.0</td>\n",
       "      <td>2.0</td>\n",
       "      <td>7.0</td>\n",
       "      <td>['web', 'email', 'mobile']</td>\n",
       "      <td>H</td>\n",
       "      <td>0</td>\n",
       "    </tr>\n",
       "    <tr>\n",
       "      <th>...</th>\n",
       "      <td>...</td>\n",
       "      <td>...</td>\n",
       "      <td>...</td>\n",
       "      <td>...</td>\n",
       "      <td>...</td>\n",
       "      <td>...</td>\n",
       "      <td>...</td>\n",
       "      <td>...</td>\n",
       "      <td>...</td>\n",
       "      <td>...</td>\n",
       "      <td>...</td>\n",
       "      <td>...</td>\n",
       "      <td>...</td>\n",
       "      <td>...</td>\n",
       "      <td>...</td>\n",
       "      <td>...</td>\n",
       "      <td>...</td>\n",
       "      <td>...</td>\n",
       "      <td>...</td>\n",
       "      <td>...</td>\n",
       "      <td>...</td>\n",
       "    </tr>\n",
       "    <tr>\n",
       "      <th>54951</th>\n",
       "      <td>Transaction With Offer</td>\n",
       "      <td>ffdefcac307f4ca99ac1ebd51470f106</td>\n",
       "      <td>transaction</td>\n",
       "      <td>54.0</td>\n",
       "      <td>24.41</td>\n",
       "      <td>fafdcd668e3743c1bb461111dcafc2a4</td>\n",
       "      <td>None</td>\n",
       "      <td>2017</td>\n",
       "      <td>03</td>\n",
       "      <td>15</td>\n",
       "      <td>...</td>\n",
       "      <td>F</td>\n",
       "      <td>87.0</td>\n",
       "      <td>47000.0</td>\n",
       "      <td>discount</td>\n",
       "      <td>10.0</td>\n",
       "      <td>2.0</td>\n",
       "      <td>10.0</td>\n",
       "      <td>['web', 'email', 'mobile', 'social']</td>\n",
       "      <td>G</td>\n",
       "      <td>1</td>\n",
       "    </tr>\n",
       "    <tr>\n",
       "      <th>54952</th>\n",
       "      <td>Transaction With Offer</td>\n",
       "      <td>fff3ba4757bd42088c044ca26d73817a</td>\n",
       "      <td>transaction</td>\n",
       "      <td>6.0</td>\n",
       "      <td>20.98</td>\n",
       "      <td>fafdcd668e3743c1bb461111dcafc2a4</td>\n",
       "      <td>None</td>\n",
       "      <td>2015</td>\n",
       "      <td>09</td>\n",
       "      <td>20</td>\n",
       "      <td>...</td>\n",
       "      <td>F</td>\n",
       "      <td>69.0</td>\n",
       "      <td>83000.0</td>\n",
       "      <td>discount</td>\n",
       "      <td>10.0</td>\n",
       "      <td>2.0</td>\n",
       "      <td>10.0</td>\n",
       "      <td>['web', 'email', 'mobile', 'social']</td>\n",
       "      <td>G</td>\n",
       "      <td>1</td>\n",
       "    </tr>\n",
       "    <tr>\n",
       "      <th>54953</th>\n",
       "      <td>Transaction With Offer</td>\n",
       "      <td>fff7576017104bcc8677a8d63322b5e1</td>\n",
       "      <td>transaction</td>\n",
       "      <td>192.0</td>\n",
       "      <td>5.99</td>\n",
       "      <td>fafdcd668e3743c1bb461111dcafc2a4</td>\n",
       "      <td>None</td>\n",
       "      <td>2017</td>\n",
       "      <td>10</td>\n",
       "      <td>31</td>\n",
       "      <td>...</td>\n",
       "      <td>M</td>\n",
       "      <td>71.0</td>\n",
       "      <td>73000.0</td>\n",
       "      <td>discount</td>\n",
       "      <td>10.0</td>\n",
       "      <td>2.0</td>\n",
       "      <td>10.0</td>\n",
       "      <td>['web', 'email', 'mobile', 'social']</td>\n",
       "      <td>G</td>\n",
       "      <td>1</td>\n",
       "    </tr>\n",
       "    <tr>\n",
       "      <th>54954</th>\n",
       "      <td>Transaction With Offer</td>\n",
       "      <td>fff7576017104bcc8677a8d63322b5e1</td>\n",
       "      <td>transaction</td>\n",
       "      <td>594.0</td>\n",
       "      <td>8.01</td>\n",
       "      <td>fafdcd668e3743c1bb461111dcafc2a4</td>\n",
       "      <td>None</td>\n",
       "      <td>2017</td>\n",
       "      <td>10</td>\n",
       "      <td>31</td>\n",
       "      <td>...</td>\n",
       "      <td>M</td>\n",
       "      <td>71.0</td>\n",
       "      <td>73000.0</td>\n",
       "      <td>discount</td>\n",
       "      <td>10.0</td>\n",
       "      <td>2.0</td>\n",
       "      <td>10.0</td>\n",
       "      <td>['web', 'email', 'mobile', 'social']</td>\n",
       "      <td>G</td>\n",
       "      <td>1</td>\n",
       "    </tr>\n",
       "    <tr>\n",
       "      <th>54955</th>\n",
       "      <td>Transaction With Offer</td>\n",
       "      <td>ffff82501cea40309d5fdd7edcca4a07</td>\n",
       "      <td>transaction</td>\n",
       "      <td>60.0</td>\n",
       "      <td>16.06</td>\n",
       "      <td>fafdcd668e3743c1bb461111dcafc2a4</td>\n",
       "      <td>None</td>\n",
       "      <td>2016</td>\n",
       "      <td>11</td>\n",
       "      <td>25</td>\n",
       "      <td>...</td>\n",
       "      <td>F</td>\n",
       "      <td>45.0</td>\n",
       "      <td>62000.0</td>\n",
       "      <td>discount</td>\n",
       "      <td>10.0</td>\n",
       "      <td>2.0</td>\n",
       "      <td>10.0</td>\n",
       "      <td>['web', 'email', 'mobile', 'social']</td>\n",
       "      <td>G</td>\n",
       "      <td>1</td>\n",
       "    </tr>\n",
       "  </tbody>\n",
       "</table>\n",
       "<p>54956 rows × 21 columns</p>\n",
       "</div>"
      ],
      "text/plain": [
       "                        offer                       customer_id  \\\n",
       "0                       Offer  00116118485d4dfda04fdbaba9a87b5c   \n",
       "1                       Offer  00116118485d4dfda04fdbaba9a87b5c   \n",
       "2                       Offer  0020c2b971eb4e9188eac86d93036a77   \n",
       "3                       Offer  00426fe3ffde4c6b9cb9ad6d077a13ea   \n",
       "4                       Offer  00426fe3ffde4c6b9cb9ad6d077a13ea   \n",
       "...                       ...                               ...   \n",
       "54951  Transaction With Offer  ffdefcac307f4ca99ac1ebd51470f106   \n",
       "54952  Transaction With Offer  fff3ba4757bd42088c044ca26d73817a   \n",
       "54953  Transaction With Offer  fff7576017104bcc8677a8d63322b5e1   \n",
       "54954  Transaction With Offer  fff7576017104bcc8677a8d63322b5e1   \n",
       "54955  Transaction With Offer  ffff82501cea40309d5fdd7edcca4a07   \n",
       "\n",
       "                event   time Amount                           OfferId  \\\n",
       "0      offer received  168.0         f19421c1d4aa40978ebb69ca19b0e20d   \n",
       "1      offer received  576.0         f19421c1d4aa40978ebb69ca19b0e20d   \n",
       "2      offer received  168.0         ae264e3637204a6fb9bb56bc8210ddfd   \n",
       "3      offer received  336.0         0b1e1539f2cc45b7b9fa7c272da2e1d7   \n",
       "4      offer received  576.0         2906b810c7d4411798c6938adc9daaa5   \n",
       "...               ...    ...    ...                               ...   \n",
       "54951     transaction   54.0  24.41  fafdcd668e3743c1bb461111dcafc2a4   \n",
       "54952     transaction    6.0  20.98  fafdcd668e3743c1bb461111dcafc2a4   \n",
       "54953     transaction  192.0   5.99  fafdcd668e3743c1bb461111dcafc2a4   \n",
       "54954     transaction  594.0   8.01  fafdcd668e3743c1bb461111dcafc2a4   \n",
       "54955     transaction   60.0  16.06  fafdcd668e3743c1bb461111dcafc2a4   \n",
       "\n",
       "      reward_get Tahun Bulan Tanggal  ...  gender    age   income  offer_type  \\\n",
       "0           None  2018    04      25  ...    None  118.0      NaN        bogo   \n",
       "1           None  2018    04      25  ...    None  118.0      NaN        bogo   \n",
       "2           None  2016    03      04  ...       F   59.0  90000.0        bogo   \n",
       "3           None  2016    08      09  ...       F   19.0  65000.0    discount   \n",
       "4           None  2016    08      09  ...       F   19.0  65000.0    discount   \n",
       "...          ...   ...   ...     ...  ...     ...    ...      ...         ...   \n",
       "54951       None  2017    03      15  ...       F   87.0  47000.0    discount   \n",
       "54952       None  2015    09      20  ...       F   69.0  83000.0    discount   \n",
       "54953       None  2017    10      31  ...       M   71.0  73000.0    discount   \n",
       "54954       None  2017    10      31  ...       M   71.0  73000.0    discount   \n",
       "54955       None  2016    11      25  ...       F   45.0  62000.0    discount   \n",
       "\n",
       "      difficulty  reward  duration                              channels  \\\n",
       "0            5.0     5.0       5.0  ['web', 'email', 'mobile', 'social']   \n",
       "1            5.0     5.0       5.0  ['web', 'email', 'mobile', 'social']   \n",
       "2           10.0    10.0       7.0         ['email', 'mobile', 'social']   \n",
       "3           20.0     5.0      10.0                      ['web', 'email']   \n",
       "4           10.0     2.0       7.0            ['web', 'email', 'mobile']   \n",
       "...          ...     ...       ...                                   ...   \n",
       "54951       10.0     2.0      10.0  ['web', 'email', 'mobile', 'social']   \n",
       "54952       10.0     2.0      10.0  ['web', 'email', 'mobile', 'social']   \n",
       "54953       10.0     2.0      10.0  ['web', 'email', 'mobile', 'social']   \n",
       "54954       10.0     2.0      10.0  ['web', 'email', 'mobile', 'social']   \n",
       "54955       10.0     2.0      10.0  ['web', 'email', 'mobile', 'social']   \n",
       "\n",
       "      groups conver  \n",
       "0          D      0  \n",
       "1          D      0  \n",
       "2          A      0  \n",
       "3          E      0  \n",
       "4          H      0  \n",
       "...      ...    ...  \n",
       "54951      G      1  \n",
       "54952      G      1  \n",
       "54953      G      1  \n",
       "54954      G      1  \n",
       "54955      G      1  \n",
       "\n",
       "[54956 rows x 21 columns]"
      ]
     },
     "execution_count": 24,
     "metadata": {},
     "output_type": "execute_result"
    }
   ],
   "source": [
    "# Eksekusi query menggunakan pandas\n",
    "df = pd.read_sql(query, engine)\n",
    "df"
   ]
  },
  {
   "cell_type": "code",
   "execution_count": 25,
   "id": "e5a31ef0",
   "metadata": {},
   "outputs": [
    {
     "data": {
      "text/html": [
       "<div>\n",
       "<style scoped>\n",
       "    .dataframe tbody tr th:only-of-type {\n",
       "        vertical-align: middle;\n",
       "    }\n",
       "\n",
       "    .dataframe tbody tr th {\n",
       "        vertical-align: top;\n",
       "    }\n",
       "\n",
       "    .dataframe thead th {\n",
       "        text-align: right;\n",
       "    }\n",
       "</style>\n",
       "<table border=\"1\" class=\"dataframe\">\n",
       "  <thead>\n",
       "    <tr style=\"text-align: right;\">\n",
       "      <th></th>\n",
       "      <th>customer_id</th>\n",
       "      <th>OfferId</th>\n",
       "      <th>offer_type</th>\n",
       "      <th>difficulty</th>\n",
       "      <th>reward</th>\n",
       "      <th>duration</th>\n",
       "      <th>channels</th>\n",
       "      <th>groups</th>\n",
       "      <th>conver</th>\n",
       "    </tr>\n",
       "  </thead>\n",
       "  <tbody>\n",
       "    <tr>\n",
       "      <th>0</th>\n",
       "      <td>00116118485d4dfda04fdbaba9a87b5c</td>\n",
       "      <td>f19421c1d4aa40978ebb69ca19b0e20d</td>\n",
       "      <td>bogo</td>\n",
       "      <td>5.0</td>\n",
       "      <td>5.0</td>\n",
       "      <td>5.0</td>\n",
       "      <td>['web', 'email', 'mobile', 'social']</td>\n",
       "      <td>D</td>\n",
       "      <td>0</td>\n",
       "    </tr>\n",
       "    <tr>\n",
       "      <th>1</th>\n",
       "      <td>00116118485d4dfda04fdbaba9a87b5c</td>\n",
       "      <td>f19421c1d4aa40978ebb69ca19b0e20d</td>\n",
       "      <td>bogo</td>\n",
       "      <td>5.0</td>\n",
       "      <td>5.0</td>\n",
       "      <td>5.0</td>\n",
       "      <td>['web', 'email', 'mobile', 'social']</td>\n",
       "      <td>D</td>\n",
       "      <td>0</td>\n",
       "    </tr>\n",
       "    <tr>\n",
       "      <th>2</th>\n",
       "      <td>0020c2b971eb4e9188eac86d93036a77</td>\n",
       "      <td>ae264e3637204a6fb9bb56bc8210ddfd</td>\n",
       "      <td>bogo</td>\n",
       "      <td>10.0</td>\n",
       "      <td>10.0</td>\n",
       "      <td>7.0</td>\n",
       "      <td>['email', 'mobile', 'social']</td>\n",
       "      <td>A</td>\n",
       "      <td>0</td>\n",
       "    </tr>\n",
       "    <tr>\n",
       "      <th>3</th>\n",
       "      <td>00426fe3ffde4c6b9cb9ad6d077a13ea</td>\n",
       "      <td>0b1e1539f2cc45b7b9fa7c272da2e1d7</td>\n",
       "      <td>discount</td>\n",
       "      <td>20.0</td>\n",
       "      <td>5.0</td>\n",
       "      <td>10.0</td>\n",
       "      <td>['web', 'email']</td>\n",
       "      <td>E</td>\n",
       "      <td>0</td>\n",
       "    </tr>\n",
       "    <tr>\n",
       "      <th>4</th>\n",
       "      <td>00426fe3ffde4c6b9cb9ad6d077a13ea</td>\n",
       "      <td>2906b810c7d4411798c6938adc9daaa5</td>\n",
       "      <td>discount</td>\n",
       "      <td>10.0</td>\n",
       "      <td>2.0</td>\n",
       "      <td>7.0</td>\n",
       "      <td>['web', 'email', 'mobile']</td>\n",
       "      <td>H</td>\n",
       "      <td>0</td>\n",
       "    </tr>\n",
       "    <tr>\n",
       "      <th>...</th>\n",
       "      <td>...</td>\n",
       "      <td>...</td>\n",
       "      <td>...</td>\n",
       "      <td>...</td>\n",
       "      <td>...</td>\n",
       "      <td>...</td>\n",
       "      <td>...</td>\n",
       "      <td>...</td>\n",
       "      <td>...</td>\n",
       "    </tr>\n",
       "    <tr>\n",
       "      <th>54951</th>\n",
       "      <td>ffdefcac307f4ca99ac1ebd51470f106</td>\n",
       "      <td>fafdcd668e3743c1bb461111dcafc2a4</td>\n",
       "      <td>discount</td>\n",
       "      <td>10.0</td>\n",
       "      <td>2.0</td>\n",
       "      <td>10.0</td>\n",
       "      <td>['web', 'email', 'mobile', 'social']</td>\n",
       "      <td>G</td>\n",
       "      <td>1</td>\n",
       "    </tr>\n",
       "    <tr>\n",
       "      <th>54952</th>\n",
       "      <td>fff3ba4757bd42088c044ca26d73817a</td>\n",
       "      <td>fafdcd668e3743c1bb461111dcafc2a4</td>\n",
       "      <td>discount</td>\n",
       "      <td>10.0</td>\n",
       "      <td>2.0</td>\n",
       "      <td>10.0</td>\n",
       "      <td>['web', 'email', 'mobile', 'social']</td>\n",
       "      <td>G</td>\n",
       "      <td>1</td>\n",
       "    </tr>\n",
       "    <tr>\n",
       "      <th>54953</th>\n",
       "      <td>fff7576017104bcc8677a8d63322b5e1</td>\n",
       "      <td>fafdcd668e3743c1bb461111dcafc2a4</td>\n",
       "      <td>discount</td>\n",
       "      <td>10.0</td>\n",
       "      <td>2.0</td>\n",
       "      <td>10.0</td>\n",
       "      <td>['web', 'email', 'mobile', 'social']</td>\n",
       "      <td>G</td>\n",
       "      <td>1</td>\n",
       "    </tr>\n",
       "    <tr>\n",
       "      <th>54954</th>\n",
       "      <td>fff7576017104bcc8677a8d63322b5e1</td>\n",
       "      <td>fafdcd668e3743c1bb461111dcafc2a4</td>\n",
       "      <td>discount</td>\n",
       "      <td>10.0</td>\n",
       "      <td>2.0</td>\n",
       "      <td>10.0</td>\n",
       "      <td>['web', 'email', 'mobile', 'social']</td>\n",
       "      <td>G</td>\n",
       "      <td>1</td>\n",
       "    </tr>\n",
       "    <tr>\n",
       "      <th>54955</th>\n",
       "      <td>ffff82501cea40309d5fdd7edcca4a07</td>\n",
       "      <td>fafdcd668e3743c1bb461111dcafc2a4</td>\n",
       "      <td>discount</td>\n",
       "      <td>10.0</td>\n",
       "      <td>2.0</td>\n",
       "      <td>10.0</td>\n",
       "      <td>['web', 'email', 'mobile', 'social']</td>\n",
       "      <td>G</td>\n",
       "      <td>1</td>\n",
       "    </tr>\n",
       "  </tbody>\n",
       "</table>\n",
       "<p>54956 rows × 9 columns</p>\n",
       "</div>"
      ],
      "text/plain": [
       "                            customer_id                           OfferId  \\\n",
       "0      00116118485d4dfda04fdbaba9a87b5c  f19421c1d4aa40978ebb69ca19b0e20d   \n",
       "1      00116118485d4dfda04fdbaba9a87b5c  f19421c1d4aa40978ebb69ca19b0e20d   \n",
       "2      0020c2b971eb4e9188eac86d93036a77  ae264e3637204a6fb9bb56bc8210ddfd   \n",
       "3      00426fe3ffde4c6b9cb9ad6d077a13ea  0b1e1539f2cc45b7b9fa7c272da2e1d7   \n",
       "4      00426fe3ffde4c6b9cb9ad6d077a13ea  2906b810c7d4411798c6938adc9daaa5   \n",
       "...                                 ...                               ...   \n",
       "54951  ffdefcac307f4ca99ac1ebd51470f106  fafdcd668e3743c1bb461111dcafc2a4   \n",
       "54952  fff3ba4757bd42088c044ca26d73817a  fafdcd668e3743c1bb461111dcafc2a4   \n",
       "54953  fff7576017104bcc8677a8d63322b5e1  fafdcd668e3743c1bb461111dcafc2a4   \n",
       "54954  fff7576017104bcc8677a8d63322b5e1  fafdcd668e3743c1bb461111dcafc2a4   \n",
       "54955  ffff82501cea40309d5fdd7edcca4a07  fafdcd668e3743c1bb461111dcafc2a4   \n",
       "\n",
       "      offer_type  difficulty  reward  duration  \\\n",
       "0           bogo         5.0     5.0       5.0   \n",
       "1           bogo         5.0     5.0       5.0   \n",
       "2           bogo        10.0    10.0       7.0   \n",
       "3       discount        20.0     5.0      10.0   \n",
       "4       discount        10.0     2.0       7.0   \n",
       "...          ...         ...     ...       ...   \n",
       "54951   discount        10.0     2.0      10.0   \n",
       "54952   discount        10.0     2.0      10.0   \n",
       "54953   discount        10.0     2.0      10.0   \n",
       "54954   discount        10.0     2.0      10.0   \n",
       "54955   discount        10.0     2.0      10.0   \n",
       "\n",
       "                                   channels groups  conver  \n",
       "0      ['web', 'email', 'mobile', 'social']      D       0  \n",
       "1      ['web', 'email', 'mobile', 'social']      D       0  \n",
       "2             ['email', 'mobile', 'social']      A       0  \n",
       "3                          ['web', 'email']      E       0  \n",
       "4                ['web', 'email', 'mobile']      H       0  \n",
       "...                                     ...    ...     ...  \n",
       "54951  ['web', 'email', 'mobile', 'social']      G       1  \n",
       "54952  ['web', 'email', 'mobile', 'social']      G       1  \n",
       "54953  ['web', 'email', 'mobile', 'social']      G       1  \n",
       "54954  ['web', 'email', 'mobile', 'social']      G       1  \n",
       "54955  ['web', 'email', 'mobile', 'social']      G       1  \n",
       "\n",
       "[54956 rows x 9 columns]"
      ]
     },
     "execution_count": 25,
     "metadata": {},
     "output_type": "execute_result"
    }
   ],
   "source": [
    "# Seleksi kolom tertentu dari DataFrame\n",
    "df = df[['customer_id', 'OfferId','offer_type', 'difficulty', 'reward', 'duration', 'channels','groups', 'conver']]\n",
    "\n",
    "# Tampilkan hasil\n",
    "df\n"
   ]
  },
  {
   "cell_type": "code",
   "execution_count": 26,
   "id": "9eb1c767",
   "metadata": {},
   "outputs": [
    {
     "data": {
      "text/html": [
       "<div>\n",
       "<style scoped>\n",
       "    .dataframe tbody tr th:only-of-type {\n",
       "        vertical-align: middle;\n",
       "    }\n",
       "\n",
       "    .dataframe tbody tr th {\n",
       "        vertical-align: top;\n",
       "    }\n",
       "\n",
       "    .dataframe thead th {\n",
       "        text-align: right;\n",
       "    }\n",
       "</style>\n",
       "<table border=\"1\" class=\"dataframe\">\n",
       "  <thead>\n",
       "    <tr style=\"text-align: right;\">\n",
       "      <th></th>\n",
       "      <th>customer_id</th>\n",
       "      <th>OfferId</th>\n",
       "      <th>offer_type</th>\n",
       "      <th>difficulty</th>\n",
       "      <th>reward</th>\n",
       "      <th>duration</th>\n",
       "      <th>channels</th>\n",
       "      <th>groups</th>\n",
       "      <th>conver</th>\n",
       "    </tr>\n",
       "  </thead>\n",
       "  <tbody>\n",
       "    <tr>\n",
       "      <th>3</th>\n",
       "      <td>00426fe3ffde4c6b9cb9ad6d077a13ea</td>\n",
       "      <td>0b1e1539f2cc45b7b9fa7c272da2e1d7</td>\n",
       "      <td>discount</td>\n",
       "      <td>20.0</td>\n",
       "      <td>5.0</td>\n",
       "      <td>10.0</td>\n",
       "      <td>['web', 'email']</td>\n",
       "      <td>E</td>\n",
       "      <td>0</td>\n",
       "    </tr>\n",
       "    <tr>\n",
       "      <th>4</th>\n",
       "      <td>00426fe3ffde4c6b9cb9ad6d077a13ea</td>\n",
       "      <td>2906b810c7d4411798c6938adc9daaa5</td>\n",
       "      <td>discount</td>\n",
       "      <td>10.0</td>\n",
       "      <td>2.0</td>\n",
       "      <td>7.0</td>\n",
       "      <td>['web', 'email', 'mobile']</td>\n",
       "      <td>H</td>\n",
       "      <td>0</td>\n",
       "    </tr>\n",
       "    <tr>\n",
       "      <th>5</th>\n",
       "      <td>00426fe3ffde4c6b9cb9ad6d077a13ea</td>\n",
       "      <td>2906b810c7d4411798c6938adc9daaa5</td>\n",
       "      <td>discount</td>\n",
       "      <td>10.0</td>\n",
       "      <td>2.0</td>\n",
       "      <td>7.0</td>\n",
       "      <td>['web', 'email', 'mobile']</td>\n",
       "      <td>H</td>\n",
       "      <td>0</td>\n",
       "    </tr>\n",
       "    <tr>\n",
       "      <th>6</th>\n",
       "      <td>005500a7188546ff8a767329a2f7c76a</td>\n",
       "      <td>2906b810c7d4411798c6938adc9daaa5</td>\n",
       "      <td>discount</td>\n",
       "      <td>10.0</td>\n",
       "      <td>2.0</td>\n",
       "      <td>7.0</td>\n",
       "      <td>['web', 'email', 'mobile']</td>\n",
       "      <td>H</td>\n",
       "      <td>0</td>\n",
       "    </tr>\n",
       "    <tr>\n",
       "      <th>10</th>\n",
       "      <td>0063def0f9c14bc4805322a488839b32</td>\n",
       "      <td>0b1e1539f2cc45b7b9fa7c272da2e1d7</td>\n",
       "      <td>discount</td>\n",
       "      <td>20.0</td>\n",
       "      <td>5.0</td>\n",
       "      <td>10.0</td>\n",
       "      <td>['web', 'email']</td>\n",
       "      <td>E</td>\n",
       "      <td>0</td>\n",
       "    </tr>\n",
       "    <tr>\n",
       "      <th>...</th>\n",
       "      <td>...</td>\n",
       "      <td>...</td>\n",
       "      <td>...</td>\n",
       "      <td>...</td>\n",
       "      <td>...</td>\n",
       "      <td>...</td>\n",
       "      <td>...</td>\n",
       "      <td>...</td>\n",
       "      <td>...</td>\n",
       "    </tr>\n",
       "    <tr>\n",
       "      <th>54951</th>\n",
       "      <td>ffdefcac307f4ca99ac1ebd51470f106</td>\n",
       "      <td>fafdcd668e3743c1bb461111dcafc2a4</td>\n",
       "      <td>discount</td>\n",
       "      <td>10.0</td>\n",
       "      <td>2.0</td>\n",
       "      <td>10.0</td>\n",
       "      <td>['web', 'email', 'mobile', 'social']</td>\n",
       "      <td>G</td>\n",
       "      <td>1</td>\n",
       "    </tr>\n",
       "    <tr>\n",
       "      <th>54952</th>\n",
       "      <td>fff3ba4757bd42088c044ca26d73817a</td>\n",
       "      <td>fafdcd668e3743c1bb461111dcafc2a4</td>\n",
       "      <td>discount</td>\n",
       "      <td>10.0</td>\n",
       "      <td>2.0</td>\n",
       "      <td>10.0</td>\n",
       "      <td>['web', 'email', 'mobile', 'social']</td>\n",
       "      <td>G</td>\n",
       "      <td>1</td>\n",
       "    </tr>\n",
       "    <tr>\n",
       "      <th>54953</th>\n",
       "      <td>fff7576017104bcc8677a8d63322b5e1</td>\n",
       "      <td>fafdcd668e3743c1bb461111dcafc2a4</td>\n",
       "      <td>discount</td>\n",
       "      <td>10.0</td>\n",
       "      <td>2.0</td>\n",
       "      <td>10.0</td>\n",
       "      <td>['web', 'email', 'mobile', 'social']</td>\n",
       "      <td>G</td>\n",
       "      <td>1</td>\n",
       "    </tr>\n",
       "    <tr>\n",
       "      <th>54954</th>\n",
       "      <td>fff7576017104bcc8677a8d63322b5e1</td>\n",
       "      <td>fafdcd668e3743c1bb461111dcafc2a4</td>\n",
       "      <td>discount</td>\n",
       "      <td>10.0</td>\n",
       "      <td>2.0</td>\n",
       "      <td>10.0</td>\n",
       "      <td>['web', 'email', 'mobile', 'social']</td>\n",
       "      <td>G</td>\n",
       "      <td>1</td>\n",
       "    </tr>\n",
       "    <tr>\n",
       "      <th>54955</th>\n",
       "      <td>ffff82501cea40309d5fdd7edcca4a07</td>\n",
       "      <td>fafdcd668e3743c1bb461111dcafc2a4</td>\n",
       "      <td>discount</td>\n",
       "      <td>10.0</td>\n",
       "      <td>2.0</td>\n",
       "      <td>10.0</td>\n",
       "      <td>['web', 'email', 'mobile', 'social']</td>\n",
       "      <td>G</td>\n",
       "      <td>1</td>\n",
       "    </tr>\n",
       "  </tbody>\n",
       "</table>\n",
       "<p>27550 rows × 9 columns</p>\n",
       "</div>"
      ],
      "text/plain": [
       "                            customer_id                           OfferId  \\\n",
       "3      00426fe3ffde4c6b9cb9ad6d077a13ea  0b1e1539f2cc45b7b9fa7c272da2e1d7   \n",
       "4      00426fe3ffde4c6b9cb9ad6d077a13ea  2906b810c7d4411798c6938adc9daaa5   \n",
       "5      00426fe3ffde4c6b9cb9ad6d077a13ea  2906b810c7d4411798c6938adc9daaa5   \n",
       "6      005500a7188546ff8a767329a2f7c76a  2906b810c7d4411798c6938adc9daaa5   \n",
       "10     0063def0f9c14bc4805322a488839b32  0b1e1539f2cc45b7b9fa7c272da2e1d7   \n",
       "...                                 ...                               ...   \n",
       "54951  ffdefcac307f4ca99ac1ebd51470f106  fafdcd668e3743c1bb461111dcafc2a4   \n",
       "54952  fff3ba4757bd42088c044ca26d73817a  fafdcd668e3743c1bb461111dcafc2a4   \n",
       "54953  fff7576017104bcc8677a8d63322b5e1  fafdcd668e3743c1bb461111dcafc2a4   \n",
       "54954  fff7576017104bcc8677a8d63322b5e1  fafdcd668e3743c1bb461111dcafc2a4   \n",
       "54955  ffff82501cea40309d5fdd7edcca4a07  fafdcd668e3743c1bb461111dcafc2a4   \n",
       "\n",
       "      offer_type  difficulty  reward  duration  \\\n",
       "3       discount        20.0     5.0      10.0   \n",
       "4       discount        10.0     2.0       7.0   \n",
       "5       discount        10.0     2.0       7.0   \n",
       "6       discount        10.0     2.0       7.0   \n",
       "10      discount        20.0     5.0      10.0   \n",
       "...          ...         ...     ...       ...   \n",
       "54951   discount        10.0     2.0      10.0   \n",
       "54952   discount        10.0     2.0      10.0   \n",
       "54953   discount        10.0     2.0      10.0   \n",
       "54954   discount        10.0     2.0      10.0   \n",
       "54955   discount        10.0     2.0      10.0   \n",
       "\n",
       "                                   channels groups  conver  \n",
       "3                          ['web', 'email']      E       0  \n",
       "4                ['web', 'email', 'mobile']      H       0  \n",
       "5                ['web', 'email', 'mobile']      H       0  \n",
       "6                ['web', 'email', 'mobile']      H       0  \n",
       "10                         ['web', 'email']      E       0  \n",
       "...                                     ...    ...     ...  \n",
       "54951  ['web', 'email', 'mobile', 'social']      G       1  \n",
       "54952  ['web', 'email', 'mobile', 'social']      G       1  \n",
       "54953  ['web', 'email', 'mobile', 'social']      G       1  \n",
       "54954  ['web', 'email', 'mobile', 'social']      G       1  \n",
       "54955  ['web', 'email', 'mobile', 'social']      G       1  \n",
       "\n",
       "[27550 rows x 9 columns]"
      ]
     },
     "execution_count": 26,
     "metadata": {},
     "output_type": "execute_result"
    }
   ],
   "source": [
    "discount_df = df[df['offer_type'] == 'discount']\n",
    "discount_df"
   ]
  },
  {
   "cell_type": "code",
   "execution_count": 27,
   "id": "47214361",
   "metadata": {},
   "outputs": [
    {
     "name": "stderr",
     "output_type": "stream",
     "text": [
      "<ipython-input-27-97072b8fb996>:1: SettingWithCopyWarning: \n",
      "A value is trying to be set on a copy of a slice from a DataFrame.\n",
      "Try using .loc[row_indexer,col_indexer] = value instead\n",
      "\n",
      "See the caveats in the documentation: https://pandas.pydata.org/pandas-docs/stable/user_guide/indexing.html#returning-a-view-versus-a-copy\n",
      "  discount_df[\"groups\"] = discount_df[\"groups\"].replace({\"E\": \"A\", \"F\": \"B\", \"G\": \"C\", \"H\": \"D\"})\n"
     ]
    }
   ],
   "source": [
    "discount_df[\"groups\"] = discount_df[\"groups\"].replace({\"E\": \"A\", \"F\": \"B\", \"G\": \"C\", \"H\": \"D\"})"
   ]
  },
  {
   "cell_type": "markdown",
   "id": "31583292",
   "metadata": {},
   "source": [
    "- dilakukan transform perubaha group agar lebih mudah menggunakan code code sebelumnya dipakai dalam mencari BOGO"
   ]
  },
  {
   "cell_type": "code",
   "execution_count": 28,
   "id": "6b924e47",
   "metadata": {},
   "outputs": [
    {
     "data": {
      "text/html": [
       "<div>\n",
       "<style scoped>\n",
       "    .dataframe tbody tr th:only-of-type {\n",
       "        vertical-align: middle;\n",
       "    }\n",
       "\n",
       "    .dataframe tbody tr th {\n",
       "        vertical-align: top;\n",
       "    }\n",
       "\n",
       "    .dataframe thead th {\n",
       "        text-align: right;\n",
       "    }\n",
       "</style>\n",
       "<table border=\"1\" class=\"dataframe\">\n",
       "  <thead>\n",
       "    <tr style=\"text-align: right;\">\n",
       "      <th></th>\n",
       "      <th>OfferId</th>\n",
       "      <th>offer_type</th>\n",
       "      <th>difficulty</th>\n",
       "      <th>reward</th>\n",
       "      <th>duration</th>\n",
       "      <th>channels</th>\n",
       "      <th>groups</th>\n",
       "    </tr>\n",
       "  </thead>\n",
       "  <tbody>\n",
       "    <tr>\n",
       "      <th>3</th>\n",
       "      <td>0b1e1539f2cc45b7b9fa7c272da2e1d7</td>\n",
       "      <td>discount</td>\n",
       "      <td>20.0</td>\n",
       "      <td>5.0</td>\n",
       "      <td>10.0</td>\n",
       "      <td>['web', 'email']</td>\n",
       "      <td>A</td>\n",
       "    </tr>\n",
       "    <tr>\n",
       "      <th>11</th>\n",
       "      <td>2298d6c36e964ae4a3e7e9706d1fb8c2</td>\n",
       "      <td>discount</td>\n",
       "      <td>7.0</td>\n",
       "      <td>3.0</td>\n",
       "      <td>7.0</td>\n",
       "      <td>['web', 'email', 'mobile', 'social']</td>\n",
       "      <td>B</td>\n",
       "    </tr>\n",
       "    <tr>\n",
       "      <th>49</th>\n",
       "      <td>fafdcd668e3743c1bb461111dcafc2a4</td>\n",
       "      <td>discount</td>\n",
       "      <td>10.0</td>\n",
       "      <td>2.0</td>\n",
       "      <td>10.0</td>\n",
       "      <td>['web', 'email', 'mobile', 'social']</td>\n",
       "      <td>C</td>\n",
       "    </tr>\n",
       "    <tr>\n",
       "      <th>4</th>\n",
       "      <td>2906b810c7d4411798c6938adc9daaa5</td>\n",
       "      <td>discount</td>\n",
       "      <td>10.0</td>\n",
       "      <td>2.0</td>\n",
       "      <td>7.0</td>\n",
       "      <td>['web', 'email', 'mobile']</td>\n",
       "      <td>D</td>\n",
       "    </tr>\n",
       "  </tbody>\n",
       "</table>\n",
       "</div>"
      ],
      "text/plain": [
       "                             OfferId offer_type  difficulty  reward  duration  \\\n",
       "3   0b1e1539f2cc45b7b9fa7c272da2e1d7   discount        20.0     5.0      10.0   \n",
       "11  2298d6c36e964ae4a3e7e9706d1fb8c2   discount         7.0     3.0       7.0   \n",
       "49  fafdcd668e3743c1bb461111dcafc2a4   discount        10.0     2.0      10.0   \n",
       "4   2906b810c7d4411798c6938adc9daaa5   discount        10.0     2.0       7.0   \n",
       "\n",
       "                                channels groups  \n",
       "3                       ['web', 'email']      A  \n",
       "11  ['web', 'email', 'mobile', 'social']      B  \n",
       "49  ['web', 'email', 'mobile', 'social']      C  \n",
       "4             ['web', 'email', 'mobile']      D  "
      ]
     },
     "execution_count": 28,
     "metadata": {},
     "output_type": "execute_result"
    }
   ],
   "source": [
    "discount_df[[ 'OfferId','offer_type', 'difficulty', 'reward', 'duration', 'channels','groups', ]].drop_duplicates().sort_values(by='groups')\n"
   ]
  },
  {
   "cell_type": "markdown",
   "id": "c74ab739",
   "metadata": {},
   "source": [
    "## E.Exploratory Data Analysis"
   ]
  },
  {
   "cell_type": "markdown",
   "id": "441e374c",
   "metadata": {},
   "source": [
    "### Informasi Dasar"
   ]
  },
  {
   "cell_type": "code",
   "execution_count": 29,
   "id": "e3c9603a",
   "metadata": {},
   "outputs": [
    {
     "data": {
      "text/html": [
       "<div>\n",
       "<style scoped>\n",
       "    .dataframe tbody tr th:only-of-type {\n",
       "        vertical-align: middle;\n",
       "    }\n",
       "\n",
       "    .dataframe tbody tr th {\n",
       "        vertical-align: top;\n",
       "    }\n",
       "\n",
       "    .dataframe thead th {\n",
       "        text-align: right;\n",
       "    }\n",
       "</style>\n",
       "<table border=\"1\" class=\"dataframe\">\n",
       "  <thead>\n",
       "    <tr style=\"text-align: right;\">\n",
       "      <th></th>\n",
       "      <th>customer_id</th>\n",
       "      <th>OfferId</th>\n",
       "      <th>offer_type</th>\n",
       "      <th>difficulty</th>\n",
       "      <th>reward</th>\n",
       "      <th>duration</th>\n",
       "      <th>channels</th>\n",
       "      <th>groups</th>\n",
       "      <th>conver</th>\n",
       "    </tr>\n",
       "  </thead>\n",
       "  <tbody>\n",
       "    <tr>\n",
       "      <th>3</th>\n",
       "      <td>00426fe3ffde4c6b9cb9ad6d077a13ea</td>\n",
       "      <td>0b1e1539f2cc45b7b9fa7c272da2e1d7</td>\n",
       "      <td>discount</td>\n",
       "      <td>20.0</td>\n",
       "      <td>5.0</td>\n",
       "      <td>10.0</td>\n",
       "      <td>['web', 'email']</td>\n",
       "      <td>A</td>\n",
       "      <td>0</td>\n",
       "    </tr>\n",
       "    <tr>\n",
       "      <th>4</th>\n",
       "      <td>00426fe3ffde4c6b9cb9ad6d077a13ea</td>\n",
       "      <td>2906b810c7d4411798c6938adc9daaa5</td>\n",
       "      <td>discount</td>\n",
       "      <td>10.0</td>\n",
       "      <td>2.0</td>\n",
       "      <td>7.0</td>\n",
       "      <td>['web', 'email', 'mobile']</td>\n",
       "      <td>D</td>\n",
       "      <td>0</td>\n",
       "    </tr>\n",
       "    <tr>\n",
       "      <th>5</th>\n",
       "      <td>00426fe3ffde4c6b9cb9ad6d077a13ea</td>\n",
       "      <td>2906b810c7d4411798c6938adc9daaa5</td>\n",
       "      <td>discount</td>\n",
       "      <td>10.0</td>\n",
       "      <td>2.0</td>\n",
       "      <td>7.0</td>\n",
       "      <td>['web', 'email', 'mobile']</td>\n",
       "      <td>D</td>\n",
       "      <td>0</td>\n",
       "    </tr>\n",
       "    <tr>\n",
       "      <th>6</th>\n",
       "      <td>005500a7188546ff8a767329a2f7c76a</td>\n",
       "      <td>2906b810c7d4411798c6938adc9daaa5</td>\n",
       "      <td>discount</td>\n",
       "      <td>10.0</td>\n",
       "      <td>2.0</td>\n",
       "      <td>7.0</td>\n",
       "      <td>['web', 'email', 'mobile']</td>\n",
       "      <td>D</td>\n",
       "      <td>0</td>\n",
       "    </tr>\n",
       "    <tr>\n",
       "      <th>10</th>\n",
       "      <td>0063def0f9c14bc4805322a488839b32</td>\n",
       "      <td>0b1e1539f2cc45b7b9fa7c272da2e1d7</td>\n",
       "      <td>discount</td>\n",
       "      <td>20.0</td>\n",
       "      <td>5.0</td>\n",
       "      <td>10.0</td>\n",
       "      <td>['web', 'email']</td>\n",
       "      <td>A</td>\n",
       "      <td>0</td>\n",
       "    </tr>\n",
       "  </tbody>\n",
       "</table>\n",
       "</div>"
      ],
      "text/plain": [
       "                         customer_id                           OfferId  \\\n",
       "3   00426fe3ffde4c6b9cb9ad6d077a13ea  0b1e1539f2cc45b7b9fa7c272da2e1d7   \n",
       "4   00426fe3ffde4c6b9cb9ad6d077a13ea  2906b810c7d4411798c6938adc9daaa5   \n",
       "5   00426fe3ffde4c6b9cb9ad6d077a13ea  2906b810c7d4411798c6938adc9daaa5   \n",
       "6   005500a7188546ff8a767329a2f7c76a  2906b810c7d4411798c6938adc9daaa5   \n",
       "10  0063def0f9c14bc4805322a488839b32  0b1e1539f2cc45b7b9fa7c272da2e1d7   \n",
       "\n",
       "   offer_type  difficulty  reward  duration                    channels  \\\n",
       "3    discount        20.0     5.0      10.0            ['web', 'email']   \n",
       "4    discount        10.0     2.0       7.0  ['web', 'email', 'mobile']   \n",
       "5    discount        10.0     2.0       7.0  ['web', 'email', 'mobile']   \n",
       "6    discount        10.0     2.0       7.0  ['web', 'email', 'mobile']   \n",
       "10   discount        20.0     5.0      10.0            ['web', 'email']   \n",
       "\n",
       "   groups  conver  \n",
       "3       A       0  \n",
       "4       D       0  \n",
       "5       D       0  \n",
       "6       D       0  \n",
       "10      A       0  "
      ]
     },
     "execution_count": 29,
     "metadata": {},
     "output_type": "execute_result"
    }
   ],
   "source": [
    "discount_df.head()"
   ]
  },
  {
   "cell_type": "code",
   "execution_count": 30,
   "id": "dd3c4c80",
   "metadata": {},
   "outputs": [
    {
     "name": "stdout",
     "output_type": "stream",
     "text": [
      "<class 'pandas.core.frame.DataFrame'>\n",
      "Index: 27550 entries, 3 to 54955\n",
      "Data columns (total 9 columns):\n",
      " #   Column       Non-Null Count  Dtype  \n",
      "---  ------       --------------  -----  \n",
      " 0   customer_id  27550 non-null  object \n",
      " 1   OfferId      27550 non-null  object \n",
      " 2   offer_type   27550 non-null  object \n",
      " 3   difficulty   27550 non-null  float64\n",
      " 4   reward       27550 non-null  float64\n",
      " 5   duration     27550 non-null  float64\n",
      " 6   channels     27550 non-null  object \n",
      " 7   groups       27550 non-null  object \n",
      " 8   conver       27550 non-null  int64  \n",
      "dtypes: float64(3), int64(1), object(5)\n",
      "memory usage: 2.1+ MB\n"
     ]
    }
   ],
   "source": [
    "discount_df.info()"
   ]
  },
  {
   "cell_type": "code",
   "execution_count": 31,
   "id": "e66d6ff4",
   "metadata": {},
   "outputs": [
    {
     "data": {
      "text/html": [
       "<div>\n",
       "<style scoped>\n",
       "    .dataframe tbody tr th:only-of-type {\n",
       "        vertical-align: middle;\n",
       "    }\n",
       "\n",
       "    .dataframe tbody tr th {\n",
       "        vertical-align: top;\n",
       "    }\n",
       "\n",
       "    .dataframe thead th {\n",
       "        text-align: right;\n",
       "    }\n",
       "</style>\n",
       "<table border=\"1\" class=\"dataframe\">\n",
       "  <thead>\n",
       "    <tr style=\"text-align: right;\">\n",
       "      <th></th>\n",
       "      <th>OfferId</th>\n",
       "      <th>offer_type</th>\n",
       "      <th>total_rows</th>\n",
       "    </tr>\n",
       "  </thead>\n",
       "  <tbody>\n",
       "    <tr>\n",
       "      <th>0</th>\n",
       "      <td>0b1e1539f2cc45b7b9fa7c272da2e1d7</td>\n",
       "      <td>discount</td>\n",
       "      <td>7054</td>\n",
       "    </tr>\n",
       "    <tr>\n",
       "      <th>1</th>\n",
       "      <td>2298d6c36e964ae4a3e7e9706d1fb8c2</td>\n",
       "      <td>discount</td>\n",
       "      <td>6818</td>\n",
       "    </tr>\n",
       "    <tr>\n",
       "      <th>2</th>\n",
       "      <td>2906b810c7d4411798c6938adc9daaa5</td>\n",
       "      <td>discount</td>\n",
       "      <td>6819</td>\n",
       "    </tr>\n",
       "    <tr>\n",
       "      <th>3</th>\n",
       "      <td>fafdcd668e3743c1bb461111dcafc2a4</td>\n",
       "      <td>discount</td>\n",
       "      <td>6859</td>\n",
       "    </tr>\n",
       "  </tbody>\n",
       "</table>\n",
       "</div>"
      ],
      "text/plain": [
       "                            OfferId offer_type  total_rows\n",
       "0  0b1e1539f2cc45b7b9fa7c272da2e1d7   discount        7054\n",
       "1  2298d6c36e964ae4a3e7e9706d1fb8c2   discount        6818\n",
       "2  2906b810c7d4411798c6938adc9daaa5   discount        6819\n",
       "3  fafdcd668e3743c1bb461111dcafc2a4   discount        6859"
      ]
     },
     "execution_count": 31,
     "metadata": {},
     "output_type": "execute_result"
    }
   ],
   "source": [
    "discount_df.groupby(['OfferId', 'offer_type']).size().reset_index(name='total_rows').sort_values(by=['offer_type'])"
   ]
  },
  {
   "cell_type": "markdown",
   "id": "299aa15d",
   "metadata": {},
   "source": [
    "- Seluruh data sudah bersih dan tidak ditemukannya null atau data type yang salah pada tiap kolom \n",
    "- tidak diperlukannya pengecekan data distribusi dikarenakan dalam mencari multivariate testing ini yang digunakan adalah convert,namun jika yang digunakan amount atau revenue maka diperlukan yang namanya transformasi agar distribusi menjadi normal agar data menjadi lebih valid\n",
    "- tidak dilakukan drop duplicate dikarenakan dalam pemberian offer pada waktu 1 bulan dapat diberikan 1 atau lebih offer "
   ]
  },
  {
   "cell_type": "markdown",
   "id": "ed869ece",
   "metadata": {},
   "source": [
    "## F. Mengimplementasikan Eksperimen "
   ]
  },
  {
   "cell_type": "code",
   "execution_count": 32,
   "id": "0a42a50a",
   "metadata": {},
   "outputs": [],
   "source": [
    "data_A = discount_df[discount_df['groups'] == 'A']\n",
    "data_B = discount_df[discount_df['groups'] == 'B']\n",
    "data_C = discount_df[discount_df['groups'] == 'C']\n",
    "data_D = discount_df[discount_df['groups'] == 'D']"
   ]
  },
  {
   "cell_type": "code",
   "execution_count": 33,
   "id": "a4c8b0bf",
   "metadata": {},
   "outputs": [],
   "source": [
    "data_A = data_A.sample(n=6280, random_state=10) \n",
    "data_B = data_B.sample(n=6280, random_state=10)\n",
    "data_C = data_C.sample(n=6280, random_state=10)\n",
    "data_D = data_D.sample(n=6280, random_state=10)"
   ]
  },
  {
   "cell_type": "code",
   "execution_count": 34,
   "id": "6610369f",
   "metadata": {},
   "outputs": [
    {
     "data": {
      "text/html": [
       "<div>\n",
       "<style scoped>\n",
       "    .dataframe tbody tr th:only-of-type {\n",
       "        vertical-align: middle;\n",
       "    }\n",
       "\n",
       "    .dataframe tbody tr th {\n",
       "        vertical-align: top;\n",
       "    }\n",
       "\n",
       "    .dataframe thead th {\n",
       "        text-align: right;\n",
       "    }\n",
       "</style>\n",
       "<table border=\"1\" class=\"dataframe\">\n",
       "  <thead>\n",
       "    <tr style=\"text-align: right;\">\n",
       "      <th></th>\n",
       "      <th>OfferId</th>\n",
       "      <th>groups</th>\n",
       "    </tr>\n",
       "  </thead>\n",
       "  <tbody>\n",
       "    <tr>\n",
       "      <th>3</th>\n",
       "      <td>0b1e1539f2cc45b7b9fa7c272da2e1d7</td>\n",
       "      <td>A</td>\n",
       "    </tr>\n",
       "    <tr>\n",
       "      <th>11</th>\n",
       "      <td>2298d6c36e964ae4a3e7e9706d1fb8c2</td>\n",
       "      <td>B</td>\n",
       "    </tr>\n",
       "    <tr>\n",
       "      <th>49</th>\n",
       "      <td>fafdcd668e3743c1bb461111dcafc2a4</td>\n",
       "      <td>C</td>\n",
       "    </tr>\n",
       "    <tr>\n",
       "      <th>4</th>\n",
       "      <td>2906b810c7d4411798c6938adc9daaa5</td>\n",
       "      <td>D</td>\n",
       "    </tr>\n",
       "  </tbody>\n",
       "</table>\n",
       "</div>"
      ],
      "text/plain": [
       "                             OfferId groups\n",
       "3   0b1e1539f2cc45b7b9fa7c272da2e1d7      A\n",
       "11  2298d6c36e964ae4a3e7e9706d1fb8c2      B\n",
       "49  fafdcd668e3743c1bb461111dcafc2a4      C\n",
       "4   2906b810c7d4411798c6938adc9daaa5      D"
      ]
     },
     "execution_count": 34,
     "metadata": {},
     "output_type": "execute_result"
    }
   ],
   "source": [
    "distinct_df = discount_df[['OfferId', 'groups']].drop_duplicates().sort_values(by='groups')\n",
    "distinct_df"
   ]
  },
  {
   "cell_type": "markdown",
   "id": "122a9752",
   "metadata": {},
   "source": [
    "- Mencari **#user** dalam group"
   ]
  },
  {
   "cell_type": "code",
   "execution_count": 35,
   "id": "aa69bd80",
   "metadata": {},
   "outputs": [
    {
     "name": "stdout",
     "output_type": "stream",
     "text": [
      "6280\n"
     ]
    }
   ],
   "source": [
    "# Count users in group A, B, C, D\n",
    "n_A = data_A.shape[0]\n",
    "n_B = data_B.shape[0]\n",
    "n_C = data_C.shape[0]\n",
    "n_D = data_D.shape[0]\n",
    "print(n_D)"
   ]
  },
  {
   "cell_type": "code",
   "execution_count": 36,
   "id": "0e0b91c5",
   "metadata": {},
   "outputs": [
    {
     "name": "stdout",
     "output_type": "stream",
     "text": [
      "2732\n",
      "4267\n",
      "4403\n",
      "3258\n"
     ]
    }
   ],
   "source": [
    "# group A\n",
    "n_convertA = data_A['conver'].sum()\n",
    "print(n_convertA)\n",
    "# group B\n",
    "n_convertB = data_B['conver'].sum()\n",
    "print(n_convertB)\n",
    "# group C\n",
    "n_convertC = data_C['conver'].sum()\n",
    "print(n_convertC)\n",
    "# group D\n",
    "n_convertD = data_D['conver'].sum()\n",
    "print(n_convertD)"
   ]
  },
  {
   "cell_type": "code",
   "execution_count": 37,
   "id": "1092678a",
   "metadata": {},
   "outputs": [
    {
     "name": "stdout",
     "output_type": "stream",
     "text": [
      "convertion rate A : 0.44\n",
      "convertion rate B : 0.68\n",
      "convertion rate C : 0.70\n",
      "convertion rate D : 0.52\n"
     ]
    }
   ],
   "source": [
    "cr_A = n_convertA/n_A\n",
    "cr_B = n_convertB/n_B\n",
    "cr_C = n_convertC/n_C\n",
    "cr_D = n_convertD/n_D\n",
    "\n",
    "print(f\"convertion rate A : {cr_A:.2f}\")\n",
    "print(f\"convertion rate B : {cr_B:.2f}\")\n",
    "print(f\"convertion rate C : {cr_C:.2f}\")\n",
    "print(f\"convertion rate D : {cr_D:.2f}\")"
   ]
  },
  {
   "cell_type": "markdown",
   "id": "ed257a46",
   "metadata": {},
   "source": [
    "Setelah kita mengetahui conversion rate dari tiap group maka kita buat table agar lebih mudah dalam membacanya!\n",
    "\n",
    "<center>\n",
    "\n",
    "|Group|#User|#Convert|Convertion Rate\n",
    "|:--|:--:|:--:|:--:|\n",
    "|A|6280|2732|0.44|\n",
    "|B|6280|4267|0.68|\n",
    "|C|6280|4403|0.70|\n",
    "|D|6280|3258|0.52|\n",
    "\n",
    "\n",
    "</center>"
   ]
  },
  {
   "cell_type": "code",
   "execution_count": 38,
   "id": "e06ab259",
   "metadata": {},
   "outputs": [
    {
     "data": {
      "image/png": "[encoded data removed]",
      "text/plain": [
       "<Figure size 1000x700 with 1 Axes>"
      ]
     },
     "metadata": {},
     "output_type": "display_data"
    }
   ],
   "source": [
    "fig, ax = plt.subplots(nrows=1, ncols=1, figsize=(10, 7))\n",
    "\n",
    "ax.bar(\"A\", cr_A, label=\"A\")\n",
    "ax.bar(\"B\", cr_B, label=\"B\")\n",
    "ax.bar(\"C\", cr_C, label=\"C\")\n",
    "ax.bar(\"D\", cr_D, label=\"D\")\n",
    "\n",
    "ax.set_ylabel(\"Convertion Rate\", fontsize=16)\n",
    "ax.set_xlabel(\"Group\", fontsize=16)\n",
    "\n",
    "plt.legend(fontsize=16)\n",
    "plt.show();"
   ]
  },
  {
   "cell_type": "code",
   "execution_count": 39,
   "id": "4fd389dd",
   "metadata": {},
   "outputs": [
    {
     "data": {
      "text/html": [
       "<div>\n",
       "<style scoped>\n",
       "    .dataframe tbody tr th:only-of-type {\n",
       "        vertical-align: middle;\n",
       "    }\n",
       "\n",
       "    .dataframe tbody tr th {\n",
       "        vertical-align: top;\n",
       "    }\n",
       "\n",
       "    .dataframe thead th {\n",
       "        text-align: right;\n",
       "    }\n",
       "</style>\n",
       "<table border=\"1\" class=\"dataframe\">\n",
       "  <thead>\n",
       "    <tr style=\"text-align: right;\">\n",
       "      <th></th>\n",
       "      <th>customer_id</th>\n",
       "      <th>OfferId</th>\n",
       "      <th>offer_type</th>\n",
       "      <th>difficulty</th>\n",
       "      <th>reward</th>\n",
       "      <th>duration</th>\n",
       "      <th>channels</th>\n",
       "      <th>groups</th>\n",
       "      <th>conver</th>\n",
       "    </tr>\n",
       "  </thead>\n",
       "  <tbody>\n",
       "    <tr>\n",
       "      <th>27199</th>\n",
       "      <td>af74271eb39449619fd3bc60e7b0bce4</td>\n",
       "      <td>0b1e1539f2cc45b7b9fa7c272da2e1d7</td>\n",
       "      <td>discount</td>\n",
       "      <td>20.0</td>\n",
       "      <td>5.0</td>\n",
       "      <td>10.0</td>\n",
       "      <td>['web', 'email']</td>\n",
       "      <td>A</td>\n",
       "      <td>1</td>\n",
       "    </tr>\n",
       "    <tr>\n",
       "      <th>24278</th>\n",
       "      <td>f87944dae046445aaa22f7665599a5eb</td>\n",
       "      <td>0b1e1539f2cc45b7b9fa7c272da2e1d7</td>\n",
       "      <td>discount</td>\n",
       "      <td>20.0</td>\n",
       "      <td>5.0</td>\n",
       "      <td>10.0</td>\n",
       "      <td>['web', 'email']</td>\n",
       "      <td>A</td>\n",
       "      <td>0</td>\n",
       "    </tr>\n",
       "    <tr>\n",
       "      <th>14159</th>\n",
       "      <td>8f357eea66dd47e7ae3f5c59024f391c</td>\n",
       "      <td>0b1e1539f2cc45b7b9fa7c272da2e1d7</td>\n",
       "      <td>discount</td>\n",
       "      <td>20.0</td>\n",
       "      <td>5.0</td>\n",
       "      <td>10.0</td>\n",
       "      <td>['web', 'email']</td>\n",
       "      <td>A</td>\n",
       "      <td>0</td>\n",
       "    </tr>\n",
       "    <tr>\n",
       "      <th>26049</th>\n",
       "      <td>53e8bb88915e405db140e25ae136bf1d</td>\n",
       "      <td>0b1e1539f2cc45b7b9fa7c272da2e1d7</td>\n",
       "      <td>discount</td>\n",
       "      <td>20.0</td>\n",
       "      <td>5.0</td>\n",
       "      <td>10.0</td>\n",
       "      <td>['web', 'email']</td>\n",
       "      <td>A</td>\n",
       "      <td>1</td>\n",
       "    </tr>\n",
       "    <tr>\n",
       "      <th>22956</th>\n",
       "      <td>e9512c8b35c84c62a76b5b452ec971d9</td>\n",
       "      <td>0b1e1539f2cc45b7b9fa7c272da2e1d7</td>\n",
       "      <td>discount</td>\n",
       "      <td>20.0</td>\n",
       "      <td>5.0</td>\n",
       "      <td>10.0</td>\n",
       "      <td>['web', 'email']</td>\n",
       "      <td>A</td>\n",
       "      <td>0</td>\n",
       "    </tr>\n",
       "    <tr>\n",
       "      <th>...</th>\n",
       "      <td>...</td>\n",
       "      <td>...</td>\n",
       "      <td>...</td>\n",
       "      <td>...</td>\n",
       "      <td>...</td>\n",
       "      <td>...</td>\n",
       "      <td>...</td>\n",
       "      <td>...</td>\n",
       "      <td>...</td>\n",
       "    </tr>\n",
       "    <tr>\n",
       "      <th>16089</th>\n",
       "      <td>a1b42659653a462ba62fed071e1f4284</td>\n",
       "      <td>2906b810c7d4411798c6938adc9daaa5</td>\n",
       "      <td>discount</td>\n",
       "      <td>10.0</td>\n",
       "      <td>2.0</td>\n",
       "      <td>7.0</td>\n",
       "      <td>['web', 'email', 'mobile']</td>\n",
       "      <td>D</td>\n",
       "      <td>0</td>\n",
       "    </tr>\n",
       "    <tr>\n",
       "      <th>33998</th>\n",
       "      <td>5761c67b1cbc46bb812b5c47bfbfb787</td>\n",
       "      <td>2906b810c7d4411798c6938adc9daaa5</td>\n",
       "      <td>discount</td>\n",
       "      <td>10.0</td>\n",
       "      <td>2.0</td>\n",
       "      <td>7.0</td>\n",
       "      <td>['web', 'email', 'mobile']</td>\n",
       "      <td>D</td>\n",
       "      <td>1</td>\n",
       "    </tr>\n",
       "    <tr>\n",
       "      <th>23618</th>\n",
       "      <td>f094fae8936e4c38b5bef23428f71961</td>\n",
       "      <td>2906b810c7d4411798c6938adc9daaa5</td>\n",
       "      <td>discount</td>\n",
       "      <td>10.0</td>\n",
       "      <td>2.0</td>\n",
       "      <td>7.0</td>\n",
       "      <td>['web', 'email', 'mobile']</td>\n",
       "      <td>D</td>\n",
       "      <td>0</td>\n",
       "    </tr>\n",
       "    <tr>\n",
       "      <th>35037</th>\n",
       "      <td>a043e5b2568541efbe9a1b7fa65b8c35</td>\n",
       "      <td>2906b810c7d4411798c6938adc9daaa5</td>\n",
       "      <td>discount</td>\n",
       "      <td>10.0</td>\n",
       "      <td>2.0</td>\n",
       "      <td>7.0</td>\n",
       "      <td>['web', 'email', 'mobile']</td>\n",
       "      <td>D</td>\n",
       "      <td>1</td>\n",
       "    </tr>\n",
       "    <tr>\n",
       "      <th>32805</th>\n",
       "      <td>034946bd82b34a219b556a47f1200828</td>\n",
       "      <td>2906b810c7d4411798c6938adc9daaa5</td>\n",
       "      <td>discount</td>\n",
       "      <td>10.0</td>\n",
       "      <td>2.0</td>\n",
       "      <td>7.0</td>\n",
       "      <td>['web', 'email', 'mobile']</td>\n",
       "      <td>D</td>\n",
       "      <td>1</td>\n",
       "    </tr>\n",
       "  </tbody>\n",
       "</table>\n",
       "<p>25120 rows × 9 columns</p>\n",
       "</div>"
      ],
      "text/plain": [
       "                            customer_id                           OfferId  \\\n",
       "27199  af74271eb39449619fd3bc60e7b0bce4  0b1e1539f2cc45b7b9fa7c272da2e1d7   \n",
       "24278  f87944dae046445aaa22f7665599a5eb  0b1e1539f2cc45b7b9fa7c272da2e1d7   \n",
       "14159  8f357eea66dd47e7ae3f5c59024f391c  0b1e1539f2cc45b7b9fa7c272da2e1d7   \n",
       "26049  53e8bb88915e405db140e25ae136bf1d  0b1e1539f2cc45b7b9fa7c272da2e1d7   \n",
       "22956  e9512c8b35c84c62a76b5b452ec971d9  0b1e1539f2cc45b7b9fa7c272da2e1d7   \n",
       "...                                 ...                               ...   \n",
       "16089  a1b42659653a462ba62fed071e1f4284  2906b810c7d4411798c6938adc9daaa5   \n",
       "33998  5761c67b1cbc46bb812b5c47bfbfb787  2906b810c7d4411798c6938adc9daaa5   \n",
       "23618  f094fae8936e4c38b5bef23428f71961  2906b810c7d4411798c6938adc9daaa5   \n",
       "35037  a043e5b2568541efbe9a1b7fa65b8c35  2906b810c7d4411798c6938adc9daaa5   \n",
       "32805  034946bd82b34a219b556a47f1200828  2906b810c7d4411798c6938adc9daaa5   \n",
       "\n",
       "      offer_type  difficulty  reward  duration                    channels  \\\n",
       "27199   discount        20.0     5.0      10.0            ['web', 'email']   \n",
       "24278   discount        20.0     5.0      10.0            ['web', 'email']   \n",
       "14159   discount        20.0     5.0      10.0            ['web', 'email']   \n",
       "26049   discount        20.0     5.0      10.0            ['web', 'email']   \n",
       "22956   discount        20.0     5.0      10.0            ['web', 'email']   \n",
       "...          ...         ...     ...       ...                         ...   \n",
       "16089   discount        10.0     2.0       7.0  ['web', 'email', 'mobile']   \n",
       "33998   discount        10.0     2.0       7.0  ['web', 'email', 'mobile']   \n",
       "23618   discount        10.0     2.0       7.0  ['web', 'email', 'mobile']   \n",
       "35037   discount        10.0     2.0       7.0  ['web', 'email', 'mobile']   \n",
       "32805   discount        10.0     2.0       7.0  ['web', 'email', 'mobile']   \n",
       "\n",
       "      groups  conver  \n",
       "27199      A       1  \n",
       "24278      A       0  \n",
       "14159      A       0  \n",
       "26049      A       1  \n",
       "22956      A       0  \n",
       "...      ...     ...  \n",
       "16089      D       0  \n",
       "33998      D       1  \n",
       "23618      D       0  \n",
       "35037      D       1  \n",
       "32805      D       1  \n",
       "\n",
       "[25120 rows x 9 columns]"
      ]
     },
     "execution_count": 39,
     "metadata": {},
     "output_type": "execute_result"
    }
   ],
   "source": [
    "# Gabung hasil dari experiment AB Testing untuk grup A, B, C, dan D\n",
    "\n",
    "df_total = pd.concat([data_A,data_B,data_C,data_D])\n",
    "df_total"
   ]
  },
  {
   "cell_type": "code",
   "execution_count": 40,
   "id": "4191f7af",
   "metadata": {},
   "outputs": [
    {
     "data": {
      "text/html": [
       "<div>\n",
       "<style scoped>\n",
       "    .dataframe tbody tr th:only-of-type {\n",
       "        vertical-align: middle;\n",
       "    }\n",
       "\n",
       "    .dataframe tbody tr th {\n",
       "        vertical-align: top;\n",
       "    }\n",
       "\n",
       "    .dataframe thead th {\n",
       "        text-align: right;\n",
       "    }\n",
       "</style>\n",
       "<table border=\"1\" class=\"dataframe\">\n",
       "  <thead>\n",
       "    <tr style=\"text-align: right;\">\n",
       "      <th></th>\n",
       "      <th>OfferId</th>\n",
       "      <th>groups</th>\n",
       "      <th>offer_type</th>\n",
       "      <th>difficulty</th>\n",
       "      <th>reward</th>\n",
       "      <th>duration</th>\n",
       "      <th>channels</th>\n",
       "    </tr>\n",
       "  </thead>\n",
       "  <tbody>\n",
       "    <tr>\n",
       "      <th>3</th>\n",
       "      <td>0b1e1539f2cc45b7b9fa7c272da2e1d7</td>\n",
       "      <td>A</td>\n",
       "      <td>discount</td>\n",
       "      <td>20.0</td>\n",
       "      <td>5.0</td>\n",
       "      <td>10.0</td>\n",
       "      <td>['web', 'email']</td>\n",
       "    </tr>\n",
       "    <tr>\n",
       "      <th>11</th>\n",
       "      <td>2298d6c36e964ae4a3e7e9706d1fb8c2</td>\n",
       "      <td>B</td>\n",
       "      <td>discount</td>\n",
       "      <td>7.0</td>\n",
       "      <td>3.0</td>\n",
       "      <td>7.0</td>\n",
       "      <td>['web', 'email', 'mobile', 'social']</td>\n",
       "    </tr>\n",
       "    <tr>\n",
       "      <th>49</th>\n",
       "      <td>fafdcd668e3743c1bb461111dcafc2a4</td>\n",
       "      <td>C</td>\n",
       "      <td>discount</td>\n",
       "      <td>10.0</td>\n",
       "      <td>2.0</td>\n",
       "      <td>10.0</td>\n",
       "      <td>['web', 'email', 'mobile', 'social']</td>\n",
       "    </tr>\n",
       "    <tr>\n",
       "      <th>4</th>\n",
       "      <td>2906b810c7d4411798c6938adc9daaa5</td>\n",
       "      <td>D</td>\n",
       "      <td>discount</td>\n",
       "      <td>10.0</td>\n",
       "      <td>2.0</td>\n",
       "      <td>7.0</td>\n",
       "      <td>['web', 'email', 'mobile']</td>\n",
       "    </tr>\n",
       "  </tbody>\n",
       "</table>\n",
       "</div>"
      ],
      "text/plain": [
       "                             OfferId groups offer_type  difficulty  reward  \\\n",
       "3   0b1e1539f2cc45b7b9fa7c272da2e1d7      A   discount        20.0     5.0   \n",
       "11  2298d6c36e964ae4a3e7e9706d1fb8c2      B   discount         7.0     3.0   \n",
       "49  fafdcd668e3743c1bb461111dcafc2a4      C   discount        10.0     2.0   \n",
       "4   2906b810c7d4411798c6938adc9daaa5      D   discount        10.0     2.0   \n",
       "\n",
       "    duration                              channels  \n",
       "3       10.0                      ['web', 'email']  \n",
       "11       7.0  ['web', 'email', 'mobile', 'social']  \n",
       "49      10.0  ['web', 'email', 'mobile', 'social']  \n",
       "4        7.0            ['web', 'email', 'mobile']  "
      ]
     },
     "execution_count": 40,
     "metadata": {},
     "output_type": "execute_result"
    }
   ],
   "source": [
    "discount_df[['OfferId', 'groups','offer_type','difficulty','reward','duration','channels']].drop_duplicates().sort_values(by='groups')"
   ]
  },
  {
   "cell_type": "markdown",
   "id": "9e3a7681",
   "metadata": {},
   "source": [
    "### G.\tMengevaluasi dan Menginterpretasikan Data"
   ]
  },
  {
   "cell_type": "markdown",
   "id": "b726add2",
   "metadata": {},
   "source": [
    "- Check apakah ada yang tidak machting antara group dan element yang sudah ditentukan"
   ]
  },
  {
   "cell_type": "code",
   "execution_count": 41,
   "id": "dd6d8d9a",
   "metadata": {},
   "outputs": [
    {
     "data": {
      "text/html": [
       "<div>\n",
       "<style scoped>\n",
       "    .dataframe tbody tr th:only-of-type {\n",
       "        vertical-align: middle;\n",
       "    }\n",
       "\n",
       "    .dataframe tbody tr th {\n",
       "        vertical-align: top;\n",
       "    }\n",
       "\n",
       "    .dataframe thead th {\n",
       "        text-align: right;\n",
       "    }\n",
       "</style>\n",
       "<table border=\"1\" class=\"dataframe\">\n",
       "  <thead>\n",
       "    <tr style=\"text-align: right;\">\n",
       "      <th></th>\n",
       "      <th>customer_id</th>\n",
       "      <th>OfferId</th>\n",
       "      <th>offer_type</th>\n",
       "      <th>difficulty</th>\n",
       "      <th>reward</th>\n",
       "      <th>duration</th>\n",
       "      <th>channels</th>\n",
       "      <th>groups</th>\n",
       "      <th>conver</th>\n",
       "    </tr>\n",
       "  </thead>\n",
       "  <tbody>\n",
       "  </tbody>\n",
       "</table>\n",
       "</div>"
      ],
      "text/plain": [
       "Empty DataFrame\n",
       "Columns: [customer_id, OfferId, offer_type, difficulty, reward, duration, channels, groups, conver]\n",
       "Index: []"
      ]
     },
     "execution_count": 41,
     "metadata": {},
     "output_type": "execute_result"
    }
   ],
   "source": [
    "group_name = \"A\"\n",
    "diff = 20.0\n",
    "reward = 5.0\n",
    "duration = 10.0\n",
    "channels = \"['web', 'email']\"\n",
    "\n",
    "# Make condition\n",
    "condition_group = df_total[\"groups\"] == group_name\n",
    "condition_diff = df_total[\"difficulty\"] == diff\n",
    "condition_reward = df_total[\"reward\"] == reward\n",
    "condition_duration = df_total[\"duration\"] == duration\n",
    "condition_channels = df_total[\"channels\"] == channels\n",
    "\n",
    "\n",
    "# Select data with the conditions above\n",
    "data_salah_1 = df_total[condition_group & ~(condition_diff & condition_reward & condition_duration & condition_channels)]\n",
    "data_salah_1.head()"
   ]
  },
  {
   "cell_type": "code",
   "execution_count": 42,
   "id": "9f1d839b",
   "metadata": {},
   "outputs": [
    {
     "data": {
      "text/html": [
       "<div>\n",
       "<style scoped>\n",
       "    .dataframe tbody tr th:only-of-type {\n",
       "        vertical-align: middle;\n",
       "    }\n",
       "\n",
       "    .dataframe tbody tr th {\n",
       "        vertical-align: top;\n",
       "    }\n",
       "\n",
       "    .dataframe thead th {\n",
       "        text-align: right;\n",
       "    }\n",
       "</style>\n",
       "<table border=\"1\" class=\"dataframe\">\n",
       "  <thead>\n",
       "    <tr style=\"text-align: right;\">\n",
       "      <th></th>\n",
       "      <th>customer_id</th>\n",
       "      <th>OfferId</th>\n",
       "      <th>offer_type</th>\n",
       "      <th>difficulty</th>\n",
       "      <th>reward</th>\n",
       "      <th>duration</th>\n",
       "      <th>channels</th>\n",
       "      <th>groups</th>\n",
       "      <th>conver</th>\n",
       "    </tr>\n",
       "  </thead>\n",
       "  <tbody>\n",
       "  </tbody>\n",
       "</table>\n",
       "</div>"
      ],
      "text/plain": [
       "Empty DataFrame\n",
       "Columns: [customer_id, OfferId, offer_type, difficulty, reward, duration, channels, groups, conver]\n",
       "Index: []"
      ]
     },
     "execution_count": 42,
     "metadata": {},
     "output_type": "execute_result"
    }
   ],
   "source": [
    "group_name = \"B\"\n",
    "diff = 7.0\n",
    "reward = 3.0\n",
    "duration = 7.0\n",
    "channels = \"['web', 'email', 'mobile', 'social']\"\n",
    "\n",
    "# Make condition\n",
    "condition_group = df_total[\"groups\"] == group_name\n",
    "condition_diff = df_total[\"difficulty\"] == diff\n",
    "condition_reward = df_total[\"reward\"] == reward\n",
    "condition_duration = df_total[\"duration\"] == duration\n",
    "condition_channels = df_total[\"channels\"] == channels\n",
    "\n",
    "\n",
    "# Select data with the conditions above\n",
    "data_salah_2 = df_total[condition_group & ~(condition_diff & condition_reward & condition_duration & condition_channels)]\n",
    "data_salah_2.head()"
   ]
  },
  {
   "cell_type": "code",
   "execution_count": 43,
   "id": "0b676cfa",
   "metadata": {},
   "outputs": [
    {
     "data": {
      "text/html": [
       "<div>\n",
       "<style scoped>\n",
       "    .dataframe tbody tr th:only-of-type {\n",
       "        vertical-align: middle;\n",
       "    }\n",
       "\n",
       "    .dataframe tbody tr th {\n",
       "        vertical-align: top;\n",
       "    }\n",
       "\n",
       "    .dataframe thead th {\n",
       "        text-align: right;\n",
       "    }\n",
       "</style>\n",
       "<table border=\"1\" class=\"dataframe\">\n",
       "  <thead>\n",
       "    <tr style=\"text-align: right;\">\n",
       "      <th></th>\n",
       "      <th>customer_id</th>\n",
       "      <th>OfferId</th>\n",
       "      <th>offer_type</th>\n",
       "      <th>difficulty</th>\n",
       "      <th>reward</th>\n",
       "      <th>duration</th>\n",
       "      <th>channels</th>\n",
       "      <th>groups</th>\n",
       "      <th>conver</th>\n",
       "    </tr>\n",
       "  </thead>\n",
       "  <tbody>\n",
       "  </tbody>\n",
       "</table>\n",
       "</div>"
      ],
      "text/plain": [
       "Empty DataFrame\n",
       "Columns: [customer_id, OfferId, offer_type, difficulty, reward, duration, channels, groups, conver]\n",
       "Index: []"
      ]
     },
     "execution_count": 43,
     "metadata": {},
     "output_type": "execute_result"
    }
   ],
   "source": [
    "group_name = \"C\"\n",
    "diff = 10.0\n",
    "reward = 2.0\n",
    "duration = 10.0\n",
    "channels = \"['web', 'email', 'mobile', 'social']\"\n",
    "\n",
    "# Make condition\n",
    "condition_group = df_total[\"groups\"] == group_name\n",
    "condition_diff = df_total[\"difficulty\"] == diff\n",
    "condition_reward = df_total[\"reward\"] == reward\n",
    "condition_duration = df_total[\"duration\"] == duration\n",
    "condition_channels = df_total[\"channels\"] == channels\n",
    "\n",
    "\n",
    "# Select data with the conditions above\n",
    "data_salah_3 = df_total[condition_group & ~(condition_diff & condition_reward & condition_duration & condition_channels)]\n",
    "data_salah_3.head()"
   ]
  },
  {
   "cell_type": "code",
   "execution_count": 44,
   "id": "383b7ca3",
   "metadata": {},
   "outputs": [
    {
     "data": {
      "text/html": [
       "<div>\n",
       "<style scoped>\n",
       "    .dataframe tbody tr th:only-of-type {\n",
       "        vertical-align: middle;\n",
       "    }\n",
       "\n",
       "    .dataframe tbody tr th {\n",
       "        vertical-align: top;\n",
       "    }\n",
       "\n",
       "    .dataframe thead th {\n",
       "        text-align: right;\n",
       "    }\n",
       "</style>\n",
       "<table border=\"1\" class=\"dataframe\">\n",
       "  <thead>\n",
       "    <tr style=\"text-align: right;\">\n",
       "      <th></th>\n",
       "      <th>customer_id</th>\n",
       "      <th>OfferId</th>\n",
       "      <th>offer_type</th>\n",
       "      <th>difficulty</th>\n",
       "      <th>reward</th>\n",
       "      <th>duration</th>\n",
       "      <th>channels</th>\n",
       "      <th>groups</th>\n",
       "      <th>conver</th>\n",
       "    </tr>\n",
       "  </thead>\n",
       "  <tbody>\n",
       "  </tbody>\n",
       "</table>\n",
       "</div>"
      ],
      "text/plain": [
       "Empty DataFrame\n",
       "Columns: [customer_id, OfferId, offer_type, difficulty, reward, duration, channels, groups, conver]\n",
       "Index: []"
      ]
     },
     "execution_count": 44,
     "metadata": {},
     "output_type": "execute_result"
    }
   ],
   "source": [
    "group_name = \"D\"\n",
    "diff = 10.0\n",
    "reward = 2.0\n",
    "duration = 7.0\n",
    "channels = \"['web', 'email', 'mobile']\"\n",
    "\n",
    "# Make condition\n",
    "condition_group = df_total[\"groups\"] == group_name\n",
    "condition_diff = df_total[\"difficulty\"] == diff\n",
    "condition_reward = df_total[\"reward\"] == reward\n",
    "condition_duration = df_total[\"duration\"] == duration\n",
    "condition_channels = df_total[\"channels\"] == channels\n",
    "\n",
    "\n",
    "# Select data with the conditions above\n",
    "data_salah_4 = df_total[condition_group & ~(condition_diff & condition_reward & condition_duration & condition_channels)]\n",
    "data_salah_4.head()"
   ]
  },
  {
   "cell_type": "markdown",
   "id": "dd1c1d84",
   "metadata": {},
   "source": [
    "#### Data Exploration"
   ]
  },
  {
   "cell_type": "code",
   "execution_count": 45,
   "id": "2dfeb788",
   "metadata": {},
   "outputs": [
    {
     "name": "stdout",
     "output_type": "stream",
     "text": [
      "% A   : 25.00%\n",
      "% B   : 25.00%\n",
      "% C   : 25.00%\n",
      "% D   : 25.00%\n"
     ]
    }
   ],
   "source": [
    "# Percentage in each group\n",
    "n_total = df_total.shape[0]\n",
    "persen_A = n_A/n_total * 100 # Control\n",
    "persen_B = n_B/n_total * 100 # Treatment 1\n",
    "persen_C = n_C/n_total * 100 # Treatment 2\n",
    "persen_D = n_D/n_total * 100 # Treatment 3\n",
    "\n",
    "print(f\"% A   : {persen_A:.2f}%\")\n",
    "print(f\"% B   : {persen_B:.2f}%\")\n",
    "print(f\"% C   : {persen_C:.2f}%\")\n",
    "print(f\"% D   : {persen_D:.2f}%\")"
   ]
  },
  {
   "cell_type": "markdown",
   "id": "12066a8f",
   "metadata": {},
   "source": [
    "Data terbagi dengan jumlah yang sama "
   ]
  },
  {
   "cell_type": "markdown",
   "id": "603ae874",
   "metadata": {},
   "source": [
    "## H. Sample Ratio Mismatch (SRM)"
   ]
  },
  {
   "cell_type": "markdown",
   "id": "d3e17e65",
   "metadata": {},
   "source": [
    "* Sample Ratio Mismatch (SRM) adalah situasi di mana rasio sampel yang diamati dalam eksperimen berbeda dari yang diharapkan.\n",
    "\n",
    "\n",
    "* **Uji chi-square** dapat digunakan untuk mendeteksi apakah sebuah eksperimen mengalami SRM atau tidak.\n",
    "\n",
    "Langkah-langkah untuk melakukan uji chi-square dalam rangka mendeteksi SRM adalah:\n",
    "\n",
    "1. Mendefinisikan hipotesis nol dan alternatif (H0 dan H1).\n",
    "2. Menghitung statistik chi-square.\n",
    "3. Menentukan aturan keputusan.\n",
    "4. Membuat keputusan dan menarik kesimpulan."
   ]
  },
  {
   "cell_type": "markdown",
   "id": "34ec6a68",
   "metadata": {},
   "source": [
    "#### Chi-Square Test for Detect SRM"
   ]
  },
  {
   "cell_type": "markdown",
   "id": "eb871ea4",
   "metadata": {},
   "source": [
    "**Mengapa Harus Dilakukan :**\n",
    "\n",
    "1. Memastikan Validitas Eksperimen: SRM membantu mengidentifikasi apakah distribusi sampel sesuai dengan yang diharapkan. Jika terjadi ketidaksesuaian, hasil eksperimen bisa terdistorsi, sehingga mengarah pada kesimpulan yang salah.\n",
    "\n",
    "\n",
    "2. Mendeteksi Ketidakseimbangan: Dalam eksperimen A/B testing, penting untuk memastikan bahwa proporsi sampel antara grup kontrol dan grup perlakuan sesuai. Uji chi-square memungkinkan kita mendeteksi adanya ketidakseimbangan dalam distribusi sampel.\n",
    "\n",
    "\n",
    "3. Menilai Keberhasilan Implementasi: Dengan mengidentifikasi SRM, kita dapat mengevaluasi apakah desain dan implementasi eksperimen sudah dilakukan dengan benar, serta apakah semua variabel telah dikendalikan dengan baik.\n",
    "\n",
    "\n",
    "4. Mengurangi Bias: Menggunakan uji chi-square untuk mendeteksi SRM membantu mengurangi risiko bias dalam analisis data. Ini penting untuk menjaga integritas hasil eksperimen dan untuk pengambilan keputusan yang lebih akurat.\n",
    "\n",
    "\n",
    "5. Meningkatkan Akurasi: Dengan memastikan bahwa rasio sampel sesuai dengan yang diharapkan, kita dapat lebih percaya diri dalam hasil analisis dan keputusan yang diambil berdasarkan data tersebut.\n",
    "\n",
    "\n",
    "\n",
    "Secara keseluruhan, melakukan SRM dan uji chi-square adalah langkah penting dalam proses analisis eksperimen untuk memastikan hasil yang valid dan dapat diandalkan."
   ]
  },
  {
   "cell_type": "markdown",
   "id": "ed455211",
   "metadata": {},
   "source": [
    "Langkah-langkah untuk melakukan uji chi-square dalam rangka mendeteksi SRM adalah sebagai berikut:\n",
    "\n"
   ]
  },
  {
   "cell_type": "markdown",
   "id": "6666c356",
   "metadata": {},
   "source": [
    "**1. Mendefinisikan hipotesis nol dan alternatif ($H_0$ dan $H_1$)**\n",
    "\n",
    "$H_0$ : Tidak terdeteksi adanya SRM\n",
    "\n",
    "$H_1$ : Terdeteksi adanya SRM"
   ]
  },
  {
   "cell_type": "markdown",
   "id": "d64a42ba",
   "metadata": {},
   "source": [
    "**2. Menghitung statistik chi-square**\n",
    "\n",
    "\n",
    "$$ \\chi^2 = \\sum \\frac{\\left ( \\text{observed - expected} \\right )^2}{\\text{expected}} $$\n",
    "\n",
    "Di mana:\n",
    "\n",
    "- Observed adalah jumlah pengguna atau traffic yang diamati di setiap grup. Misalnya, kita memiliki empat grup eksperimen: A, B, C, dan D, dengan jumlah pengguna [n_A, n_B, n_C, n_D].\n",
    "- Expected adalah jumlah yang diharapkan untuk setiap grup. Karena kita ingin distribusi yang merata (SRM), jumlah total pengguna yang diamati dibagi rata untuk setiap grup. Maka, nilai yang diharapkan untuk setiap grup adalah total_traffic / 4."
   ]
  },
  {
   "cell_type": "markdown",
   "id": "193eeef5",
   "metadata": {},
   "source": [
    "Observed sama dengan jumlah pengguna di setiap grup.\n",
    "\n",
    "Untuk menghitung nilai yang diharapkan pada setiap grup, kita dapat membagi total nilai yang diamati dengan 4."
   ]
  },
  {
   "cell_type": "code",
   "execution_count": 46,
   "id": "fe386b24",
   "metadata": {},
   "outputs": [
    {
     "data": {
      "text/plain": [
       "[6280.0, 6280.0, 6280.0, 6280.0]"
      ]
     },
     "execution_count": 46,
     "metadata": {},
     "output_type": "execute_result"
    }
   ],
   "source": [
    "observed = [ n_A, n_B, n_C, n_D ]\n",
    "total_traffic= sum(observed)\n",
    "expected = [ total_traffic/4, total_traffic/4, total_traffic/4, total_traffic/4 ]\n",
    "expected"
   ]
  },
  {
   "cell_type": "markdown",
   "id": "81c21132",
   "metadata": {},
   "source": [
    "Kemudian kita dapat menghitung statistik chi-square menggunakan fungsi dari pustaka `scipy`, yaitu `chisquare`, dengan langkah-langkah berikut:\n",
    "\n",
    "1. Mengimpor pustaka:\n",
    "   - `from scipy.stats import chisquare`\n",
    "2. Menggunakan fungsi `chisquare(f_obs, f_exp=...)`\n",
    "   - `f_obs`: Frekuensi yang diamati pada setiap kategori (berbentuk array)\n",
    "   - `f_exp`: Frekuensi yang diharapkan pada setiap kategori. Secara default, kategori diasumsikan memiliki peluang yang sama."
   ]
  },
  {
   "cell_type": "code",
   "execution_count": 47,
   "id": "c25f1fe9",
   "metadata": {},
   "outputs": [
    {
     "name": "stdout",
     "output_type": "stream",
     "text": [
      "Power_divergenceResult(statistic=0.0, pvalue=1.0)\n"
     ]
    }
   ],
   "source": [
    "#calculate chi-square statistics\n",
    "chi = chisquare(observed, f_exp=expected)\n",
    "print(chi)"
   ]
  },
  {
   "cell_type": "markdown",
   "id": "39f1930a",
   "metadata": {},
   "source": [
    "**3. Define decision rules**"
   ]
  },
  {
   "cell_type": "markdown",
   "id": "a3992286",
   "metadata": {},
   "source": [
    "Dalam membuat keputusan uji statistik, kita dapat menggunakan:\n",
    "\n",
    "- Perbandingan antara statistik chi-square dengan nilai kritis:\n",
    "     -  $\\chi^2 > \\chi^2_{\\alpha,df}$ → reject $H_0$\n",
    "\n",
    "- Perbandingan antara nilai p dengan alpha:\n",
    "   - pvalue < $\\alpha$ → reject $H_0$\n",
    "\n",
    "\n",
    "Biasanya, dalam banyak eksperimen atau uji statistik, tingkat signifikansi (significance level) yang umum digunakan adalah 5% atau 0,05. Artinya, jika nilai p-value dari suatu uji statistik kurang dari 0,05, kita akan menolak hipotesis nol ($H_0$), yang berarti kita menganggap ada perbedaan yang signifikan atau adanya SRM (Sample Ratio Mismatch).\n",
    "\n",
    "Namun, dalam konteks ini, tingkat signifikansi 5% dianggap tidak cukup ketat. Alasan untuk ini adalah bahwa tingkat signifikansi 0,05 mungkin mengakibatkan lebih banyak sinyal palsu (false positives), yaitu menolak hipotesis nol ketika sebenarnya tidak ada SRM. Dengan kata lain, kita mungkin menganggap bahwa ada masalah dalam eksperimen, padahal sebenarnya tidak ada.\n",
    "\n",
    "Untuk menghindari sinyal palsu tersebut dan memastikan hasil yang lebih akurat, kita menggunakan tingkat signifikansi yang lebih ketat, yaitu 1% atau 0,01. Dalam hal ini, kita hanya akan menolak hipotesis nol jika p-value lebih kecil dari 0,01. Ini mengurangi risiko sinyal palsu dan memberikan keyakinan lebih besar bahwa jika kita mendeteksi SRM, hasil tersebut lebih dapat dipercaya.\n",
    "\n",
    "Jadi, penggunaan tingkat signifikansi 1% memastikan bahwa kita hanya menganggap adanya SRM ketika hasilnya benar-benar kuat, sehingga risiko kesalahan dalam mendeteksi SRM lebih kecil.\n",
    "\n",
    "Derajat kebebasan (df) dihitung sebagai : \n",
    "$$ df = (rows − 1) × (columns − 1) $$ \n"
   ]
  },
  {
   "cell_type": "code",
   "execution_count": 48,
   "id": "019e15c1",
   "metadata": {},
   "outputs": [
    {
     "name": "stdout",
     "output_type": "stream",
     "text": [
      "Critical value: 6.635\n"
     ]
    }
   ],
   "source": [
    "# Comparison of chi-square statistics with critical value\n",
    "# We must calculate the critical first\n",
    "\n",
    "# critical value is the chi-square value at alpha\n",
    "alpha = 0.01\n",
    "df=(2-1)*(2-1)  \n",
    "\n",
    "chi_critical = scipy.stats.chi2.ppf(1 - alpha, df)\n",
    "print(f\"Critical value: {chi_critical:.3f}\")"
   ]
  },
  {
   "cell_type": "code",
   "execution_count": 49,
   "id": "892f2b79",
   "metadata": {},
   "outputs": [
    {
     "name": "stdout",
     "output_type": "stream",
     "text": [
      "Fail to reject H0 : No SRM\n"
     ]
    }
   ],
   "source": [
    "#Make decisions from chi-square statistics and critical value\n",
    "if chi[0] > chi_critical:\n",
    "  print(\"Reject H0 : SRM may be present.\")\n",
    "else:\n",
    "  print(\"Fail to reject H0 : No SRM\")"
   ]
  },
  {
   "cell_type": "markdown",
   "id": "a9bcc1d2",
   "metadata": {},
   "source": [
    "Untuk memutuskan, jika nilai chi-square lebih besar dari nilai kritis (6.635), kita tolak hipotesis nol ($H_0$). Namun, dalam contoh ini, nilai chi-square adalah 0.0, yang lebih kecil dari nilai kritis, sehingga kita gagal menolak hipotesis nol. Artinya, tidak ada SRM yang terdeteksi."
   ]
  },
  {
   "cell_type": "code",
   "execution_count": 50,
   "id": "341ffe0d",
   "metadata": {},
   "outputs": [
    {
     "name": "stdout",
     "output_type": "stream",
     "text": [
      "Fail to reject H0 : No SRM.\n"
     ]
    }
   ],
   "source": [
    "# Comparison of P-Value with alpha.\n",
    "if chi[1] < 0.01:\n",
    "    print('Reject H0 : SRM may be present.')\n",
    "else:\n",
    "    print('Fail to reject H0 : No SRM.')"
   ]
  },
  {
   "cell_type": "markdown",
   "id": "903d69f0",
   "metadata": {},
   "source": [
    "Jika nilai p < alpha (0.01), kita tolak hipotesis nol.\n",
    "Namun, dalam contoh ini, nilai p adalah 1.0, yang lebih besar dari 0.01, sehingga kita gagal menolak hipotesis nol, dan tidak ada SRM yang terdeteksi."
   ]
  },
  {
   "cell_type": "markdown",
   "id": "1b82064c",
   "metadata": {},
   "source": [
    "#### Conclusion\n",
    "Berdasarkan kualitas data, kami telah melakukan pembersihan data sehingga data yang kami gunakan memiliki kualitas yang cukup baik. Namun, kami perlu memeriksa kembali apakah ukuran sampel setelah pembersihan data sudah memadai (sesuai dengan desain eksperimen) atau belum, agar terdapat kekuatan yang cukup untuk menarik kesimpulan yang kredibel.\n",
    "\n",
    "Berdasarkan deteksi SRM, SRM tidak terdeteksi."
   ]
  },
  {
   "cell_type": "markdown",
   "id": "1ec56823",
   "metadata": {},
   "source": [
    "## I. Hypothesis Testing and Analyzing the Result"
   ]
  },
  {
   "cell_type": "code",
   "execution_count": 51,
   "id": "2d6a904f",
   "metadata": {},
   "outputs": [],
   "source": [
    "def extract_evaluation(data):\n",
    "    \"\"\"\n",
    "    Extract key evaluation criterion within the data\n",
    "    - number of session\n",
    "    - number of conversion\n",
    "    - conversion rate\n",
    "    :param data: <pandas DataFrame> sample data\n",
    "    :return results: <dict> contain number of sess., number of conv., & conversion rate\n",
    "    \"\"\"\n",
    "    # Number of session\n",
    "    n_session = int(data.shape[0])\n",
    "\n",
    "    # Number of conversion\n",
    "    n_conversion = int(data[\"conver\"].sum())\n",
    "\n",
    "    # Conversion rate (in percent)\n",
    "    conversion_rate = (n_conversion/n_session) * 100\n",
    "\n",
    "    # Return results\n",
    "    results = {}\n",
    "    results[\"session\"] = n_session\n",
    "    results[\"conversion\"] = n_conversion\n",
    "    results[\"CVR\"] = np.round(conversion_rate, 2)\n",
    "\n",
    "    return results\n"
   ]
  },
  {
   "cell_type": "code",
   "execution_count": 52,
   "id": "5bd4a28d",
   "metadata": {},
   "outputs": [],
   "source": [
    "res_A = extract_evaluation(data = data_A)\n",
    "res_B = extract_evaluation(data = data_B)\n",
    "res_C = extract_evaluation(data = data_C)\n",
    "res_D = extract_evaluation(data = data_D)"
   ]
  },
  {
   "cell_type": "code",
   "execution_count": 53,
   "id": "472a90e0",
   "metadata": {},
   "outputs": [
    {
     "name": "stdout",
     "output_type": "stream",
     "text": [
      " A: {'session': 6280, 'conversion': 2732, 'CVR': 43.5}\n",
      " B: {'session': 6280, 'conversion': 4267, 'CVR': 67.95}\n",
      " C: {'session': 6280, 'conversion': 4403, 'CVR': 70.11}\n",
      " D: {'session': 6280, 'conversion': 3258, 'CVR': 51.88}\n"
     ]
    }
   ],
   "source": [
    "print(f\" A: {res_A}\")\n",
    "print(f\" B: {res_B}\")\n",
    "print(f\" C: {res_C}\")\n",
    "print(f\" D: {res_D}\")"
   ]
  },
  {
   "cell_type": "markdown",
   "id": "2045041e",
   "metadata": {},
   "source": [
    "#### Calculate lift-over-baseline"
   ]
  },
  {
   "cell_type": "markdown",
   "id": "92f4950f",
   "metadata": {},
   "source": [
    "$$\n",
    "\\text{Lift} = CVR_{\\text{treatment}} - CVR_{\\text{control}}\n",
    "$$"
   ]
  },
  {
   "cell_type": "code",
   "execution_count": 54,
   "id": "b921968c",
   "metadata": {},
   "outputs": [],
   "source": [
    "lift_B = res_B[\"CVR\"] - res_A[\"CVR\"]\n",
    "lift_C = res_C[\"CVR\"] - res_A[\"CVR\"]\n",
    "lift_D = res_D[\"CVR\"] - res_A[\"CVR\"]"
   ]
  },
  {
   "cell_type": "code",
   "execution_count": 55,
   "id": "27c611cb",
   "metadata": {},
   "outputs": [
    {
     "name": "stdout",
     "output_type": "stream",
     "text": [
      "Lift-overbaseline untuk treatment B adalah 24.450000000000003 %\n",
      "Lift-overbaseline untuk treatment C adalah 26.61 %\n",
      "Lift-overbaseline untuk treatment D adalah 8.380000000000003 %\n"
     ]
    }
   ],
   "source": [
    "print(f\"Lift-overbaseline untuk treatment B adalah {lift_B} %\")\n",
    "print(f\"Lift-overbaseline untuk treatment C adalah {lift_C} %\")\n",
    "print(f\"Lift-overbaseline untuk treatment D adalah {lift_D} %\")"
   ]
  },
  {
   "cell_type": "markdown",
   "id": "9cee1d83",
   "metadata": {},
   "source": [
    "####  **Multiple Hypothesis Testing with Benjamini-Hochberg Correction**\n",
    "---"
   ]
  },
  {
   "cell_type": "markdown",
   "id": "fda84c3b",
   "metadata": {},
   "source": [
    "Pengujian hipotesis berganda dengan Koreksi Benjamini-Hochberg merupakan teknik yang digunakan untuk mengatasi masalah kesalahan Tipe I (false positive) yang meningkat ketika kita melakukan banyak pengujian hipotesis secara simultan. Berikut penjelasan lebih detail:\n",
    "\n",
    "###### **1. Pengujian Hipotesis**\n",
    "Saat kita ingin mengetahui mana grup yang memiliki performa terbaik dalam eksperimen (misalnya dalam hal tingkat konversi), kita menggunakan uji hipotesis untuk membandingkan antara dua grup. Salah satu uji yang sesuai untuk kasus ini adalah uji z untuk proporsi, karena kita berfokus pada membandingkan proporsi sukses atau konversi antara dua grup.\n",
    "\n",
    "###### **2. Uji Hipotesis Berganda**\n",
    "Jika kita hanya membandingkan dua grup, uji hipotesis yang dilakukan adalah satu kali, sehingga risiko membuat kesalahan Tipe I relatif kecil. Namun, jika kita memiliki lebih dari dua grup, kita perlu melakukan uji hipotesis untuk setiap pasangan grup. Misalnya, jika kita memiliki empat grup (A, B, C, D), kita harus membandingkan:\n",
    "\n",
    "- A dengan B\n",
    "- A dengan C\n",
    "- A dengan D\n",
    "- B dengan C\n",
    "- B dengan D\n",
    "- C dengan D\n",
    "\n",
    "Semakin banyak pengujian yang kita lakukan, semakin besar risiko kesalahan Tipe I. Kesalahan Tipe I terjadi ketika kita secara tidak sengaja menolak hipotesis nol ($H_0$) dan menganggap ada perbedaan signifikan padahal sebenarnya tidak ada.\n",
    "\n",
    "###### **3. Masalah dengan Uji Hipotesis Berganda**\n",
    "\n",
    "Ketika kita melakukan banyak uji hipotesis, risiko terjadinya kesalahan Tipe I (false positive) meningkat. Ini berarti, semakin banyak uji yang kita lakukan, semakin tinggi kemungkinan kita menemukan hasil yang secara keliru dianggap signifikan. Sebagai contoh, dengan tingkat signifikansi 0,05, ada peluang 5% bahwa kita salah menolak hipotesis nol, meskipun sebenarnya benar.\n",
    "\n",
    "Dalam pengujian hipotesis berganda, tanpa koreksi, kemungkinan besar beberapa hasil uji akan dianggap signifikan secara kebetulan, yang berarti kita mungkin salah mengambil kesimpulan tentang data.\n",
    "\n",
    "###### **4. Koreksi Benjamini-Hochberg**\n",
    "\n",
    "Untuk mengatasi masalah ini, kita dapat menggunakan Koreksi Benjamini-Hochberg (BH). Koreksi ini bertujuan untuk mengurangi peluang false positive, tetapi tanpa mengorbankan terlalu banyak kekuatan statistik (kemampuan untuk mendeteksi efek nyata). Berbeda dengan koreksi Bonferroni yang lebih ketat, BH mencoba mempertahankan False Discovery Rate (FDR) — yaitu persentase dari hasil yang signifikan secara statistik yang ternyata palsu.\n",
    "\n",
    "Langkah-langkah Koreksi Benjamini-Hochberg:\n",
    "- Urutkan p-value dari pengujian hipotesis yang dilakukan dalam urutan menaik.\n",
    "- Berikan setiap p-value urutan (rank).\n",
    "- Hitung nilai ambang dengan rumus:\n",
    "> $$\\text{BH-critical value} = \\left ( \\frac{i}{m} \\right )Q$$\n",
    "\n",
    "di mana:\n",
    "   - i adalah urutan (rank) p-value,\n",
    "   - m adalah jumlah pengujian,\n",
    "   - α adalah tingkat signifikansi yang kita tetapkan (misalnya, 0.05).\n",
    "\n",
    "- Bandingkan p-value dengan nilai ambang. Mulai dari p-value terkecil dan naik ke p-value yang lebih besar. Hentikan ketika p-value lebih besar daripada nilai ambang.\n",
    "\n",
    "Setiap p-value yang lebih kecil dari nilai ambang dianggap signifikan setelah koreksi. Dengan cara ini, kita dapat mengontrol FDR dan mengurangi kemungkinan kesalahan positif tanpa terlalu mengorbankan hasil nyata yang signifikan."
   ]
  },
  {
   "cell_type": "markdown",
   "id": "16ead758",
   "metadata": {},
   "source": [
    "**Berikut adalah tahapan untuk melakukan analisis:**"
   ]
  },
  {
   "cell_type": "markdown",
   "id": "5faf6cef",
   "metadata": {},
   "source": [
    "##### 1. Define null hypothesis ($H_0$) and alternative hypothesis ($H_1$)"
   ]
  },
  {
   "cell_type": "markdown",
   "id": "acf75f93",
   "metadata": {},
   "source": [
    "The hypothesis for each group pair is as follows:\n",
    "- group A vs group B\n",
    "    $$H_0 : p_B \\leq p_A$$\n",
    "    $$H_1 : p_B > p_A$$\n",
    "\n",
    "- group A vs group C\n",
    "    $$H_0 : p_C \\leq p_A$$\n",
    "    $$H_1 : p_C > p_A$$\n",
    "\n",
    "- group A vs group D\n",
    "    $$H_0 : p_D \\leq p_A$$\n",
    "    $$H_1 : p_D > p_A$$\n",
    "\n",
    "- group B vs group C\n",
    "    $$H_0 : p_C \\leq p_B$$\n",
    "    $$H_1 : p_C > p_B$$\n",
    "\n",
    "- group B vs group D\n",
    "    $$H_0 : p_D \\leq p_B$$\n",
    "    $$H_1 : p_D > p_B$$\n",
    "\n",
    "- group C vs group D\n",
    "    $$H_0 : p_D \\leq p_C$$\n",
    "    $$H_1 : p_D > p_C$$"
   ]
  },
  {
   "cell_type": "markdown",
   "id": "81b059e9",
   "metadata": {},
   "source": [
    "- Set siginificance level (alpha)\n",
    "- Significance level = 0.05"
   ]
  },
  {
   "cell_type": "markdown",
   "id": "494ada5d",
   "metadata": {},
   "source": [
    "##### 2. Calculate the p-value in each test"
   ]
  },
  {
   "cell_type": "markdown",
   "id": "298538dc",
   "metadata": {},
   "source": [
    "Kode di atas digunakan untuk menghitung p-value dari uji hipotesis perbandingan dua proporsi, dalam hal ini membandingkan konversi dari grup A dan grup B. P-value yang dihasilkan dapat digunakan untuk memutuskan apakah terdapat perbedaan signifikan antara konversi di dua grup tersebut. Mari kita jelaskan secara rinci:\n",
    "\n",
    "1. Menggunakan Uji Proporsi (Z-Test)\n",
    "Fungsi proportions_ztest dari pustaka statsmodels digunakan untuk melakukan uji z untuk proporsi, yang membantu dalam mengevaluasi apakah terdapat perbedaan signifikan antara dua proporsi konversi dari dua grup (A dan B).\n",
    "\n",
    "2. Argumen count = [n_convertB, n_convertA]\n",
    "Ini merepresentasikan jumlah konversi yang terjadi pada grup B dan grup A:\n",
    "\n",
    "n_convertB: Jumlah pengguna di grup B yang melakukan konversi.\n",
    "n_convertA: Jumlah pengguna di grup A yang melakukan konversi.\n",
    "Data ini mewakili hasil nyata (observasi) dari eksperimen.\n",
    "\n",
    "3. Argumen nobs = [n_B, n_A]\n",
    "Argumen ini menunjukkan total jumlah pengguna yang diuji di masing-masing grup:\n",
    "\n",
    "n_B: Total pengguna atau sampel di grup B.\n",
    "n_A: Total pengguna atau sampel di grup A.\n",
    "Ini adalah ukuran sampel masing-masing grup.\n",
    "\n",
    "4. Argumen alternative = 'larger'\n",
    "Argumen ini menyatakan hipotesis alternatif. Dalam hal ini, 'larger' mengindikasikan bahwa kita sedang menguji apakah proporsi konversi di grup A lebih kecil daripada grup B atau sebaliknya (B > A).\n",
    "\n",
    "Jika hasilnya mendukung hipotesis alternatif, ini berarti proporsi konversi di grup B lebih tinggi dibandingkan A.\n",
    "5. Mengambil P-value\n",
    "Bagian [1] setelah fungsi proportions_ztest mengacu pada p-value yang dihasilkan dari uji proporsi ini. Uji proporsi menghasilkan dua nilai, yaitu z-statistic dan p-value, di mana kita hanya tertarik pada p-value (nilai probabilitas).\n",
    "\n",
    "6. P-value dan Pengambilan Keputusan\n",
    "P-value yang dihasilkan akan digunakan untuk menentukan apakah kita dapat menolak hipotesis nol (H₀: Tidak ada perbedaan antara grup A dan B).\n",
    "Jika p-value lebih kecil dari tingkat signifikansi (biasanya 0.05 atau 0.01), kita dapat menolak H₀ dan menyimpulkan bahwa ada perbedaan signifikan antara proporsi konversi grup A dan B."
   ]
  },
  {
   "cell_type": "code",
   "execution_count": 56,
   "id": "e9601d58",
   "metadata": {},
   "outputs": [
    {
     "name": "stdout",
     "output_type": "stream",
     "text": [
      "P-value A vs B: 0.0000\n"
     ]
    }
   ],
   "source": [
    "# call function\n",
    "#p-value group A vs group B hypotesis test\n",
    "p_value_AB = proportions_ztest(count = [n_convertB, n_convertA],\n",
    "                               nobs = [n_B, n_A],\n",
    "                               alternative = 'larger')[1]\n",
    "\n",
    "print(f\"P-value A vs B: {p_value_AB:.4f}\") # 1.123109e-167\t"
   ]
  },
  {
   "cell_type": "markdown",
   "id": "acd953d3",
   "metadata": {},
   "source": [
    "Dalam pengujian yang di lakukan dengan menggunakan uji proporsi (proportions z-test) antara grup B dan grup A, hasil yang ditemukan adalah:\n",
    "\n",
    "B > A: Ini menunjukkan bahwa proporsi konversi di grup B lebih tinggi daripada di grup A.\n",
    "p-value = 1.123109e-167: Ini adalah nilai probabilitas yang dihasilkan dari pengujian. Nilai p-value ini sangat kecil, jauh di bawah batas umum 0.05 atau bahkan 0.01.\n",
    "\n",
    "Apa Artinya?\n",
    "\n",
    "1. Pengujian Hipotesis:\n",
    "\n",
    "    * Hipotesis nol (H₀) biasanya menyatakan bahwa tidak ada perbedaan antara proporsi konversi di grup B dan grup A. Dalam hal ini, H₀ adalah bahwa proporsi konversi di B tidak lebih tinggi dari di A.\n",
    "    * Hipotesis alternatif (H₁) menyatakan bahwa proporsi konversi di grup B lebih tinggi daripada di grup A.\n",
    "    \n",
    "\n",
    "2. Interpretasi p-value:\n",
    "\n",
    "    * Nilai p-value yang sangat kecil (1.123109e-167) menunjukkan bahwa ada bukti yang sangat kuat untuk menolak hipotesis nol.\n",
    "    * Ini berarti bahwa proporsi konversi di grup B secara signifikan lebih tinggi daripada di grup A.\n",
    "    \n",
    "\n",
    "3. Keputusan:\n",
    "\n",
    "    * Karena p-value ini jauh lebih kecil dari tingkat signifikansi yang umum digunakan (misalnya, 0.05 atau 0.01), Anda dapat menyimpulkan bahwa ada perbedaan yang signifikan dalam konversi antara grup B dan grup A, dengan grup B memiliki proporsi konversi yang lebih tinggi.\n",
    "\n",
    "**Kesimpulan:**\n",
    "Dengan kata lain, berdasarkan hasil uji ini, Anda dapat berargumen bahwa strategi atau elemen yang diterapkan di grup B lebih efektif dalam menghasilkan konversi dibandingkan dengan grup A."
   ]
  },
  {
   "cell_type": "code",
   "execution_count": 57,
   "id": "605bb8dd",
   "metadata": {},
   "outputs": [
    {
     "name": "stdout",
     "output_type": "stream",
     "text": [
      "P-value A vs C: 0.0000\n"
     ]
    }
   ],
   "source": [
    "#p-value group A vs group C hypotesis test\n",
    "p_value_AC = proportions_ztest(count = [n_convertC, n_convertA],\n",
    "                               nobs = [n_C, n_A],\n",
    "                               alternative = 'larger')[1]\n",
    "\n",
    "print(f\"P-value A vs C: {p_value_AC:.4f}\")"
   ]
  },
  {
   "cell_type": "code",
   "execution_count": 58,
   "id": "76ef5895",
   "metadata": {},
   "outputs": [
    {
     "name": "stdout",
     "output_type": "stream",
     "text": [
      "P-value A vs D: 0.0000\n"
     ]
    }
   ],
   "source": [
    "#p-value group A vs group D hypotesis test\n",
    "p_value_AD = proportions_ztest(count = [n_convertD, n_convertA],\n",
    "                               nobs = [n_D, n_A],\n",
    "                               alternative = 'larger')[1]\n",
    "\n",
    "print(f\"P-value A vs D: {p_value_AD:.4f}\")"
   ]
  },
  {
   "cell_type": "code",
   "execution_count": 59,
   "id": "5a88b324",
   "metadata": {},
   "outputs": [
    {
     "name": "stdout",
     "output_type": "stream",
     "text": [
      "P-value B vs C: 0.0043\n"
     ]
    }
   ],
   "source": [
    "#p-value group B vs group C hypotesis test\n",
    "p_value_BC = proportions_ztest(count = [n_convertC, n_convertB],\n",
    "                               nobs = [n_C, n_B],\n",
    "                               alternative = 'larger')[1]\n",
    "\n",
    "print(f\"P-value B vs C: {p_value_BC:.4f}\")"
   ]
  },
  {
   "cell_type": "code",
   "execution_count": 60,
   "id": "e24a55f2",
   "metadata": {},
   "outputs": [
    {
     "name": "stdout",
     "output_type": "stream",
     "text": [
      "P-value B vs D: 1.0000\n"
     ]
    }
   ],
   "source": [
    "#p-value group B vs group D hypotesis test\n",
    "p_value_BD = proportions_ztest(count = [n_convertD, n_convertB],\n",
    "                               nobs = [n_D, n_B],\n",
    "                               alternative = 'larger')[1]\n",
    "\n",
    "print(f\"P-value B vs D: {p_value_BD:.4f}\")"
   ]
  },
  {
   "cell_type": "code",
   "execution_count": 61,
   "id": "d8fcbc65",
   "metadata": {},
   "outputs": [
    {
     "name": "stdout",
     "output_type": "stream",
     "text": [
      "P-value C vs D: 1.0000\n"
     ]
    }
   ],
   "source": [
    "#p-value group C vs group D hypotesis test\n",
    "p_value_CD = proportions_ztest(count = [n_convertD, n_convertC],\n",
    "                               nobs = [n_D, n_C],\n",
    "                               alternative = 'larger')[1]\n",
    "\n",
    "print(f\"P-value C vs D: {p_value_CD:.4f}\")"
   ]
  },
  {
   "cell_type": "code",
   "execution_count": 62,
   "id": "784a31b2",
   "metadata": {},
   "outputs": [],
   "source": [
    "# make dataframe consist of p-values\n",
    "pair_group = ['B > A',\n",
    "              'C > A',\n",
    "              'D > A',\n",
    "              'C > B',\n",
    "              'D > B',\n",
    "              'D > C']\n",
    "\n",
    "p_vals = [p_value_AB, p_value_AC,\n",
    "          p_value_AD, p_value_BC,\n",
    "          p_value_BD, p_value_CD]\n",
    "\n",
    "df_p_vals = pd.DataFrame({'pair_group': pair_group,\n",
    "                          'p-value': p_vals})\n",
    "\n",
    "#print\n",
    "df_p_vals_order = df_p_vals.sort_values(by=['p-value'])"
   ]
  },
  {
   "cell_type": "markdown",
   "id": "a97c0a24",
   "metadata": {},
   "source": [
    "##### Assign ranks to the ordered p-values."
   ]
  },
  {
   "cell_type": "code",
   "execution_count": 63,
   "id": "8beea771",
   "metadata": {},
   "outputs": [
    {
     "data": {
      "text/html": [
       "<div>\n",
       "<style scoped>\n",
       "    .dataframe tbody tr th:only-of-type {\n",
       "        vertical-align: middle;\n",
       "    }\n",
       "\n",
       "    .dataframe tbody tr th {\n",
       "        vertical-align: top;\n",
       "    }\n",
       "\n",
       "    .dataframe thead th {\n",
       "        text-align: right;\n",
       "    }\n",
       "</style>\n",
       "<table border=\"1\" class=\"dataframe\">\n",
       "  <thead>\n",
       "    <tr style=\"text-align: right;\">\n",
       "      <th></th>\n",
       "      <th>pair_group</th>\n",
       "      <th>p-value</th>\n",
       "      <th>rank</th>\n",
       "    </tr>\n",
       "  </thead>\n",
       "  <tbody>\n",
       "    <tr>\n",
       "      <th>1</th>\n",
       "      <td>C &gt; A</td>\n",
       "      <td>2.382953e-199</td>\n",
       "      <td>1</td>\n",
       "    </tr>\n",
       "    <tr>\n",
       "      <th>0</th>\n",
       "      <td>B &gt; A</td>\n",
       "      <td>1.123109e-167</td>\n",
       "      <td>2</td>\n",
       "    </tr>\n",
       "    <tr>\n",
       "      <th>2</th>\n",
       "      <td>D &gt; A</td>\n",
       "      <td>2.809794e-21</td>\n",
       "      <td>3</td>\n",
       "    </tr>\n",
       "    <tr>\n",
       "      <th>3</th>\n",
       "      <td>C &gt; B</td>\n",
       "      <td>4.338599e-03</td>\n",
       "      <td>4</td>\n",
       "    </tr>\n",
       "    <tr>\n",
       "      <th>4</th>\n",
       "      <td>D &gt; B</td>\n",
       "      <td>1.000000e+00</td>\n",
       "      <td>5</td>\n",
       "    </tr>\n",
       "    <tr>\n",
       "      <th>5</th>\n",
       "      <td>D &gt; C</td>\n",
       "      <td>1.000000e+00</td>\n",
       "      <td>5</td>\n",
       "    </tr>\n",
       "  </tbody>\n",
       "</table>\n",
       "</div>"
      ],
      "text/plain": [
       "  pair_group        p-value  rank\n",
       "1      C > A  2.382953e-199     1\n",
       "0      B > A  1.123109e-167     2\n",
       "2      D > A   2.809794e-21     3\n",
       "3      C > B   4.338599e-03     4\n",
       "4      D > B   1.000000e+00     5\n",
       "5      D > C   1.000000e+00     5"
      ]
     },
     "execution_count": 63,
     "metadata": {},
     "output_type": "execute_result"
    }
   ],
   "source": [
    "df_p_vals_order['rank'] = df_p_vals_order['p-value'].rank().sub(0).astype(int)\n",
    "df_p_vals_order"
   ]
  },
  {
   "cell_type": "markdown",
   "id": "e6f7a1b8",
   "metadata": {},
   "source": [
    "Using the formula :\n",
    "\n",
    "$$\\text{BH-critical value} = \\left ( \\frac{i}{m} \\right )Q$$\n",
    "\n",
    "\n",
    "where:\n",
    "- $i$ = the p-value’s rank\n",
    "- $m$ = total number of tests\n",
    "- $Q$ = the false discovery rate (chosen by the experimenter)"
   ]
  },
  {
   "cell_type": "markdown",
   "id": "679c4c38",
   "metadata": {},
   "source": [
    "- Suppose that, the experimenter want to control false discoverry rate in 5%. So the $Q=0.05$"
   ]
  },
  {
   "cell_type": "code",
   "execution_count": 64,
   "id": "c20b6013",
   "metadata": {},
   "outputs": [
    {
     "data": {
      "text/html": [
       "<div>\n",
       "<style scoped>\n",
       "    .dataframe tbody tr th:only-of-type {\n",
       "        vertical-align: middle;\n",
       "    }\n",
       "\n",
       "    .dataframe tbody tr th {\n",
       "        vertical-align: top;\n",
       "    }\n",
       "\n",
       "    .dataframe thead th {\n",
       "        text-align: right;\n",
       "    }\n",
       "</style>\n",
       "<table border=\"1\" class=\"dataframe\">\n",
       "  <thead>\n",
       "    <tr style=\"text-align: right;\">\n",
       "      <th></th>\n",
       "      <th>pair_group</th>\n",
       "      <th>p-value</th>\n",
       "      <th>rank</th>\n",
       "      <th>BH-crit</th>\n",
       "    </tr>\n",
       "  </thead>\n",
       "  <tbody>\n",
       "    <tr>\n",
       "      <th>1</th>\n",
       "      <td>C &gt; A</td>\n",
       "      <td>2.382953e-199</td>\n",
       "      <td>1</td>\n",
       "      <td>0.008333</td>\n",
       "    </tr>\n",
       "    <tr>\n",
       "      <th>0</th>\n",
       "      <td>B &gt; A</td>\n",
       "      <td>1.123109e-167</td>\n",
       "      <td>2</td>\n",
       "      <td>0.016667</td>\n",
       "    </tr>\n",
       "    <tr>\n",
       "      <th>2</th>\n",
       "      <td>D &gt; A</td>\n",
       "      <td>2.809794e-21</td>\n",
       "      <td>3</td>\n",
       "      <td>0.025000</td>\n",
       "    </tr>\n",
       "    <tr>\n",
       "      <th>3</th>\n",
       "      <td>C &gt; B</td>\n",
       "      <td>4.338599e-03</td>\n",
       "      <td>4</td>\n",
       "      <td>0.033333</td>\n",
       "    </tr>\n",
       "    <tr>\n",
       "      <th>4</th>\n",
       "      <td>D &gt; B</td>\n",
       "      <td>1.000000e+00</td>\n",
       "      <td>5</td>\n",
       "      <td>0.041667</td>\n",
       "    </tr>\n",
       "    <tr>\n",
       "      <th>5</th>\n",
       "      <td>D &gt; C</td>\n",
       "      <td>1.000000e+00</td>\n",
       "      <td>5</td>\n",
       "      <td>0.041667</td>\n",
       "    </tr>\n",
       "  </tbody>\n",
       "</table>\n",
       "</div>"
      ],
      "text/plain": [
       "  pair_group        p-value  rank   BH-crit\n",
       "1      C > A  2.382953e-199     1  0.008333\n",
       "0      B > A  1.123109e-167     2  0.016667\n",
       "2      D > A   2.809794e-21     3  0.025000\n",
       "3      C > B   4.338599e-03     4  0.033333\n",
       "4      D > B   1.000000e+00     5  0.041667\n",
       "5      D > C   1.000000e+00     5  0.041667"
      ]
     },
     "execution_count": 64,
     "metadata": {},
     "output_type": "execute_result"
    }
   ],
   "source": [
    "#define Q\n",
    "Q = 0.05\n",
    "\n",
    "#calculate BH-critical value\n",
    "df_p_vals_order['BH-crit'] = df_p_vals_order['rank']/len(df_p_vals_order)*Q\n",
    "\n",
    "#print\n",
    "df_p_vals_order"
   ]
  },
  {
   "cell_type": "markdown",
   "id": "7e65f297",
   "metadata": {},
   "source": [
    "##### Compare original p-values to the Benjamini-Hochberg critical value \n",
    "\n",
    "If the original p-values smaller than Benjamini-Hochberg critical, then the test are significant (reject $H_0$)\n"
   ]
  },
  {
   "cell_type": "code",
   "execution_count": 65,
   "id": "e5c8a7bf",
   "metadata": {},
   "outputs": [
    {
     "data": {
      "text/html": [
       "<div>\n",
       "<style scoped>\n",
       "    .dataframe tbody tr th:only-of-type {\n",
       "        vertical-align: middle;\n",
       "    }\n",
       "\n",
       "    .dataframe tbody tr th {\n",
       "        vertical-align: top;\n",
       "    }\n",
       "\n",
       "    .dataframe thead th {\n",
       "        text-align: right;\n",
       "    }\n",
       "</style>\n",
       "<table border=\"1\" class=\"dataframe\">\n",
       "  <thead>\n",
       "    <tr style=\"text-align: right;\">\n",
       "      <th></th>\n",
       "      <th>pair_group</th>\n",
       "      <th>p-value</th>\n",
       "      <th>rank</th>\n",
       "      <th>BH-crit</th>\n",
       "      <th>Significant?</th>\n",
       "    </tr>\n",
       "  </thead>\n",
       "  <tbody>\n",
       "    <tr>\n",
       "      <th>1</th>\n",
       "      <td>C &gt; A</td>\n",
       "      <td>2.382953e-199</td>\n",
       "      <td>1</td>\n",
       "      <td>0.008333</td>\n",
       "      <td>Yes</td>\n",
       "    </tr>\n",
       "    <tr>\n",
       "      <th>0</th>\n",
       "      <td>B &gt; A</td>\n",
       "      <td>1.123109e-167</td>\n",
       "      <td>2</td>\n",
       "      <td>0.016667</td>\n",
       "      <td>Yes</td>\n",
       "    </tr>\n",
       "    <tr>\n",
       "      <th>2</th>\n",
       "      <td>D &gt; A</td>\n",
       "      <td>2.809794e-21</td>\n",
       "      <td>3</td>\n",
       "      <td>0.025000</td>\n",
       "      <td>Yes</td>\n",
       "    </tr>\n",
       "    <tr>\n",
       "      <th>3</th>\n",
       "      <td>C &gt; B</td>\n",
       "      <td>4.338599e-03</td>\n",
       "      <td>4</td>\n",
       "      <td>0.033333</td>\n",
       "      <td>Yes</td>\n",
       "    </tr>\n",
       "    <tr>\n",
       "      <th>4</th>\n",
       "      <td>D &gt; B</td>\n",
       "      <td>1.000000e+00</td>\n",
       "      <td>5</td>\n",
       "      <td>0.041667</td>\n",
       "      <td>No</td>\n",
       "    </tr>\n",
       "    <tr>\n",
       "      <th>5</th>\n",
       "      <td>D &gt; C</td>\n",
       "      <td>1.000000e+00</td>\n",
       "      <td>5</td>\n",
       "      <td>0.041667</td>\n",
       "      <td>No</td>\n",
       "    </tr>\n",
       "  </tbody>\n",
       "</table>\n",
       "</div>"
      ],
      "text/plain": [
       "  pair_group        p-value  rank   BH-crit Significant?\n",
       "1      C > A  2.382953e-199     1  0.008333          Yes\n",
       "0      B > A  1.123109e-167     2  0.016667          Yes\n",
       "2      D > A   2.809794e-21     3  0.025000          Yes\n",
       "3      C > B   4.338599e-03     4  0.033333          Yes\n",
       "4      D > B   1.000000e+00     5  0.041667           No\n",
       "5      D > C   1.000000e+00     5  0.041667           No"
      ]
     },
     "execution_count": 65,
     "metadata": {},
     "output_type": "execute_result"
    }
   ],
   "source": [
    "# make new column with condition\n",
    "df_p_vals_order['Significant?'] = np.where(df_p_vals_order['p-value'] < df_p_vals_order['BH-crit'],\n",
    "                                           'Yes',\n",
    "                                           'No')\n",
    "\n",
    "#print\n",
    "df_p_vals_order"
   ]
  },
  {
   "cell_type": "markdown",
   "id": "cdc3739e",
   "metadata": {},
   "source": [
    "Kolom-kolom dalam Hasil:\n",
    "\n",
    "1. pair_group:\n",
    "\n",
    "> Ini menunjukkan perbandingan antara grup yang diuji. Misalnya, \"C > A\" berarti membandingkan konversi grup C dengan grup A.\n",
    "\n",
    "2. p-value:\n",
    "\n",
    ">Ini adalah nilai probabilitas yang dihasilkan dari uji hipotesis untuk masing-masing perbandingan. P-value yang sangat kecil menunjukkan bahwa ada perbedaan yang signifikan antara dua grup.\n",
    "Contoh:\n",
    "Untuk perbandingan C dan A, p-value sangat kecil (2.38e-199), menunjukkan bahwa konversi grup C jauh lebih tinggi dibandingkan grup A.\n",
    "\n",
    "3. rank:\n",
    "\n",
    ">Ini menunjukkan urutan p-value dari yang terkecil ke yang terbesar. Semakin kecil p-value, semakin tinggi peringkatnya. Dalam konteks ini, ini mencerminkan urutan kekuatan bukti untuk perbandingan konversi.\n",
    "Contoh:\n",
    "\"C > A\" mendapat peringkat 1, yang berarti ini adalah perbandingan paling signifikan.\n",
    "\n",
    "4. BH-crit:\n",
    "\n",
    ">Ini adalah nilai kritis yang ditentukan oleh metode Benjamini-Hochberg, yang digunakan untuk menentukan batas p-value yang dapat diterima untuk menghindari kesalahan Tipe I.\n",
    "Nilai ini dihitung berdasarkan peringkat p-value dan jumlah total uji yang dilakukan. Semakin tinggi peringkat, semakin besar nilai BH-crit.\n",
    "Dalam contoh Anda, jika p-value lebih kecil dari BH-crit, kita menolak hipotesis nol.\n",
    "\n",
    "##### **Interpretasi Hasil:**\n",
    "1. C > A (p-value: 2.382953e-199):\n",
    "\n",
    "P-value sangat kecil, jauh di bawah batas BH-crit (0.008333). Kita menolak H₀, menyimpulkan bahwa konversi di grup C jauh lebih tinggi dibandingkan grup A.\n",
    "\n",
    "2. B > A (p-value: 1.123109e-167):\n",
    "\n",
    "P-value juga sangat kecil, sehingga kita menolak H₀. Ini menunjukkan bahwa konversi grup B lebih tinggi dibandingkan grup A.\n",
    "\n",
    "3. D > A (p-value: 2.809794e-21):\n",
    "\n",
    "P-value yang sangat kecil, kita menolak H₀. Konversi grup D juga lebih tinggi dibandingkan grup A.\n",
    "\n",
    "4. C > B (p-value: 4.338599e-03):\n",
    "\n",
    "P-value di bawah batas BH-crit (0.033333), sehingga kita menolak H₀. Ini menunjukkan bahwa konversi grup C lebih tinggi dibandingkan grup B.\n",
    "\n",
    "5. D > B (p-value: 1.000000e+00):\n",
    "\n",
    "P-value adalah 1.000, jauh di atas batas BH-crit (0.041667). Kita gagal menolak H₀, sehingga tidak ada bukti yang cukup untuk menunjukkan bahwa konversi di grup D lebih tinggi dibandingkan grup B.\n",
    "\n",
    "6. D > C (p-value: 1.000000e+00):\n",
    "\n",
    "Sama seperti di atas, p-value adalah 1.000, jadi kita gagal menolak H₀. Tidak ada bukti bahwa konversi di grup D lebih tinggi dibandingkan grup C."
   ]
  },
  {
   "cell_type": "markdown",
   "id": "8eadd5f2",
   "metadata": {},
   "source": [
    "**Conclusion**\n",
    "\n",
    "Grup C, B, dan D menunjukkan performa konversi yang lebih baik dibandingkan grup A, dengan perbedaan yang signifikan. Namun, tidak ada bukti yang mendukung bahwa grup D memiliki performa konversi yang lebih baik dibandingkan grup B atau C. Oleh karena itu, grup C dan B dapat dianggap sebagai pilihan yang lebih baik dalam hal proporsi konversi jika dibandingkan dengan grup A dan D."
   ]
  },
  {
   "cell_type": "markdown",
   "id": "2051ed94",
   "metadata": {},
   "source": [
    "1. Grup C\n",
    "2. Grup B\n",
    "3. Grup D\n",
    "4. Grup A"
   ]
  },
  {
   "cell_type": "markdown",
   "id": "ef05ec5e",
   "metadata": {},
   "source": [
    "        WHEN [OfferId] = '0b1e1539f2cc45b7b9fa7c272da2e1d7' THEN 'E' --  A\n",
    "        WHEN [OfferId] = '2298d6c36e964ae4a3e7e9706d1fb8c2' THEN 'F' --  B\n",
    "        WHEN [OfferId] =  'fafdcd668e3743c1bb461111dcafc2a4'THEN 'G' --  C\n",
    "        WHEN [OfferId] = '2906b810c7d4411798c6938adc9daaa5' THEN 'H' --  D"
   ]
  },
  {
   "cell_type": "code",
   "execution_count": 76,
   "id": "c83b6293",
   "metadata": {},
   "outputs": [],
   "source": [
    "query = ''' \n",
    "SELECT \n",
    "    left(OfferId, 4) as offerid,\n",
    "    CASE\n",
    "        WHEN [OfferId] = '0b1e1539f2cc45b7b9fa7c272da2e1d7' THEN 'A'\n",
    "        WHEN [OfferId] = '2298d6c36e964ae4a3e7e9706d1fb8c2' THEN 'B'\n",
    "        WHEN [OfferId] = 'fafdcd668e3743c1bb461111dcafc2a4' THEN 'C'\n",
    "        WHEN [OfferId] = '2906b810c7d4411798c6938adc9daaa5' THEN 'D'\n",
    "    END AS GROUPS,\n",
    "    SUM(CAST(reward_get AS float)) AS Reward_Give,\n",
    "    SUM(CAST(Amount AS float)) AS Total_Amount,\n",
    "    SUM(CAST(Amount AS float)) - SUM(CAST(reward_get AS float)) AS ranges\n",
    "FROM [ads].[dbo].[new_data]\n",
    "WHERE offer_type = 'discount'\n",
    "GROUP BY OfferId,\n",
    "    CASE\n",
    "        WHEN [OfferId] = '0b1e1539f2cc45b7b9fa7c272da2e1d7' THEN 'A'\n",
    "        WHEN [OfferId] = '2298d6c36e964ae4a3e7e9706d1fb8c2' THEN 'B'\n",
    "        WHEN [OfferId] = 'fafdcd668e3743c1bb461111dcafc2a4' THEN 'C'\n",
    "        WHEN [OfferId] = '2906b810c7d4411798c6938adc9daaa5' THEN 'D'\n",
    "    END;\n",
    "\n",
    "  '''"
   ]
  },
  {
   "cell_type": "code",
   "execution_count": 77,
   "id": "8393693b",
   "metadata": {},
   "outputs": [
    {
     "data": {
      "text/html": [
       "<div>\n",
       "<style scoped>\n",
       "    .dataframe tbody tr th:only-of-type {\n",
       "        vertical-align: middle;\n",
       "    }\n",
       "\n",
       "    .dataframe tbody tr th {\n",
       "        vertical-align: top;\n",
       "    }\n",
       "\n",
       "    .dataframe thead th {\n",
       "        text-align: right;\n",
       "    }\n",
       "</style>\n",
       "<table border=\"1\" class=\"dataframe\">\n",
       "  <thead>\n",
       "    <tr style=\"text-align: right;\">\n",
       "      <th></th>\n",
       "      <th>offerid</th>\n",
       "      <th>GROUPS</th>\n",
       "      <th>Reward_Give</th>\n",
       "      <th>Total_Amount</th>\n",
       "      <th>ranges</th>\n",
       "    </tr>\n",
       "  </thead>\n",
       "  <tbody>\n",
       "    <tr>\n",
       "      <th>0</th>\n",
       "      <td>0b1e</td>\n",
       "      <td>A</td>\n",
       "      <td>16700.0</td>\n",
       "      <td>79301.64</td>\n",
       "      <td>62601.64</td>\n",
       "    </tr>\n",
       "    <tr>\n",
       "      <th>1</th>\n",
       "      <td>2298</td>\n",
       "      <td>B</td>\n",
       "      <td>15336.0</td>\n",
       "      <td>77900.51</td>\n",
       "      <td>62564.51</td>\n",
       "    </tr>\n",
       "    <tr>\n",
       "      <th>2</th>\n",
       "      <td>fafd</td>\n",
       "      <td>C</td>\n",
       "      <td>10530.0</td>\n",
       "      <td>86101.07</td>\n",
       "      <td>75571.07</td>\n",
       "    </tr>\n",
       "    <tr>\n",
       "      <th>3</th>\n",
       "      <td>2906</td>\n",
       "      <td>D</td>\n",
       "      <td>7928.0</td>\n",
       "      <td>71496.11</td>\n",
       "      <td>63568.11</td>\n",
       "    </tr>\n",
       "  </tbody>\n",
       "</table>\n",
       "</div>"
      ],
      "text/plain": [
       "  offerid GROUPS  Reward_Give  Total_Amount    ranges\n",
       "0    0b1e      A      16700.0      79301.64  62601.64\n",
       "1    2298      B      15336.0      77900.51  62564.51\n",
       "2    fafd      C      10530.0      86101.07  75571.07\n",
       "3    2906      D       7928.0      71496.11  63568.11"
      ]
     },
     "execution_count": 77,
     "metadata": {},
     "output_type": "execute_result"
    }
   ],
   "source": [
    "# Eksekusi query menggunakan pandas\n",
    "df1 = pd.read_sql(query, engine)\n",
    "df1"
   ]
  },
  {
   "cell_type": "markdown",
   "id": "9b910512",
   "metadata": {},
   "source": [
    "1. Grup C (Offer ID: fafd):\n",
    "\n",
    "Grup C adalah yang terbaik dalam hal performa konversi, dan ini didukung oleh data reward dan total amount yang tertinggi. Grup ini memiliki total Reward Give sebesar 10.530 dan Total Amount sebesar 86.101,07 dengan range tertinggi sebesar 75.571,07.\n",
    "Ini menunjukkan bahwa Grup C tidak hanya berhasil dalam konversi, tetapi juga memberikan nilai total yang sangat tinggi.\n",
    "\n",
    "\n",
    "2. Grup B (Offer ID: 2298):\n",
    "\n",
    "Grup B berada di posisi kedua dalam performa konversi dan juga cukup kompetitif dalam hal Reward Give sebesar 15.336 dan Total Amount sebesar 77.900,51 dengan range 62.564,51.\n",
    "Meskipun tidak sekuat Grup C dalam hal total amount, Grup B masih menunjukkan nilai yang solid.\n",
    "\n",
    "\n",
    "3. Grup D (Offer ID: 2906):\n",
    "\n",
    "Meskipun Grup D berada di peringkat ketiga dalam performa konversi, nilai Reward Give yang lebih rendah (7.928) dan Total Amount sebesar 71.496,11 menunjukkan bahwa grup ini memiliki performa yang lebih rendah dibandingkan Grup C dan B.\n",
    "Namun, range sebesar 63.568,11 tetap menjadikannya lebih kompetitif dalam hal hasil reward dan total amount dibandingkan Grup A.\n",
    "\n",
    "\n",
    "4. Grup A (Offer ID: 0b1e):\n",
    "\n",
    "Grup A memiliki performa konversi terendah dan juga tidak menunjukkan keunggulan dalam Reward Give (16.700) dan Total Amount (79.301,64).\n",
    "Meskipun memiliki range yang cukup tinggi sebesar 62.601,64, Grup A tetap berada di posisi terbawah dalam performa keseluruhan."
   ]
  },
  {
   "cell_type": "markdown",
   "id": "6c27f0c0",
   "metadata": {},
   "source": [
    "#### Kesimpulan "
   ]
  },
  {
   "cell_type": "markdown",
   "id": "cffb6ab9",
   "metadata": {},
   "source": [
    "* Grup C secara keseluruhan merupakan yang terbaik, baik dalam hal performa konversi maupun hasil finansial.\n",
    "* Grup B adalah pilihan kedua yang solid.\n",
    "* Grup D meskipun peringkat konversinya lebih rendah, tetap memberikan hasil yang layak dari segi reward dan total amount.\n",
    "* Grup A menunjukkan performa yang paling lemah dan berada di urutan terakhir."
   ]
  },
  {
   "cell_type": "markdown",
   "id": "92d4b6f1",
   "metadata": {},
   "source": [
    "#### confidence interval dari perbedaan antara group"
   ]
  },
  {
   "cell_type": "markdown",
   "id": "ebfa1870",
   "metadata": {},
   "source": [
    "*   Untuk menghitung confidence interval for proportion, kita dapat menggunakan [statsmodels.stats.proportion.confint_proportions_2indep](https://https://www.statsmodels.org/stable/generated/statsmodels.stats.proportion.confint_proportions_2indep.html)\n",
    "\n"
   ]
  },
  {
   "cell_type": "code",
   "execution_count": 82,
   "id": "981568df",
   "metadata": {},
   "outputs": [
    {
     "name": "stdout",
     "output_type": "stream",
     "text": [
      "Difference A vs B: (0.22748785479575465, 0.26115741552675836)\n"
     ]
    }
   ],
   "source": [
    "confidence_interval_AB = confint_proportions_2indep(count1 = n_convertB, nobs1 = n_B,\n",
    "                                                 count2 = n_convertA, nobs2 = n_A, \n",
    "                                                 compare='diff', alpha=0.05)\n",
    "print(f\"Difference A vs B: {confidence_interval_AB}\")"
   ]
  },
  {
   "cell_type": "code",
   "execution_count": 83,
   "id": "128c2809",
   "metadata": {},
   "outputs": [
    {
     "name": "stdout",
     "output_type": "stream",
     "text": [
      "Difference A vs C: (0.24928561823218176, 0.2826548137769367)\n"
     ]
    }
   ],
   "source": [
    "confidence_interval_AC = confint_proportions_2indep(count1 = n_convertC, nobs1 = n_C,\n",
    "                                                 count2 = n_convertA, nobs2 = n_A, \n",
    "                                                 compare='diff', alpha=0.05)\n",
    "print(f\"Difference A vs C: {confidence_interval_AC}\")"
   ]
  },
  {
   "cell_type": "code",
   "execution_count": 84,
   "id": "2cbffadd",
   "metadata": {},
   "outputs": [
    {
     "name": "stdout",
     "output_type": "stream",
     "text": [
      "Difference A vs D: (0.06631874126870385, 0.10112492638963247)\n"
     ]
    }
   ],
   "source": [
    "confidence_interval_AD = confint_proportions_2indep(count1 = n_convertD, nobs1 = n_D,\n",
    "                                                 count2 = n_convertA, nobs2 = n_A, \n",
    "                                                 compare='diff', alpha=0.05)\n",
    "print(f\"Difference A vs D: {confidence_interval_AD}\")"
   ]
  },
  {
   "cell_type": "code",
   "execution_count": 85,
   "id": "8ab050c5",
   "metadata": {},
   "outputs": [
    {
     "name": "stdout",
     "output_type": "stream",
     "text": [
      "Difference B vs C: (0.0054834454584685825, 0.0378131061576349)\n"
     ]
    }
   ],
   "source": [
    "confidence_interval_BC = confint_proportions_2indep(count1 = n_convertC, nobs1 = n_C,\n",
    "                                                 count2 = n_convertB, nobs2 = n_B, \n",
    "                                                 compare='diff', alpha=0.05)\n",
    "print(f\"Difference B vs C: {confidence_interval_BC}\")"
   ]
  },
  {
   "cell_type": "code",
   "execution_count": 86,
   "id": "109e92de",
   "metadata": {},
   "outputs": [
    {
     "name": "stdout",
     "output_type": "stream",
     "text": [
      "Difference B vs D: (-0.1775072630113646, -0.14369733329332113)\n"
     ]
    }
   ],
   "source": [
    "confidence_interval_BD = confint_proportions_2indep(count1 = n_convertD, nobs1 = n_D,\n",
    "                                                 count2 = n_convertB, nobs2 = n_B, \n",
    "                                                 compare='diff', alpha=0.05)\n",
    "print(f\"Difference B vs D: {confidence_interval_BD}\")"
   ]
  },
  {
   "cell_type": "code",
   "execution_count": 87,
   "id": "94944fd7",
   "metadata": {},
   "outputs": [
    {
     "name": "stdout",
     "output_type": "stream",
     "text": [
      "Difference C vs D: (-0.1990056866746337, -0.1654948225674694)\n"
     ]
    }
   ],
   "source": [
    "confidence_interval_CD = confint_proportions_2indep(count1 = n_convertD, nobs1 = n_D,\n",
    "                                                 count2 = n_convertC, nobs2 = n_C, \n",
    "                                                 compare='diff', alpha=0.05)\n",
    "print(f\"Difference C vs D: {confidence_interval_CD}\")"
   ]
  },
  {
   "cell_type": "code",
   "execution_count": 89,
   "id": "881105a2",
   "metadata": {},
   "outputs": [
    {
     "data": {
      "text/html": [
       "<div>\n",
       "<style scoped>\n",
       "    .dataframe tbody tr th:only-of-type {\n",
       "        vertical-align: middle;\n",
       "    }\n",
       "\n",
       "    .dataframe tbody tr th {\n",
       "        vertical-align: top;\n",
       "    }\n",
       "\n",
       "    .dataframe thead th {\n",
       "        text-align: right;\n",
       "    }\n",
       "</style>\n",
       "<table border=\"1\" class=\"dataframe\">\n",
       "  <thead>\n",
       "    <tr style=\"text-align: right;\">\n",
       "      <th></th>\n",
       "      <th>lower</th>\n",
       "      <th>upper</th>\n",
       "    </tr>\n",
       "  </thead>\n",
       "  <tbody>\n",
       "    <tr>\n",
       "      <th>confidence_interval_AB</th>\n",
       "      <td>0.227488</td>\n",
       "      <td>0.261157</td>\n",
       "    </tr>\n",
       "    <tr>\n",
       "      <th>confidence_interval_AC</th>\n",
       "      <td>0.249286</td>\n",
       "      <td>0.282655</td>\n",
       "    </tr>\n",
       "    <tr>\n",
       "      <th>confidence_interval_AD</th>\n",
       "      <td>0.066319</td>\n",
       "      <td>0.101125</td>\n",
       "    </tr>\n",
       "    <tr>\n",
       "      <th>confidence_interval_BC</th>\n",
       "      <td>0.005483</td>\n",
       "      <td>0.037813</td>\n",
       "    </tr>\n",
       "    <tr>\n",
       "      <th>confidence_interval_BD</th>\n",
       "      <td>-0.177507</td>\n",
       "      <td>-0.143697</td>\n",
       "    </tr>\n",
       "    <tr>\n",
       "      <th>confidence_interval_CD</th>\n",
       "      <td>-0.199006</td>\n",
       "      <td>-0.165495</td>\n",
       "    </tr>\n",
       "  </tbody>\n",
       "</table>\n",
       "</div>"
      ],
      "text/plain": [
       "                           lower     upper\n",
       "confidence_interval_AB  0.227488  0.261157\n",
       "confidence_interval_AC  0.249286  0.282655\n",
       "confidence_interval_AD  0.066319  0.101125\n",
       "confidence_interval_BC  0.005483  0.037813\n",
       "confidence_interval_BD -0.177507 -0.143697\n",
       "confidence_interval_CD -0.199006 -0.165495"
      ]
     },
     "execution_count": 89,
     "metadata": {},
     "output_type": "execute_result"
    }
   ],
   "source": [
    "confidence_interval_AB = list(confidence_interval_AB)\n",
    "confidence_interval_AC = list(confidence_interval_AC)\n",
    "confidence_interval_AD = list(confidence_interval_AD)\n",
    "confidence_interval_BC = list(confidence_interval_BC)\n",
    "confidence_interval_BD = list(confidence_interval_BD)\n",
    "confidence_interval_CD = list(confidence_interval_CD)\n",
    "\n",
    "index = ['confidence_interval_AB','confidence_interval_AC','confidence_interval_AD','confidence_interval_BC',\n",
    "         'confidence_interval_BD','confidence_interval_CD']\n",
    "\n",
    "confidence_interval = [confidence_interval_AB, confidence_interval_AC, confidence_interval_AD,\n",
    "                      confidence_interval_BC, confidence_interval_BD, confidence_interval_CD]\n",
    "\n",
    "df_ci = pd.DataFrame(confidence_interval, columns = [\"lower\",\"upper\"])\n",
    "df_ci = df_ci.set_index([index])\n",
    "df_ci"
   ]
  },
  {
   "cell_type": "markdown",
   "id": "55e8dee0",
   "metadata": {},
   "source": [
    "**confidence interval (CI)** digunakan untuk memperkirakan rentang perbedaan proporsi konversi antara dua grup secara statistik. Interval ini menunjukkan sejauh mana kita bisa yakin bahwa perbedaan antara dua proporsi konversi sebenarnya berada dalam rentang tertentu, dengan tingkat kepercayaan (confidence level) sebesar 95%.\n",
    "\n",
    "Mari kita bahas interpretasi dari setiap pasangan grup berdasarkan hasil confidence interval:\n",
    "\n",
    "1. confidence_interval_AB (B vs A):\n",
    "\n",
    "- Lower bound: 0.227488\n",
    "- Upper bound: 0.261157\n",
    "\n",
    "Artinya, kita 95% yakin bahwa perbedaan proporsi konversi antara Grup B dan Grup A berada di antara 0,227 dan 0,261. Karena kedua batasan bernilai positif, ini menunjukkan bahwa Grup B memiliki konversi yang lebih baik daripada Grup A.\n",
    "\n",
    "2. confidence_interval_AC (C vs A):\n",
    "\n",
    "- Lower bound: 0.249286\n",
    "- Upper bound: 0.282655\n",
    "\n",
    "Ini menunjukkan bahwa Grup C memiliki konversi yang lebih baik daripada Grup A, dengan perbedaan proporsi konversi berada di antara 0,249 dan 0,282.\n",
    "\n",
    "3. confidence_interval_AD (D vs A):\n",
    "\n",
    "- Lower bound: 0.066319\n",
    "- Upper bound: 0.101125\n",
    "\n",
    "Perbedaan konversi antara Grup D dan A lebih kecil dibandingkan perbandingan lainnya, dengan perbedaan berkisar antara 0,066 dan 0,101. Artinya Grup D masih memiliki performa lebih baik dari A, namun tidak sebesar perbedaan antara Grup C dan A atau Grup B dan A.\n",
    "\n",
    "4. confidence_interval_BC (C vs B):\n",
    "\n",
    "- Lower bound: 0.005483\n",
    "- Upper bound: 0.037813\n",
    "\n",
    "Grup C sedikit lebih baik dari Grup B dalam hal konversi, tetapi perbedaan ini sangat kecil, berkisar antara 0,005 dan 0,038. Meskipun perbedaannya positif, nilainya cukup kecil.\n",
    "\n",
    "5. confidence_interval_BD (D vs B):\n",
    "\n",
    "- Lower bound: -0.177507\n",
    "- Upper bound: -0.143697\n",
    "\n",
    "Ini menunjukkan bahwa Grup B jauh lebih baik dari Grup D. Karena interval sepenuhnya berada di area negatif, ini menandakan bahwa Grup D secara signifikan memiliki performa konversi yang lebih buruk dibandingkan dengan Grup B.\n",
    "\n",
    "6. confidence_interval_CD (C vs D):\n",
    "\n",
    "- Lower bound: -0.199006\n",
    "- Upper bound: -0.165495\n",
    "\n",
    "Serupa dengan perbandingan sebelumnya, Grup D memiliki konversi yang lebih buruk dibandingkan dengan Grup C, dengan interval yang seluruhnya negatif, menandakan bahwa Grup C jauh lebih baik dari Grup D.\n",
    "\n",
    "**Kesimpulan dari hasil confidence interval ini:**\n",
    "\n",
    "- Grup B dan C secara signifikan lebih baik dalam konversi dibandingkan Grup A dan D.\n",
    "- Grup C memiliki performa yang sedikit lebih baik dari Grup B, meskipun perbedaan konversinya relatif kecil.\n",
    "- Grup D menunjukkan performa konversi yang terendah dibandingkan dengan semua grup lainnya, terutama dibandingkan Grup B dan C.\n",
    "\n",
    "Confidence interval ini mendukung kesimpulan sebelumnya bahwa Grup C adalah yang terbaik, diikuti oleh Grup B, dengan Grup A dan D tertinggal di belakang."
   ]
  },
  {
   "cell_type": "markdown",
   "id": "2a59b922",
   "metadata": {},
   "source": [
    "**semua hal diatas dikerjakan dengan mengimplementasikan apa yang saya pelajari melalui pacmannn** 👍💗\n",
    "**dan jika ada kesalahan dalam pengerjaan bukan lah salah pacmann namun itu kesalahan saya yang kurang dalam memahami maksud dan tujuan dari tiap perintah baris code, maka dari itu jika ada yang salah tolong koreksi 😊**\n",
    "\n",
    "**untuk SQL saya sendiri yang mengerjakan sedangkan yang python banyak bantuan AI dalam pengerjaanya dan code yang dishare pacmann dari tiap live classnya**"
   ]
  },
  {
   "cell_type": "code",
   "execution_count": null,
   "id": "945f8644",
   "metadata": {},
   "outputs": [],
   "source": []
  }
 ],
 "metadata": {
  "kernelspec": {
   "display_name": "Python 3",
   "language": "python",
   "name": "python3"
  }
 },
 "nbformat": 4,
 "nbformat_minor": 5
}
