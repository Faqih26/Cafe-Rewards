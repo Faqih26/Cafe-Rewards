{
 "cells": [
  {
   "cell_type": "markdown",
   "id": "08e69687",
   "metadata": {},
   "source": [
    "###\tDefine Hypothesis"
   ]
  },
  {
   "cell_type": "markdown",
   "id": "a8aac08d",
   "metadata": {},
   "source": [
    "We want to compare whether group $i$ th is more than group $j$ th, so we use one sided (right tail) hypothesis testing.\n",
    "\n",
    "we want to prove whether the conversion rate of group $j$ is greater than the conversion rate of group $i$\n",
    "\n",
    "The hypothesis for each group pair is as follows:\n",
    "- group 1 vs group 2\n",
    "    $$H_0 : p_B \\leq p_A$$\n",
    "    $$H_1 : p_B > p_A$$\n",
    "\n",
    "- group 1 vs group 3\n",
    "    $$H_0 : p_C \\leq p_A$$\n",
    "    $$H_1 : p_C > p_A$$\n",
    "\n",
    "- group 1 vs group 4\n",
    "    $$H_0 : p_D \\leq p_A$$\n",
    "    $$H_1 : p_D > p_A$$\n",
    "\n",
    "- group 2 vs group 3\n",
    "    $$H_0 : p_C \\leq p_B$$\n",
    "    $$H_1 : p_C > p_B$$\n",
    "\n",
    "- group 2 vs group 4\n",
    "    $$H_0 : p_D \\leq p_B$$\n",
    "    $$H_1 : p_D > p_B$$\n",
    "\n",
    "- group 3 vs group 4\n",
    "    $$H_0 : p_D \\leq p_C$$\n",
    "    $$H_1 : p_D > p_C$$\n",
    "    "
   ]
  },
  {
   "cell_type": "markdown",
   "id": "95fc50c0",
   "metadata": {},
   "source": [
    "#### • Calculating Sample Size"
   ]
  },
  {
   "cell_type": "markdown",
   "id": "af1cc028",
   "metadata": {},
   "source": [
    "#### How many minimum sample size are needed when $\\alpha=5 \\%$ and power 80%?"
   ]
  },
  {
   "cell_type": "markdown",
   "id": "5737cbda",
   "metadata": {},
   "source": [
    "- Remember, we can use the given formula to calculate the minimum number of sample size needed.\n",
    "\n",
    "$$\n",
    "n = \\cfrac{2 \\sigma^2 (z_{1-\\alpha/2}+z_{1-\\beta})^2}{\\delta^2}\n",
    "$$"
   ]
  },
  {
   "cell_type": "markdown",
   "id": "48e5b35e",
   "metadata": {},
   "source": [
    "- Thus, if we have the $z$ value, we can determine the number of sample.\n"
   ]
  },
  {
   "cell_type": "code",
   "execution_count": 61,
   "id": "40330d4d",
   "metadata": {},
   "outputs": [
    {
     "name": "stdout",
     "output_type": "stream",
     "text": [
      "Requirement already satisfied: pyodbc in c:\\users\\theone\\miniconda3\\lib\\site-packages (5.1.0)\n",
      "Note: you may need to restart the kernel to use updated packages.\n"
     ]
    }
   ],
   "source": [
    "pip install pyodbc"
   ]
  },
  {
   "cell_type": "code",
   "execution_count": 62,
   "id": "8954999b",
   "metadata": {},
   "outputs": [
    {
     "name": "stdout",
     "output_type": "stream",
     "text": [
      "Requirement already satisfied: sqlalchemy in c:\\users\\theone\\miniconda3\\lib\\site-packages (2.0.35)\n",
      "Requirement already satisfied: typing-extensions>=4.6.0 in c:\\users\\theone\\miniconda3\\lib\\site-packages (from sqlalchemy) (4.8.0)\n",
      "Requirement already satisfied: greenlet!=0.4.17; python_version < \"3.13\" and (platform_machine == \"aarch64\" or (platform_machine == \"ppc64le\" or (platform_machine == \"x86_64\" or (platform_machine == \"amd64\" or (platform_machine == \"AMD64\" or (platform_machine == \"win32\" or platform_machine == \"WIN32\")))))) in c:\\users\\theone\\miniconda3\\lib\\site-packages (from sqlalchemy) (3.1.0)\n",
      "Note: you may need to restart the kernel to use updated packages.\n"
     ]
    }
   ],
   "source": [
    "pip install sqlalchemy"
   ]
  },
  {
   "cell_type": "code",
   "execution_count": 63,
   "id": "cb3e5c45",
   "metadata": {},
   "outputs": [],
   "source": [
    "import pyodbc as pyodbc\n",
    "import pandas as pd\n",
    "from sqlalchemy import create_engine"
   ]
  },
  {
   "cell_type": "code",
   "execution_count": 64,
   "id": "d13a2cd1",
   "metadata": {},
   "outputs": [],
   "source": [
    "import numpy as np\n",
    "import seaborn as sns\n",
    "from scipy import stats\n",
    "import scipy.stats as st\n",
    "from statsmodels.stats.power import TTestIndPower\n",
    "import matplotlib.pyplot as plt"
   ]
  },
  {
   "cell_type": "code",
   "execution_count": 65,
   "id": "96143539",
   "metadata": {},
   "outputs": [],
   "source": [
    "# Given\n",
    "delta = 0.01        # absolute increase of groups means\n",
    "alpha = 0.05        # significance level\n",
    "power = 0.8         # power\n",
    "std_dev = 0.2      # variance of population (assumed / approximated)"
   ]
  },
  {
   "cell_type": "code",
   "execution_count": 66,
   "id": "ddea5912",
   "metadata": {},
   "outputs": [
    {
     "data": {
      "text/plain": [
       "0.19999999999999996"
      ]
     },
     "execution_count": 66,
     "metadata": {},
     "output_type": "execute_result"
    }
   ],
   "source": [
    "# calculate beta\n",
    "beta = 1 - power\n",
    "beta"
   ]
  },
  {
   "cell_type": "code",
   "execution_count": 67,
   "id": "44aa4445",
   "metadata": {},
   "outputs": [
    {
     "data": {
      "text/plain": [
       "(1.959963984540054, 0.8416212335729143)"
      ]
     },
     "execution_count": 67,
     "metadata": {},
     "output_type": "execute_result"
    }
   ],
   "source": [
    "# calculate the z value\n",
    "z_alpha = stats.norm.ppf(1 - alpha/2)\n",
    "z_beta = stats.norm.ppf(1 - beta)\n",
    "\n",
    "z_alpha, z_beta"
   ]
  },
  {
   "cell_type": "code",
   "execution_count": 68,
   "id": "df3f99dc",
   "metadata": {},
   "outputs": [
    {
     "name": "stdout",
     "output_type": "stream",
     "text": [
      "Number of sample size needed    : 6279.10\n"
     ]
    }
   ],
   "source": [
    "# then calculate the number of sample size\n",
    "n = 2 * (std_dev**2) * ((z_alpha+z_beta)**2) / (delta**2)\n",
    "\n",
    "print(f\"Number of sample size needed    : {n:.2f}\")"
   ]
  },
  {
   "cell_type": "markdown",
   "id": "968eba15",
   "metadata": {},
   "source": [
    "# Extract Data From SQL Server"
   ]
  },
  {
   "cell_type": "code",
   "execution_count": 69,
   "id": "95193cf9",
   "metadata": {},
   "outputs": [],
   "source": [
    "\n",
    "\n",
    "connection_string = 'mssql+pyodbc://DESKTOP-KOO9GIJ\\\\MSSQLSERVER01/ads?driver=ODBC+Driver+17+for+SQL+Server'\n",
    "\n",
    "engine = create_engine(connection_string)\n"
   ]
  },
  {
   "cell_type": "code",
   "execution_count": 70,
   "id": "47d783fd",
   "metadata": {},
   "outputs": [],
   "source": [
    "query = ''' \n",
    "WITH ranked_offers AS (\n",
    "    SELECT \n",
    "        [offer],\n",
    "        [customer_id],\n",
    "        [event],\n",
    "        [time],\n",
    "        [Amount],\n",
    "        [OfferId],\n",
    "        [offer_type],\n",
    "        [duration],\n",
    "        ROW_NUMBER() OVER (PARTITION BY [customer_id], [OfferId] ORDER BY [time]) AS offer_sequence\n",
    "    FROM [ads].[dbo].[new_data]\n",
    "    WHERE [event] = 'offer received'\n",
    ")\n",
    ", cc as (\n",
    "SELECT \n",
    "    CASE \n",
    "        WHEN nd.[event] = 'offer received' \n",
    "        THEN CONCAT(nd.[OfferId], '_', ro.offer_sequence) \n",
    "        ELSE nd.[OfferId] \n",
    "    END AS final_offer_id\n",
    "\t,nd.*\n",
    "FROM [ads].[dbo].[new_data] nd\n",
    "LEFT JOIN ranked_offers ro\n",
    "    ON nd.[customer_id] = ro.[customer_id] \n",
    "    AND nd.[OfferId] = ro.[OfferId]\n",
    "    AND nd.[time] = ro.[time]\n",
    "\t)\n",
    ",r as  ( \n",
    "    SELECT \n",
    "\t\tCONCAT(customer_id, '_', OfferId, '_', CAST(time AS VARCHAR)) AS new_id,\n",
    "        OfferId,\n",
    "        customer_id\n",
    "    FROM \n",
    "        cc\n",
    "    WHERE \n",
    "         event = 'offer completed' or offer = 'Transaction With Offer' or offer_type = 'informational'\n",
    ")\n",
    ",c as ( \n",
    "SELECT \n",
    "\tCONCAT(customer_id, '_', OfferId, '_', CAST(time AS VARCHAR)) AS new_id,\n",
    "\tcase when event = 'transaction' then time else null end as time_transaction,\n",
    "    nd.*\n",
    "FROM \n",
    "    cc AS nd\n",
    "\twhere event != 'offer viewed' \n",
    "), dc as \n",
    "( \n",
    "select c.* from c\n",
    "where   \n",
    "     NOT EXISTS (\n",
    "        SELECT 1\n",
    "        FROM r \n",
    "        WHERE \n",
    "\t\t(r.customer_id = c.customer_id AND r.OfferId = c.OfferId)  \n",
    "\n",
    "    )  \n",
    "\n",
    "), kk as (\n",
    "select dc.* from dc\n",
    "where NOT EXISTS ( SELECT 1 FROM r WHERE r.new_id = dc.new_id  ) \n",
    "\n",
    "\n",
    ")\n",
    ", gabung as (\n",
    "select \n",
    "[offer]\n",
    "      ,[customer_id]\n",
    "      ,[event]\n",
    "      ,[time]\n",
    "      ,[Amount]\n",
    "      ,[OfferId]\n",
    "      ,[reward_get]\n",
    "      ,[Tahun]\n",
    "      ,[Bulan]\n",
    "      ,[Tanggal]\n",
    "      ,[became_member_on]\n",
    "      ,[gender]\n",
    "      ,[age]\n",
    "      ,[income]\n",
    "      ,[offer_type]\n",
    "from kk\n",
    "where event = 'offer received'\n",
    "union all \n",
    "SELECT \n",
    "\t\t[offer]\n",
    "      ,[customer_id]\n",
    "      ,[event]\n",
    "      ,[time]\n",
    "      ,[Amount]\n",
    "      ,[OfferId]\n",
    "      ,[reward_get]\n",
    "      ,[Tahun]\n",
    "      ,[Bulan]\n",
    "      ,[Tanggal]\n",
    "      ,[became_member_on]\n",
    "      ,[gender]\n",
    "      ,[age]\n",
    "      ,[income]\n",
    "      ,[offer_type]\n",
    "  FROM [ads].[dbo].[new_data]\n",
    "  where offer = 'Transaction With Offer' \n",
    "  )\n",
    "  select \n",
    "  g.*, ofs.[difficulty]\n",
    "      ,ofs.[reward]\n",
    "      ,ofs.[duration]\n",
    "      ,ofs.[channels]\n",
    "\t  , CASE \n",
    "        WHEN [OfferId] ='ae264e3637204a6fb9bb56bc8210ddfd' THEN 'A'\n",
    "        WHEN [OfferId] = '4d5c57ea9a6940dd891ad53e9dbe8da0' THEN 'B'\n",
    "        WHEN [OfferId] = '9b98b8c7a33c4b65b9aebfe6a799e6d9'THEN 'C'\n",
    "        WHEN [OfferId] = 'f19421c1d4aa40978ebb69ca19b0e20d' THEN 'D'\n",
    "        WHEN [OfferId] = '0b1e1539f2cc45b7b9fa7c272da2e1d7' THEN 'E'\n",
    "        WHEN [OfferId] = '2298d6c36e964ae4a3e7e9706d1fb8c2' THEN 'F'\n",
    "        WHEN [OfferId] =  'fafdcd668e3743c1bb461111dcafc2a4'THEN 'G'\n",
    "        WHEN [OfferId] = '2906b810c7d4411798c6938adc9daaa5' THEN 'H'\n",
    "        ELSE 'Unknown Group'\n",
    "    END AS groups\n",
    "    ,case when g.offer = 'Offer' then 0 else 1 end conver\n",
    "  from gabung as g\n",
    "  inner join [ads].[dbo].[offers] as ofs\n",
    "  on g.[OfferId] = ofs.[offer_id]\n",
    "  '''"
   ]
  },
  {
   "cell_type": "code",
   "execution_count": 71,
   "id": "c3c1644d",
   "metadata": {
    "scrolled": true
   },
   "outputs": [
    {
     "data": {
      "text/html": [
       "<div>\n",
       "<style scoped>\n",
       "    .dataframe tbody tr th:only-of-type {\n",
       "        vertical-align: middle;\n",
       "    }\n",
       "\n",
       "    .dataframe tbody tr th {\n",
       "        vertical-align: top;\n",
       "    }\n",
       "\n",
       "    .dataframe thead th {\n",
       "        text-align: right;\n",
       "    }\n",
       "</style>\n",
       "<table border=\"1\" class=\"dataframe\">\n",
       "  <thead>\n",
       "    <tr style=\"text-align: right;\">\n",
       "      <th></th>\n",
       "      <th>offer</th>\n",
       "      <th>customer_id</th>\n",
       "      <th>event</th>\n",
       "      <th>time</th>\n",
       "      <th>Amount</th>\n",
       "      <th>OfferId</th>\n",
       "      <th>reward_get</th>\n",
       "      <th>Tahun</th>\n",
       "      <th>Bulan</th>\n",
       "      <th>Tanggal</th>\n",
       "      <th>...</th>\n",
       "      <th>gender</th>\n",
       "      <th>age</th>\n",
       "      <th>income</th>\n",
       "      <th>offer_type</th>\n",
       "      <th>difficulty</th>\n",
       "      <th>reward</th>\n",
       "      <th>duration</th>\n",
       "      <th>channels</th>\n",
       "      <th>groups</th>\n",
       "      <th>conver</th>\n",
       "    </tr>\n",
       "  </thead>\n",
       "  <tbody>\n",
       "    <tr>\n",
       "      <th>0</th>\n",
       "      <td>Offer</td>\n",
       "      <td>00116118485d4dfda04fdbaba9a87b5c</td>\n",
       "      <td>offer received</td>\n",
       "      <td>168.0</td>\n",
       "      <td></td>\n",
       "      <td>f19421c1d4aa40978ebb69ca19b0e20d</td>\n",
       "      <td>None</td>\n",
       "      <td>2018</td>\n",
       "      <td>04</td>\n",
       "      <td>25</td>\n",
       "      <td>...</td>\n",
       "      <td>None</td>\n",
       "      <td>118.0</td>\n",
       "      <td>NaN</td>\n",
       "      <td>bogo</td>\n",
       "      <td>5.0</td>\n",
       "      <td>5.0</td>\n",
       "      <td>5.0</td>\n",
       "      <td>['web', 'email', 'mobile', 'social']</td>\n",
       "      <td>D</td>\n",
       "      <td>0</td>\n",
       "    </tr>\n",
       "    <tr>\n",
       "      <th>1</th>\n",
       "      <td>Offer</td>\n",
       "      <td>00116118485d4dfda04fdbaba9a87b5c</td>\n",
       "      <td>offer received</td>\n",
       "      <td>576.0</td>\n",
       "      <td></td>\n",
       "      <td>f19421c1d4aa40978ebb69ca19b0e20d</td>\n",
       "      <td>None</td>\n",
       "      <td>2018</td>\n",
       "      <td>04</td>\n",
       "      <td>25</td>\n",
       "      <td>...</td>\n",
       "      <td>None</td>\n",
       "      <td>118.0</td>\n",
       "      <td>NaN</td>\n",
       "      <td>bogo</td>\n",
       "      <td>5.0</td>\n",
       "      <td>5.0</td>\n",
       "      <td>5.0</td>\n",
       "      <td>['web', 'email', 'mobile', 'social']</td>\n",
       "      <td>D</td>\n",
       "      <td>0</td>\n",
       "    </tr>\n",
       "    <tr>\n",
       "      <th>2</th>\n",
       "      <td>Offer</td>\n",
       "      <td>0020c2b971eb4e9188eac86d93036a77</td>\n",
       "      <td>offer received</td>\n",
       "      <td>168.0</td>\n",
       "      <td></td>\n",
       "      <td>ae264e3637204a6fb9bb56bc8210ddfd</td>\n",
       "      <td>None</td>\n",
       "      <td>2016</td>\n",
       "      <td>03</td>\n",
       "      <td>04</td>\n",
       "      <td>...</td>\n",
       "      <td>F</td>\n",
       "      <td>59.0</td>\n",
       "      <td>90000.0</td>\n",
       "      <td>bogo</td>\n",
       "      <td>10.0</td>\n",
       "      <td>10.0</td>\n",
       "      <td>7.0</td>\n",
       "      <td>['email', 'mobile', 'social']</td>\n",
       "      <td>A</td>\n",
       "      <td>0</td>\n",
       "    </tr>\n",
       "    <tr>\n",
       "      <th>3</th>\n",
       "      <td>Offer</td>\n",
       "      <td>00426fe3ffde4c6b9cb9ad6d077a13ea</td>\n",
       "      <td>offer received</td>\n",
       "      <td>336.0</td>\n",
       "      <td></td>\n",
       "      <td>0b1e1539f2cc45b7b9fa7c272da2e1d7</td>\n",
       "      <td>None</td>\n",
       "      <td>2016</td>\n",
       "      <td>08</td>\n",
       "      <td>09</td>\n",
       "      <td>...</td>\n",
       "      <td>F</td>\n",
       "      <td>19.0</td>\n",
       "      <td>65000.0</td>\n",
       "      <td>discount</td>\n",
       "      <td>20.0</td>\n",
       "      <td>5.0</td>\n",
       "      <td>10.0</td>\n",
       "      <td>['web', 'email']</td>\n",
       "      <td>E</td>\n",
       "      <td>0</td>\n",
       "    </tr>\n",
       "    <tr>\n",
       "      <th>4</th>\n",
       "      <td>Offer</td>\n",
       "      <td>00426fe3ffde4c6b9cb9ad6d077a13ea</td>\n",
       "      <td>offer received</td>\n",
       "      <td>408.0</td>\n",
       "      <td></td>\n",
       "      <td>2906b810c7d4411798c6938adc9daaa5</td>\n",
       "      <td>None</td>\n",
       "      <td>2016</td>\n",
       "      <td>08</td>\n",
       "      <td>09</td>\n",
       "      <td>...</td>\n",
       "      <td>F</td>\n",
       "      <td>19.0</td>\n",
       "      <td>65000.0</td>\n",
       "      <td>discount</td>\n",
       "      <td>10.0</td>\n",
       "      <td>2.0</td>\n",
       "      <td>7.0</td>\n",
       "      <td>['web', 'email', 'mobile']</td>\n",
       "      <td>H</td>\n",
       "      <td>0</td>\n",
       "    </tr>\n",
       "    <tr>\n",
       "      <th>...</th>\n",
       "      <td>...</td>\n",
       "      <td>...</td>\n",
       "      <td>...</td>\n",
       "      <td>...</td>\n",
       "      <td>...</td>\n",
       "      <td>...</td>\n",
       "      <td>...</td>\n",
       "      <td>...</td>\n",
       "      <td>...</td>\n",
       "      <td>...</td>\n",
       "      <td>...</td>\n",
       "      <td>...</td>\n",
       "      <td>...</td>\n",
       "      <td>...</td>\n",
       "      <td>...</td>\n",
       "      <td>...</td>\n",
       "      <td>...</td>\n",
       "      <td>...</td>\n",
       "      <td>...</td>\n",
       "      <td>...</td>\n",
       "      <td>...</td>\n",
       "    </tr>\n",
       "    <tr>\n",
       "      <th>54951</th>\n",
       "      <td>Transaction With Offer</td>\n",
       "      <td>ffdefcac307f4ca99ac1ebd51470f106</td>\n",
       "      <td>transaction</td>\n",
       "      <td>54.0</td>\n",
       "      <td>24.41</td>\n",
       "      <td>fafdcd668e3743c1bb461111dcafc2a4</td>\n",
       "      <td>None</td>\n",
       "      <td>2017</td>\n",
       "      <td>03</td>\n",
       "      <td>15</td>\n",
       "      <td>...</td>\n",
       "      <td>F</td>\n",
       "      <td>87.0</td>\n",
       "      <td>47000.0</td>\n",
       "      <td>discount</td>\n",
       "      <td>10.0</td>\n",
       "      <td>2.0</td>\n",
       "      <td>10.0</td>\n",
       "      <td>['web', 'email', 'mobile', 'social']</td>\n",
       "      <td>G</td>\n",
       "      <td>1</td>\n",
       "    </tr>\n",
       "    <tr>\n",
       "      <th>54952</th>\n",
       "      <td>Transaction With Offer</td>\n",
       "      <td>fff3ba4757bd42088c044ca26d73817a</td>\n",
       "      <td>transaction</td>\n",
       "      <td>6.0</td>\n",
       "      <td>20.98</td>\n",
       "      <td>fafdcd668e3743c1bb461111dcafc2a4</td>\n",
       "      <td>None</td>\n",
       "      <td>2015</td>\n",
       "      <td>09</td>\n",
       "      <td>20</td>\n",
       "      <td>...</td>\n",
       "      <td>F</td>\n",
       "      <td>69.0</td>\n",
       "      <td>83000.0</td>\n",
       "      <td>discount</td>\n",
       "      <td>10.0</td>\n",
       "      <td>2.0</td>\n",
       "      <td>10.0</td>\n",
       "      <td>['web', 'email', 'mobile', 'social']</td>\n",
       "      <td>G</td>\n",
       "      <td>1</td>\n",
       "    </tr>\n",
       "    <tr>\n",
       "      <th>54953</th>\n",
       "      <td>Transaction With Offer</td>\n",
       "      <td>fff7576017104bcc8677a8d63322b5e1</td>\n",
       "      <td>transaction</td>\n",
       "      <td>192.0</td>\n",
       "      <td>5.99</td>\n",
       "      <td>fafdcd668e3743c1bb461111dcafc2a4</td>\n",
       "      <td>None</td>\n",
       "      <td>2017</td>\n",
       "      <td>10</td>\n",
       "      <td>31</td>\n",
       "      <td>...</td>\n",
       "      <td>M</td>\n",
       "      <td>71.0</td>\n",
       "      <td>73000.0</td>\n",
       "      <td>discount</td>\n",
       "      <td>10.0</td>\n",
       "      <td>2.0</td>\n",
       "      <td>10.0</td>\n",
       "      <td>['web', 'email', 'mobile', 'social']</td>\n",
       "      <td>G</td>\n",
       "      <td>1</td>\n",
       "    </tr>\n",
       "    <tr>\n",
       "      <th>54954</th>\n",
       "      <td>Transaction With Offer</td>\n",
       "      <td>fff7576017104bcc8677a8d63322b5e1</td>\n",
       "      <td>transaction</td>\n",
       "      <td>594.0</td>\n",
       "      <td>8.01</td>\n",
       "      <td>fafdcd668e3743c1bb461111dcafc2a4</td>\n",
       "      <td>None</td>\n",
       "      <td>2017</td>\n",
       "      <td>10</td>\n",
       "      <td>31</td>\n",
       "      <td>...</td>\n",
       "      <td>M</td>\n",
       "      <td>71.0</td>\n",
       "      <td>73000.0</td>\n",
       "      <td>discount</td>\n",
       "      <td>10.0</td>\n",
       "      <td>2.0</td>\n",
       "      <td>10.0</td>\n",
       "      <td>['web', 'email', 'mobile', 'social']</td>\n",
       "      <td>G</td>\n",
       "      <td>1</td>\n",
       "    </tr>\n",
       "    <tr>\n",
       "      <th>54955</th>\n",
       "      <td>Transaction With Offer</td>\n",
       "      <td>ffff82501cea40309d5fdd7edcca4a07</td>\n",
       "      <td>transaction</td>\n",
       "      <td>60.0</td>\n",
       "      <td>16.06</td>\n",
       "      <td>fafdcd668e3743c1bb461111dcafc2a4</td>\n",
       "      <td>None</td>\n",
       "      <td>2016</td>\n",
       "      <td>11</td>\n",
       "      <td>25</td>\n",
       "      <td>...</td>\n",
       "      <td>F</td>\n",
       "      <td>45.0</td>\n",
       "      <td>62000.0</td>\n",
       "      <td>discount</td>\n",
       "      <td>10.0</td>\n",
       "      <td>2.0</td>\n",
       "      <td>10.0</td>\n",
       "      <td>['web', 'email', 'mobile', 'social']</td>\n",
       "      <td>G</td>\n",
       "      <td>1</td>\n",
       "    </tr>\n",
       "  </tbody>\n",
       "</table>\n",
       "<p>54956 rows × 21 columns</p>\n",
       "</div>"
      ],
      "text/plain": [
       "                        offer                       customer_id  \\\n",
       "0                       Offer  00116118485d4dfda04fdbaba9a87b5c   \n",
       "1                       Offer  00116118485d4dfda04fdbaba9a87b5c   \n",
       "2                       Offer  0020c2b971eb4e9188eac86d93036a77   \n",
       "3                       Offer  00426fe3ffde4c6b9cb9ad6d077a13ea   \n",
       "4                       Offer  00426fe3ffde4c6b9cb9ad6d077a13ea   \n",
       "...                       ...                               ...   \n",
       "54951  Transaction With Offer  ffdefcac307f4ca99ac1ebd51470f106   \n",
       "54952  Transaction With Offer  fff3ba4757bd42088c044ca26d73817a   \n",
       "54953  Transaction With Offer  fff7576017104bcc8677a8d63322b5e1   \n",
       "54954  Transaction With Offer  fff7576017104bcc8677a8d63322b5e1   \n",
       "54955  Transaction With Offer  ffff82501cea40309d5fdd7edcca4a07   \n",
       "\n",
       "                event   time Amount                           OfferId  \\\n",
       "0      offer received  168.0         f19421c1d4aa40978ebb69ca19b0e20d   \n",
       "1      offer received  576.0         f19421c1d4aa40978ebb69ca19b0e20d   \n",
       "2      offer received  168.0         ae264e3637204a6fb9bb56bc8210ddfd   \n",
       "3      offer received  336.0         0b1e1539f2cc45b7b9fa7c272da2e1d7   \n",
       "4      offer received  408.0         2906b810c7d4411798c6938adc9daaa5   \n",
       "...               ...    ...    ...                               ...   \n",
       "54951     transaction   54.0  24.41  fafdcd668e3743c1bb461111dcafc2a4   \n",
       "54952     transaction    6.0  20.98  fafdcd668e3743c1bb461111dcafc2a4   \n",
       "54953     transaction  192.0   5.99  fafdcd668e3743c1bb461111dcafc2a4   \n",
       "54954     transaction  594.0   8.01  fafdcd668e3743c1bb461111dcafc2a4   \n",
       "54955     transaction   60.0  16.06  fafdcd668e3743c1bb461111dcafc2a4   \n",
       "\n",
       "      reward_get Tahun Bulan Tanggal  ...  gender    age   income  offer_type  \\\n",
       "0           None  2018    04      25  ...    None  118.0      NaN        bogo   \n",
       "1           None  2018    04      25  ...    None  118.0      NaN        bogo   \n",
       "2           None  2016    03      04  ...       F   59.0  90000.0        bogo   \n",
       "3           None  2016    08      09  ...       F   19.0  65000.0    discount   \n",
       "4           None  2016    08      09  ...       F   19.0  65000.0    discount   \n",
       "...          ...   ...   ...     ...  ...     ...    ...      ...         ...   \n",
       "54951       None  2017    03      15  ...       F   87.0  47000.0    discount   \n",
       "54952       None  2015    09      20  ...       F   69.0  83000.0    discount   \n",
       "54953       None  2017    10      31  ...       M   71.0  73000.0    discount   \n",
       "54954       None  2017    10      31  ...       M   71.0  73000.0    discount   \n",
       "54955       None  2016    11      25  ...       F   45.0  62000.0    discount   \n",
       "\n",
       "      difficulty  reward  duration                              channels  \\\n",
       "0            5.0     5.0       5.0  ['web', 'email', 'mobile', 'social']   \n",
       "1            5.0     5.0       5.0  ['web', 'email', 'mobile', 'social']   \n",
       "2           10.0    10.0       7.0         ['email', 'mobile', 'social']   \n",
       "3           20.0     5.0      10.0                      ['web', 'email']   \n",
       "4           10.0     2.0       7.0            ['web', 'email', 'mobile']   \n",
       "...          ...     ...       ...                                   ...   \n",
       "54951       10.0     2.0      10.0  ['web', 'email', 'mobile', 'social']   \n",
       "54952       10.0     2.0      10.0  ['web', 'email', 'mobile', 'social']   \n",
       "54953       10.0     2.0      10.0  ['web', 'email', 'mobile', 'social']   \n",
       "54954       10.0     2.0      10.0  ['web', 'email', 'mobile', 'social']   \n",
       "54955       10.0     2.0      10.0  ['web', 'email', 'mobile', 'social']   \n",
       "\n",
       "      groups conver  \n",
       "0          D      0  \n",
       "1          D      0  \n",
       "2          A      0  \n",
       "3          E      0  \n",
       "4          H      0  \n",
       "...      ...    ...  \n",
       "54951      G      1  \n",
       "54952      G      1  \n",
       "54953      G      1  \n",
       "54954      G      1  \n",
       "54955      G      1  \n",
       "\n",
       "[54956 rows x 21 columns]"
      ]
     },
     "execution_count": 71,
     "metadata": {},
     "output_type": "execute_result"
    }
   ],
   "source": [
    "# Eksekusi query menggunakan pandas\n",
    "df = pd.read_sql(query, engine)\n",
    "df"
   ]
  },
  {
   "cell_type": "markdown",
   "id": "f464477a",
   "metadata": {},
   "source": [
    "# Topic Review"
   ]
  },
  {
   "cell_type": "markdown",
   "id": "73486d58",
   "metadata": {},
   "source": [
    "**Multivariate Testing** adalah eksperimen yang menguji lebih dari satu variabel atau elemen secara bersamaan, untuk memahami efeknya.\n",
    "\n",
    "**Multivariate Testing** **berbeda** dari A/B/N Testing:\n",
    "- **A/B/N Testing** mirip dengan A/B Testing tetapi memiliki N (lebih dari dua) versi, dengan perubahan radikal atau versi untuk melihat versi mana yang terbaik.\n",
    "- **Multivariate Testing** melibatkan pemilihan sejumlah elemen pada halaman dan menguji berbagai kombinasi dari elemen tersebut secara bersamaan untuk memahami kombinasi mana yang memberikan hasil terbaik.\n",
    "\n",
    "**Berikut adalah ringkasan perbedaan utama antara A/B/N Testing dan Multivariate Testing:**\n",
    "\n",
    "| | A/B atau A/B/N Testing | Multivariate Testing |\n",
    "|:--|:--:|:--:|\n",
    "| **Apa yang dapat diuji?** | Tata letak, desain, atau perubahan pada elemen tunggal | Efek dari perubahan kombinasi elemen |\n",
    "| **Jumlah Trafik yang Diperlukan** | Relatif rendah | Tinggi |\n",
    "| **Waktu yang Diperlukan untuk Hasil yang Bermakna** | Pendek | Secara signifikan lebih lama |\n",
    "| **Terbaik Digunakan untuk** | Tata letak & desain yang berbeda secara signifikan atau situs dengan trafik rendah | Mengoptimalkan kombinasi elemen |\n"
   ]
  },
  {
   "cell_type": "markdown",
   "id": "3fc93536",
   "metadata": {},
   "source": [
    "- **Masalah Pengujian Hipotesis Ganda**\n",
    "\n",
    "  - Jika kita memiliki lebih dari dua kelompok varian dalam eksperimen kita, untuk menganalisis hasilnya, kita akan melakukan **pengujian hipotesis ganda**.\n",
    "  - Namun, ada masalah dalam melakukan pengujian hipotesis ganda. Masalah utamanya adalah **peningkatan kesalahan Tipe I**.\n",
    "  - Untuk mengatasi hal ini, kita memerlukan koreksi dengan **metode koreksi Benjamini-Hochberg**.\n"
   ]
  },
  {
   "cell_type": "markdown",
   "id": "3fe6bcfd",
   "metadata": {},
   "source": [
    "## Case Cafe Rewards"
   ]
  },
  {
   "cell_type": "markdown",
   "id": "88baa0b3",
   "metadata": {},
   "source": [
    "- XYZ Company adalah sebuah kafe yang menjual berbagai produk melalui situs web.\n",
    "- Mereka ingin mengidentifikasi reward yang diberikan kepada para pengguna.\n",
    "- Mereka ingin melihat reward apa yang paling efisien."
   ]
  },
  {
   "cell_type": "markdown",
   "id": "b4eb5f2c",
   "metadata": {},
   "source": [
    "dilakukan filtering untuk melakukan testing multivariat untuk tipe Offer BOGO"
   ]
  },
  {
   "cell_type": "code",
   "execution_count": 72,
   "id": "063925d1",
   "metadata": {},
   "outputs": [],
   "source": [
    "bogo_df = df[df['offer_type'] == 'bogo']"
   ]
  },
  {
   "cell_type": "code",
   "execution_count": 73,
   "id": "3b996640",
   "metadata": {},
   "outputs": [
    {
     "name": "stdout",
     "output_type": "stream",
     "text": [
      "<class 'pandas.core.frame.DataFrame'>\n",
      "Index: 27406 entries, 0 to 50142\n",
      "Data columns (total 21 columns):\n",
      " #   Column            Non-Null Count  Dtype  \n",
      "---  ------            --------------  -----  \n",
      " 0   offer             27406 non-null  object \n",
      " 1   customer_id       27406 non-null  object \n",
      " 2   event             27406 non-null  object \n",
      " 3   time              27406 non-null  float64\n",
      " 4   Amount            27406 non-null  object \n",
      " 5   OfferId           27406 non-null  object \n",
      " 6   reward_get        0 non-null      object \n",
      " 7   Tahun             27406 non-null  object \n",
      " 8   Bulan             27406 non-null  object \n",
      " 9   Tanggal           27406 non-null  object \n",
      " 10  became_member_on  27406 non-null  float64\n",
      " 11  gender            23593 non-null  object \n",
      " 12  age               27406 non-null  float64\n",
      " 13  income            23593 non-null  float64\n",
      " 14  offer_type        27406 non-null  object \n",
      " 15  difficulty        27406 non-null  float64\n",
      " 16  reward            27406 non-null  float64\n",
      " 17  duration          27406 non-null  float64\n",
      " 18  channels          27406 non-null  object \n",
      " 19  groups            27406 non-null  object \n",
      " 20  conver            27406 non-null  int64  \n",
      "dtypes: float64(7), int64(1), object(13)\n",
      "memory usage: 4.6+ MB\n"
     ]
    }
   ],
   "source": [
    "bogo_df.info()"
   ]
  },
  {
   "cell_type": "code",
   "execution_count": 74,
   "id": "585a2249",
   "metadata": {},
   "outputs": [
    {
     "data": {
      "text/html": [
       "<div>\n",
       "<style scoped>\n",
       "    .dataframe tbody tr th:only-of-type {\n",
       "        vertical-align: middle;\n",
       "    }\n",
       "\n",
       "    .dataframe tbody tr th {\n",
       "        vertical-align: top;\n",
       "    }\n",
       "\n",
       "    .dataframe thead th {\n",
       "        text-align: right;\n",
       "    }\n",
       "</style>\n",
       "<table border=\"1\" class=\"dataframe\">\n",
       "  <thead>\n",
       "    <tr style=\"text-align: right;\">\n",
       "      <th></th>\n",
       "      <th>OfferId</th>\n",
       "      <th>offer_type</th>\n",
       "      <th>offer</th>\n",
       "      <th>total_rows</th>\n",
       "    </tr>\n",
       "  </thead>\n",
       "  <tbody>\n",
       "    <tr>\n",
       "      <th>0</th>\n",
       "      <td>4d5c57ea9a6940dd891ad53e9dbe8da0</td>\n",
       "      <td>bogo</td>\n",
       "      <td>Offer</td>\n",
       "      <td>4005</td>\n",
       "    </tr>\n",
       "    <tr>\n",
       "      <th>1</th>\n",
       "      <td>4d5c57ea9a6940dd891ad53e9dbe8da0</td>\n",
       "      <td>bogo</td>\n",
       "      <td>Transaction With Offer</td>\n",
       "      <td>2922</td>\n",
       "    </tr>\n",
       "    <tr>\n",
       "      <th>2</th>\n",
       "      <td>9b98b8c7a33c4b65b9aebfe6a799e6d9</td>\n",
       "      <td>bogo</td>\n",
       "      <td>Offer</td>\n",
       "      <td>2957</td>\n",
       "    </tr>\n",
       "    <tr>\n",
       "      <th>3</th>\n",
       "      <td>9b98b8c7a33c4b65b9aebfe6a799e6d9</td>\n",
       "      <td>bogo</td>\n",
       "      <td>Transaction With Offer</td>\n",
       "      <td>3868</td>\n",
       "    </tr>\n",
       "    <tr>\n",
       "      <th>4</th>\n",
       "      <td>ae264e3637204a6fb9bb56bc8210ddfd</td>\n",
       "      <td>bogo</td>\n",
       "      <td>Offer</td>\n",
       "      <td>3725</td>\n",
       "    </tr>\n",
       "    <tr>\n",
       "      <th>5</th>\n",
       "      <td>ae264e3637204a6fb9bb56bc8210ddfd</td>\n",
       "      <td>bogo</td>\n",
       "      <td>Transaction With Offer</td>\n",
       "      <td>3251</td>\n",
       "    </tr>\n",
       "    <tr>\n",
       "      <th>6</th>\n",
       "      <td>f19421c1d4aa40978ebb69ca19b0e20d</td>\n",
       "      <td>bogo</td>\n",
       "      <td>Offer</td>\n",
       "      <td>2890</td>\n",
       "    </tr>\n",
       "    <tr>\n",
       "      <th>7</th>\n",
       "      <td>f19421c1d4aa40978ebb69ca19b0e20d</td>\n",
       "      <td>bogo</td>\n",
       "      <td>Transaction With Offer</td>\n",
       "      <td>3788</td>\n",
       "    </tr>\n",
       "  </tbody>\n",
       "</table>\n",
       "</div>"
      ],
      "text/plain": [
       "                            OfferId offer_type                   offer  \\\n",
       "0  4d5c57ea9a6940dd891ad53e9dbe8da0       bogo                   Offer   \n",
       "1  4d5c57ea9a6940dd891ad53e9dbe8da0       bogo  Transaction With Offer   \n",
       "2  9b98b8c7a33c4b65b9aebfe6a799e6d9       bogo                   Offer   \n",
       "3  9b98b8c7a33c4b65b9aebfe6a799e6d9       bogo  Transaction With Offer   \n",
       "4  ae264e3637204a6fb9bb56bc8210ddfd       bogo                   Offer   \n",
       "5  ae264e3637204a6fb9bb56bc8210ddfd       bogo  Transaction With Offer   \n",
       "6  f19421c1d4aa40978ebb69ca19b0e20d       bogo                   Offer   \n",
       "7  f19421c1d4aa40978ebb69ca19b0e20d       bogo  Transaction With Offer   \n",
       "\n",
       "   total_rows  \n",
       "0        4005  \n",
       "1        2922  \n",
       "2        2957  \n",
       "3        3868  \n",
       "4        3725  \n",
       "5        3251  \n",
       "6        2890  \n",
       "7        3788  "
      ]
     },
     "execution_count": 74,
     "metadata": {},
     "output_type": "execute_result"
    }
   ],
   "source": [
    "grouped_df = bogo_df.groupby(['OfferId', 'offer_type','offer']).size().reset_index(name='total_rows').sort_values(by=['offer_type'])\n",
    "grouped_df"
   ]
  },
  {
   "cell_type": "code",
   "execution_count": 75,
   "id": "4d799a92",
   "metadata": {},
   "outputs": [
    {
     "data": {
      "text/html": [
       "<div>\n",
       "<style scoped>\n",
       "    .dataframe tbody tr th:only-of-type {\n",
       "        vertical-align: middle;\n",
       "    }\n",
       "\n",
       "    .dataframe tbody tr th {\n",
       "        vertical-align: top;\n",
       "    }\n",
       "\n",
       "    .dataframe thead th {\n",
       "        text-align: right;\n",
       "    }\n",
       "</style>\n",
       "<table border=\"1\" class=\"dataframe\">\n",
       "  <thead>\n",
       "    <tr style=\"text-align: right;\">\n",
       "      <th></th>\n",
       "      <th>customer_id</th>\n",
       "      <th>OfferId</th>\n",
       "      <th>difficulty</th>\n",
       "      <th>reward</th>\n",
       "      <th>duration</th>\n",
       "      <th>channels</th>\n",
       "      <th>groups</th>\n",
       "      <th>conver</th>\n",
       "    </tr>\n",
       "  </thead>\n",
       "  <tbody>\n",
       "    <tr>\n",
       "      <th>0</th>\n",
       "      <td>00116118485d4dfda04fdbaba9a87b5c</td>\n",
       "      <td>f19421c1d4aa40978ebb69ca19b0e20d</td>\n",
       "      <td>5.0</td>\n",
       "      <td>5.0</td>\n",
       "      <td>5.0</td>\n",
       "      <td>['web', 'email', 'mobile', 'social']</td>\n",
       "      <td>D</td>\n",
       "      <td>0</td>\n",
       "    </tr>\n",
       "    <tr>\n",
       "      <th>1</th>\n",
       "      <td>00116118485d4dfda04fdbaba9a87b5c</td>\n",
       "      <td>f19421c1d4aa40978ebb69ca19b0e20d</td>\n",
       "      <td>5.0</td>\n",
       "      <td>5.0</td>\n",
       "      <td>5.0</td>\n",
       "      <td>['web', 'email', 'mobile', 'social']</td>\n",
       "      <td>D</td>\n",
       "      <td>0</td>\n",
       "    </tr>\n",
       "    <tr>\n",
       "      <th>2</th>\n",
       "      <td>0020c2b971eb4e9188eac86d93036a77</td>\n",
       "      <td>ae264e3637204a6fb9bb56bc8210ddfd</td>\n",
       "      <td>10.0</td>\n",
       "      <td>10.0</td>\n",
       "      <td>7.0</td>\n",
       "      <td>['email', 'mobile', 'social']</td>\n",
       "      <td>A</td>\n",
       "      <td>0</td>\n",
       "    </tr>\n",
       "    <tr>\n",
       "      <th>7</th>\n",
       "      <td>005500a7188546ff8a767329a2f7c76a</td>\n",
       "      <td>ae264e3637204a6fb9bb56bc8210ddfd</td>\n",
       "      <td>10.0</td>\n",
       "      <td>10.0</td>\n",
       "      <td>7.0</td>\n",
       "      <td>['email', 'mobile', 'social']</td>\n",
       "      <td>A</td>\n",
       "      <td>0</td>\n",
       "    </tr>\n",
       "    <tr>\n",
       "      <th>8</th>\n",
       "      <td>005500a7188546ff8a767329a2f7c76a</td>\n",
       "      <td>ae264e3637204a6fb9bb56bc8210ddfd</td>\n",
       "      <td>10.0</td>\n",
       "      <td>10.0</td>\n",
       "      <td>7.0</td>\n",
       "      <td>['email', 'mobile', 'social']</td>\n",
       "      <td>A</td>\n",
       "      <td>0</td>\n",
       "    </tr>\n",
       "    <tr>\n",
       "      <th>...</th>\n",
       "      <td>...</td>\n",
       "      <td>...</td>\n",
       "      <td>...</td>\n",
       "      <td>...</td>\n",
       "      <td>...</td>\n",
       "      <td>...</td>\n",
       "      <td>...</td>\n",
       "      <td>...</td>\n",
       "    </tr>\n",
       "    <tr>\n",
       "      <th>50138</th>\n",
       "      <td>ffb7fc8ad0594248a49e210ff0217c2d</td>\n",
       "      <td>f19421c1d4aa40978ebb69ca19b0e20d</td>\n",
       "      <td>5.0</td>\n",
       "      <td>5.0</td>\n",
       "      <td>5.0</td>\n",
       "      <td>['web', 'email', 'mobile', 'social']</td>\n",
       "      <td>D</td>\n",
       "      <td>1</td>\n",
       "    </tr>\n",
       "    <tr>\n",
       "      <th>50139</th>\n",
       "      <td>ffb7fc8ad0594248a49e210ff0217c2d</td>\n",
       "      <td>f19421c1d4aa40978ebb69ca19b0e20d</td>\n",
       "      <td>5.0</td>\n",
       "      <td>5.0</td>\n",
       "      <td>5.0</td>\n",
       "      <td>['web', 'email', 'mobile', 'social']</td>\n",
       "      <td>D</td>\n",
       "      <td>1</td>\n",
       "    </tr>\n",
       "    <tr>\n",
       "      <th>50140</th>\n",
       "      <td>fff29fb549084123bd046dbc5ceb4faa</td>\n",
       "      <td>f19421c1d4aa40978ebb69ca19b0e20d</td>\n",
       "      <td>5.0</td>\n",
       "      <td>5.0</td>\n",
       "      <td>5.0</td>\n",
       "      <td>['web', 'email', 'mobile', 'social']</td>\n",
       "      <td>D</td>\n",
       "      <td>1</td>\n",
       "    </tr>\n",
       "    <tr>\n",
       "      <th>50141</th>\n",
       "      <td>fffad4f4828548d1b5583907f2e9906b</td>\n",
       "      <td>f19421c1d4aa40978ebb69ca19b0e20d</td>\n",
       "      <td>5.0</td>\n",
       "      <td>5.0</td>\n",
       "      <td>5.0</td>\n",
       "      <td>['web', 'email', 'mobile', 'social']</td>\n",
       "      <td>D</td>\n",
       "      <td>1</td>\n",
       "    </tr>\n",
       "    <tr>\n",
       "      <th>50142</th>\n",
       "      <td>fffad4f4828548d1b5583907f2e9906b</td>\n",
       "      <td>f19421c1d4aa40978ebb69ca19b0e20d</td>\n",
       "      <td>5.0</td>\n",
       "      <td>5.0</td>\n",
       "      <td>5.0</td>\n",
       "      <td>['web', 'email', 'mobile', 'social']</td>\n",
       "      <td>D</td>\n",
       "      <td>1</td>\n",
       "    </tr>\n",
       "  </tbody>\n",
       "</table>\n",
       "<p>27406 rows × 8 columns</p>\n",
       "</div>"
      ],
      "text/plain": [
       "                            customer_id                           OfferId  \\\n",
       "0      00116118485d4dfda04fdbaba9a87b5c  f19421c1d4aa40978ebb69ca19b0e20d   \n",
       "1      00116118485d4dfda04fdbaba9a87b5c  f19421c1d4aa40978ebb69ca19b0e20d   \n",
       "2      0020c2b971eb4e9188eac86d93036a77  ae264e3637204a6fb9bb56bc8210ddfd   \n",
       "7      005500a7188546ff8a767329a2f7c76a  ae264e3637204a6fb9bb56bc8210ddfd   \n",
       "8      005500a7188546ff8a767329a2f7c76a  ae264e3637204a6fb9bb56bc8210ddfd   \n",
       "...                                 ...                               ...   \n",
       "50138  ffb7fc8ad0594248a49e210ff0217c2d  f19421c1d4aa40978ebb69ca19b0e20d   \n",
       "50139  ffb7fc8ad0594248a49e210ff0217c2d  f19421c1d4aa40978ebb69ca19b0e20d   \n",
       "50140  fff29fb549084123bd046dbc5ceb4faa  f19421c1d4aa40978ebb69ca19b0e20d   \n",
       "50141  fffad4f4828548d1b5583907f2e9906b  f19421c1d4aa40978ebb69ca19b0e20d   \n",
       "50142  fffad4f4828548d1b5583907f2e9906b  f19421c1d4aa40978ebb69ca19b0e20d   \n",
       "\n",
       "       difficulty  reward  duration                              channels  \\\n",
       "0             5.0     5.0       5.0  ['web', 'email', 'mobile', 'social']   \n",
       "1             5.0     5.0       5.0  ['web', 'email', 'mobile', 'social']   \n",
       "2            10.0    10.0       7.0         ['email', 'mobile', 'social']   \n",
       "7            10.0    10.0       7.0         ['email', 'mobile', 'social']   \n",
       "8            10.0    10.0       7.0         ['email', 'mobile', 'social']   \n",
       "...           ...     ...       ...                                   ...   \n",
       "50138         5.0     5.0       5.0  ['web', 'email', 'mobile', 'social']   \n",
       "50139         5.0     5.0       5.0  ['web', 'email', 'mobile', 'social']   \n",
       "50140         5.0     5.0       5.0  ['web', 'email', 'mobile', 'social']   \n",
       "50141         5.0     5.0       5.0  ['web', 'email', 'mobile', 'social']   \n",
       "50142         5.0     5.0       5.0  ['web', 'email', 'mobile', 'social']   \n",
       "\n",
       "      groups  conver  \n",
       "0          D       0  \n",
       "1          D       0  \n",
       "2          A       0  \n",
       "7          A       0  \n",
       "8          A       0  \n",
       "...      ...     ...  \n",
       "50138      D       1  \n",
       "50139      D       1  \n",
       "50140      D       1  \n",
       "50141      D       1  \n",
       "50142      D       1  \n",
       "\n",
       "[27406 rows x 8 columns]"
      ]
     },
     "execution_count": 75,
     "metadata": {},
     "output_type": "execute_result"
    }
   ],
   "source": [
    "# Seleksi kolom tertentu dari DataFrame\n",
    "bogo_df = bogo_df[['customer_id', 'OfferId', 'difficulty', 'reward', 'duration', 'channels','groups', 'conver']]\n",
    "\n",
    "# Tampilkan hasil\n",
    "bogo_df\n"
   ]
  },
  {
   "cell_type": "code",
   "execution_count": 76,
   "id": "10f17626",
   "metadata": {},
   "outputs": [
    {
     "data": {
      "text/html": [
       "<div>\n",
       "<style scoped>\n",
       "    .dataframe tbody tr th:only-of-type {\n",
       "        vertical-align: middle;\n",
       "    }\n",
       "\n",
       "    .dataframe tbody tr th {\n",
       "        vertical-align: top;\n",
       "    }\n",
       "\n",
       "    .dataframe thead th {\n",
       "        text-align: right;\n",
       "    }\n",
       "</style>\n",
       "<table border=\"1\" class=\"dataframe\">\n",
       "  <thead>\n",
       "    <tr style=\"text-align: right;\">\n",
       "      <th></th>\n",
       "      <th>OfferId</th>\n",
       "      <th>groups</th>\n",
       "    </tr>\n",
       "  </thead>\n",
       "  <tbody>\n",
       "    <tr>\n",
       "      <th>2</th>\n",
       "      <td>ae264e3637204a6fb9bb56bc8210ddfd</td>\n",
       "      <td>A</td>\n",
       "    </tr>\n",
       "    <tr>\n",
       "      <th>17</th>\n",
       "      <td>4d5c57ea9a6940dd891ad53e9dbe8da0</td>\n",
       "      <td>B</td>\n",
       "    </tr>\n",
       "    <tr>\n",
       "      <th>12</th>\n",
       "      <td>9b98b8c7a33c4b65b9aebfe6a799e6d9</td>\n",
       "      <td>C</td>\n",
       "    </tr>\n",
       "    <tr>\n",
       "      <th>0</th>\n",
       "      <td>f19421c1d4aa40978ebb69ca19b0e20d</td>\n",
       "      <td>D</td>\n",
       "    </tr>\n",
       "  </tbody>\n",
       "</table>\n",
       "</div>"
      ],
      "text/plain": [
       "                             OfferId groups\n",
       "2   ae264e3637204a6fb9bb56bc8210ddfd      A\n",
       "17  4d5c57ea9a6940dd891ad53e9dbe8da0      B\n",
       "12  9b98b8c7a33c4b65b9aebfe6a799e6d9      C\n",
       "0   f19421c1d4aa40978ebb69ca19b0e20d      D"
      ]
     },
     "execution_count": 76,
     "metadata": {},
     "output_type": "execute_result"
    }
   ],
   "source": [
    "distinct_df = bogo_df[['OfferId', 'groups']].drop_duplicates().sort_values(by='groups')\n",
    "distinct_df"
   ]
  },
  {
   "cell_type": "code",
   "execution_count": 77,
   "id": "d74e0d1b",
   "metadata": {},
   "outputs": [],
   "source": [
    "data_A = bogo_df[bogo_df['groups'] == 'A']\n",
    "data_B = bogo_df[bogo_df['groups'] == 'B']\n",
    "data_C = bogo_df[bogo_df['groups'] == 'C']\n",
    "data_D = bogo_df[bogo_df['groups'] == 'D']"
   ]
  },
  {
   "cell_type": "code",
   "execution_count": 78,
   "id": "69efe8cb",
   "metadata": {},
   "outputs": [],
   "source": [
    "data_A = data_A.sample(n=6280, random_state=10) \n",
    "data_B = data_B.sample(n=6280, random_state=10)\n",
    "data_C = data_C.sample(n=6280, random_state=10)\n",
    "data_D = data_D.sample(n=6280, random_state=10)"
   ]
  },
  {
   "cell_type": "markdown",
   "id": "70238a8b",
   "metadata": {},
   "source": [
    "Since we want to know the convertion rate in each group, fill in the following table!\n",
    "\n",
    "<center>\n",
    "\n",
    "|Group|#User|#Convert|Convertion Rate\n",
    "|:--|:--:|:--:|:--:|\n",
    "|1|-|-|-|\n",
    "|2|-|-|-|\n",
    "|3|-|-|-|\n",
    "|4|-|-|-|\n",
    "\n",
    "\n",
    "</center>"
   ]
  },
  {
   "cell_type": "markdown",
   "id": "8c77b46f",
   "metadata": {},
   "source": [
    "- Find **#user** in each group"
   ]
  },
  {
   "cell_type": "code",
   "execution_count": 79,
   "id": "312965f5",
   "metadata": {},
   "outputs": [],
   "source": [
    "# Count users in group A, B, C, D\n",
    "n_A = data_A.shape[0]\n",
    "n_B = data_B.shape[0]\n",
    "n_C = data_C.shape[0]\n",
    "n_D = data_D.shape[0]"
   ]
  },
  {
   "cell_type": "markdown",
   "id": "aca2d398",
   "metadata": {},
   "source": [
    "- Find **#convert** in each group"
   ]
  },
  {
   "cell_type": "code",
   "execution_count": 80,
   "id": "a7232c8c",
   "metadata": {},
   "outputs": [
    {
     "name": "stdout",
     "output_type": "stream",
     "text": [
      "2916\n",
      "2638\n",
      "3551\n",
      "3565\n"
     ]
    }
   ],
   "source": [
    "# group A\n",
    "n_convertA = data_A['conver'].sum()\n",
    "print(n_convertA)\n",
    "# group B\n",
    "n_convertB = data_B['conver'].sum()\n",
    "print(n_convertB)\n",
    "# group C\n",
    "n_convertC = data_C['conver'].sum()\n",
    "print(n_convertC)\n",
    "# group D\n",
    "n_convertD = data_D['conver'].sum()\n",
    "print(n_convertD)"
   ]
  },
  {
   "cell_type": "markdown",
   "id": "b8e7794b",
   "metadata": {},
   "source": [
    "- mencari conversion rate tiap group"
   ]
  },
  {
   "cell_type": "code",
   "execution_count": 81,
   "id": "7b625728",
   "metadata": {},
   "outputs": [
    {
     "name": "stdout",
     "output_type": "stream",
     "text": [
      "convertion rate A : 0.46\n",
      "convertion rate B : 0.42\n",
      "convertion rate C : 0.57\n",
      "convertion rate D : 0.57\n"
     ]
    }
   ],
   "source": [
    "cr_A = n_convertA/n_A\n",
    "cr_B = n_convertB/n_B\n",
    "cr_C = n_convertC/n_C\n",
    "cr_D = n_convertD/n_D\n",
    "\n",
    "print(f\"convertion rate A : {cr_A:.2f}\")\n",
    "print(f\"convertion rate B : {cr_B:.2f}\")\n",
    "print(f\"convertion rate C : {cr_C:.2f}\")\n",
    "print(f\"convertion rate D : {cr_D:.2f}\")"
   ]
  },
  {
   "cell_type": "markdown",
   "id": "87070607",
   "metadata": {},
   "source": [
    "Since we want to know the convertion rate in each group, fill in the following table!\n",
    "\n",
    "<center>\n",
    "\n",
    "|Group|#User|#Convert|Convertion Rate\n",
    "|:--|:--:|:--:|:--:|\n",
    "|1|6280|2916|0.46|\n",
    "|2|6280|2638|0.42|\n",
    "|3|6280|3551|0.57|\n",
    "|4|6280|3565|0.57|\n",
    "\n",
    "</center>"
   ]
  },
  {
   "cell_type": "code",
   "execution_count": 82,
   "id": "d12eba3d",
   "metadata": {},
   "outputs": [
    {
     "data": {
      "image/png": "[encoded data removed]",
      "text/plain": [
       "<Figure size 1000x700 with 1 Axes>"
      ]
     },
     "metadata": {},
     "output_type": "display_data"
    }
   ],
   "source": [
    "# visualisasi perbandingan convertion rate tiap grup\n",
    "import matplotlib.pyplot as plt\n",
    "\n",
    "fig, ax = plt.subplots(nrows=1, ncols=1, figsize=(10, 7))\n",
    "\n",
    "# Buat plot\n",
    "ax.bar(\"A\", cr_A, label=\"A\")\n",
    "ax.bar(\"B\", cr_B, label=\"B\")\n",
    "ax.bar(\"C\", cr_C, label=\"C\")\n",
    "ax.bar(\"D\", cr_D, label=\"D\")\n",
    "\n",
    "# Styling plot\n",
    "ax.set_ylabel(\"Convertion Rate\", fontsize=16)\n",
    "ax.set_xlabel(\"Group\", fontsize=16)\n",
    "\n",
    "plt.legend(fontsize=16)\n",
    "plt.show();"
   ]
  },
  {
   "cell_type": "code",
   "execution_count": 83,
   "id": "18783f73",
   "metadata": {},
   "outputs": [
    {
     "data": {
      "text/html": [
       "<div>\n",
       "<style scoped>\n",
       "    .dataframe tbody tr th:only-of-type {\n",
       "        vertical-align: middle;\n",
       "    }\n",
       "\n",
       "    .dataframe tbody tr th {\n",
       "        vertical-align: top;\n",
       "    }\n",
       "\n",
       "    .dataframe thead th {\n",
       "        text-align: right;\n",
       "    }\n",
       "</style>\n",
       "<table border=\"1\" class=\"dataframe\">\n",
       "  <thead>\n",
       "    <tr style=\"text-align: right;\">\n",
       "      <th></th>\n",
       "      <th>customer_id</th>\n",
       "      <th>OfferId</th>\n",
       "      <th>difficulty</th>\n",
       "      <th>reward</th>\n",
       "      <th>duration</th>\n",
       "      <th>channels</th>\n",
       "      <th>groups</th>\n",
       "      <th>conver</th>\n",
       "    </tr>\n",
       "  </thead>\n",
       "  <tbody>\n",
       "    <tr>\n",
       "      <th>7841</th>\n",
       "      <td>50d964e03e2d4b52ba7d8265e3d9f18a</td>\n",
       "      <td>ae264e3637204a6fb9bb56bc8210ddfd</td>\n",
       "      <td>10.0</td>\n",
       "      <td>10.0</td>\n",
       "      <td>7.0</td>\n",
       "      <td>['email', 'mobile', 'social']</td>\n",
       "      <td>A</td>\n",
       "      <td>0</td>\n",
       "    </tr>\n",
       "    <tr>\n",
       "      <th>5801</th>\n",
       "      <td>3c765494acae43d48f69cc29794dfa1a</td>\n",
       "      <td>ae264e3637204a6fb9bb56bc8210ddfd</td>\n",
       "      <td>10.0</td>\n",
       "      <td>10.0</td>\n",
       "      <td>7.0</td>\n",
       "      <td>['email', 'mobile', 'social']</td>\n",
       "      <td>A</td>\n",
       "      <td>0</td>\n",
       "    </tr>\n",
       "    <tr>\n",
       "      <th>8451</th>\n",
       "      <td>56ce169a5a5b47e1b2028c663d3a11eb</td>\n",
       "      <td>ae264e3637204a6fb9bb56bc8210ddfd</td>\n",
       "      <td>10.0</td>\n",
       "      <td>10.0</td>\n",
       "      <td>7.0</td>\n",
       "      <td>['email', 'mobile', 'social']</td>\n",
       "      <td>A</td>\n",
       "      <td>0</td>\n",
       "    </tr>\n",
       "    <tr>\n",
       "      <th>19130</th>\n",
       "      <td>c13cd223575f47ff8fa7f53bd99b5cd8</td>\n",
       "      <td>ae264e3637204a6fb9bb56bc8210ddfd</td>\n",
       "      <td>10.0</td>\n",
       "      <td>10.0</td>\n",
       "      <td>7.0</td>\n",
       "      <td>['email', 'mobile', 'social']</td>\n",
       "      <td>A</td>\n",
       "      <td>0</td>\n",
       "    </tr>\n",
       "    <tr>\n",
       "      <th>43281</th>\n",
       "      <td>0e1bcbaa5ca64055a1ebc360886b1c17</td>\n",
       "      <td>ae264e3637204a6fb9bb56bc8210ddfd</td>\n",
       "      <td>10.0</td>\n",
       "      <td>10.0</td>\n",
       "      <td>7.0</td>\n",
       "      <td>['email', 'mobile', 'social']</td>\n",
       "      <td>A</td>\n",
       "      <td>1</td>\n",
       "    </tr>\n",
       "    <tr>\n",
       "      <th>...</th>\n",
       "      <td>...</td>\n",
       "      <td>...</td>\n",
       "      <td>...</td>\n",
       "      <td>...</td>\n",
       "      <td>...</td>\n",
       "      <td>...</td>\n",
       "      <td>...</td>\n",
       "      <td>...</td>\n",
       "    </tr>\n",
       "    <tr>\n",
       "      <th>17915</th>\n",
       "      <td>b4d6477e15ca4b1086638089882177b7</td>\n",
       "      <td>f19421c1d4aa40978ebb69ca19b0e20d</td>\n",
       "      <td>5.0</td>\n",
       "      <td>5.0</td>\n",
       "      <td>5.0</td>\n",
       "      <td>['web', 'email', 'mobile', 'social']</td>\n",
       "      <td>D</td>\n",
       "      <td>0</td>\n",
       "    </tr>\n",
       "    <tr>\n",
       "      <th>7183</th>\n",
       "      <td>4a6b6b268e7b4c6ebf96bc92cd67cf0f</td>\n",
       "      <td>f19421c1d4aa40978ebb69ca19b0e20d</td>\n",
       "      <td>5.0</td>\n",
       "      <td>5.0</td>\n",
       "      <td>5.0</td>\n",
       "      <td>['web', 'email', 'mobile', 'social']</td>\n",
       "      <td>D</td>\n",
       "      <td>0</td>\n",
       "    </tr>\n",
       "    <tr>\n",
       "      <th>8605</th>\n",
       "      <td>58a2e3a01a5743d4900d6ad067f515f7</td>\n",
       "      <td>f19421c1d4aa40978ebb69ca19b0e20d</td>\n",
       "      <td>5.0</td>\n",
       "      <td>5.0</td>\n",
       "      <td>5.0</td>\n",
       "      <td>['web', 'email', 'mobile', 'social']</td>\n",
       "      <td>D</td>\n",
       "      <td>0</td>\n",
       "    </tr>\n",
       "    <tr>\n",
       "      <th>47576</th>\n",
       "      <td>54be86b2561e4e379e6446663e4d8935</td>\n",
       "      <td>f19421c1d4aa40978ebb69ca19b0e20d</td>\n",
       "      <td>5.0</td>\n",
       "      <td>5.0</td>\n",
       "      <td>5.0</td>\n",
       "      <td>['web', 'email', 'mobile', 'social']</td>\n",
       "      <td>D</td>\n",
       "      <td>1</td>\n",
       "    </tr>\n",
       "    <tr>\n",
       "      <th>48147</th>\n",
       "      <td>7c4d81fe67c04d2a85a315b4c6f6b140</td>\n",
       "      <td>f19421c1d4aa40978ebb69ca19b0e20d</td>\n",
       "      <td>5.0</td>\n",
       "      <td>5.0</td>\n",
       "      <td>5.0</td>\n",
       "      <td>['web', 'email', 'mobile', 'social']</td>\n",
       "      <td>D</td>\n",
       "      <td>1</td>\n",
       "    </tr>\n",
       "  </tbody>\n",
       "</table>\n",
       "<p>25120 rows × 8 columns</p>\n",
       "</div>"
      ],
      "text/plain": [
       "                            customer_id                           OfferId  \\\n",
       "7841   50d964e03e2d4b52ba7d8265e3d9f18a  ae264e3637204a6fb9bb56bc8210ddfd   \n",
       "5801   3c765494acae43d48f69cc29794dfa1a  ae264e3637204a6fb9bb56bc8210ddfd   \n",
       "8451   56ce169a5a5b47e1b2028c663d3a11eb  ae264e3637204a6fb9bb56bc8210ddfd   \n",
       "19130  c13cd223575f47ff8fa7f53bd99b5cd8  ae264e3637204a6fb9bb56bc8210ddfd   \n",
       "43281  0e1bcbaa5ca64055a1ebc360886b1c17  ae264e3637204a6fb9bb56bc8210ddfd   \n",
       "...                                 ...                               ...   \n",
       "17915  b4d6477e15ca4b1086638089882177b7  f19421c1d4aa40978ebb69ca19b0e20d   \n",
       "7183   4a6b6b268e7b4c6ebf96bc92cd67cf0f  f19421c1d4aa40978ebb69ca19b0e20d   \n",
       "8605   58a2e3a01a5743d4900d6ad067f515f7  f19421c1d4aa40978ebb69ca19b0e20d   \n",
       "47576  54be86b2561e4e379e6446663e4d8935  f19421c1d4aa40978ebb69ca19b0e20d   \n",
       "48147  7c4d81fe67c04d2a85a315b4c6f6b140  f19421c1d4aa40978ebb69ca19b0e20d   \n",
       "\n",
       "       difficulty  reward  duration                              channels  \\\n",
       "7841         10.0    10.0       7.0         ['email', 'mobile', 'social']   \n",
       "5801         10.0    10.0       7.0         ['email', 'mobile', 'social']   \n",
       "8451         10.0    10.0       7.0         ['email', 'mobile', 'social']   \n",
       "19130        10.0    10.0       7.0         ['email', 'mobile', 'social']   \n",
       "43281        10.0    10.0       7.0         ['email', 'mobile', 'social']   \n",
       "...           ...     ...       ...                                   ...   \n",
       "17915         5.0     5.0       5.0  ['web', 'email', 'mobile', 'social']   \n",
       "7183          5.0     5.0       5.0  ['web', 'email', 'mobile', 'social']   \n",
       "8605          5.0     5.0       5.0  ['web', 'email', 'mobile', 'social']   \n",
       "47576         5.0     5.0       5.0  ['web', 'email', 'mobile', 'social']   \n",
       "48147         5.0     5.0       5.0  ['web', 'email', 'mobile', 'social']   \n",
       "\n",
       "      groups  conver  \n",
       "7841       A       0  \n",
       "5801       A       0  \n",
       "8451       A       0  \n",
       "19130      A       0  \n",
       "43281      A       1  \n",
       "...      ...     ...  \n",
       "17915      D       0  \n",
       "7183       D       0  \n",
       "8605       D       0  \n",
       "47576      D       1  \n",
       "48147      D       1  \n",
       "\n",
       "[25120 rows x 8 columns]"
      ]
     },
     "execution_count": 83,
     "metadata": {},
     "output_type": "execute_result"
    }
   ],
   "source": [
    "df_total = pd.concat([data_A,data_B,data_C,data_D])\n",
    "df_total"
   ]
  },
  {
   "cell_type": "code",
   "execution_count": 84,
   "id": "4e4c8504",
   "metadata": {
    "scrolled": true
   },
   "outputs": [
    {
     "data": {
      "text/html": [
       "<div>\n",
       "<style scoped>\n",
       "    .dataframe tbody tr th:only-of-type {\n",
       "        vertical-align: middle;\n",
       "    }\n",
       "\n",
       "    .dataframe tbody tr th {\n",
       "        vertical-align: top;\n",
       "    }\n",
       "\n",
       "    .dataframe thead th {\n",
       "        text-align: right;\n",
       "    }\n",
       "</style>\n",
       "<table border=\"1\" class=\"dataframe\">\n",
       "  <thead>\n",
       "    <tr style=\"text-align: right;\">\n",
       "      <th></th>\n",
       "      <th>customer_id</th>\n",
       "      <th>OfferId</th>\n",
       "      <th>difficulty</th>\n",
       "      <th>reward</th>\n",
       "      <th>duration</th>\n",
       "      <th>channels</th>\n",
       "      <th>groups</th>\n",
       "      <th>conver</th>\n",
       "    </tr>\n",
       "  </thead>\n",
       "  <tbody>\n",
       "    <tr>\n",
       "      <th>7841</th>\n",
       "      <td>50d964e03e2d4b52ba7d8265e3d9f18a</td>\n",
       "      <td>ae264e3637204a6fb9bb56bc8210ddfd</td>\n",
       "      <td>10.0</td>\n",
       "      <td>10.0</td>\n",
       "      <td>7.0</td>\n",
       "      <td>['email', 'mobile', 'social']</td>\n",
       "      <td>A</td>\n",
       "      <td>0</td>\n",
       "    </tr>\n",
       "    <tr>\n",
       "      <th>5801</th>\n",
       "      <td>3c765494acae43d48f69cc29794dfa1a</td>\n",
       "      <td>ae264e3637204a6fb9bb56bc8210ddfd</td>\n",
       "      <td>10.0</td>\n",
       "      <td>10.0</td>\n",
       "      <td>7.0</td>\n",
       "      <td>['email', 'mobile', 'social']</td>\n",
       "      <td>A</td>\n",
       "      <td>0</td>\n",
       "    </tr>\n",
       "    <tr>\n",
       "      <th>8451</th>\n",
       "      <td>56ce169a5a5b47e1b2028c663d3a11eb</td>\n",
       "      <td>ae264e3637204a6fb9bb56bc8210ddfd</td>\n",
       "      <td>10.0</td>\n",
       "      <td>10.0</td>\n",
       "      <td>7.0</td>\n",
       "      <td>['email', 'mobile', 'social']</td>\n",
       "      <td>A</td>\n",
       "      <td>0</td>\n",
       "    </tr>\n",
       "    <tr>\n",
       "      <th>19130</th>\n",
       "      <td>c13cd223575f47ff8fa7f53bd99b5cd8</td>\n",
       "      <td>ae264e3637204a6fb9bb56bc8210ddfd</td>\n",
       "      <td>10.0</td>\n",
       "      <td>10.0</td>\n",
       "      <td>7.0</td>\n",
       "      <td>['email', 'mobile', 'social']</td>\n",
       "      <td>A</td>\n",
       "      <td>0</td>\n",
       "    </tr>\n",
       "    <tr>\n",
       "      <th>43281</th>\n",
       "      <td>0e1bcbaa5ca64055a1ebc360886b1c17</td>\n",
       "      <td>ae264e3637204a6fb9bb56bc8210ddfd</td>\n",
       "      <td>10.0</td>\n",
       "      <td>10.0</td>\n",
       "      <td>7.0</td>\n",
       "      <td>['email', 'mobile', 'social']</td>\n",
       "      <td>A</td>\n",
       "      <td>1</td>\n",
       "    </tr>\n",
       "    <tr>\n",
       "      <th>...</th>\n",
       "      <td>...</td>\n",
       "      <td>...</td>\n",
       "      <td>...</td>\n",
       "      <td>...</td>\n",
       "      <td>...</td>\n",
       "      <td>...</td>\n",
       "      <td>...</td>\n",
       "      <td>...</td>\n",
       "    </tr>\n",
       "    <tr>\n",
       "      <th>17915</th>\n",
       "      <td>b4d6477e15ca4b1086638089882177b7</td>\n",
       "      <td>f19421c1d4aa40978ebb69ca19b0e20d</td>\n",
       "      <td>5.0</td>\n",
       "      <td>5.0</td>\n",
       "      <td>5.0</td>\n",
       "      <td>['web', 'email', 'mobile', 'social']</td>\n",
       "      <td>D</td>\n",
       "      <td>0</td>\n",
       "    </tr>\n",
       "    <tr>\n",
       "      <th>7183</th>\n",
       "      <td>4a6b6b268e7b4c6ebf96bc92cd67cf0f</td>\n",
       "      <td>f19421c1d4aa40978ebb69ca19b0e20d</td>\n",
       "      <td>5.0</td>\n",
       "      <td>5.0</td>\n",
       "      <td>5.0</td>\n",
       "      <td>['web', 'email', 'mobile', 'social']</td>\n",
       "      <td>D</td>\n",
       "      <td>0</td>\n",
       "    </tr>\n",
       "    <tr>\n",
       "      <th>8605</th>\n",
       "      <td>58a2e3a01a5743d4900d6ad067f515f7</td>\n",
       "      <td>f19421c1d4aa40978ebb69ca19b0e20d</td>\n",
       "      <td>5.0</td>\n",
       "      <td>5.0</td>\n",
       "      <td>5.0</td>\n",
       "      <td>['web', 'email', 'mobile', 'social']</td>\n",
       "      <td>D</td>\n",
       "      <td>0</td>\n",
       "    </tr>\n",
       "    <tr>\n",
       "      <th>47576</th>\n",
       "      <td>54be86b2561e4e379e6446663e4d8935</td>\n",
       "      <td>f19421c1d4aa40978ebb69ca19b0e20d</td>\n",
       "      <td>5.0</td>\n",
       "      <td>5.0</td>\n",
       "      <td>5.0</td>\n",
       "      <td>['web', 'email', 'mobile', 'social']</td>\n",
       "      <td>D</td>\n",
       "      <td>1</td>\n",
       "    </tr>\n",
       "    <tr>\n",
       "      <th>48147</th>\n",
       "      <td>7c4d81fe67c04d2a85a315b4c6f6b140</td>\n",
       "      <td>f19421c1d4aa40978ebb69ca19b0e20d</td>\n",
       "      <td>5.0</td>\n",
       "      <td>5.0</td>\n",
       "      <td>5.0</td>\n",
       "      <td>['web', 'email', 'mobile', 'social']</td>\n",
       "      <td>D</td>\n",
       "      <td>1</td>\n",
       "    </tr>\n",
       "  </tbody>\n",
       "</table>\n",
       "<p>25120 rows × 8 columns</p>\n",
       "</div>"
      ],
      "text/plain": [
       "                            customer_id                           OfferId  \\\n",
       "7841   50d964e03e2d4b52ba7d8265e3d9f18a  ae264e3637204a6fb9bb56bc8210ddfd   \n",
       "5801   3c765494acae43d48f69cc29794dfa1a  ae264e3637204a6fb9bb56bc8210ddfd   \n",
       "8451   56ce169a5a5b47e1b2028c663d3a11eb  ae264e3637204a6fb9bb56bc8210ddfd   \n",
       "19130  c13cd223575f47ff8fa7f53bd99b5cd8  ae264e3637204a6fb9bb56bc8210ddfd   \n",
       "43281  0e1bcbaa5ca64055a1ebc360886b1c17  ae264e3637204a6fb9bb56bc8210ddfd   \n",
       "...                                 ...                               ...   \n",
       "17915  b4d6477e15ca4b1086638089882177b7  f19421c1d4aa40978ebb69ca19b0e20d   \n",
       "7183   4a6b6b268e7b4c6ebf96bc92cd67cf0f  f19421c1d4aa40978ebb69ca19b0e20d   \n",
       "8605   58a2e3a01a5743d4900d6ad067f515f7  f19421c1d4aa40978ebb69ca19b0e20d   \n",
       "47576  54be86b2561e4e379e6446663e4d8935  f19421c1d4aa40978ebb69ca19b0e20d   \n",
       "48147  7c4d81fe67c04d2a85a315b4c6f6b140  f19421c1d4aa40978ebb69ca19b0e20d   \n",
       "\n",
       "       difficulty  reward  duration                              channels  \\\n",
       "7841         10.0    10.0       7.0         ['email', 'mobile', 'social']   \n",
       "5801         10.0    10.0       7.0         ['email', 'mobile', 'social']   \n",
       "8451         10.0    10.0       7.0         ['email', 'mobile', 'social']   \n",
       "19130        10.0    10.0       7.0         ['email', 'mobile', 'social']   \n",
       "43281        10.0    10.0       7.0         ['email', 'mobile', 'social']   \n",
       "...           ...     ...       ...                                   ...   \n",
       "17915         5.0     5.0       5.0  ['web', 'email', 'mobile', 'social']   \n",
       "7183          5.0     5.0       5.0  ['web', 'email', 'mobile', 'social']   \n",
       "8605          5.0     5.0       5.0  ['web', 'email', 'mobile', 'social']   \n",
       "47576         5.0     5.0       5.0  ['web', 'email', 'mobile', 'social']   \n",
       "48147         5.0     5.0       5.0  ['web', 'email', 'mobile', 'social']   \n",
       "\n",
       "      groups  conver  \n",
       "7841       A       0  \n",
       "5801       A       0  \n",
       "8451       A       0  \n",
       "19130      A       0  \n",
       "43281      A       1  \n",
       "...      ...     ...  \n",
       "17915      D       0  \n",
       "7183       D       0  \n",
       "8605       D       0  \n",
       "47576      D       1  \n",
       "48147      D       1  \n",
       "\n",
       "[25120 rows x 8 columns]"
      ]
     },
     "execution_count": 84,
     "metadata": {},
     "output_type": "execute_result"
    }
   ],
   "source": [
    "df_total"
   ]
  },
  {
   "cell_type": "code",
   "execution_count": 118,
   "id": "38e40b9e",
   "metadata": {},
   "outputs": [
    {
     "name": "stdout",
     "output_type": "stream",
     "text": [
      "                sum_sq       df           F        PR(>F)\n",
      "C(groups)   103.296338      3.0  140.020378  5.627308e-90\n",
      "Residual   6176.221975  25116.0         NaN           NaN\n"
     ]
    }
   ],
   "source": [
    "import statsmodels.api as sm\n",
    "from statsmodels.formula.api import ols\n",
    "\n",
    "\n",
    "# Menggabungkan semua data dalam satu DataFrame\n",
    "data_total = pd.concat([data_A, data_B, data_C, data_D])\n",
    "data_total['conversion_rate'] = data_total['conver']\n",
    "\n",
    "# Menjalankan ANOVA\n",
    "model = ols('conversion_rate ~ C(groups)', data=data_total).fit()\n",
    "anova_result = sm.stats.anova_lm(model, typ=2)\n",
    "print(anova_result)"
   ]
  },
  {
   "cell_type": "code",
   "execution_count": 119,
   "id": "01c014b3",
   "metadata": {},
   "outputs": [],
   "source": [
    "from statsmodels.stats.multicomp import pairwise_tukeyhsd"
   ]
  },
  {
   "cell_type": "code",
   "execution_count": 120,
   "id": "25034b35",
   "metadata": {},
   "outputs": [
    {
     "name": "stdout",
     "output_type": "stream",
     "text": [
      "Multiple Comparison of Means - Tukey HSD, FWER=0.05 \n",
      "====================================================\n",
      "group1 group2 meandiff p-adj   lower   upper  reject\n",
      "----------------------------------------------------\n",
      "     A      B  -0.0443    0.0  -0.067 -0.0215   True\n",
      "     A      C   0.1011    0.0  0.0784  0.1239   True\n",
      "     A      D   0.1033    0.0  0.0806  0.1261   True\n",
      "     B      C   0.1454    0.0  0.1226  0.1681   True\n",
      "     B      D   0.1476    0.0  0.1249  0.1703   True\n",
      "     C      D   0.0022 0.9944 -0.0205   0.025  False\n",
      "----------------------------------------------------\n"
     ]
    }
   ],
   "source": [
    "# Menjalankan uji Tukey's HSD\n",
    "tukey_result = pairwise_tukeyhsd(endog=data_total['conver'], groups=data_total['groups'], alpha=0.05)\n",
    "\n",
    "# Menampilkan hasil\n",
    "print(tukey_result)"
   ]
  },
  {
   "cell_type": "markdown",
   "id": "04dc3ad7",
   "metadata": {},
   "source": [
    "# Analyzing and Interpreting the Data"
   ]
  },
  {
   "cell_type": "markdown",
   "id": "69ce8efa",
   "metadata": {},
   "source": [
    "### Ensure the trustworthiness\n",
    "**Some mechanism to Ensure Trustworthiness are :**\n",
    "1. Validate data quality\n",
    "2. Avoid threat to internal validity\n",
    "3. Avoid threat to external validity\n",
    "4. Mitigate the effect of simpson’s paradox"
   ]
  },
  {
   "cell_type": "markdown",
   "id": "8d17ffc8",
   "metadata": {},
   "source": [
    "#### **Data Quality**\n",
    "\n",
    "We can use the following checklist to measure data quality :\n",
    "- Missing rates : How much missing value in dataset\n",
    "- Uniqueness : No duplicate data\n",
    "- Invalid values : Do the values follow the proper format? Are the values valid for the variable/column?\n",
    "- Data delays : How many data is there at the periode of the experiment? How long does it take between when the events were logged and when the data is available for analysis?"
   ]
  },
  {
   "cell_type": "markdown",
   "id": "f44eb09b",
   "metadata": {},
   "source": [
    "\n",
    "#### Handle the NaN Data"
   ]
  },
  {
   "cell_type": "code",
   "execution_count": 85,
   "id": "317ad9d1",
   "metadata": {},
   "outputs": [
    {
     "name": "stdout",
     "output_type": "stream",
     "text": [
      "customer_id\n",
      "50db32c4a95345ab93b8b5119f819970    6\n",
      "abcc3cffbf8b483bad88116fe6ee3cd5    6\n",
      "47849ffd86e34e40a763bb66ad81fbb1    5\n",
      "6690f94587ec4b50abda164a6dc6d99a    5\n",
      "064fd993498c4d628348de2085e9d569    5\n",
      "                                   ..\n",
      "8f45a5974df34ff3898cb0fa61d28dcc    1\n",
      "ad1f0a409ae642bc9a43f31f56c130fc    1\n",
      "0951cc66d2f841e99cce016730c3f6da    1\n",
      "b3b653c27e1d40139b88c05cedd25000    1\n",
      "54be86b2561e4e379e6446663e4d8935    1\n",
      "Name: count, Length: 14138, dtype: int64\n",
      "\n",
      "OfferId\n",
      "ae264e3637204a6fb9bb56bc8210ddfd    6280\n",
      "4d5c57ea9a6940dd891ad53e9dbe8da0    6280\n",
      "9b98b8c7a33c4b65b9aebfe6a799e6d9    6280\n",
      "f19421c1d4aa40978ebb69ca19b0e20d    6280\n",
      "Name: count, dtype: int64\n",
      "\n",
      "difficulty\n",
      "10.0    12560\n",
      "5.0     12560\n",
      "Name: count, dtype: int64\n",
      "\n",
      "reward\n",
      "10.0    12560\n",
      "5.0     12560\n",
      "Name: count, dtype: int64\n",
      "\n",
      "duration\n",
      "7.0    12560\n",
      "5.0    12560\n",
      "Name: count, dtype: int64\n",
      "\n",
      "channels\n",
      "['web', 'email', 'mobile', 'social']    12560\n",
      "['email', 'mobile', 'social']            6280\n",
      "['web', 'email', 'mobile']               6280\n",
      "Name: count, dtype: int64\n",
      "\n",
      "groups\n",
      "A    6280\n",
      "B    6280\n",
      "C    6280\n",
      "D    6280\n",
      "Name: count, dtype: int64\n",
      "\n",
      "conver\n",
      "1    12670\n",
      "0    12450\n",
      "Name: count, dtype: int64\n",
      "\n"
     ]
    }
   ],
   "source": [
    "for col in df_total.columns:\n",
    "    print(df_total[col].value_counts(dropna = False))\n",
    "    print(\"\")"
   ]
  },
  {
   "cell_type": "markdown",
   "id": "661980fa",
   "metadata": {},
   "source": [
    "- Sanity check"
   ]
  },
  {
   "cell_type": "code",
   "execution_count": 86,
   "id": "39347f8d",
   "metadata": {},
   "outputs": [
    {
     "name": "stdout",
     "output_type": "stream",
     "text": [
      "customer_id\n",
      "50db32c4a95345ab93b8b5119f819970    6\n",
      "abcc3cffbf8b483bad88116fe6ee3cd5    6\n",
      "47849ffd86e34e40a763bb66ad81fbb1    5\n",
      "6690f94587ec4b50abda164a6dc6d99a    5\n",
      "064fd993498c4d628348de2085e9d569    5\n",
      "                                   ..\n",
      "8f45a5974df34ff3898cb0fa61d28dcc    1\n",
      "ad1f0a409ae642bc9a43f31f56c130fc    1\n",
      "0951cc66d2f841e99cce016730c3f6da    1\n",
      "b3b653c27e1d40139b88c05cedd25000    1\n",
      "54be86b2561e4e379e6446663e4d8935    1\n",
      "Name: count, Length: 14138, dtype: int64\n",
      "\n",
      "OfferId\n",
      "ae264e3637204a6fb9bb56bc8210ddfd    6280\n",
      "4d5c57ea9a6940dd891ad53e9dbe8da0    6280\n",
      "9b98b8c7a33c4b65b9aebfe6a799e6d9    6280\n",
      "f19421c1d4aa40978ebb69ca19b0e20d    6280\n",
      "Name: count, dtype: int64\n",
      "\n",
      "difficulty\n",
      "10.0    12560\n",
      "5.0     12560\n",
      "Name: count, dtype: int64\n",
      "\n",
      "reward\n",
      "10.0    12560\n",
      "5.0     12560\n",
      "Name: count, dtype: int64\n",
      "\n",
      "duration\n",
      "7.0    12560\n",
      "5.0    12560\n",
      "Name: count, dtype: int64\n",
      "\n",
      "channels\n",
      "['web', 'email', 'mobile', 'social']    12560\n",
      "['email', 'mobile', 'social']            6280\n",
      "['web', 'email', 'mobile']               6280\n",
      "Name: count, dtype: int64\n",
      "\n",
      "groups\n",
      "A    6280\n",
      "B    6280\n",
      "C    6280\n",
      "D    6280\n",
      "Name: count, dtype: int64\n",
      "\n",
      "conver\n",
      "1    12670\n",
      "0    12450\n",
      "Name: count, dtype: int64\n",
      "\n"
     ]
    }
   ],
   "source": [
    "for col in df_total.columns:\n",
    "    print(df_total[col].value_counts(dropna = False))\n",
    "    print(\"\")"
   ]
  },
  {
   "cell_type": "markdown",
   "id": "f8f331d5",
   "metadata": {},
   "source": [
    "- Tidak dilakukan remove duplicate disebabkan bahwa setiap user atau customer dapat mendapatkan 1 atau lebih rewards(Offer)"
   ]
  },
  {
   "cell_type": "markdown",
   "id": "3063444e",
   "metadata": {},
   "source": [
    "### **Data Exploration**"
   ]
  },
  {
   "cell_type": "code",
   "execution_count": 87,
   "id": "f891947c",
   "metadata": {},
   "outputs": [
    {
     "name": "stdout",
     "output_type": "stream",
     "text": [
      "% A   : 25.00%\n",
      "% B   : 25.00%\n",
      "% C   : 25.00%\n",
      "% D   : 25.00%\n"
     ]
    }
   ],
   "source": [
    "# Percentage in each group\n",
    "n_total = df_total.shape[0]\n",
    "persen_A = n_A/n_total * 100 # Control\n",
    "persen_B = n_B/n_total * 100 # Treatment 1\n",
    "persen_C = n_C/n_total * 100 # Treatment 2\n",
    "persen_D = n_D/n_total * 100 # Treatment 3\n",
    "\n",
    "print(f\"% A   : {persen_A:.2f}%\")\n",
    "print(f\"% B   : {persen_B:.2f}%\")\n",
    "print(f\"% C   : {persen_C:.2f}%\")\n",
    "print(f\"% D   : {persen_D:.2f}%\")"
   ]
  },
  {
   "cell_type": "markdown",
   "id": "a69c4ec0",
   "metadata": {},
   "source": [
    "### **3. Sample Ratio Mismatch (SRM)**\n",
    "* Sample Ratio Mismatch (SRM) is the situation when the observed sample ratio in the experiment is different from the expected.\n",
    "\n",
    "* **Chi-square test** can be used to detect whether an experiment has SRM or not.\n",
    "\n",
    "The steps for doing a chi-square test in order to detect SRM are:\n",
    "1. Define the null and alternative hypothesis (H0 and H1)\n",
    "2. Calculate chi-square statistics\n",
    "3. Define decision rules\n",
    "4. Make decisions and draw a conclusion\n"
   ]
  },
  {
   "cell_type": "markdown",
   "id": "7758d80d",
   "metadata": {},
   "source": [
    "### Chi-Square Test for Detect SRM"
   ]
  },
  {
   "cell_type": "markdown",
   "id": "a5a0ec8e",
   "metadata": {},
   "source": [
    "The steps for doing a chi-square test in order to detect SRM are:"
   ]
  },
  {
   "cell_type": "markdown",
   "id": "e4bebefc",
   "metadata": {},
   "source": [
    "**1. Define the null and alternative hypothesis ($H_0$ and $H_1$)**\n",
    "\n",
    "$H_0$  : No SRM detected\n",
    "\n",
    "$H_1$  : SRM detected"
   ]
  },
  {
   "cell_type": "markdown",
   "id": "c4bb3b02",
   "metadata": {},
   "source": [
    "**2. Calculate chi-square statistics**\n",
    "\n",
    "$$ \\chi^2 = \\sum \\frac{\\left ( \\text{observed - expected} \\right )^2}{\\text{expected}} $$\n",
    "\n",
    "Where :\n",
    "- Observed: the control and variation traffic volumes (sample size), respectively\n",
    "- Expected: the expected values for control and treatment — i.e. the total observed divided by 4\n"
   ]
  },
  {
   "cell_type": "markdown",
   "id": "914a43ca",
   "metadata": {},
   "source": [
    "Observed is the same as # user in each group.\n",
    "\n",
    "For calculate expexted in each group, we can use total observed divided by 4\n"
   ]
  },
  {
   "cell_type": "code",
   "execution_count": 90,
   "id": "8f7cea74",
   "metadata": {},
   "outputs": [],
   "source": [
    "observed = [ n_A, n_B, n_C, n_D ]\n",
    "total_traffic= sum(observed)\n",
    "expected = [ total_traffic/4, total_traffic/4, total_traffic/4, total_traffic/4 ]"
   ]
  },
  {
   "cell_type": "markdown",
   "id": "c4d470fd",
   "metadata": {},
   "source": [
    "Then we can calculate the chi-square statistics using the function in the `scipy` library, namely `chisquare` with steps: \n",
    "\n",
    "1. import library\n",
    "  - from scipy.stats import chisquare\n",
    "2. Use the function `chisquare(f_obs, f_exp=...)`\n",
    "    - `f_obs`: Observed frequencies in each category (array)\n",
    "    - `f_exp`: Expected frequencies in each category. By default the categories are assumed to be equally likely."
   ]
  },
  {
   "cell_type": "code",
   "execution_count": 91,
   "id": "b76d81c6",
   "metadata": {},
   "outputs": [
    {
     "name": "stdout",
     "output_type": "stream",
     "text": [
      "Power_divergenceResult(statistic=0.0, pvalue=1.0)\n"
     ]
    }
   ],
   "source": [
    "#calculate chi-square statistics\n",
    "from scipy.stats import chisquare\n",
    "chi = chisquare(observed, f_exp=expected)\n",
    "print(chi)"
   ]
  },
  {
   "cell_type": "markdown",
   "id": "09e71a61",
   "metadata": {},
   "source": [
    "**3. Define decision rules**"
   ]
  },
  {
   "cell_type": "markdown",
   "id": "24712ca4",
   "metadata": {},
   "source": [
    "In making statistical test decisions, we can use:\n",
    "- Comparison of chi-square statistics with critical value\n",
    "     -  $\\chi^2 > \\chi^2_{\\alpha,df}$ → reject $H_0$\n",
    "\n",
    "- Comparison of p-value with alpha\n",
    "   - pvalue < $\\alpha$ → reject $H_0$\n",
    "\n",
    "\n",
    "Normally, one would look for a p-value of 0.05 or less to proof of SRM. The problem with 0.05 is that it’s not strict enough for our purposes. Using this might give us a false signal. What we need is to be stricter for our test. So we use significance level 1%.\n",
    "\n",
    "degree of freedom (df) is calculated as: \n",
    "$$ df = (rows − 1) × (columns − 1) $$ \n"
   ]
  },
  {
   "cell_type": "code",
   "execution_count": 92,
   "id": "e678577e",
   "metadata": {},
   "outputs": [
    {
     "name": "stdout",
     "output_type": "stream",
     "text": [
      "Critical value: 11.345\n"
     ]
    }
   ],
   "source": [
    "# Comparison of chi-square statistics with critical value\n",
    "# We must calculate the critical first\n",
    "\n",
    "# critical value is the chi-square value at alpha\n",
    "alpha = 0.01\n",
    "df = len(observed) - 1  # untuk empat grup A, B, C, D, df harus 3\n",
    "import scipy\n",
    "chi_critical = scipy.stats.chi2.ppf(1 - alpha, df)\n",
    "print(f\"Critical value: {chi_critical:.3f}\")"
   ]
  },
  {
   "cell_type": "code",
   "execution_count": 93,
   "id": "598b54d8",
   "metadata": {},
   "outputs": [
    {
     "name": "stdout",
     "output_type": "stream",
     "text": [
      "Fail to reject H0 : No SRM\n"
     ]
    }
   ],
   "source": [
    "#Make decisions from chi-square statistics and critical value\n",
    "if chi[0] > chi_critical:\n",
    "  print(\"Reject H0 : SRM may be present.\")\n",
    "else:\n",
    "  print(\"Fail to reject H0 : No SRM\")"
   ]
  },
  {
   "cell_type": "code",
   "execution_count": 94,
   "id": "3aae2428",
   "metadata": {},
   "outputs": [
    {
     "name": "stdout",
     "output_type": "stream",
     "text": [
      "Fail to reject H0 : No SRM.\n"
     ]
    }
   ],
   "source": [
    "# Comparison of P-Value with alpha.\n",
    "if chi[1] < 0.01:\n",
    "    print('Reject H0 : SRM may be present.')\n",
    "else:\n",
    "    print('Fail to reject H0 : No SRM.')"
   ]
  },
  {
   "cell_type": "markdown",
   "id": "31a9dcb8",
   "metadata": {},
   "source": [
    "#### Conclusion"
   ]
  },
  {
   "cell_type": "markdown",
   "id": "8ea01ceb",
   "metadata": {},
   "source": [
    "Based on data quality, we have done data cleaning so that the data we use is of sufficient quality. But we need to check again, whether the sample size after data cleaning is sufficient (according to the experimental design) or not so that there is enough power to draw credible conclusions.\n",
    "\n",
    "Based on the detection of SRM, although the sample size of the cleaned data is different. However, SRM was not detected."
   ]
  },
  {
   "cell_type": "markdown",
   "id": "009e0f1e",
   "metadata": {},
   "source": [
    "### 2.\tHypothesis Testing and Analyzing the Result"
   ]
  },
  {
   "cell_type": "code",
   "execution_count": 95,
   "id": "02552d6f",
   "metadata": {},
   "outputs": [],
   "source": [
    "def extract_evaluation(data):\n",
    "    \"\"\"\n",
    "    Extract key evaluation criterion within the data\n",
    "    - number of session\n",
    "    - number of conversion\n",
    "    - conversion rate\n",
    "    :param data: <pandas DataFrame> sample data\n",
    "    :return results: <dict> contain number of sess., number of conv., & conversion rate\n",
    "    \"\"\"\n",
    "    # Number of session\n",
    "    n_session = int(data.shape[0])\n",
    "\n",
    "    # Number of conversion\n",
    "    n_conversion = int(data[\"conver\"].sum())\n",
    "\n",
    "    # Conversion rate (in percent)\n",
    "    conversion_rate = (n_conversion/n_session) * 100\n",
    "\n",
    "    # Return results\n",
    "    results = {}\n",
    "    results[\"session\"] = n_session\n",
    "    results[\"conversion\"] = n_conversion\n",
    "    results[\"CVR\"] = np.round(conversion_rate, 2)\n",
    "\n",
    "    return results\n"
   ]
  },
  {
   "cell_type": "code",
   "execution_count": 96,
   "id": "52748fbd",
   "metadata": {},
   "outputs": [],
   "source": [
    "res_A = extract_evaluation(data = data_A)\n",
    "res_B = extract_evaluation(data = data_B)\n",
    "res_C = extract_evaluation(data = data_C)\n",
    "res_D = extract_evaluation(data = data_D)"
   ]
  },
  {
   "cell_type": "code",
   "execution_count": 97,
   "id": "f6bdddb0",
   "metadata": {},
   "outputs": [
    {
     "name": "stdout",
     "output_type": "stream",
     "text": [
      " A: {'session': 6280, 'conversion': 2916, 'CVR': 46.43}\n",
      " B: {'session': 6280, 'conversion': 2638, 'CVR': 42.01}\n",
      " C: {'session': 6280, 'conversion': 3551, 'CVR': 56.54}\n",
      " D: {'session': 6280, 'conversion': 3565, 'CVR': 56.77}\n"
     ]
    }
   ],
   "source": [
    "print(f\" A: {res_A}\")\n",
    "print(f\" B: {res_B}\")\n",
    "print(f\" C: {res_C}\")\n",
    "print(f\" D: {res_D}\")"
   ]
  },
  {
   "cell_type": "markdown",
   "id": "2f692cda",
   "metadata": {},
   "source": [
    "#### Calculate lift-over-baseline"
   ]
  },
  {
   "cell_type": "markdown",
   "id": "ffc652f0",
   "metadata": {},
   "source": [
    "$$\n",
    "\\text{Lift} = CVR_{\\text{treatment}} - CVR_{\\text{control}}\n",
    "$$"
   ]
  },
  {
   "cell_type": "code",
   "execution_count": 98,
   "id": "997bdfe1",
   "metadata": {},
   "outputs": [],
   "source": [
    "lift_B = res_B[\"CVR\"] - res_A[\"CVR\"]\n",
    "lift_C = res_C[\"CVR\"] - res_A[\"CVR\"]\n",
    "lift_D = res_D[\"CVR\"] - res_A[\"CVR\"]"
   ]
  },
  {
   "cell_type": "code",
   "execution_count": 99,
   "id": "4207ae2c",
   "metadata": {},
   "outputs": [
    {
     "name": "stdout",
     "output_type": "stream",
     "text": [
      "Lift-overbaseline untuk treatment B adalah -4.420000000000002 %\n",
      "Lift-overbaseline untuk treatment C adalah 10.11 %\n",
      "Lift-overbaseline untuk treatment D adalah 10.340000000000003 %\n"
     ]
    }
   ],
   "source": [
    "print(f\"Lift-overbaseline untuk treatment B adalah {lift_B} %\")\n",
    "print(f\"Lift-overbaseline untuk treatment C adalah {lift_C} %\")\n",
    "print(f\"Lift-overbaseline untuk treatment D adalah {lift_D} %\")"
   ]
  },
  {
   "cell_type": "markdown",
   "id": "cc4aa6ae",
   "metadata": {},
   "source": [
    "####  **Multiple Hypothesis Testing with Benjamini-Hochberg Correction**"
   ]
  },
  {
   "cell_type": "markdown",
   "id": "e4010f7c",
   "metadata": {},
   "source": [
    "- To find out which one is the best, we can do a hypothesis testing.\n",
    "- A suitable hypothesis test for this case is the z-test for proportion.\n",
    "- Because we have more than two groups to compare, therefore we perform multiple hypothesis testing for each group pair.\n",
    "- An issue with multiple hypothesis testing is increasing of Type I error, so we can do correction with Benjamini-Hochberg Correction "
   ]
  },
  {
   "cell_type": "markdown",
   "id": "08bcc121",
   "metadata": {},
   "source": [
    "**The following is the stage for conducting the analysis :**"
   ]
  },
  {
   "cell_type": "markdown",
   "id": "d1254076",
   "metadata": {},
   "source": [
    "##### 1. Define null hypothesis ($H_0$) and alternative hypothesis ($H_1$)"
   ]
  },
  {
   "cell_type": "markdown",
   "id": "2598b7f8",
   "metadata": {},
   "source": [
    "We want to compare whether group $i$ th is more than group $j$ th, so we use one sided (right tail) hypothesis testing.\n",
    "\n",
    "we want to prove whether the conversion rate of group $j$ is greater than the conversion rate of group $i$\n",
    "\n",
    "The hypothesis for each group pair is as follows:\n",
    "- group 1 vs group 2\n",
    "    $$H_0 : p_B \\leq p_A$$\n",
    "    $$H_1 : p_B > p_A$$\n",
    "\n",
    "- group 1 vs group 3\n",
    "    $$H_0 : p_C \\leq p_A$$\n",
    "    $$H_1 : p_C > p_A$$\n",
    "\n",
    "- group 1 vs group 4\n",
    "    $$H_0 : p_D \\leq p_A$$\n",
    "    $$H_1 : p_D > p_A$$\n",
    "\n",
    "- group 2 vs group 3\n",
    "    $$H_0 : p_C \\leq p_B$$\n",
    "    $$H_1 : p_C > p_B$$\n",
    "\n",
    "- group 2 vs group 4\n",
    "    $$H_0 : p_D \\leq p_B$$\n",
    "    $$H_1 : p_D > p_B$$\n",
    "\n",
    "- group 3 vs group 4\n",
    "    $$H_0 : p_D \\leq p_C$$\n",
    "    $$H_1 : p_D > p_C$$\n",
    "    "
   ]
  },
  {
   "cell_type": "markdown",
   "id": "900c7e98",
   "metadata": {},
   "source": [
    "- Set siginificance level (alpha)\n",
    "- Significance level = 0.05"
   ]
  },
  {
   "cell_type": "markdown",
   "id": "481ca4d6",
   "metadata": {},
   "source": [
    "##### 2. Calculate the p-value in each test"
   ]
  },
  {
   "cell_type": "code",
   "execution_count": 100,
   "id": "fec9f532",
   "metadata": {},
   "outputs": [
    {
     "name": "stdout",
     "output_type": "stream",
     "text": [
      "P-value A vs B: 1.0000\n"
     ]
    }
   ],
   "source": [
    "#import library\n",
    "from statsmodels.stats.proportion import proportions_ztest\n",
    "\n",
    "# call function\n",
    "#p-value group A vs group B hypotesis test\n",
    "p_value_AB = proportions_ztest(count = [n_convertB, n_convertA],\n",
    "                               nobs = [n_B, n_A],\n",
    "                               alternative = 'larger')[1]\n",
    "\n",
    "print(f\"P-value A vs B: {p_value_AB:.4f}\")"
   ]
  },
  {
   "cell_type": "code",
   "execution_count": 101,
   "id": "4af3cfd6",
   "metadata": {},
   "outputs": [
    {
     "name": "stdout",
     "output_type": "stream",
     "text": [
      "P-value A vs C: 0.0000\n"
     ]
    }
   ],
   "source": [
    "#p-value group A vs group C hypotesis test\n",
    "p_value_AC = proportions_ztest(count = [n_convertC, n_convertA],\n",
    "                               nobs = [n_C, n_A],\n",
    "                               alternative = 'larger')[1]\n",
    "\n",
    "print(f\"P-value A vs C: {p_value_AC:.4f}\")"
   ]
  },
  {
   "cell_type": "code",
   "execution_count": 102,
   "id": "30abcae1",
   "metadata": {},
   "outputs": [
    {
     "name": "stdout",
     "output_type": "stream",
     "text": [
      "P-value A vs D: 0.0000\n"
     ]
    }
   ],
   "source": [
    "#p-value group A vs group D hypotesis test\n",
    "p_value_AD = proportions_ztest(count = [n_convertD, n_convertA],\n",
    "                               nobs = [n_D, n_A],\n",
    "                               alternative = 'larger')[1]\n",
    "\n",
    "print(f\"P-value A vs D: {p_value_AD:.4f}\")"
   ]
  },
  {
   "cell_type": "code",
   "execution_count": 103,
   "id": "de98775f",
   "metadata": {},
   "outputs": [
    {
     "name": "stdout",
     "output_type": "stream",
     "text": [
      "P-value B vs C: 0.0000\n"
     ]
    }
   ],
   "source": [
    "#p-value group B vs group C hypotesis test\n",
    "p_value_BC = proportions_ztest(count = [n_convertC, n_convertB],\n",
    "                               nobs = [n_C, n_B],\n",
    "                               alternative = 'larger')[1]\n",
    "\n",
    "print(f\"P-value B vs C: {p_value_BC:.4f}\")"
   ]
  },
  {
   "cell_type": "code",
   "execution_count": 104,
   "id": "3e56754b",
   "metadata": {},
   "outputs": [
    {
     "name": "stdout",
     "output_type": "stream",
     "text": [
      "P-value B vs D: 0.0000\n"
     ]
    }
   ],
   "source": [
    "#p-value group B vs group D hypotesis test\n",
    "p_value_BD = proportions_ztest(count = [n_convertD, n_convertB],\n",
    "                               nobs = [n_D, n_B],\n",
    "                               alternative = 'larger')[1]\n",
    "\n",
    "print(f\"P-value B vs D: {p_value_BD:.4f}\")"
   ]
  },
  {
   "cell_type": "code",
   "execution_count": 105,
   "id": "de4d9c32",
   "metadata": {},
   "outputs": [
    {
     "name": "stdout",
     "output_type": "stream",
     "text": [
      "P-value C vs D: 0.4005\n"
     ]
    }
   ],
   "source": [
    "#p-value group C vs group D hypotesis test\n",
    "p_value_CD = proportions_ztest(count = [n_convertD, n_convertC],\n",
    "                               nobs = [n_D, n_C],\n",
    "                               alternative = 'larger')[1]\n",
    "\n",
    "print(f\"P-value C vs D: {p_value_CD:.4f}\")"
   ]
  },
  {
   "cell_type": "code",
   "execution_count": 106,
   "id": "7f6f17dc",
   "metadata": {},
   "outputs": [],
   "source": [
    "# make dataframe consist of p-values\n",
    "pair_group = ['B > A',\n",
    "              'C > A',\n",
    "              'D > A',\n",
    "              'C > B',\n",
    "              'D > B',\n",
    "              'D > C']\n",
    "\n",
    "p_vals = [p_value_AB, p_value_AC,\n",
    "          p_value_AD, p_value_BC,\n",
    "          p_value_BD, p_value_CD]\n",
    "\n",
    "df_p_vals = pd.DataFrame({'pair_group': pair_group,\n",
    "                          'p-value': p_vals})\n",
    "\n",
    "#print\n",
    "df_p_vals_order = df_p_vals.sort_values(by=['p-value'])"
   ]
  },
  {
   "cell_type": "markdown",
   "id": "87d44418",
   "metadata": {},
   "source": [
    "##### Assign ranks to the ordered p-values."
   ]
  },
  {
   "cell_type": "code",
   "execution_count": 107,
   "id": "37a19aab",
   "metadata": {},
   "outputs": [
    {
     "data": {
      "text/html": [
       "<div>\n",
       "<style scoped>\n",
       "    .dataframe tbody tr th:only-of-type {\n",
       "        vertical-align: middle;\n",
       "    }\n",
       "\n",
       "    .dataframe tbody tr th {\n",
       "        vertical-align: top;\n",
       "    }\n",
       "\n",
       "    .dataframe thead th {\n",
       "        text-align: right;\n",
       "    }\n",
       "</style>\n",
       "<table border=\"1\" class=\"dataframe\">\n",
       "  <thead>\n",
       "    <tr style=\"text-align: right;\">\n",
       "      <th></th>\n",
       "      <th>pair_group</th>\n",
       "      <th>p-value</th>\n",
       "      <th>rank</th>\n",
       "    </tr>\n",
       "  </thead>\n",
       "  <tbody>\n",
       "    <tr>\n",
       "      <th>4</th>\n",
       "      <td>D &gt; B</td>\n",
       "      <td>8.804601e-62</td>\n",
       "      <td>1</td>\n",
       "    </tr>\n",
       "    <tr>\n",
       "      <th>3</th>\n",
       "      <td>C &gt; B</td>\n",
       "      <td>5.364431e-60</td>\n",
       "      <td>2</td>\n",
       "    </tr>\n",
       "    <tr>\n",
       "      <th>2</th>\n",
       "      <td>D &gt; A</td>\n",
       "      <td>2.374838e-31</td>\n",
       "      <td>3</td>\n",
       "    </tr>\n",
       "    <tr>\n",
       "      <th>1</th>\n",
       "      <td>C &gt; A</td>\n",
       "      <td>4.297854e-30</td>\n",
       "      <td>4</td>\n",
       "    </tr>\n",
       "    <tr>\n",
       "      <th>5</th>\n",
       "      <td>D &gt; C</td>\n",
       "      <td>4.004879e-01</td>\n",
       "      <td>5</td>\n",
       "    </tr>\n",
       "    <tr>\n",
       "      <th>0</th>\n",
       "      <td>B &gt; A</td>\n",
       "      <td>9.999997e-01</td>\n",
       "      <td>6</td>\n",
       "    </tr>\n",
       "  </tbody>\n",
       "</table>\n",
       "</div>"
      ],
      "text/plain": [
       "  pair_group       p-value  rank\n",
       "4      D > B  8.804601e-62     1\n",
       "3      C > B  5.364431e-60     2\n",
       "2      D > A  2.374838e-31     3\n",
       "1      C > A  4.297854e-30     4\n",
       "5      D > C  4.004879e-01     5\n",
       "0      B > A  9.999997e-01     6"
      ]
     },
     "execution_count": 107,
     "metadata": {},
     "output_type": "execute_result"
    }
   ],
   "source": [
    "df_p_vals_order['rank'] = df_p_vals_order['p-value'].rank().sub(0).astype(int)\n",
    "df_p_vals_order"
   ]
  },
  {
   "cell_type": "markdown",
   "id": "6b7463e1",
   "metadata": {},
   "source": [
    "#### Calculate each individual p-value’s Benjamini-Hochberg critical value"
   ]
  },
  {
   "cell_type": "markdown",
   "id": "6d92e3c7",
   "metadata": {},
   "source": [
    "Using the formula :\n",
    "\n",
    "$$\\text{BH-critical value} = \\left ( \\frac{i}{m} \\right )Q$$\n",
    "\n",
    "\n",
    "where:\n",
    "- $i$ = the p-value’s rank\n",
    "- $m$ = total number of tests\n",
    "- $Q$ = the false discovery rate (chosen by the experimenter)"
   ]
  },
  {
   "cell_type": "markdown",
   "id": "95bbcdef",
   "metadata": {},
   "source": [
    "- Suppose that, the experimenter want to control false discoverry rate in 5%. So the $Q=0.05$"
   ]
  },
  {
   "cell_type": "code",
   "execution_count": 108,
   "id": "030c4f97",
   "metadata": {},
   "outputs": [
    {
     "data": {
      "text/html": [
       "<div>\n",
       "<style scoped>\n",
       "    .dataframe tbody tr th:only-of-type {\n",
       "        vertical-align: middle;\n",
       "    }\n",
       "\n",
       "    .dataframe tbody tr th {\n",
       "        vertical-align: top;\n",
       "    }\n",
       "\n",
       "    .dataframe thead th {\n",
       "        text-align: right;\n",
       "    }\n",
       "</style>\n",
       "<table border=\"1\" class=\"dataframe\">\n",
       "  <thead>\n",
       "    <tr style=\"text-align: right;\">\n",
       "      <th></th>\n",
       "      <th>pair_group</th>\n",
       "      <th>p-value</th>\n",
       "      <th>rank</th>\n",
       "      <th>BH-crit</th>\n",
       "    </tr>\n",
       "  </thead>\n",
       "  <tbody>\n",
       "    <tr>\n",
       "      <th>4</th>\n",
       "      <td>D &gt; B</td>\n",
       "      <td>8.804601e-62</td>\n",
       "      <td>1</td>\n",
       "      <td>0.008333</td>\n",
       "    </tr>\n",
       "    <tr>\n",
       "      <th>3</th>\n",
       "      <td>C &gt; B</td>\n",
       "      <td>5.364431e-60</td>\n",
       "      <td>2</td>\n",
       "      <td>0.016667</td>\n",
       "    </tr>\n",
       "    <tr>\n",
       "      <th>2</th>\n",
       "      <td>D &gt; A</td>\n",
       "      <td>2.374838e-31</td>\n",
       "      <td>3</td>\n",
       "      <td>0.025000</td>\n",
       "    </tr>\n",
       "    <tr>\n",
       "      <th>1</th>\n",
       "      <td>C &gt; A</td>\n",
       "      <td>4.297854e-30</td>\n",
       "      <td>4</td>\n",
       "      <td>0.033333</td>\n",
       "    </tr>\n",
       "    <tr>\n",
       "      <th>5</th>\n",
       "      <td>D &gt; C</td>\n",
       "      <td>4.004879e-01</td>\n",
       "      <td>5</td>\n",
       "      <td>0.041667</td>\n",
       "    </tr>\n",
       "    <tr>\n",
       "      <th>0</th>\n",
       "      <td>B &gt; A</td>\n",
       "      <td>9.999997e-01</td>\n",
       "      <td>6</td>\n",
       "      <td>0.050000</td>\n",
       "    </tr>\n",
       "  </tbody>\n",
       "</table>\n",
       "</div>"
      ],
      "text/plain": [
       "  pair_group       p-value  rank   BH-crit\n",
       "4      D > B  8.804601e-62     1  0.008333\n",
       "3      C > B  5.364431e-60     2  0.016667\n",
       "2      D > A  2.374838e-31     3  0.025000\n",
       "1      C > A  4.297854e-30     4  0.033333\n",
       "5      D > C  4.004879e-01     5  0.041667\n",
       "0      B > A  9.999997e-01     6  0.050000"
      ]
     },
     "execution_count": 108,
     "metadata": {},
     "output_type": "execute_result"
    }
   ],
   "source": [
    "#define Q\n",
    "Q = 0.05\n",
    "\n",
    "#calculate BH-critical value\n",
    "df_p_vals_order['BH-crit'] = df_p_vals_order['rank']/len(df_p_vals_order)*Q\n",
    "\n",
    "#print\n",
    "df_p_vals_order"
   ]
  },
  {
   "cell_type": "markdown",
   "id": "ae33f8c0",
   "metadata": {},
   "source": [
    "##### Compare original p-values to the Benjamini-Hochberg critical value \n",
    "\n",
    "If the original p-values smaller than Benjamini-Hochberg critical, then the test are significant (reject $H_0$)\n"
   ]
  },
  {
   "cell_type": "code",
   "execution_count": 109,
   "id": "a85d6094",
   "metadata": {},
   "outputs": [
    {
     "data": {
      "text/html": [
       "<div>\n",
       "<style scoped>\n",
       "    .dataframe tbody tr th:only-of-type {\n",
       "        vertical-align: middle;\n",
       "    }\n",
       "\n",
       "    .dataframe tbody tr th {\n",
       "        vertical-align: top;\n",
       "    }\n",
       "\n",
       "    .dataframe thead th {\n",
       "        text-align: right;\n",
       "    }\n",
       "</style>\n",
       "<table border=\"1\" class=\"dataframe\">\n",
       "  <thead>\n",
       "    <tr style=\"text-align: right;\">\n",
       "      <th></th>\n",
       "      <th>pair_group</th>\n",
       "      <th>p-value</th>\n",
       "      <th>rank</th>\n",
       "      <th>BH-crit</th>\n",
       "      <th>Significant?</th>\n",
       "    </tr>\n",
       "  </thead>\n",
       "  <tbody>\n",
       "    <tr>\n",
       "      <th>4</th>\n",
       "      <td>D &gt; B</td>\n",
       "      <td>8.804601e-62</td>\n",
       "      <td>1</td>\n",
       "      <td>0.008333</td>\n",
       "      <td>Yes</td>\n",
       "    </tr>\n",
       "    <tr>\n",
       "      <th>3</th>\n",
       "      <td>C &gt; B</td>\n",
       "      <td>5.364431e-60</td>\n",
       "      <td>2</td>\n",
       "      <td>0.016667</td>\n",
       "      <td>Yes</td>\n",
       "    </tr>\n",
       "    <tr>\n",
       "      <th>2</th>\n",
       "      <td>D &gt; A</td>\n",
       "      <td>2.374838e-31</td>\n",
       "      <td>3</td>\n",
       "      <td>0.025000</td>\n",
       "      <td>Yes</td>\n",
       "    </tr>\n",
       "    <tr>\n",
       "      <th>1</th>\n",
       "      <td>C &gt; A</td>\n",
       "      <td>4.297854e-30</td>\n",
       "      <td>4</td>\n",
       "      <td>0.033333</td>\n",
       "      <td>Yes</td>\n",
       "    </tr>\n",
       "    <tr>\n",
       "      <th>5</th>\n",
       "      <td>D &gt; C</td>\n",
       "      <td>4.004879e-01</td>\n",
       "      <td>5</td>\n",
       "      <td>0.041667</td>\n",
       "      <td>No</td>\n",
       "    </tr>\n",
       "    <tr>\n",
       "      <th>0</th>\n",
       "      <td>B &gt; A</td>\n",
       "      <td>9.999997e-01</td>\n",
       "      <td>6</td>\n",
       "      <td>0.050000</td>\n",
       "      <td>No</td>\n",
       "    </tr>\n",
       "  </tbody>\n",
       "</table>\n",
       "</div>"
      ],
      "text/plain": [
       "  pair_group       p-value  rank   BH-crit Significant?\n",
       "4      D > B  8.804601e-62     1  0.008333          Yes\n",
       "3      C > B  5.364431e-60     2  0.016667          Yes\n",
       "2      D > A  2.374838e-31     3  0.025000          Yes\n",
       "1      C > A  4.297854e-30     4  0.033333          Yes\n",
       "5      D > C  4.004879e-01     5  0.041667           No\n",
       "0      B > A  9.999997e-01     6  0.050000           No"
      ]
     },
     "execution_count": 109,
     "metadata": {},
     "output_type": "execute_result"
    }
   ],
   "source": [
    "# make new column with condition\n",
    "df_p_vals_order['Significant?'] = np.where(df_p_vals_order['p-value'] < df_p_vals_order['BH-crit'],\n",
    "                                           'Yes',\n",
    "                                           'No')\n",
    "\n",
    "#print\n",
    "df_p_vals_order"
   ]
  },
  {
   "cell_type": "markdown",
   "id": "4ceb9b76",
   "metadata": {},
   "source": [
    "**Conclusion**\n",
    "- D tampaknya sangat unggul dalam perbandingan yang signifikan, terutama terhadap B dan A.\n",
    "- C juga menunjukkan performa yang baik, terutama dalam perbandingan terhadap B dan A.\n",
    "\n",
    "Jadi, D dan C mungkin dianggap sebagai grup yang lebih baik berdasarkan perbandingan signifikan ini."
   ]
  },
  {
   "cell_type": "markdown",
   "id": "a478f85e",
   "metadata": {},
   "source": [
    "#### Confidence interval of difference between Treatment and Control"
   ]
  },
  {
   "cell_type": "markdown",
   "id": "92149e55",
   "metadata": {},
   "source": [
    "After that, we will calculate the confidence interval to estimate within what range the difference or proportion discrepancy in the population lies"
   ]
  },
  {
   "cell_type": "code",
   "execution_count": 110,
   "id": "4fb87b7f",
   "metadata": {},
   "outputs": [
    {
     "name": "stdout",
     "output_type": "stream",
     "text": [
      "Difference A vs B: (-0.06159750261643404, -0.026899777909596117)\n"
     ]
    }
   ],
   "source": [
    "from statsmodels.stats.proportion import confint_proportions_2indep\n",
    "\n",
    "confidence_interval_AB = confint_proportions_2indep(count1 = n_convertB, nobs1 = n_B,\n",
    "                                                 count2 = n_convertA, nobs2 = n_A, \n",
    "                                                 compare='diff', alpha=0.05)\n",
    "print(f\"Difference A vs B: {confidence_interval_AB}\")"
   ]
  },
  {
   "cell_type": "code",
   "execution_count": 111,
   "id": "25efd3b0",
   "metadata": {},
   "outputs": [
    {
     "name": "stdout",
     "output_type": "stream",
     "text": [
      "Difference A vs C: (0.08368513114807757, 0.1184568291438987)\n"
     ]
    }
   ],
   "source": [
    "confidence_interval_AC = confint_proportions_2indep(count1 = n_convertC, nobs1 = n_C,\n",
    "                                                 count2 = n_convertA, nobs2 = n_A, \n",
    "                                                 compare='diff', alpha=0.05)\n",
    "print(f\"Difference A vs C: {confidence_interval_AC}\")"
   ]
  },
  {
   "cell_type": "code",
   "execution_count": 112,
   "id": "8631bc3a",
   "metadata": {},
   "outputs": [
    {
     "name": "stdout",
     "output_type": "stream",
     "text": [
      "Difference A vs D: (0.08591868831249476, 0.12067995770193314)\n"
     ]
    }
   ],
   "source": [
    "confidence_interval_AD = confint_proportions_2indep(count1 = n_convertD, nobs1 = n_D,\n",
    "                                                 count2 = n_convertA, nobs2 = n_A, \n",
    "                                                 compare='diff', alpha=0.05)\n",
    "print(f\"Difference A vs D: {confidence_interval_AD}\")"
   ]
  },
  {
   "cell_type": "code",
   "execution_count": 113,
   "id": "c581d5b5",
   "metadata": {},
   "outputs": [
    {
     "name": "stdout",
     "output_type": "stream",
     "text": [
      "Difference B vs C: (0.12802364015214523, 0.16261502935871716)\n"
     ]
    }
   ],
   "source": [
    "confidence_interval_BC = confint_proportions_2indep(count1 = n_convertC, nobs1 = n_C,\n",
    "                                                 count2 = n_convertB, nobs2 = n_B, \n",
    "                                                 compare='diff', alpha=0.05)\n",
    "print(f\"Difference B vs C: {confidence_interval_BC}\")"
   ]
  },
  {
   "cell_type": "code",
   "execution_count": 114,
   "id": "b5a9691d",
   "metadata": {},
   "outputs": [
    {
     "name": "stdout",
     "output_type": "stream",
     "text": [
      "Difference B vs D: (0.13025721473444443, 0.16483811875852816)\n"
     ]
    }
   ],
   "source": [
    "confidence_interval_BD = confint_proportions_2indep(count1 = n_convertD, nobs1 = n_D,\n",
    "                                                 count2 = n_convertB, nobs2 = n_B, \n",
    "                                                 compare='diff', alpha=0.05)\n",
    "print(f\"Difference B vs D: {confidence_interval_BD}\")"
   ]
  },
  {
   "cell_type": "code",
   "execution_count": 115,
   "id": "823ee29b",
   "metadata": {},
   "outputs": [
    {
     "name": "stdout",
     "output_type": "stream",
     "text": [
      "Difference C vs D: (-0.015099372425550504, 0.019556078589053533)\n"
     ]
    }
   ],
   "source": [
    "confidence_interval_CD = confint_proportions_2indep(count1 = n_convertD, nobs1 = n_D,\n",
    "                                                 count2 = n_convertC, nobs2 = n_C, \n",
    "                                                 compare='diff', alpha=0.05)\n",
    "print(f\"Difference C vs D: {confidence_interval_CD}\")"
   ]
  },
  {
   "cell_type": "code",
   "execution_count": 116,
   "id": "99809f0a",
   "metadata": {},
   "outputs": [],
   "source": [
    "confidence_interval_AB = list(confidence_interval_AB)\n",
    "confidence_interval_AC = list(confidence_interval_AC)\n",
    "confidence_interval_AD = list(confidence_interval_AD)\n",
    "confidence_interval_BC = list(confidence_interval_BC)\n",
    "confidence_interval_BD = list(confidence_interval_BD)\n",
    "confidence_interval_CD = list(confidence_interval_CD)\n",
    "\n",
    "index = ['confidence_interval_AB','confidence_interval_AC','confidence_interval_AD','confidence_interval_BC',\n",
    "         'confidence_interval_BD','confidence_interval_CD']\n",
    "\n",
    "confidence_interval = [confidence_interval_AB, confidence_interval_AC, confidence_interval_AD,\n",
    "                      confidence_interval_BC, confidence_interval_BD, confidence_interval_CD]\n",
    "\n",
    "df_ci = pd.DataFrame(confidence_interval, columns = [\"lower\",\"upper\"])\n",
    "df_ci = df_ci.set_index([index])"
   ]
  },
  {
   "cell_type": "markdown",
   "id": "6ce42e80",
   "metadata": {},
   "source": [
    "Based on these results, we are 95% confident that the difference in proportion of users who converted between the treatment group (B) and the control group (A) can be seen in the table below.\n",
    "\n",
    "Or it can be said that the increase in conversion rate using the Creative Ad method (treatment) has increased according to the table below."
   ]
  },
  {
   "cell_type": "code",
   "execution_count": 117,
   "id": "c52d47c0",
   "metadata": {},
   "outputs": [
    {
     "data": {
      "text/html": [
       "<div>\n",
       "<style scoped>\n",
       "    .dataframe tbody tr th:only-of-type {\n",
       "        vertical-align: middle;\n",
       "    }\n",
       "\n",
       "    .dataframe tbody tr th {\n",
       "        vertical-align: top;\n",
       "    }\n",
       "\n",
       "    .dataframe thead th {\n",
       "        text-align: right;\n",
       "    }\n",
       "</style>\n",
       "<table border=\"1\" class=\"dataframe\">\n",
       "  <thead>\n",
       "    <tr style=\"text-align: right;\">\n",
       "      <th></th>\n",
       "      <th>lower</th>\n",
       "      <th>upper</th>\n",
       "    </tr>\n",
       "  </thead>\n",
       "  <tbody>\n",
       "    <tr>\n",
       "      <th>confidence_interval_AB</th>\n",
       "      <td>-0.061598</td>\n",
       "      <td>-0.026900</td>\n",
       "    </tr>\n",
       "    <tr>\n",
       "      <th>confidence_interval_AC</th>\n",
       "      <td>0.083685</td>\n",
       "      <td>0.118457</td>\n",
       "    </tr>\n",
       "    <tr>\n",
       "      <th>confidence_interval_AD</th>\n",
       "      <td>0.085919</td>\n",
       "      <td>0.120680</td>\n",
       "    </tr>\n",
       "    <tr>\n",
       "      <th>confidence_interval_BC</th>\n",
       "      <td>0.128024</td>\n",
       "      <td>0.162615</td>\n",
       "    </tr>\n",
       "    <tr>\n",
       "      <th>confidence_interval_BD</th>\n",
       "      <td>0.130257</td>\n",
       "      <td>0.164838</td>\n",
       "    </tr>\n",
       "    <tr>\n",
       "      <th>confidence_interval_CD</th>\n",
       "      <td>-0.015099</td>\n",
       "      <td>0.019556</td>\n",
       "    </tr>\n",
       "  </tbody>\n",
       "</table>\n",
       "</div>"
      ],
      "text/plain": [
       "                           lower     upper\n",
       "confidence_interval_AB -0.061598 -0.026900\n",
       "confidence_interval_AC  0.083685  0.118457\n",
       "confidence_interval_AD  0.085919  0.120680\n",
       "confidence_interval_BC  0.128024  0.162615\n",
       "confidence_interval_BD  0.130257  0.164838\n",
       "confidence_interval_CD -0.015099  0.019556"
      ]
     },
     "execution_count": 117,
     "metadata": {},
     "output_type": "execute_result"
    }
   ],
   "source": [
    "df_ci"
   ]
  },
  {
   "cell_type": "code",
   "execution_count": null,
   "id": "275a7229",
   "metadata": {},
   "outputs": [],
   "source": []
  }
 ],
 "metadata": {
  "kernelspec": {
   "display_name": "Python 3",
   "language": "python",
   "name": "python3"
  },
  "language_info": {
   "codemirror_mode": {
    "name": "ipython",
    "version": 3
   },
   "file_extension": ".py",
   "mimetype": "text/x-python",
   "name": "python",
   "nbconvert_exporter": "python",
   "pygments_lexer": "ipython3",
   "version": "3.8.5"
  }
 },
 "nbformat": 4,
 "nbformat_minor": 5
}
